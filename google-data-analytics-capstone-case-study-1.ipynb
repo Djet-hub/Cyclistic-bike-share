{
 "cells": [
  {
   "cell_type": "markdown",
   "id": "6099dae9",
   "metadata": {
    "papermill": {
     "duration": 0.011852,
     "end_time": "2025-01-10T12:48:24.334931",
     "exception": false,
     "start_time": "2025-01-10T12:48:24.323079",
     "status": "completed"
    },
    "tags": []
   },
   "source": [
    "# THE CAPSTONE PROJECT DESCRIPTION\n",
    "\n",
    "**Introduction**\n",
    "\n",
    "This capstone project from the Google Data Analytics Certificate focuses on the Cyclistic bike-share analysis case study! In this case study, I work for a\n",
    "fictional company, Cyclistic, along with some key team members. In order to answer the\n",
    "business questions, I am going to follow the steps of the data analysis process: Ask, Prepare, Process, Analyze, Share, and Act.  \n",
    "\n",
    "I am a junior data analyst working on the marketing analyst team at Cyclistic, a bike-share\n",
    "company in Chicago. The director of marketing believes the company’s future success\n",
    "depends on maximizing the number of annual memberships. Therefore, my team wants to\n",
    "understand how casual riders and annual members use Cyclistic bikes differently. From the\n",
    "insights, my team will design a new marketing strategy to convert casual riders into annual\n",
    "members. But first, Cyclistic executives must approve my recommendations, so they must \n",
    "backed up with compelling data insights and professional data visualizations.\n",
    "\n",
    "**Characters and teams**\n",
    "\n",
    "1. **Cyclistic:** A bike-share program that features more than 5,800 bicycles and 600\n",
    "docking stations. Cyclistic sets itself apart by also offering reclining bikes, has\n",
    "tricycles, and cargo bikes, making bike-share more inclusive to people with disabilities and riders who can’t use a standard two-wheeled bike. The majority of riders opt for traditional bikes; about 8% of riders use the assistive options. Cyclistic users are more likely to ride for leisure, but about 30% use the bikes to commute to work each day.\n",
    "2. **Lily Moreno:** The director of marketing and my manager. Moreno is responsible for\n",
    "the development of campaigns and initiatives to promote the bike-share program.\n",
    "These may include email, social media, and other channels.\n",
    "3. **Cyclistic marketing analytics team:** A team of data analysts who are responsible for\n",
    "collecting, analyzing, and reporting data that helps guide Cyclistic marketing strategy.\n",
    "I joined this team six months ago and have been busy learning about Cyclistic’s\n",
    "mission and business goals—as well as how I, as a junior data analyst, can help\n",
    "Cyclistic achieve them.\n",
    "4. **Cyclistic executive team:** The notoriously detail-oriented executive team will decide\n",
    "whether to approve the recommended marketing program.\n",
    "\n",
    "**About the company**\n",
    "\n",
    "In 2016, Cyclistic launched a successful bike-share offering. Since then, the program has grown\n",
    "to a fleet of 5,824 bicycles that are geotracked and locked into a network of 692 stations\n",
    "across Chicago. The bikes can be unlocked from one station and returned to any other station\n",
    "in the system anytime.\n",
    "\n",
    "Until now, Cyclistic’s marketing strategy relied on building general awareness and appealing to\n",
    "broad consumer segments. One approach that helped make these things possible was the\n",
    "flexibility of its pricing plans: single-ride passes, full-day passes, and annual membership\n",
    "Customers who purchase single-ride or full-day passes are referred to as casual riders. Customers who purchase annual memberships are Cyclistic members.\n",
    "\n",
    "Cyclistic’s finance analysts have concluded that annual members are much more profit\n",
    "than casual riders. Although the pricing flexibility helps Cyclistic attract more custom\n",
    "Moreno believes that maximizing the number of annual members will be key to future growth.\n",
    "Rather than creating a marketing campaign that targets all-new customers, Moreno believes\n",
    "there is a solid opportunity to convert casual riders into members. She notes that casual riders\n",
    "are already aware of the Cyclistic program and have chosen Cyclistic for their mobility needs.\n",
    "\n",
    "Moreno has set a clear goal: Design marketing strategies aimed at converting casual riders into\n",
    "annual members. In order to do that, however, the team needs to better understand how\n",
    "annual members and casual riders differ, why casual riders would buy a membership, and how\n",
    "digital media could affect their marketing tactics. Moreno and her team are interested \n",
    "analyzing the Cyclistic historical bike trip data to identify trends.\n",
    "\n",
    "Three questions will guide the future marketing program:\n",
    "\n",
    "1. How do annual members and casual riders use Cyclistic bikes differently\n",
    "2. Why would casual riders buy Cyclistic annual memberships?\n",
    "3. How can Cyclistic use digital media to influence casual riders to become members?\n",
    "\n",
    "Moreno has assigned me the first question to answer: How do annual members and casual\n",
    "riders use Cyclistic bikes differentl\n"
   ]
  },
  {
   "cell_type": "markdown",
   "id": "050b0df9",
   "metadata": {
    "papermill": {
     "duration": 0.01149,
     "end_time": "2025-01-10T12:48:24.357296",
     "exception": false,
     "start_time": "2025-01-10T12:48:24.345806",
     "status": "completed"
    },
    "tags": []
   },
   "source": [
    "# STATEMENT OF THE BUSINESS TASK\n",
    "\n",
    "The business task is **How do annual members and casual riders use Cyclistic bikes differently**\n",
    "\n",
    "Key stakeholders \n",
    "\n",
    "The following are the key stakeholders:\n",
    "* The director of marketing\n",
    "* Cyclistic executive team\n",
    "* Cyclistic marketing analytics team"
   ]
  },
  {
   "cell_type": "markdown",
   "id": "e6b58980",
   "metadata": {
    "papermill": {
     "duration": 0.010574,
     "end_time": "2025-01-10T12:48:24.378523",
     "exception": false,
     "start_time": "2025-01-10T12:48:24.367949",
     "status": "completed"
    },
    "tags": []
   },
   "source": [
    "# DESCRIPTION OF ALL DATA SOURCES USED\n",
    "\n",
    "Data has been downloaded from the company’s website via this link https://divvy-tripdata.s3.amazonaws.com/index.html.\n",
    "\n",
    "The recorded data is composed of datasets for trips from years 2013 to 2024, and the various stations names.\n",
    "\n",
    "For the purpose of this project, only the data from **2019**, quarters **Q1, Q3, Q4** and **Q1** from **2020** have been considered for the analysis.\n",
    "\n",
    "Each quarter is a dataset of records of trips, organised in a table of columns and rows. The following columns composed the tables:\n",
    "* Trip_id which is the identifier for each trip\n",
    "* Start_time: the time the trip starts\n",
    "* End_time: the time the trips ends\n",
    "* From_station_name: the name of the station where the trip starts\n",
    "* To_station_name: the destination station where the trip ends\n",
    "* Ids for each station\n",
    "* Geographic coordinates of stations\n",
    "* The type of user using the bike\n",
    "* The birth year and gender of the user.\n",
    "Again, for this project, the data on location, birth, gender have been dropped.\n"
   ]
  },
  {
   "cell_type": "markdown",
   "id": "edff1cba",
   "metadata": {
    "papermill": {
     "duration": 0.011759,
     "end_time": "2025-01-10T12:48:24.400811",
     "exception": false,
     "start_time": "2025-01-10T12:48:24.389052",
     "status": "completed"
    },
    "tags": []
   },
   "source": [
    "# DOCUMENTATION OF CLEANING OR MANIPULATION OF DATA \n",
    "\n",
    "Here is how we will proceed to the cleaning and manipulation of data\n",
    "\n",
    "1.\tAfter the datasets were loaded, we proceeded to the renaming of columns to make them consistent. Datasets from 2020 have light changes in the naming of columns.\n",
    "2.\tConvert data types\n",
    "Convert trip_id and bikeid from 2019 to character so that they can stack correctly with that from 2020.\n",
    "3.\tStack individual quarter's data frames into one big data frame. Q1, Q3, Q4 from 2019 and Q1 from 2020 have been stacked into one single dataframe.\n",
    "4.\tRemove unnecessary fields. Lat, long, birthyear, and gender and trip_duratin fields removed from 2019 as this data was dropped beginning in 2020. \n",
    "5.\tChange the types of user fr alignment. Subscriber into member, Customer to casual\n",
    "6.\tAdded more fields for Date, Month, Day, Day_of_week and ride_length (difference between the end_time of trip and the start_time, in seconds)\n",
    "7.\tRemove \"bad\" data. The dataframe includes a few hundred entries when bikes were taken out of docks and checked for quality by Divvy or ride_length was negative\n",
    "8.\tCreated a new version of the dataframe (v2) since data was removed\n"
   ]
  },
  {
   "cell_type": "markdown",
   "id": "c4f611f8",
   "metadata": {
    "papermill": {
     "duration": 0.010671,
     "end_time": "2025-01-10T12:48:24.422146",
     "exception": false,
     "start_time": "2025-01-10T12:48:24.411475",
     "status": "completed"
    },
    "tags": []
   },
   "source": [
    "## Collection of data\n",
    "\n",
    "### Upload of datasets (csv files)\n",
    "\n",
    "But before that we ready our working environment by loading yhe necessary libraries"
   ]
  },
  {
   "cell_type": "code",
   "execution_count": 1,
   "id": "7cecce36",
   "metadata": {
    "execution": {
     "iopub.execute_input": "2025-01-10T12:48:24.447600Z",
     "iopub.status.busy": "2025-01-10T12:48:24.445473Z",
     "iopub.status.idle": "2025-01-10T12:48:26.068922Z",
     "shell.execute_reply": "2025-01-10T12:48:26.067081Z"
    },
    "papermill": {
     "duration": 1.638561,
     "end_time": "2025-01-10T12:48:26.071383",
     "exception": false,
     "start_time": "2025-01-10T12:48:24.432822",
     "status": "completed"
    },
    "tags": []
   },
   "outputs": [
    {
     "name": "stderr",
     "output_type": "stream",
     "text": [
      "── \u001b[1mAttaching core tidyverse packages\u001b[22m ──────────────────────── tidyverse 2.0.0 ──\n",
      "\u001b[32m✔\u001b[39m \u001b[34mdplyr    \u001b[39m 1.1.4     \u001b[32m✔\u001b[39m \u001b[34mreadr    \u001b[39m 2.1.5\n",
      "\u001b[32m✔\u001b[39m \u001b[34mforcats  \u001b[39m 1.0.0     \u001b[32m✔\u001b[39m \u001b[34mstringr  \u001b[39m 1.5.1\n",
      "\u001b[32m✔\u001b[39m \u001b[34mggplot2  \u001b[39m 3.5.1     \u001b[32m✔\u001b[39m \u001b[34mtibble   \u001b[39m 3.2.1\n",
      "\u001b[32m✔\u001b[39m \u001b[34mlubridate\u001b[39m 1.9.3     \u001b[32m✔\u001b[39m \u001b[34mtidyr    \u001b[39m 1.3.1\n",
      "\u001b[32m✔\u001b[39m \u001b[34mpurrr    \u001b[39m 1.0.2     \n"
     ]
    },
    {
     "name": "stderr",
     "output_type": "stream",
     "text": [
      "── \u001b[1mConflicts\u001b[22m ────────────────────────────────────────── tidyverse_conflicts() ──\n",
      "\u001b[31m✖\u001b[39m \u001b[34mdplyr\u001b[39m::\u001b[32mfilter()\u001b[39m masks \u001b[34mstats\u001b[39m::filter()\n",
      "\u001b[31m✖\u001b[39m \u001b[34mdplyr\u001b[39m::\u001b[32mlag()\u001b[39m    masks \u001b[34mstats\u001b[39m::lag()\n",
      "\u001b[36mℹ\u001b[39m Use the conflicted package (\u001b[3m\u001b[34m<http://conflicted.r-lib.org/>\u001b[39m\u001b[23m) to force all conflicts to become errors\n"
     ]
    },
    {
     "name": "stderr",
     "output_type": "stream",
     "text": [
      "\u001b[1m\u001b[22m\u001b[90m[conflicted]\u001b[39m Will prefer \u001b[1m\u001b[34mdplyr\u001b[39m\u001b[22m::filter over any other package.\n"
     ]
    },
    {
     "name": "stderr",
     "output_type": "stream",
     "text": [
      "\u001b[1m\u001b[22m\u001b[90m[conflicted]\u001b[39m Will prefer \u001b[1m\u001b[34mdplyr\u001b[39m\u001b[22m::lag over any other package.\n"
     ]
    }
   ],
   "source": [
    "library(tidyverse) # metapackage of all tidyverse packages\n",
    "library(dplyr)\n",
    "library(knitr)\n",
    "# Use the conflicted package to manage conflicts\n",
    "library(conflicted)\n",
    "\n",
    "# Set dplyr::filter and dplyr::lag as the default choices\n",
    "conflict_prefer(\"filter\", \"dplyr\")\n",
    "conflict_prefer(\"lag\", \"dplyr\")"
   ]
  },
  {
   "cell_type": "markdown",
   "id": "044a4c27",
   "metadata": {
    "papermill": {
     "duration": 0.011067,
     "end_time": "2025-01-10T12:48:26.093692",
     "exception": false,
     "start_time": "2025-01-10T12:48:26.082625",
     "status": "completed"
    },
    "tags": []
   },
   "source": [
    "Now we upload our csv files containing the various datasets"
   ]
  },
  {
   "cell_type": "code",
   "execution_count": 2,
   "id": "6e5fc63a",
   "metadata": {
    "execution": {
     "iopub.execute_input": "2025-01-10T12:48:26.155127Z",
     "iopub.status.busy": "2025-01-10T12:48:26.117702Z",
     "iopub.status.idle": "2025-01-10T12:49:01.870010Z",
     "shell.execute_reply": "2025-01-10T12:49:01.868167Z"
    },
    "papermill": {
     "duration": 35.768198,
     "end_time": "2025-01-10T12:49:01.872944",
     "exception": false,
     "start_time": "2025-01-10T12:48:26.104746",
     "status": "completed"
    },
    "tags": []
   },
   "outputs": [],
   "source": [
    "q1_2019 <- read.csv(\"/kaggle/input/divvy-trips-2019-q1/Divvy_Trips_2019_Q1.csv\")\n",
    "q1_2020 <- read.csv(\"/kaggle/input/divvy-trips-2020-q1/Divvy_Trips_2020_Q1.csv\")\n",
    "q3_2019 <- read.csv(\"/kaggle/input/divvy-trips-2019-q3/Divvy_Trips_2019_Q3.csv\")\n",
    "q4_2019 <- read.csv(\"/kaggle/input/divvy-trips-2019-q4/Divvy_Trips_2019_Q4.csv\")"
   ]
  },
  {
   "cell_type": "markdown",
   "id": "36adab73",
   "metadata": {
    "papermill": {
     "duration": 0.010875,
     "end_time": "2025-01-10T12:49:01.895470",
     "exception": false,
     "start_time": "2025-01-10T12:49:01.884595",
     "status": "completed"
    },
    "tags": []
   },
   "source": [
    "Let's take a look at our datasets and see how they look like"
   ]
  },
  {
   "cell_type": "code",
   "execution_count": 3,
   "id": "7ea00d65",
   "metadata": {
    "execution": {
     "iopub.execute_input": "2025-01-10T12:49:01.921233Z",
     "iopub.status.busy": "2025-01-10T12:49:01.919618Z",
     "iopub.status.idle": "2025-01-10T12:49:02.213510Z",
     "shell.execute_reply": "2025-01-10T12:49:02.211618Z"
    },
    "papermill": {
     "duration": 0.309778,
     "end_time": "2025-01-10T12:49:02.216079",
     "exception": false,
     "start_time": "2025-01-10T12:49:01.906301",
     "status": "completed"
    },
    "tags": []
   },
   "outputs": [
    {
     "data": {
      "text/html": [
       "<table class=\"dataframe\">\n",
       "<caption>A data.frame: 365069 × 12</caption>\n",
       "<thead>\n",
       "\t<tr><th scope=col>trip_id</th><th scope=col>start_time</th><th scope=col>end_time</th><th scope=col>bikeid</th><th scope=col>tripduration</th><th scope=col>from_station_id</th><th scope=col>from_station_name</th><th scope=col>to_station_id</th><th scope=col>to_station_name</th><th scope=col>usertype</th><th scope=col>gender</th><th scope=col>birthyear</th></tr>\n",
       "\t<tr><th scope=col>&lt;int&gt;</th><th scope=col>&lt;chr&gt;</th><th scope=col>&lt;chr&gt;</th><th scope=col>&lt;int&gt;</th><th scope=col>&lt;chr&gt;</th><th scope=col>&lt;int&gt;</th><th scope=col>&lt;chr&gt;</th><th scope=col>&lt;int&gt;</th><th scope=col>&lt;chr&gt;</th><th scope=col>&lt;chr&gt;</th><th scope=col>&lt;chr&gt;</th><th scope=col>&lt;int&gt;</th></tr>\n",
       "</thead>\n",
       "<tbody>\n",
       "\t<tr><td>21742443</td><td>2019-01-01 00:04:37</td><td>2019-01-01 00:11:07</td><td>2167</td><td><span style=white-space:pre-wrap>390.0  </span></td><td>199</td><td><span style=white-space:pre-wrap>Wabash Ave &amp; Grand Ave             </span></td><td> 84</td><td><span style=white-space:pre-wrap>Milwaukee Ave &amp; Grand Ave     </span></td><td>Subscriber</td><td><span style=white-space:pre-wrap>Male  </span></td><td>1989</td></tr>\n",
       "\t<tr><td>21742444</td><td>2019-01-01 00:08:13</td><td>2019-01-01 00:15:34</td><td>4386</td><td><span style=white-space:pre-wrap>441.0  </span></td><td> 44</td><td><span style=white-space:pre-wrap>State St &amp; Randolph St             </span></td><td>624</td><td>Dearborn St &amp; Van Buren St (*)</td><td>Subscriber</td><td>Female</td><td>1990</td></tr>\n",
       "\t<tr><td>21742445</td><td>2019-01-01 00:13:23</td><td>2019-01-01 00:27:12</td><td>1524</td><td><span style=white-space:pre-wrap>829.0  </span></td><td> 15</td><td><span style=white-space:pre-wrap>Racine Ave &amp; 18th St               </span></td><td>644</td><td>Western Ave &amp; Fillmore St (*) </td><td>Subscriber</td><td>Female</td><td>1994</td></tr>\n",
       "\t<tr><td>21742446</td><td>2019-01-01 00:13:45</td><td>2019-01-01 00:43:28</td><td> 252</td><td>1,783.0</td><td>123</td><td><span style=white-space:pre-wrap>California Ave &amp; Milwaukee Ave     </span></td><td>176</td><td><span style=white-space:pre-wrap>Clark St &amp; Elm St             </span></td><td>Subscriber</td><td><span style=white-space:pre-wrap>Male  </span></td><td>1993</td></tr>\n",
       "\t<tr><td>21742447</td><td>2019-01-01 00:14:52</td><td>2019-01-01 00:20:56</td><td>1170</td><td><span style=white-space:pre-wrap>364.0  </span></td><td>173</td><td>Mies van der Rohe Way &amp; Chicago Ave</td><td> 35</td><td><span style=white-space:pre-wrap>Streeter Dr &amp; Grand Ave       </span></td><td>Subscriber</td><td><span style=white-space:pre-wrap>Male  </span></td><td>1994</td></tr>\n",
       "\t<tr><td>21742448</td><td>2019-01-01 00:15:33</td><td>2019-01-01 00:19:09</td><td>2437</td><td><span style=white-space:pre-wrap>216.0  </span></td><td> 98</td><td><span style=white-space:pre-wrap>LaSalle St &amp; Washington St         </span></td><td> 49</td><td><span style=white-space:pre-wrap>Dearborn St &amp; Monroe St       </span></td><td>Subscriber</td><td>Female</td><td>1983</td></tr>\n",
       "\t<tr><td>21742449</td><td>2019-01-01 00:16:06</td><td>2019-01-01 00:19:03</td><td>2708</td><td><span style=white-space:pre-wrap>177.0  </span></td><td> 98</td><td><span style=white-space:pre-wrap>LaSalle St &amp; Washington St         </span></td><td> 49</td><td><span style=white-space:pre-wrap>Dearborn St &amp; Monroe St       </span></td><td>Subscriber</td><td><span style=white-space:pre-wrap>Male  </span></td><td>1984</td></tr>\n",
       "\t<tr><td>21742450</td><td>2019-01-01 00:18:41</td><td>2019-01-01 00:20:21</td><td>2796</td><td><span style=white-space:pre-wrap>100.0  </span></td><td>211</td><td><span style=white-space:pre-wrap>St. Clair St &amp; Erie St             </span></td><td>142</td><td><span style=white-space:pre-wrap>McClurg Ct &amp; Erie St          </span></td><td>Subscriber</td><td><span style=white-space:pre-wrap>Male  </span></td><td>1990</td></tr>\n",
       "\t<tr><td>21742451</td><td>2019-01-01 00:18:43</td><td>2019-01-01 00:47:30</td><td>6205</td><td>1,727.0</td><td>150</td><td><span style=white-space:pre-wrap>Fort Dearborn Dr &amp; 31st St         </span></td><td>148</td><td><span style=white-space:pre-wrap>State St &amp; 33rd St            </span></td><td>Subscriber</td><td><span style=white-space:pre-wrap>Male  </span></td><td>1995</td></tr>\n",
       "\t<tr><td>21742452</td><td>2019-01-01 00:19:18</td><td>2019-01-01 00:24:54</td><td>3939</td><td><span style=white-space:pre-wrap>336.0  </span></td><td>268</td><td><span style=white-space:pre-wrap>Lake Shore Dr &amp; North Blvd         </span></td><td>141</td><td><span style=white-space:pre-wrap>Clark St &amp; Lincoln Ave        </span></td><td>Subscriber</td><td><span style=white-space:pre-wrap>Male  </span></td><td>1996</td></tr>\n",
       "\t<tr><td>21742453</td><td>2019-01-01 00:20:34</td><td>2019-01-01 00:35:20</td><td>6243</td><td><span style=white-space:pre-wrap>886.0  </span></td><td>299</td><td><span style=white-space:pre-wrap>Halsted St &amp; Roscoe St             </span></td><td>295</td><td><span style=white-space:pre-wrap>Broadway &amp; Argyle St          </span></td><td>Subscriber</td><td><span style=white-space:pre-wrap>Male  </span></td><td>1994</td></tr>\n",
       "\t<tr><td>21742454</td><td>2019-01-01 00:21:52</td><td>2019-01-01 00:32:45</td><td>6300</td><td><span style=white-space:pre-wrap>653.0  </span></td><td>204</td><td><span style=white-space:pre-wrap>Prairie Ave &amp; Garfield Blvd        </span></td><td>420</td><td><span style=white-space:pre-wrap>Ellis Ave &amp; 55th St           </span></td><td>Subscriber</td><td>Female</td><td>1994</td></tr>\n",
       "\t<tr><td>21742455</td><td>2019-01-01 00:23:04</td><td>2019-01-01 00:33:05</td><td>3029</td><td><span style=white-space:pre-wrap>601.0  </span></td><td> 90</td><td><span style=white-space:pre-wrap>Millennium Park                    </span></td><td>255</td><td><span style=white-space:pre-wrap>Indiana Ave &amp; Roosevelt Rd    </span></td><td>Subscriber</td><td><span style=white-space:pre-wrap>Male  </span></td><td>1986</td></tr>\n",
       "\t<tr><td>21742456</td><td>2019-01-01 00:23:43</td><td>2019-01-01 00:33:05</td><td><span style=white-space:pre-wrap>  84</span></td><td><span style=white-space:pre-wrap>562.0  </span></td><td> 90</td><td><span style=white-space:pre-wrap>Millennium Park                    </span></td><td>255</td><td><span style=white-space:pre-wrap>Indiana Ave &amp; Roosevelt Rd    </span></td><td><span style=white-space:pre-wrap>Customer  </span></td><td>Female</td><td>1990</td></tr>\n",
       "\t<tr><td>21742457</td><td>2019-01-01 00:23:54</td><td>2019-01-01 00:39:00</td><td>5019</td><td><span style=white-space:pre-wrap>906.0  </span></td><td>289</td><td><span style=white-space:pre-wrap>Wells St &amp; Concord Ln              </span></td><td>324</td><td><span style=white-space:pre-wrap>Stockton Dr &amp; Wrightwood Ave  </span></td><td>Subscriber</td><td>Female</td><td>1989</td></tr>\n",
       "\t<tr><td>21742458</td><td>2019-01-01 00:24:08</td><td>2019-01-01 00:39:00</td><td>5526</td><td><span style=white-space:pre-wrap>892.0  </span></td><td>289</td><td><span style=white-space:pre-wrap>Wells St &amp; Concord Ln              </span></td><td>324</td><td><span style=white-space:pre-wrap>Stockton Dr &amp; Wrightwood Ave  </span></td><td>Subscriber</td><td>Female</td><td>1989</td></tr>\n",
       "\t<tr><td>21742459</td><td>2019-01-01 00:24:13</td><td>2019-01-01 00:31:00</td><td>3373</td><td><span style=white-space:pre-wrap>407.0  </span></td><td>152</td><td><span style=white-space:pre-wrap>Lincoln Ave &amp; Diversey Pkwy        </span></td><td>166</td><td><span style=white-space:pre-wrap>Ashland Ave &amp; Wrightwood Ave  </span></td><td>Subscriber</td><td><span style=white-space:pre-wrap>Male  </span></td><td>1967</td></tr>\n",
       "\t<tr><td>21742460</td><td>2019-01-01 00:24:27</td><td>2019-01-01 00:47:03</td><td>5777</td><td>1,356.0</td><td>268</td><td><span style=white-space:pre-wrap>Lake Shore Dr &amp; North Blvd         </span></td><td>319</td><td>Greenview Ave &amp; Diversey Pkwy </td><td><span style=white-space:pre-wrap>Customer  </span></td><td>Female</td><td>1990</td></tr>\n",
       "\t<tr><td>21742461</td><td>2019-01-01 00:25:28</td><td>2019-01-01 00:27:10</td><td>3940</td><td><span style=white-space:pre-wrap>102.0  </span></td><td> 35</td><td><span style=white-space:pre-wrap>Streeter Dr &amp; Grand Ave            </span></td><td> 35</td><td><span style=white-space:pre-wrap>Streeter Dr &amp; Grand Ave       </span></td><td>Subscriber</td><td><span style=white-space:pre-wrap>Male  </span></td><td>1985</td></tr>\n",
       "\t<tr><td>21742463</td><td>2019-01-01 00:29:19</td><td>2019-01-01 01:08:12</td><td>3914</td><td>2,333.0</td><td> 35</td><td><span style=white-space:pre-wrap>Streeter Dr &amp; Grand Ave            </span></td><td> 39</td><td><span style=white-space:pre-wrap>Wabash Ave &amp; Adams St         </span></td><td><span style=white-space:pre-wrap>Customer  </span></td><td><span style=white-space:pre-wrap>      </span></td><td><span style=white-space:pre-wrap>  NA</span></td></tr>\n",
       "\t<tr><td>21742464</td><td>2019-01-01 00:29:21</td><td>2019-01-01 00:45:21</td><td> 140</td><td><span style=white-space:pre-wrap>960.0  </span></td><td> 47</td><td><span style=white-space:pre-wrap>State St &amp; Kinzie St               </span></td><td>111</td><td><span style=white-space:pre-wrap>Sedgwick St &amp; Huron St        </span></td><td>Subscriber</td><td><span style=white-space:pre-wrap>Male  </span></td><td>1957</td></tr>\n",
       "\t<tr><td>21742465</td><td>2019-01-01 00:29:28</td><td>2019-01-01 01:07:49</td><td>3355</td><td>2,301.0</td><td> 35</td><td><span style=white-space:pre-wrap>Streeter Dr &amp; Grand Ave            </span></td><td> 39</td><td><span style=white-space:pre-wrap>Wabash Ave &amp; Adams St         </span></td><td><span style=white-space:pre-wrap>Customer  </span></td><td><span style=white-space:pre-wrap>      </span></td><td><span style=white-space:pre-wrap>  NA</span></td></tr>\n",
       "\t<tr><td>21742466</td><td>2019-01-01 00:29:47</td><td>2019-01-01 00:49:15</td><td>5026</td><td>1,168.0</td><td> 85</td><td><span style=white-space:pre-wrap>Michigan Ave &amp; Oak St              </span></td><td>329</td><td>Lake Shore Dr &amp; Diversey Pkwy </td><td>Subscriber</td><td><span style=white-space:pre-wrap>Male  </span></td><td>1959</td></tr>\n",
       "\t<tr><td>21742467</td><td>2019-01-01 00:30:48</td><td>2019-01-01 00:38:42</td><td>1998</td><td><span style=white-space:pre-wrap>474.0  </span></td><td>289</td><td><span style=white-space:pre-wrap>Wells St &amp; Concord Ln              </span></td><td>313</td><td>Lakeview Ave &amp; Fullerton Pkwy </td><td>Subscriber</td><td><span style=white-space:pre-wrap>Male  </span></td><td>1994</td></tr>\n",
       "\t<tr><td>21742468</td><td>2019-01-01 00:33:09</td><td>2019-01-01 00:50:25</td><td>2630</td><td>1,036.0</td><td> 13</td><td><span style=white-space:pre-wrap>Wilton Ave &amp; Diversey Pkwy         </span></td><td> 61</td><td><span style=white-space:pre-wrap>Wood St &amp; Milwaukee Ave       </span></td><td>Subscriber</td><td><span style=white-space:pre-wrap>Male  </span></td><td>1991</td></tr>\n",
       "\t<tr><td>21742469</td><td>2019-01-01 00:34:35</td><td>2019-01-01 00:38:25</td><td>3722</td><td><span style=white-space:pre-wrap>230.0  </span></td><td>520</td><td><span style=white-space:pre-wrap>Greenview Ave &amp; Jarvis Ave         </span></td><td>523</td><td><span style=white-space:pre-wrap>Eastlake Ter &amp; Rogers Ave     </span></td><td>Subscriber</td><td><span style=white-space:pre-wrap>Male  </span></td><td>1961</td></tr>\n",
       "\t<tr><td>21742471</td><td>2019-01-01 00:38:11</td><td>2019-01-01 00:50:38</td><td>1166</td><td><span style=white-space:pre-wrap>747.0  </span></td><td>256</td><td><span style=white-space:pre-wrap>Broadway &amp; Sheridan Rd             </span></td><td>297</td><td><span style=white-space:pre-wrap>Paulina St &amp; Montrose Ave     </span></td><td>Subscriber</td><td><span style=white-space:pre-wrap>Male  </span></td><td>1968</td></tr>\n",
       "\t<tr><td>21742472</td><td>2019-01-01 00:38:47</td><td>2019-01-01 00:50:38</td><td>1704</td><td><span style=white-space:pre-wrap>711.0  </span></td><td>256</td><td><span style=white-space:pre-wrap>Broadway &amp; Sheridan Rd             </span></td><td>297</td><td><span style=white-space:pre-wrap>Paulina St &amp; Montrose Ave     </span></td><td>Subscriber</td><td><span style=white-space:pre-wrap>Male  </span></td><td>1964</td></tr>\n",
       "\t<tr><td>21742473</td><td>2019-01-01 00:40:16</td><td>2019-01-01 00:49:29</td><td>1476</td><td><span style=white-space:pre-wrap>553.0  </span></td><td>254</td><td><span style=white-space:pre-wrap>Pine Grove Ave &amp; Irving Park Rd    </span></td><td>465</td><td><span style=white-space:pre-wrap>Marine Dr &amp; Ainslie St        </span></td><td>Subscriber</td><td><span style=white-space:pre-wrap>Male  </span></td><td>1990</td></tr>\n",
       "\t<tr><td>21742474</td><td>2019-01-01 00:41:46</td><td>2019-01-01 00:50:27</td><td>4614</td><td><span style=white-space:pre-wrap>521.0  </span></td><td> 66</td><td><span style=white-space:pre-wrap>Clinton St &amp; Lake St               </span></td><td> 52</td><td><span style=white-space:pre-wrap>Michigan Ave &amp; Lake St        </span></td><td>Subscriber</td><td><span style=white-space:pre-wrap>Male  </span></td><td>1994</td></tr>\n",
       "\t<tr><td>⋮</td><td>⋮</td><td>⋮</td><td>⋮</td><td>⋮</td><td>⋮</td><td>⋮</td><td>⋮</td><td>⋮</td><td>⋮</td><td>⋮</td><td>⋮</td></tr>\n",
       "\t<tr><td>22178488</td><td>2019-03-31 22:51:02</td><td>2019-03-31 22:54:00</td><td>4602</td><td>178.0</td><td>460</td><td><span style=white-space:pre-wrap>Clark St &amp; Bryn Mawr Ave           </span></td><td>461</td><td><span style=white-space:pre-wrap>Broadway &amp; Ridge Ave                </span></td><td>Subscriber</td><td><span style=white-space:pre-wrap>Male  </span></td><td>1986</td></tr>\n",
       "\t<tr><td>22178489</td><td>2019-03-31 22:54:00</td><td>2019-03-31 23:02:49</td><td>4151</td><td>529.0</td><td> 47</td><td><span style=white-space:pre-wrap>State St &amp; Kinzie St               </span></td><td> 26</td><td><span style=white-space:pre-wrap>McClurg Ct &amp; Illinois St            </span></td><td>Subscriber</td><td><span style=white-space:pre-wrap>Male  </span></td><td>1990</td></tr>\n",
       "\t<tr><td>22178490</td><td>2019-03-31 22:55:28</td><td>2019-03-31 23:02:10</td><td>3833</td><td>402.0</td><td>108</td><td><span style=white-space:pre-wrap>Halsted St &amp; Polk St               </span></td><td> 19</td><td><span style=white-space:pre-wrap>Loomis St &amp; Taylor St (*)           </span></td><td>Subscriber</td><td><span style=white-space:pre-wrap>Male  </span></td><td>1992</td></tr>\n",
       "\t<tr><td>22178491</td><td>2019-03-31 22:58:00</td><td>2019-03-31 23:06:12</td><td>1374</td><td>492.0</td><td>108</td><td><span style=white-space:pre-wrap>Halsted St &amp; Polk St               </span></td><td> 41</td><td><span style=white-space:pre-wrap>Federal St &amp; Polk St                </span></td><td>Subscriber</td><td><span style=white-space:pre-wrap>Male  </span></td><td>1992</td></tr>\n",
       "\t<tr><td>22178492</td><td>2019-03-31 22:59:35</td><td>2019-03-31 23:01:38</td><td>3723</td><td>123.0</td><td> 66</td><td><span style=white-space:pre-wrap>Clinton St &amp; Lake St               </span></td><td> 77</td><td><span style=white-space:pre-wrap>Clinton St &amp; Madison St             </span></td><td>Subscriber</td><td>Female</td><td>1985</td></tr>\n",
       "\t<tr><td>22178493</td><td>2019-03-31 23:00:17</td><td>2019-03-31 23:10:52</td><td>2331</td><td>635.0</td><td> 51</td><td><span style=white-space:pre-wrap>Clark St &amp; Randolph St             </span></td><td>364</td><td><span style=white-space:pre-wrap>Larrabee St &amp; Oak St                </span></td><td>Subscriber</td><td><span style=white-space:pre-wrap>Male  </span></td><td>1972</td></tr>\n",
       "\t<tr><td>22178494</td><td>2019-03-31 23:00:28</td><td>2019-03-31 23:09:20</td><td>1312</td><td>532.0</td><td> 98</td><td><span style=white-space:pre-wrap>LaSalle St &amp; Washington St         </span></td><td> 22</td><td><span style=white-space:pre-wrap>May St &amp; Taylor St                  </span></td><td><span style=white-space:pre-wrap>Customer  </span></td><td><span style=white-space:pre-wrap>Male  </span></td><td>1993</td></tr>\n",
       "\t<tr><td>22178495</td><td>2019-03-31 23:00:43</td><td>2019-03-31 23:13:04</td><td>6205</td><td>741.0</td><td>301</td><td><span style=white-space:pre-wrap>Clark St &amp; Schiller St             </span></td><td>115</td><td><span style=white-space:pre-wrap>Sheffield Ave &amp; Wellington Ave      </span></td><td>Subscriber</td><td><span style=white-space:pre-wrap>Male  </span></td><td>1988</td></tr>\n",
       "\t<tr><td>22178502</td><td>2019-03-31 23:03:01</td><td>2019-03-31 23:15:20</td><td>3360</td><td>739.0</td><td>295</td><td><span style=white-space:pre-wrap>Broadway &amp; Argyle St               </span></td><td>451</td><td><span style=white-space:pre-wrap>Sheridan Rd &amp; Loyola Ave            </span></td><td>Subscriber</td><td><span style=white-space:pre-wrap>Male  </span></td><td>1992</td></tr>\n",
       "\t<tr><td>22178503</td><td>2019-03-31 23:09:40</td><td>2019-03-31 23:19:30</td><td>6416</td><td>590.0</td><td>114</td><td><span style=white-space:pre-wrap>Sheffield Ave &amp; Waveland Ave       </span></td><td>330</td><td><span style=white-space:pre-wrap>Lincoln Ave &amp; Addison St            </span></td><td>Subscriber</td><td>Female</td><td>1985</td></tr>\n",
       "\t<tr><td>22178504</td><td>2019-03-31 23:10:19</td><td>2019-03-31 23:21:33</td><td>3767</td><td>674.0</td><td> 50</td><td><span style=white-space:pre-wrap>Clark St &amp; Ida B Wells Dr          </span></td><td> 50</td><td><span style=white-space:pre-wrap>Clark St &amp; Ida B Wells Dr           </span></td><td>Subscriber</td><td><span style=white-space:pre-wrap>Male  </span></td><td>1957</td></tr>\n",
       "\t<tr><td>22178505</td><td>2019-03-31 23:11:15</td><td>2019-03-31 23:20:27</td><td>1646</td><td>552.0</td><td>111</td><td><span style=white-space:pre-wrap>Sedgwick St &amp; Huron St             </span></td><td>301</td><td><span style=white-space:pre-wrap>Clark St &amp; Schiller St              </span></td><td>Subscriber</td><td><span style=white-space:pre-wrap>Male  </span></td><td>1994</td></tr>\n",
       "\t<tr><td>22178506</td><td>2019-03-31 23:15:53</td><td>2019-03-31 23:20:27</td><td> 632</td><td>274.0</td><td> 16</td><td><span style=white-space:pre-wrap>Paulina Ave &amp; North Ave            </span></td><td>158</td><td><span style=white-space:pre-wrap>Milwaukee Ave &amp; Wabansia Ave        </span></td><td>Subscriber</td><td><span style=white-space:pre-wrap>Male  </span></td><td>1991</td></tr>\n",
       "\t<tr><td>22178507</td><td>2019-03-31 23:16:57</td><td>2019-03-31 23:22:42</td><td>1537</td><td>345.0</td><td>173</td><td>Mies van der Rohe Way &amp; Chicago Ave</td><td>172</td><td><span style=white-space:pre-wrap>Rush St &amp; Cedar St                  </span></td><td>Subscriber</td><td><span style=white-space:pre-wrap>Male  </span></td><td>1980</td></tr>\n",
       "\t<tr><td>22178508</td><td>2019-03-31 23:18:42</td><td>2019-03-31 23:30:40</td><td>1952</td><td>718.0</td><td>301</td><td><span style=white-space:pre-wrap>Clark St &amp; Schiller St             </span></td><td>210</td><td><span style=white-space:pre-wrap>Ashland Ave &amp; Division St           </span></td><td>Subscriber</td><td><span style=white-space:pre-wrap>Male  </span></td><td>1988</td></tr>\n",
       "\t<tr><td>22178509</td><td>2019-03-31 23:20:36</td><td>2019-03-31 23:28:12</td><td>5331</td><td>456.0</td><td>115</td><td><span style=white-space:pre-wrap>Sheffield Ave &amp; Wellington Ave     </span></td><td>313</td><td><span style=white-space:pre-wrap>Lakeview Ave &amp; Fullerton Pkwy       </span></td><td>Subscriber</td><td><span style=white-space:pre-wrap>Male  </span></td><td>1987</td></tr>\n",
       "\t<tr><td>22178510</td><td>2019-03-31 23:21:07</td><td>2019-03-31 23:25:12</td><td><span style=white-space:pre-wrap>  67</span></td><td>245.0</td><td>325</td><td><span style=white-space:pre-wrap>Clark St &amp; Winnemac Ave            </span></td><td>464</td><td><span style=white-space:pre-wrap>Damen Ave &amp; Foster Ave              </span></td><td>Subscriber</td><td><span style=white-space:pre-wrap>Male  </span></td><td>1983</td></tr>\n",
       "\t<tr><td>22178515</td><td>2019-03-31 23:26:00</td><td>2019-03-31 23:37:24</td><td>2965</td><td>684.0</td><td>403</td><td><span style=white-space:pre-wrap>Wentworth Ave &amp; 33rd St            </span></td><td>263</td><td><span style=white-space:pre-wrap>Rhodes Ave &amp; 32nd St                </span></td><td>Subscriber</td><td><span style=white-space:pre-wrap>Male  </span></td><td>1984</td></tr>\n",
       "\t<tr><td>22178516</td><td>2019-03-31 23:31:30</td><td>2019-03-31 23:35:29</td><td>5747</td><td>239.0</td><td>309</td><td><span style=white-space:pre-wrap>Leavitt St &amp; Armitage Ave          </span></td><td>219</td><td><span style=white-space:pre-wrap>Damen Ave &amp; Cortland St             </span></td><td>Subscriber</td><td><span style=white-space:pre-wrap>Male  </span></td><td>1970</td></tr>\n",
       "\t<tr><td>22178517</td><td>2019-03-31 23:32:54</td><td>2019-03-31 23:37:50</td><td>2846</td><td>296.0</td><td>181</td><td><span style=white-space:pre-wrap>LaSalle St &amp; Illinois St           </span></td><td> 24</td><td><span style=white-space:pre-wrap>Fairbanks Ct &amp; Grand Ave            </span></td><td><span style=white-space:pre-wrap>Customer  </span></td><td><span style=white-space:pre-wrap>      </span></td><td><span style=white-space:pre-wrap>  NA</span></td></tr>\n",
       "\t<tr><td>22178518</td><td>2019-03-31 23:33:02</td><td>2019-03-31 23:43:15</td><td>2772</td><td>613.0</td><td>210</td><td><span style=white-space:pre-wrap>Ashland Ave &amp; Division St          </span></td><td>210</td><td><span style=white-space:pre-wrap>Ashland Ave &amp; Division St           </span></td><td>Subscriber</td><td><span style=white-space:pre-wrap>Male  </span></td><td>1972</td></tr>\n",
       "\t<tr><td>22178519</td><td>2019-03-31 23:33:14</td><td>2019-03-31 23:37:40</td><td>4304</td><td>266.0</td><td>181</td><td><span style=white-space:pre-wrap>LaSalle St &amp; Illinois St           </span></td><td> 24</td><td><span style=white-space:pre-wrap>Fairbanks Ct &amp; Grand Ave            </span></td><td><span style=white-space:pre-wrap>Customer  </span></td><td><span style=white-space:pre-wrap>      </span></td><td><span style=white-space:pre-wrap>  NA</span></td></tr>\n",
       "\t<tr><td>22178520</td><td>2019-03-31 23:34:08</td><td>2019-03-31 23:38:07</td><td> 667</td><td>239.0</td><td>199</td><td><span style=white-space:pre-wrap>Wabash Ave &amp; Grand Ave             </span></td><td> 26</td><td><span style=white-space:pre-wrap>McClurg Ct &amp; Illinois St            </span></td><td>Subscriber</td><td>Female</td><td>1984</td></tr>\n",
       "\t<tr><td>22178521</td><td>2019-03-31 23:39:48</td><td>2019-03-31 23:41:41</td><td>4814</td><td>113.0</td><td>198</td><td><span style=white-space:pre-wrap>Green St &amp; Madison St              </span></td><td>233</td><td><span style=white-space:pre-wrap>Sangamon St &amp; Washington Blvd (*)   </span></td><td>Subscriber</td><td><span style=white-space:pre-wrap>Male  </span></td><td>1971</td></tr>\n",
       "\t<tr><td>22178522</td><td>2019-03-31 23:47:05</td><td>2019-03-31 23:51:35</td><td>3873</td><td>270.0</td><td> 69</td><td><span style=white-space:pre-wrap>Damen Ave &amp; Pierce Ave             </span></td><td>183</td><td>Damen Ave &amp; Thomas St (Augusta Blvd)</td><td>Subscriber</td><td><span style=white-space:pre-wrap>Male  </span></td><td>1985</td></tr>\n",
       "\t<tr><td>22178524</td><td>2019-03-31 23:51:32</td><td>2019-04-01 00:04:09</td><td>1501</td><td>757.0</td><td> 38</td><td><span style=white-space:pre-wrap>Clark St &amp; Lake St                 </span></td><td> 29</td><td><span style=white-space:pre-wrap>Noble St &amp; Milwaukee Ave            </span></td><td>Subscriber</td><td><span style=white-space:pre-wrap>Male  </span></td><td>1993</td></tr>\n",
       "\t<tr><td>22178525</td><td>2019-03-31 23:52:37</td><td>2019-03-31 23:58:09</td><td>3270</td><td>332.0</td><td>129</td><td><span style=white-space:pre-wrap>Blue Island Ave &amp; 18th St          </span></td><td>202</td><td><span style=white-space:pre-wrap>Halsted St &amp; 18th St                </span></td><td>Subscriber</td><td><span style=white-space:pre-wrap>Male  </span></td><td>1992</td></tr>\n",
       "\t<tr><td>22178526</td><td>2019-03-31 23:52:38</td><td>2019-04-01 00:06:44</td><td>3584</td><td>846.0</td><td>283</td><td><span style=white-space:pre-wrap>LaSalle St &amp; Jackson Blvd          </span></td><td>273</td><td><span style=white-space:pre-wrap>Michigan Ave &amp; 18th St              </span></td><td>Subscriber</td><td><span style=white-space:pre-wrap>Male  </span></td><td>1984</td></tr>\n",
       "\t<tr><td>22178527</td><td>2019-03-31 23:53:08</td><td>2019-03-31 23:56:06</td><td>4384</td><td>178.0</td><td>321</td><td><span style=white-space:pre-wrap>Wabash Ave &amp; 9th St                </span></td><td> 39</td><td><span style=white-space:pre-wrap>Wabash Ave &amp; Adams St               </span></td><td>Subscriber</td><td><span style=white-space:pre-wrap>Male  </span></td><td>1969</td></tr>\n",
       "\t<tr><td>22178528</td><td>2019-03-31 23:53:48</td><td>2019-04-01 00:01:16</td><td>5589</td><td>448.0</td><td>248</td><td><span style=white-space:pre-wrap>Woodlawn Ave &amp; 55th St             </span></td><td>247</td><td><span style=white-space:pre-wrap>Shore Dr &amp; 55th St                  </span></td><td>Subscriber</td><td><span style=white-space:pre-wrap>Male  </span></td><td>1998</td></tr>\n",
       "</tbody>\n",
       "</table>\n"
      ],
      "text/latex": [
       "A data.frame: 365069 × 12\n",
       "\\begin{tabular}{llllllllllll}\n",
       " trip\\_id & start\\_time & end\\_time & bikeid & tripduration & from\\_station\\_id & from\\_station\\_name & to\\_station\\_id & to\\_station\\_name & usertype & gender & birthyear\\\\\n",
       " <int> & <chr> & <chr> & <int> & <chr> & <int> & <chr> & <int> & <chr> & <chr> & <chr> & <int>\\\\\n",
       "\\hline\n",
       "\t 21742443 & 2019-01-01 00:04:37 & 2019-01-01 00:11:07 & 2167 & 390.0   & 199 & Wabash Ave \\& Grand Ave              &  84 & Milwaukee Ave \\& Grand Ave      & Subscriber & Male   & 1989\\\\\n",
       "\t 21742444 & 2019-01-01 00:08:13 & 2019-01-01 00:15:34 & 4386 & 441.0   &  44 & State St \\& Randolph St              & 624 & Dearborn St \\& Van Buren St (*) & Subscriber & Female & 1990\\\\\n",
       "\t 21742445 & 2019-01-01 00:13:23 & 2019-01-01 00:27:12 & 1524 & 829.0   &  15 & Racine Ave \\& 18th St                & 644 & Western Ave \\& Fillmore St (*)  & Subscriber & Female & 1994\\\\\n",
       "\t 21742446 & 2019-01-01 00:13:45 & 2019-01-01 00:43:28 &  252 & 1,783.0 & 123 & California Ave \\& Milwaukee Ave      & 176 & Clark St \\& Elm St              & Subscriber & Male   & 1993\\\\\n",
       "\t 21742447 & 2019-01-01 00:14:52 & 2019-01-01 00:20:56 & 1170 & 364.0   & 173 & Mies van der Rohe Way \\& Chicago Ave &  35 & Streeter Dr \\& Grand Ave        & Subscriber & Male   & 1994\\\\\n",
       "\t 21742448 & 2019-01-01 00:15:33 & 2019-01-01 00:19:09 & 2437 & 216.0   &  98 & LaSalle St \\& Washington St          &  49 & Dearborn St \\& Monroe St        & Subscriber & Female & 1983\\\\\n",
       "\t 21742449 & 2019-01-01 00:16:06 & 2019-01-01 00:19:03 & 2708 & 177.0   &  98 & LaSalle St \\& Washington St          &  49 & Dearborn St \\& Monroe St        & Subscriber & Male   & 1984\\\\\n",
       "\t 21742450 & 2019-01-01 00:18:41 & 2019-01-01 00:20:21 & 2796 & 100.0   & 211 & St. Clair St \\& Erie St              & 142 & McClurg Ct \\& Erie St           & Subscriber & Male   & 1990\\\\\n",
       "\t 21742451 & 2019-01-01 00:18:43 & 2019-01-01 00:47:30 & 6205 & 1,727.0 & 150 & Fort Dearborn Dr \\& 31st St          & 148 & State St \\& 33rd St             & Subscriber & Male   & 1995\\\\\n",
       "\t 21742452 & 2019-01-01 00:19:18 & 2019-01-01 00:24:54 & 3939 & 336.0   & 268 & Lake Shore Dr \\& North Blvd          & 141 & Clark St \\& Lincoln Ave         & Subscriber & Male   & 1996\\\\\n",
       "\t 21742453 & 2019-01-01 00:20:34 & 2019-01-01 00:35:20 & 6243 & 886.0   & 299 & Halsted St \\& Roscoe St              & 295 & Broadway \\& Argyle St           & Subscriber & Male   & 1994\\\\\n",
       "\t 21742454 & 2019-01-01 00:21:52 & 2019-01-01 00:32:45 & 6300 & 653.0   & 204 & Prairie Ave \\& Garfield Blvd         & 420 & Ellis Ave \\& 55th St            & Subscriber & Female & 1994\\\\\n",
       "\t 21742455 & 2019-01-01 00:23:04 & 2019-01-01 00:33:05 & 3029 & 601.0   &  90 & Millennium Park                     & 255 & Indiana Ave \\& Roosevelt Rd     & Subscriber & Male   & 1986\\\\\n",
       "\t 21742456 & 2019-01-01 00:23:43 & 2019-01-01 00:33:05 &   84 & 562.0   &  90 & Millennium Park                     & 255 & Indiana Ave \\& Roosevelt Rd     & Customer   & Female & 1990\\\\\n",
       "\t 21742457 & 2019-01-01 00:23:54 & 2019-01-01 00:39:00 & 5019 & 906.0   & 289 & Wells St \\& Concord Ln               & 324 & Stockton Dr \\& Wrightwood Ave   & Subscriber & Female & 1989\\\\\n",
       "\t 21742458 & 2019-01-01 00:24:08 & 2019-01-01 00:39:00 & 5526 & 892.0   & 289 & Wells St \\& Concord Ln               & 324 & Stockton Dr \\& Wrightwood Ave   & Subscriber & Female & 1989\\\\\n",
       "\t 21742459 & 2019-01-01 00:24:13 & 2019-01-01 00:31:00 & 3373 & 407.0   & 152 & Lincoln Ave \\& Diversey Pkwy         & 166 & Ashland Ave \\& Wrightwood Ave   & Subscriber & Male   & 1967\\\\\n",
       "\t 21742460 & 2019-01-01 00:24:27 & 2019-01-01 00:47:03 & 5777 & 1,356.0 & 268 & Lake Shore Dr \\& North Blvd          & 319 & Greenview Ave \\& Diversey Pkwy  & Customer   & Female & 1990\\\\\n",
       "\t 21742461 & 2019-01-01 00:25:28 & 2019-01-01 00:27:10 & 3940 & 102.0   &  35 & Streeter Dr \\& Grand Ave             &  35 & Streeter Dr \\& Grand Ave        & Subscriber & Male   & 1985\\\\\n",
       "\t 21742463 & 2019-01-01 00:29:19 & 2019-01-01 01:08:12 & 3914 & 2,333.0 &  35 & Streeter Dr \\& Grand Ave             &  39 & Wabash Ave \\& Adams St          & Customer   &        &   NA\\\\\n",
       "\t 21742464 & 2019-01-01 00:29:21 & 2019-01-01 00:45:21 &  140 & 960.0   &  47 & State St \\& Kinzie St                & 111 & Sedgwick St \\& Huron St         & Subscriber & Male   & 1957\\\\\n",
       "\t 21742465 & 2019-01-01 00:29:28 & 2019-01-01 01:07:49 & 3355 & 2,301.0 &  35 & Streeter Dr \\& Grand Ave             &  39 & Wabash Ave \\& Adams St          & Customer   &        &   NA\\\\\n",
       "\t 21742466 & 2019-01-01 00:29:47 & 2019-01-01 00:49:15 & 5026 & 1,168.0 &  85 & Michigan Ave \\& Oak St               & 329 & Lake Shore Dr \\& Diversey Pkwy  & Subscriber & Male   & 1959\\\\\n",
       "\t 21742467 & 2019-01-01 00:30:48 & 2019-01-01 00:38:42 & 1998 & 474.0   & 289 & Wells St \\& Concord Ln               & 313 & Lakeview Ave \\& Fullerton Pkwy  & Subscriber & Male   & 1994\\\\\n",
       "\t 21742468 & 2019-01-01 00:33:09 & 2019-01-01 00:50:25 & 2630 & 1,036.0 &  13 & Wilton Ave \\& Diversey Pkwy          &  61 & Wood St \\& Milwaukee Ave        & Subscriber & Male   & 1991\\\\\n",
       "\t 21742469 & 2019-01-01 00:34:35 & 2019-01-01 00:38:25 & 3722 & 230.0   & 520 & Greenview Ave \\& Jarvis Ave          & 523 & Eastlake Ter \\& Rogers Ave      & Subscriber & Male   & 1961\\\\\n",
       "\t 21742471 & 2019-01-01 00:38:11 & 2019-01-01 00:50:38 & 1166 & 747.0   & 256 & Broadway \\& Sheridan Rd              & 297 & Paulina St \\& Montrose Ave      & Subscriber & Male   & 1968\\\\\n",
       "\t 21742472 & 2019-01-01 00:38:47 & 2019-01-01 00:50:38 & 1704 & 711.0   & 256 & Broadway \\& Sheridan Rd              & 297 & Paulina St \\& Montrose Ave      & Subscriber & Male   & 1964\\\\\n",
       "\t 21742473 & 2019-01-01 00:40:16 & 2019-01-01 00:49:29 & 1476 & 553.0   & 254 & Pine Grove Ave \\& Irving Park Rd     & 465 & Marine Dr \\& Ainslie St         & Subscriber & Male   & 1990\\\\\n",
       "\t 21742474 & 2019-01-01 00:41:46 & 2019-01-01 00:50:27 & 4614 & 521.0   &  66 & Clinton St \\& Lake St                &  52 & Michigan Ave \\& Lake St         & Subscriber & Male   & 1994\\\\\n",
       "\t ⋮ & ⋮ & ⋮ & ⋮ & ⋮ & ⋮ & ⋮ & ⋮ & ⋮ & ⋮ & ⋮ & ⋮\\\\\n",
       "\t 22178488 & 2019-03-31 22:51:02 & 2019-03-31 22:54:00 & 4602 & 178.0 & 460 & Clark St \\& Bryn Mawr Ave            & 461 & Broadway \\& Ridge Ave                 & Subscriber & Male   & 1986\\\\\n",
       "\t 22178489 & 2019-03-31 22:54:00 & 2019-03-31 23:02:49 & 4151 & 529.0 &  47 & State St \\& Kinzie St                &  26 & McClurg Ct \\& Illinois St             & Subscriber & Male   & 1990\\\\\n",
       "\t 22178490 & 2019-03-31 22:55:28 & 2019-03-31 23:02:10 & 3833 & 402.0 & 108 & Halsted St \\& Polk St                &  19 & Loomis St \\& Taylor St (*)            & Subscriber & Male   & 1992\\\\\n",
       "\t 22178491 & 2019-03-31 22:58:00 & 2019-03-31 23:06:12 & 1374 & 492.0 & 108 & Halsted St \\& Polk St                &  41 & Federal St \\& Polk St                 & Subscriber & Male   & 1992\\\\\n",
       "\t 22178492 & 2019-03-31 22:59:35 & 2019-03-31 23:01:38 & 3723 & 123.0 &  66 & Clinton St \\& Lake St                &  77 & Clinton St \\& Madison St              & Subscriber & Female & 1985\\\\\n",
       "\t 22178493 & 2019-03-31 23:00:17 & 2019-03-31 23:10:52 & 2331 & 635.0 &  51 & Clark St \\& Randolph St              & 364 & Larrabee St \\& Oak St                 & Subscriber & Male   & 1972\\\\\n",
       "\t 22178494 & 2019-03-31 23:00:28 & 2019-03-31 23:09:20 & 1312 & 532.0 &  98 & LaSalle St \\& Washington St          &  22 & May St \\& Taylor St                   & Customer   & Male   & 1993\\\\\n",
       "\t 22178495 & 2019-03-31 23:00:43 & 2019-03-31 23:13:04 & 6205 & 741.0 & 301 & Clark St \\& Schiller St              & 115 & Sheffield Ave \\& Wellington Ave       & Subscriber & Male   & 1988\\\\\n",
       "\t 22178502 & 2019-03-31 23:03:01 & 2019-03-31 23:15:20 & 3360 & 739.0 & 295 & Broadway \\& Argyle St                & 451 & Sheridan Rd \\& Loyola Ave             & Subscriber & Male   & 1992\\\\\n",
       "\t 22178503 & 2019-03-31 23:09:40 & 2019-03-31 23:19:30 & 6416 & 590.0 & 114 & Sheffield Ave \\& Waveland Ave        & 330 & Lincoln Ave \\& Addison St             & Subscriber & Female & 1985\\\\\n",
       "\t 22178504 & 2019-03-31 23:10:19 & 2019-03-31 23:21:33 & 3767 & 674.0 &  50 & Clark St \\& Ida B Wells Dr           &  50 & Clark St \\& Ida B Wells Dr            & Subscriber & Male   & 1957\\\\\n",
       "\t 22178505 & 2019-03-31 23:11:15 & 2019-03-31 23:20:27 & 1646 & 552.0 & 111 & Sedgwick St \\& Huron St              & 301 & Clark St \\& Schiller St               & Subscriber & Male   & 1994\\\\\n",
       "\t 22178506 & 2019-03-31 23:15:53 & 2019-03-31 23:20:27 &  632 & 274.0 &  16 & Paulina Ave \\& North Ave             & 158 & Milwaukee Ave \\& Wabansia Ave         & Subscriber & Male   & 1991\\\\\n",
       "\t 22178507 & 2019-03-31 23:16:57 & 2019-03-31 23:22:42 & 1537 & 345.0 & 173 & Mies van der Rohe Way \\& Chicago Ave & 172 & Rush St \\& Cedar St                   & Subscriber & Male   & 1980\\\\\n",
       "\t 22178508 & 2019-03-31 23:18:42 & 2019-03-31 23:30:40 & 1952 & 718.0 & 301 & Clark St \\& Schiller St              & 210 & Ashland Ave \\& Division St            & Subscriber & Male   & 1988\\\\\n",
       "\t 22178509 & 2019-03-31 23:20:36 & 2019-03-31 23:28:12 & 5331 & 456.0 & 115 & Sheffield Ave \\& Wellington Ave      & 313 & Lakeview Ave \\& Fullerton Pkwy        & Subscriber & Male   & 1987\\\\\n",
       "\t 22178510 & 2019-03-31 23:21:07 & 2019-03-31 23:25:12 &   67 & 245.0 & 325 & Clark St \\& Winnemac Ave             & 464 & Damen Ave \\& Foster Ave               & Subscriber & Male   & 1983\\\\\n",
       "\t 22178515 & 2019-03-31 23:26:00 & 2019-03-31 23:37:24 & 2965 & 684.0 & 403 & Wentworth Ave \\& 33rd St             & 263 & Rhodes Ave \\& 32nd St                 & Subscriber & Male   & 1984\\\\\n",
       "\t 22178516 & 2019-03-31 23:31:30 & 2019-03-31 23:35:29 & 5747 & 239.0 & 309 & Leavitt St \\& Armitage Ave           & 219 & Damen Ave \\& Cortland St              & Subscriber & Male   & 1970\\\\\n",
       "\t 22178517 & 2019-03-31 23:32:54 & 2019-03-31 23:37:50 & 2846 & 296.0 & 181 & LaSalle St \\& Illinois St            &  24 & Fairbanks Ct \\& Grand Ave             & Customer   &        &   NA\\\\\n",
       "\t 22178518 & 2019-03-31 23:33:02 & 2019-03-31 23:43:15 & 2772 & 613.0 & 210 & Ashland Ave \\& Division St           & 210 & Ashland Ave \\& Division St            & Subscriber & Male   & 1972\\\\\n",
       "\t 22178519 & 2019-03-31 23:33:14 & 2019-03-31 23:37:40 & 4304 & 266.0 & 181 & LaSalle St \\& Illinois St            &  24 & Fairbanks Ct \\& Grand Ave             & Customer   &        &   NA\\\\\n",
       "\t 22178520 & 2019-03-31 23:34:08 & 2019-03-31 23:38:07 &  667 & 239.0 & 199 & Wabash Ave \\& Grand Ave              &  26 & McClurg Ct \\& Illinois St             & Subscriber & Female & 1984\\\\\n",
       "\t 22178521 & 2019-03-31 23:39:48 & 2019-03-31 23:41:41 & 4814 & 113.0 & 198 & Green St \\& Madison St               & 233 & Sangamon St \\& Washington Blvd (*)    & Subscriber & Male   & 1971\\\\\n",
       "\t 22178522 & 2019-03-31 23:47:05 & 2019-03-31 23:51:35 & 3873 & 270.0 &  69 & Damen Ave \\& Pierce Ave              & 183 & Damen Ave \\& Thomas St (Augusta Blvd) & Subscriber & Male   & 1985\\\\\n",
       "\t 22178524 & 2019-03-31 23:51:32 & 2019-04-01 00:04:09 & 1501 & 757.0 &  38 & Clark St \\& Lake St                  &  29 & Noble St \\& Milwaukee Ave             & Subscriber & Male   & 1993\\\\\n",
       "\t 22178525 & 2019-03-31 23:52:37 & 2019-03-31 23:58:09 & 3270 & 332.0 & 129 & Blue Island Ave \\& 18th St           & 202 & Halsted St \\& 18th St                 & Subscriber & Male   & 1992\\\\\n",
       "\t 22178526 & 2019-03-31 23:52:38 & 2019-04-01 00:06:44 & 3584 & 846.0 & 283 & LaSalle St \\& Jackson Blvd           & 273 & Michigan Ave \\& 18th St               & Subscriber & Male   & 1984\\\\\n",
       "\t 22178527 & 2019-03-31 23:53:08 & 2019-03-31 23:56:06 & 4384 & 178.0 & 321 & Wabash Ave \\& 9th St                 &  39 & Wabash Ave \\& Adams St                & Subscriber & Male   & 1969\\\\\n",
       "\t 22178528 & 2019-03-31 23:53:48 & 2019-04-01 00:01:16 & 5589 & 448.0 & 248 & Woodlawn Ave \\& 55th St              & 247 & Shore Dr \\& 55th St                   & Subscriber & Male   & 1998\\\\\n",
       "\\end{tabular}\n"
      ],
      "text/markdown": [
       "\n",
       "A data.frame: 365069 × 12\n",
       "\n",
       "| trip_id &lt;int&gt; | start_time &lt;chr&gt; | end_time &lt;chr&gt; | bikeid &lt;int&gt; | tripduration &lt;chr&gt; | from_station_id &lt;int&gt; | from_station_name &lt;chr&gt; | to_station_id &lt;int&gt; | to_station_name &lt;chr&gt; | usertype &lt;chr&gt; | gender &lt;chr&gt; | birthyear &lt;int&gt; |\n",
       "|---|---|---|---|---|---|---|---|---|---|---|---|\n",
       "| 21742443 | 2019-01-01 00:04:37 | 2019-01-01 00:11:07 | 2167 | 390.0   | 199 | Wabash Ave &amp; Grand Ave              |  84 | Milwaukee Ave &amp; Grand Ave      | Subscriber | Male   | 1989 |\n",
       "| 21742444 | 2019-01-01 00:08:13 | 2019-01-01 00:15:34 | 4386 | 441.0   |  44 | State St &amp; Randolph St              | 624 | Dearborn St &amp; Van Buren St (*) | Subscriber | Female | 1990 |\n",
       "| 21742445 | 2019-01-01 00:13:23 | 2019-01-01 00:27:12 | 1524 | 829.0   |  15 | Racine Ave &amp; 18th St                | 644 | Western Ave &amp; Fillmore St (*)  | Subscriber | Female | 1994 |\n",
       "| 21742446 | 2019-01-01 00:13:45 | 2019-01-01 00:43:28 |  252 | 1,783.0 | 123 | California Ave &amp; Milwaukee Ave      | 176 | Clark St &amp; Elm St              | Subscriber | Male   | 1993 |\n",
       "| 21742447 | 2019-01-01 00:14:52 | 2019-01-01 00:20:56 | 1170 | 364.0   | 173 | Mies van der Rohe Way &amp; Chicago Ave |  35 | Streeter Dr &amp; Grand Ave        | Subscriber | Male   | 1994 |\n",
       "| 21742448 | 2019-01-01 00:15:33 | 2019-01-01 00:19:09 | 2437 | 216.0   |  98 | LaSalle St &amp; Washington St          |  49 | Dearborn St &amp; Monroe St        | Subscriber | Female | 1983 |\n",
       "| 21742449 | 2019-01-01 00:16:06 | 2019-01-01 00:19:03 | 2708 | 177.0   |  98 | LaSalle St &amp; Washington St          |  49 | Dearborn St &amp; Monroe St        | Subscriber | Male   | 1984 |\n",
       "| 21742450 | 2019-01-01 00:18:41 | 2019-01-01 00:20:21 | 2796 | 100.0   | 211 | St. Clair St &amp; Erie St              | 142 | McClurg Ct &amp; Erie St           | Subscriber | Male   | 1990 |\n",
       "| 21742451 | 2019-01-01 00:18:43 | 2019-01-01 00:47:30 | 6205 | 1,727.0 | 150 | Fort Dearborn Dr &amp; 31st St          | 148 | State St &amp; 33rd St             | Subscriber | Male   | 1995 |\n",
       "| 21742452 | 2019-01-01 00:19:18 | 2019-01-01 00:24:54 | 3939 | 336.0   | 268 | Lake Shore Dr &amp; North Blvd          | 141 | Clark St &amp; Lincoln Ave         | Subscriber | Male   | 1996 |\n",
       "| 21742453 | 2019-01-01 00:20:34 | 2019-01-01 00:35:20 | 6243 | 886.0   | 299 | Halsted St &amp; Roscoe St              | 295 | Broadway &amp; Argyle St           | Subscriber | Male   | 1994 |\n",
       "| 21742454 | 2019-01-01 00:21:52 | 2019-01-01 00:32:45 | 6300 | 653.0   | 204 | Prairie Ave &amp; Garfield Blvd         | 420 | Ellis Ave &amp; 55th St            | Subscriber | Female | 1994 |\n",
       "| 21742455 | 2019-01-01 00:23:04 | 2019-01-01 00:33:05 | 3029 | 601.0   |  90 | Millennium Park                     | 255 | Indiana Ave &amp; Roosevelt Rd     | Subscriber | Male   | 1986 |\n",
       "| 21742456 | 2019-01-01 00:23:43 | 2019-01-01 00:33:05 |   84 | 562.0   |  90 | Millennium Park                     | 255 | Indiana Ave &amp; Roosevelt Rd     | Customer   | Female | 1990 |\n",
       "| 21742457 | 2019-01-01 00:23:54 | 2019-01-01 00:39:00 | 5019 | 906.0   | 289 | Wells St &amp; Concord Ln               | 324 | Stockton Dr &amp; Wrightwood Ave   | Subscriber | Female | 1989 |\n",
       "| 21742458 | 2019-01-01 00:24:08 | 2019-01-01 00:39:00 | 5526 | 892.0   | 289 | Wells St &amp; Concord Ln               | 324 | Stockton Dr &amp; Wrightwood Ave   | Subscriber | Female | 1989 |\n",
       "| 21742459 | 2019-01-01 00:24:13 | 2019-01-01 00:31:00 | 3373 | 407.0   | 152 | Lincoln Ave &amp; Diversey Pkwy         | 166 | Ashland Ave &amp; Wrightwood Ave   | Subscriber | Male   | 1967 |\n",
       "| 21742460 | 2019-01-01 00:24:27 | 2019-01-01 00:47:03 | 5777 | 1,356.0 | 268 | Lake Shore Dr &amp; North Blvd          | 319 | Greenview Ave &amp; Diversey Pkwy  | Customer   | Female | 1990 |\n",
       "| 21742461 | 2019-01-01 00:25:28 | 2019-01-01 00:27:10 | 3940 | 102.0   |  35 | Streeter Dr &amp; Grand Ave             |  35 | Streeter Dr &amp; Grand Ave        | Subscriber | Male   | 1985 |\n",
       "| 21742463 | 2019-01-01 00:29:19 | 2019-01-01 01:08:12 | 3914 | 2,333.0 |  35 | Streeter Dr &amp; Grand Ave             |  39 | Wabash Ave &amp; Adams St          | Customer   | <!----> |   NA |\n",
       "| 21742464 | 2019-01-01 00:29:21 | 2019-01-01 00:45:21 |  140 | 960.0   |  47 | State St &amp; Kinzie St                | 111 | Sedgwick St &amp; Huron St         | Subscriber | Male   | 1957 |\n",
       "| 21742465 | 2019-01-01 00:29:28 | 2019-01-01 01:07:49 | 3355 | 2,301.0 |  35 | Streeter Dr &amp; Grand Ave             |  39 | Wabash Ave &amp; Adams St          | Customer   | <!----> |   NA |\n",
       "| 21742466 | 2019-01-01 00:29:47 | 2019-01-01 00:49:15 | 5026 | 1,168.0 |  85 | Michigan Ave &amp; Oak St               | 329 | Lake Shore Dr &amp; Diversey Pkwy  | Subscriber | Male   | 1959 |\n",
       "| 21742467 | 2019-01-01 00:30:48 | 2019-01-01 00:38:42 | 1998 | 474.0   | 289 | Wells St &amp; Concord Ln               | 313 | Lakeview Ave &amp; Fullerton Pkwy  | Subscriber | Male   | 1994 |\n",
       "| 21742468 | 2019-01-01 00:33:09 | 2019-01-01 00:50:25 | 2630 | 1,036.0 |  13 | Wilton Ave &amp; Diversey Pkwy          |  61 | Wood St &amp; Milwaukee Ave        | Subscriber | Male   | 1991 |\n",
       "| 21742469 | 2019-01-01 00:34:35 | 2019-01-01 00:38:25 | 3722 | 230.0   | 520 | Greenview Ave &amp; Jarvis Ave          | 523 | Eastlake Ter &amp; Rogers Ave      | Subscriber | Male   | 1961 |\n",
       "| 21742471 | 2019-01-01 00:38:11 | 2019-01-01 00:50:38 | 1166 | 747.0   | 256 | Broadway &amp; Sheridan Rd              | 297 | Paulina St &amp; Montrose Ave      | Subscriber | Male   | 1968 |\n",
       "| 21742472 | 2019-01-01 00:38:47 | 2019-01-01 00:50:38 | 1704 | 711.0   | 256 | Broadway &amp; Sheridan Rd              | 297 | Paulina St &amp; Montrose Ave      | Subscriber | Male   | 1964 |\n",
       "| 21742473 | 2019-01-01 00:40:16 | 2019-01-01 00:49:29 | 1476 | 553.0   | 254 | Pine Grove Ave &amp; Irving Park Rd     | 465 | Marine Dr &amp; Ainslie St         | Subscriber | Male   | 1990 |\n",
       "| 21742474 | 2019-01-01 00:41:46 | 2019-01-01 00:50:27 | 4614 | 521.0   |  66 | Clinton St &amp; Lake St                |  52 | Michigan Ave &amp; Lake St         | Subscriber | Male   | 1994 |\n",
       "| ⋮ | ⋮ | ⋮ | ⋮ | ⋮ | ⋮ | ⋮ | ⋮ | ⋮ | ⋮ | ⋮ | ⋮ |\n",
       "| 22178488 | 2019-03-31 22:51:02 | 2019-03-31 22:54:00 | 4602 | 178.0 | 460 | Clark St &amp; Bryn Mawr Ave            | 461 | Broadway &amp; Ridge Ave                 | Subscriber | Male   | 1986 |\n",
       "| 22178489 | 2019-03-31 22:54:00 | 2019-03-31 23:02:49 | 4151 | 529.0 |  47 | State St &amp; Kinzie St                |  26 | McClurg Ct &amp; Illinois St             | Subscriber | Male   | 1990 |\n",
       "| 22178490 | 2019-03-31 22:55:28 | 2019-03-31 23:02:10 | 3833 | 402.0 | 108 | Halsted St &amp; Polk St                |  19 | Loomis St &amp; Taylor St (*)            | Subscriber | Male   | 1992 |\n",
       "| 22178491 | 2019-03-31 22:58:00 | 2019-03-31 23:06:12 | 1374 | 492.0 | 108 | Halsted St &amp; Polk St                |  41 | Federal St &amp; Polk St                 | Subscriber | Male   | 1992 |\n",
       "| 22178492 | 2019-03-31 22:59:35 | 2019-03-31 23:01:38 | 3723 | 123.0 |  66 | Clinton St &amp; Lake St                |  77 | Clinton St &amp; Madison St              | Subscriber | Female | 1985 |\n",
       "| 22178493 | 2019-03-31 23:00:17 | 2019-03-31 23:10:52 | 2331 | 635.0 |  51 | Clark St &amp; Randolph St              | 364 | Larrabee St &amp; Oak St                 | Subscriber | Male   | 1972 |\n",
       "| 22178494 | 2019-03-31 23:00:28 | 2019-03-31 23:09:20 | 1312 | 532.0 |  98 | LaSalle St &amp; Washington St          |  22 | May St &amp; Taylor St                   | Customer   | Male   | 1993 |\n",
       "| 22178495 | 2019-03-31 23:00:43 | 2019-03-31 23:13:04 | 6205 | 741.0 | 301 | Clark St &amp; Schiller St              | 115 | Sheffield Ave &amp; Wellington Ave       | Subscriber | Male   | 1988 |\n",
       "| 22178502 | 2019-03-31 23:03:01 | 2019-03-31 23:15:20 | 3360 | 739.0 | 295 | Broadway &amp; Argyle St                | 451 | Sheridan Rd &amp; Loyola Ave             | Subscriber | Male   | 1992 |\n",
       "| 22178503 | 2019-03-31 23:09:40 | 2019-03-31 23:19:30 | 6416 | 590.0 | 114 | Sheffield Ave &amp; Waveland Ave        | 330 | Lincoln Ave &amp; Addison St             | Subscriber | Female | 1985 |\n",
       "| 22178504 | 2019-03-31 23:10:19 | 2019-03-31 23:21:33 | 3767 | 674.0 |  50 | Clark St &amp; Ida B Wells Dr           |  50 | Clark St &amp; Ida B Wells Dr            | Subscriber | Male   | 1957 |\n",
       "| 22178505 | 2019-03-31 23:11:15 | 2019-03-31 23:20:27 | 1646 | 552.0 | 111 | Sedgwick St &amp; Huron St              | 301 | Clark St &amp; Schiller St               | Subscriber | Male   | 1994 |\n",
       "| 22178506 | 2019-03-31 23:15:53 | 2019-03-31 23:20:27 |  632 | 274.0 |  16 | Paulina Ave &amp; North Ave             | 158 | Milwaukee Ave &amp; Wabansia Ave         | Subscriber | Male   | 1991 |\n",
       "| 22178507 | 2019-03-31 23:16:57 | 2019-03-31 23:22:42 | 1537 | 345.0 | 173 | Mies van der Rohe Way &amp; Chicago Ave | 172 | Rush St &amp; Cedar St                   | Subscriber | Male   | 1980 |\n",
       "| 22178508 | 2019-03-31 23:18:42 | 2019-03-31 23:30:40 | 1952 | 718.0 | 301 | Clark St &amp; Schiller St              | 210 | Ashland Ave &amp; Division St            | Subscriber | Male   | 1988 |\n",
       "| 22178509 | 2019-03-31 23:20:36 | 2019-03-31 23:28:12 | 5331 | 456.0 | 115 | Sheffield Ave &amp; Wellington Ave      | 313 | Lakeview Ave &amp; Fullerton Pkwy        | Subscriber | Male   | 1987 |\n",
       "| 22178510 | 2019-03-31 23:21:07 | 2019-03-31 23:25:12 |   67 | 245.0 | 325 | Clark St &amp; Winnemac Ave             | 464 | Damen Ave &amp; Foster Ave               | Subscriber | Male   | 1983 |\n",
       "| 22178515 | 2019-03-31 23:26:00 | 2019-03-31 23:37:24 | 2965 | 684.0 | 403 | Wentworth Ave &amp; 33rd St             | 263 | Rhodes Ave &amp; 32nd St                 | Subscriber | Male   | 1984 |\n",
       "| 22178516 | 2019-03-31 23:31:30 | 2019-03-31 23:35:29 | 5747 | 239.0 | 309 | Leavitt St &amp; Armitage Ave           | 219 | Damen Ave &amp; Cortland St              | Subscriber | Male   | 1970 |\n",
       "| 22178517 | 2019-03-31 23:32:54 | 2019-03-31 23:37:50 | 2846 | 296.0 | 181 | LaSalle St &amp; Illinois St            |  24 | Fairbanks Ct &amp; Grand Ave             | Customer   | <!----> |   NA |\n",
       "| 22178518 | 2019-03-31 23:33:02 | 2019-03-31 23:43:15 | 2772 | 613.0 | 210 | Ashland Ave &amp; Division St           | 210 | Ashland Ave &amp; Division St            | Subscriber | Male   | 1972 |\n",
       "| 22178519 | 2019-03-31 23:33:14 | 2019-03-31 23:37:40 | 4304 | 266.0 | 181 | LaSalle St &amp; Illinois St            |  24 | Fairbanks Ct &amp; Grand Ave             | Customer   | <!----> |   NA |\n",
       "| 22178520 | 2019-03-31 23:34:08 | 2019-03-31 23:38:07 |  667 | 239.0 | 199 | Wabash Ave &amp; Grand Ave              |  26 | McClurg Ct &amp; Illinois St             | Subscriber | Female | 1984 |\n",
       "| 22178521 | 2019-03-31 23:39:48 | 2019-03-31 23:41:41 | 4814 | 113.0 | 198 | Green St &amp; Madison St               | 233 | Sangamon St &amp; Washington Blvd (*)    | Subscriber | Male   | 1971 |\n",
       "| 22178522 | 2019-03-31 23:47:05 | 2019-03-31 23:51:35 | 3873 | 270.0 |  69 | Damen Ave &amp; Pierce Ave              | 183 | Damen Ave &amp; Thomas St (Augusta Blvd) | Subscriber | Male   | 1985 |\n",
       "| 22178524 | 2019-03-31 23:51:32 | 2019-04-01 00:04:09 | 1501 | 757.0 |  38 | Clark St &amp; Lake St                  |  29 | Noble St &amp; Milwaukee Ave             | Subscriber | Male   | 1993 |\n",
       "| 22178525 | 2019-03-31 23:52:37 | 2019-03-31 23:58:09 | 3270 | 332.0 | 129 | Blue Island Ave &amp; 18th St           | 202 | Halsted St &amp; 18th St                 | Subscriber | Male   | 1992 |\n",
       "| 22178526 | 2019-03-31 23:52:38 | 2019-04-01 00:06:44 | 3584 | 846.0 | 283 | LaSalle St &amp; Jackson Blvd           | 273 | Michigan Ave &amp; 18th St               | Subscriber | Male   | 1984 |\n",
       "| 22178527 | 2019-03-31 23:53:08 | 2019-03-31 23:56:06 | 4384 | 178.0 | 321 | Wabash Ave &amp; 9th St                 |  39 | Wabash Ave &amp; Adams St                | Subscriber | Male   | 1969 |\n",
       "| 22178528 | 2019-03-31 23:53:48 | 2019-04-01 00:01:16 | 5589 | 448.0 | 248 | Woodlawn Ave &amp; 55th St              | 247 | Shore Dr &amp; 55th St                   | Subscriber | Male   | 1998 |\n",
       "\n"
      ],
      "text/plain": [
       "       trip_id  start_time          end_time            bikeid tripduration\n",
       "1      21742443 2019-01-01 00:04:37 2019-01-01 00:11:07 2167   390.0       \n",
       "2      21742444 2019-01-01 00:08:13 2019-01-01 00:15:34 4386   441.0       \n",
       "3      21742445 2019-01-01 00:13:23 2019-01-01 00:27:12 1524   829.0       \n",
       "4      21742446 2019-01-01 00:13:45 2019-01-01 00:43:28  252   1,783.0     \n",
       "5      21742447 2019-01-01 00:14:52 2019-01-01 00:20:56 1170   364.0       \n",
       "6      21742448 2019-01-01 00:15:33 2019-01-01 00:19:09 2437   216.0       \n",
       "7      21742449 2019-01-01 00:16:06 2019-01-01 00:19:03 2708   177.0       \n",
       "8      21742450 2019-01-01 00:18:41 2019-01-01 00:20:21 2796   100.0       \n",
       "9      21742451 2019-01-01 00:18:43 2019-01-01 00:47:30 6205   1,727.0     \n",
       "10     21742452 2019-01-01 00:19:18 2019-01-01 00:24:54 3939   336.0       \n",
       "11     21742453 2019-01-01 00:20:34 2019-01-01 00:35:20 6243   886.0       \n",
       "12     21742454 2019-01-01 00:21:52 2019-01-01 00:32:45 6300   653.0       \n",
       "13     21742455 2019-01-01 00:23:04 2019-01-01 00:33:05 3029   601.0       \n",
       "14     21742456 2019-01-01 00:23:43 2019-01-01 00:33:05   84   562.0       \n",
       "15     21742457 2019-01-01 00:23:54 2019-01-01 00:39:00 5019   906.0       \n",
       "16     21742458 2019-01-01 00:24:08 2019-01-01 00:39:00 5526   892.0       \n",
       "17     21742459 2019-01-01 00:24:13 2019-01-01 00:31:00 3373   407.0       \n",
       "18     21742460 2019-01-01 00:24:27 2019-01-01 00:47:03 5777   1,356.0     \n",
       "19     21742461 2019-01-01 00:25:28 2019-01-01 00:27:10 3940   102.0       \n",
       "20     21742463 2019-01-01 00:29:19 2019-01-01 01:08:12 3914   2,333.0     \n",
       "21     21742464 2019-01-01 00:29:21 2019-01-01 00:45:21  140   960.0       \n",
       "22     21742465 2019-01-01 00:29:28 2019-01-01 01:07:49 3355   2,301.0     \n",
       "23     21742466 2019-01-01 00:29:47 2019-01-01 00:49:15 5026   1,168.0     \n",
       "24     21742467 2019-01-01 00:30:48 2019-01-01 00:38:42 1998   474.0       \n",
       "25     21742468 2019-01-01 00:33:09 2019-01-01 00:50:25 2630   1,036.0     \n",
       "26     21742469 2019-01-01 00:34:35 2019-01-01 00:38:25 3722   230.0       \n",
       "27     21742471 2019-01-01 00:38:11 2019-01-01 00:50:38 1166   747.0       \n",
       "28     21742472 2019-01-01 00:38:47 2019-01-01 00:50:38 1704   711.0       \n",
       "29     21742473 2019-01-01 00:40:16 2019-01-01 00:49:29 1476   553.0       \n",
       "30     21742474 2019-01-01 00:41:46 2019-01-01 00:50:27 4614   521.0       \n",
       "⋮      ⋮        ⋮                   ⋮                   ⋮      ⋮           \n",
       "365040 22178488 2019-03-31 22:51:02 2019-03-31 22:54:00 4602   178.0       \n",
       "365041 22178489 2019-03-31 22:54:00 2019-03-31 23:02:49 4151   529.0       \n",
       "365042 22178490 2019-03-31 22:55:28 2019-03-31 23:02:10 3833   402.0       \n",
       "365043 22178491 2019-03-31 22:58:00 2019-03-31 23:06:12 1374   492.0       \n",
       "365044 22178492 2019-03-31 22:59:35 2019-03-31 23:01:38 3723   123.0       \n",
       "365045 22178493 2019-03-31 23:00:17 2019-03-31 23:10:52 2331   635.0       \n",
       "365046 22178494 2019-03-31 23:00:28 2019-03-31 23:09:20 1312   532.0       \n",
       "365047 22178495 2019-03-31 23:00:43 2019-03-31 23:13:04 6205   741.0       \n",
       "365048 22178502 2019-03-31 23:03:01 2019-03-31 23:15:20 3360   739.0       \n",
       "365049 22178503 2019-03-31 23:09:40 2019-03-31 23:19:30 6416   590.0       \n",
       "365050 22178504 2019-03-31 23:10:19 2019-03-31 23:21:33 3767   674.0       \n",
       "365051 22178505 2019-03-31 23:11:15 2019-03-31 23:20:27 1646   552.0       \n",
       "365052 22178506 2019-03-31 23:15:53 2019-03-31 23:20:27  632   274.0       \n",
       "365053 22178507 2019-03-31 23:16:57 2019-03-31 23:22:42 1537   345.0       \n",
       "365054 22178508 2019-03-31 23:18:42 2019-03-31 23:30:40 1952   718.0       \n",
       "365055 22178509 2019-03-31 23:20:36 2019-03-31 23:28:12 5331   456.0       \n",
       "365056 22178510 2019-03-31 23:21:07 2019-03-31 23:25:12   67   245.0       \n",
       "365057 22178515 2019-03-31 23:26:00 2019-03-31 23:37:24 2965   684.0       \n",
       "365058 22178516 2019-03-31 23:31:30 2019-03-31 23:35:29 5747   239.0       \n",
       "365059 22178517 2019-03-31 23:32:54 2019-03-31 23:37:50 2846   296.0       \n",
       "365060 22178518 2019-03-31 23:33:02 2019-03-31 23:43:15 2772   613.0       \n",
       "365061 22178519 2019-03-31 23:33:14 2019-03-31 23:37:40 4304   266.0       \n",
       "365062 22178520 2019-03-31 23:34:08 2019-03-31 23:38:07  667   239.0       \n",
       "365063 22178521 2019-03-31 23:39:48 2019-03-31 23:41:41 4814   113.0       \n",
       "365064 22178522 2019-03-31 23:47:05 2019-03-31 23:51:35 3873   270.0       \n",
       "365065 22178524 2019-03-31 23:51:32 2019-04-01 00:04:09 1501   757.0       \n",
       "365066 22178525 2019-03-31 23:52:37 2019-03-31 23:58:09 3270   332.0       \n",
       "365067 22178526 2019-03-31 23:52:38 2019-04-01 00:06:44 3584   846.0       \n",
       "365068 22178527 2019-03-31 23:53:08 2019-03-31 23:56:06 4384   178.0       \n",
       "365069 22178528 2019-03-31 23:53:48 2019-04-01 00:01:16 5589   448.0       \n",
       "       from_station_id from_station_name                   to_station_id\n",
       "1      199             Wabash Ave & Grand Ave               84          \n",
       "2       44             State St & Randolph St              624          \n",
       "3       15             Racine Ave & 18th St                644          \n",
       "4      123             California Ave & Milwaukee Ave      176          \n",
       "5      173             Mies van der Rohe Way & Chicago Ave  35          \n",
       "6       98             LaSalle St & Washington St           49          \n",
       "7       98             LaSalle St & Washington St           49          \n",
       "8      211             St. Clair St & Erie St              142          \n",
       "9      150             Fort Dearborn Dr & 31st St          148          \n",
       "10     268             Lake Shore Dr & North Blvd          141          \n",
       "11     299             Halsted St & Roscoe St              295          \n",
       "12     204             Prairie Ave & Garfield Blvd         420          \n",
       "13      90             Millennium Park                     255          \n",
       "14      90             Millennium Park                     255          \n",
       "15     289             Wells St & Concord Ln               324          \n",
       "16     289             Wells St & Concord Ln               324          \n",
       "17     152             Lincoln Ave & Diversey Pkwy         166          \n",
       "18     268             Lake Shore Dr & North Blvd          319          \n",
       "19      35             Streeter Dr & Grand Ave              35          \n",
       "20      35             Streeter Dr & Grand Ave              39          \n",
       "21      47             State St & Kinzie St                111          \n",
       "22      35             Streeter Dr & Grand Ave              39          \n",
       "23      85             Michigan Ave & Oak St               329          \n",
       "24     289             Wells St & Concord Ln               313          \n",
       "25      13             Wilton Ave & Diversey Pkwy           61          \n",
       "26     520             Greenview Ave & Jarvis Ave          523          \n",
       "27     256             Broadway & Sheridan Rd              297          \n",
       "28     256             Broadway & Sheridan Rd              297          \n",
       "29     254             Pine Grove Ave & Irving Park Rd     465          \n",
       "30      66             Clinton St & Lake St                 52          \n",
       "⋮      ⋮               ⋮                                   ⋮            \n",
       "365040 460             Clark St & Bryn Mawr Ave            461          \n",
       "365041  47             State St & Kinzie St                 26          \n",
       "365042 108             Halsted St & Polk St                 19          \n",
       "365043 108             Halsted St & Polk St                 41          \n",
       "365044  66             Clinton St & Lake St                 77          \n",
       "365045  51             Clark St & Randolph St              364          \n",
       "365046  98             LaSalle St & Washington St           22          \n",
       "365047 301             Clark St & Schiller St              115          \n",
       "365048 295             Broadway & Argyle St                451          \n",
       "365049 114             Sheffield Ave & Waveland Ave        330          \n",
       "365050  50             Clark St & Ida B Wells Dr            50          \n",
       "365051 111             Sedgwick St & Huron St              301          \n",
       "365052  16             Paulina Ave & North Ave             158          \n",
       "365053 173             Mies van der Rohe Way & Chicago Ave 172          \n",
       "365054 301             Clark St & Schiller St              210          \n",
       "365055 115             Sheffield Ave & Wellington Ave      313          \n",
       "365056 325             Clark St & Winnemac Ave             464          \n",
       "365057 403             Wentworth Ave & 33rd St             263          \n",
       "365058 309             Leavitt St & Armitage Ave           219          \n",
       "365059 181             LaSalle St & Illinois St             24          \n",
       "365060 210             Ashland Ave & Division St           210          \n",
       "365061 181             LaSalle St & Illinois St             24          \n",
       "365062 199             Wabash Ave & Grand Ave               26          \n",
       "365063 198             Green St & Madison St               233          \n",
       "365064  69             Damen Ave & Pierce Ave              183          \n",
       "365065  38             Clark St & Lake St                   29          \n",
       "365066 129             Blue Island Ave & 18th St           202          \n",
       "365067 283             LaSalle St & Jackson Blvd           273          \n",
       "365068 321             Wabash Ave & 9th St                  39          \n",
       "365069 248             Woodlawn Ave & 55th St              247          \n",
       "       to_station_name                      usertype   gender birthyear\n",
       "1      Milwaukee Ave & Grand Ave            Subscriber Male   1989     \n",
       "2      Dearborn St & Van Buren St (*)       Subscriber Female 1990     \n",
       "3      Western Ave & Fillmore St (*)        Subscriber Female 1994     \n",
       "4      Clark St & Elm St                    Subscriber Male   1993     \n",
       "5      Streeter Dr & Grand Ave              Subscriber Male   1994     \n",
       "6      Dearborn St & Monroe St              Subscriber Female 1983     \n",
       "7      Dearborn St & Monroe St              Subscriber Male   1984     \n",
       "8      McClurg Ct & Erie St                 Subscriber Male   1990     \n",
       "9      State St & 33rd St                   Subscriber Male   1995     \n",
       "10     Clark St & Lincoln Ave               Subscriber Male   1996     \n",
       "11     Broadway & Argyle St                 Subscriber Male   1994     \n",
       "12     Ellis Ave & 55th St                  Subscriber Female 1994     \n",
       "13     Indiana Ave & Roosevelt Rd           Subscriber Male   1986     \n",
       "14     Indiana Ave & Roosevelt Rd           Customer   Female 1990     \n",
       "15     Stockton Dr & Wrightwood Ave         Subscriber Female 1989     \n",
       "16     Stockton Dr & Wrightwood Ave         Subscriber Female 1989     \n",
       "17     Ashland Ave & Wrightwood Ave         Subscriber Male   1967     \n",
       "18     Greenview Ave & Diversey Pkwy        Customer   Female 1990     \n",
       "19     Streeter Dr & Grand Ave              Subscriber Male   1985     \n",
       "20     Wabash Ave & Adams St                Customer            NA     \n",
       "21     Sedgwick St & Huron St               Subscriber Male   1957     \n",
       "22     Wabash Ave & Adams St                Customer            NA     \n",
       "23     Lake Shore Dr & Diversey Pkwy        Subscriber Male   1959     \n",
       "24     Lakeview Ave & Fullerton Pkwy        Subscriber Male   1994     \n",
       "25     Wood St & Milwaukee Ave              Subscriber Male   1991     \n",
       "26     Eastlake Ter & Rogers Ave            Subscriber Male   1961     \n",
       "27     Paulina St & Montrose Ave            Subscriber Male   1968     \n",
       "28     Paulina St & Montrose Ave            Subscriber Male   1964     \n",
       "29     Marine Dr & Ainslie St               Subscriber Male   1990     \n",
       "30     Michigan Ave & Lake St               Subscriber Male   1994     \n",
       "⋮      ⋮                                    ⋮          ⋮      ⋮        \n",
       "365040 Broadway & Ridge Ave                 Subscriber Male   1986     \n",
       "365041 McClurg Ct & Illinois St             Subscriber Male   1990     \n",
       "365042 Loomis St & Taylor St (*)            Subscriber Male   1992     \n",
       "365043 Federal St & Polk St                 Subscriber Male   1992     \n",
       "365044 Clinton St & Madison St              Subscriber Female 1985     \n",
       "365045 Larrabee St & Oak St                 Subscriber Male   1972     \n",
       "365046 May St & Taylor St                   Customer   Male   1993     \n",
       "365047 Sheffield Ave & Wellington Ave       Subscriber Male   1988     \n",
       "365048 Sheridan Rd & Loyola Ave             Subscriber Male   1992     \n",
       "365049 Lincoln Ave & Addison St             Subscriber Female 1985     \n",
       "365050 Clark St & Ida B Wells Dr            Subscriber Male   1957     \n",
       "365051 Clark St & Schiller St               Subscriber Male   1994     \n",
       "365052 Milwaukee Ave & Wabansia Ave         Subscriber Male   1991     \n",
       "365053 Rush St & Cedar St                   Subscriber Male   1980     \n",
       "365054 Ashland Ave & Division St            Subscriber Male   1988     \n",
       "365055 Lakeview Ave & Fullerton Pkwy        Subscriber Male   1987     \n",
       "365056 Damen Ave & Foster Ave               Subscriber Male   1983     \n",
       "365057 Rhodes Ave & 32nd St                 Subscriber Male   1984     \n",
       "365058 Damen Ave & Cortland St              Subscriber Male   1970     \n",
       "365059 Fairbanks Ct & Grand Ave             Customer            NA     \n",
       "365060 Ashland Ave & Division St            Subscriber Male   1972     \n",
       "365061 Fairbanks Ct & Grand Ave             Customer            NA     \n",
       "365062 McClurg Ct & Illinois St             Subscriber Female 1984     \n",
       "365063 Sangamon St & Washington Blvd (*)    Subscriber Male   1971     \n",
       "365064 Damen Ave & Thomas St (Augusta Blvd) Subscriber Male   1985     \n",
       "365065 Noble St & Milwaukee Ave             Subscriber Male   1993     \n",
       "365066 Halsted St & 18th St                 Subscriber Male   1992     \n",
       "365067 Michigan Ave & 18th St               Subscriber Male   1984     \n",
       "365068 Wabash Ave & Adams St                Subscriber Male   1969     \n",
       "365069 Shore Dr & 55th St                   Subscriber Male   1998     "
      ]
     },
     "metadata": {},
     "output_type": "display_data"
    },
    {
     "data": {
      "text/html": [
       "<table class=\"dataframe\">\n",
       "<caption>A data.frame: 426887 × 13</caption>\n",
       "<thead>\n",
       "\t<tr><th scope=col>ride_id</th><th scope=col>rideable_type</th><th scope=col>started_at</th><th scope=col>ended_at</th><th scope=col>start_station_name</th><th scope=col>start_station_id</th><th scope=col>end_station_name</th><th scope=col>end_station_id</th><th scope=col>start_lat</th><th scope=col>start_lng</th><th scope=col>end_lat</th><th scope=col>end_lng</th><th scope=col>member_casual</th></tr>\n",
       "\t<tr><th scope=col>&lt;chr&gt;</th><th scope=col>&lt;chr&gt;</th><th scope=col>&lt;chr&gt;</th><th scope=col>&lt;chr&gt;</th><th scope=col>&lt;chr&gt;</th><th scope=col>&lt;int&gt;</th><th scope=col>&lt;chr&gt;</th><th scope=col>&lt;int&gt;</th><th scope=col>&lt;dbl&gt;</th><th scope=col>&lt;dbl&gt;</th><th scope=col>&lt;dbl&gt;</th><th scope=col>&lt;dbl&gt;</th><th scope=col>&lt;chr&gt;</th></tr>\n",
       "</thead>\n",
       "<tbody>\n",
       "\t<tr><td>EACB19130B0CDA4A</td><td>docked_bike</td><td>2020-01-21 20:06:59</td><td>2020-01-21 20:14:30</td><td><span style=white-space:pre-wrap>Western Ave &amp; Leland Ave      </span></td><td>239</td><td><span style=white-space:pre-wrap>Clark St &amp; Leland Ave              </span></td><td>326</td><td>41.9665</td><td>-87.6884</td><td>41.9671</td><td>-87.6674</td><td>member</td></tr>\n",
       "\t<tr><td>8FED874C809DC021</td><td>docked_bike</td><td>2020-01-30 14:22:39</td><td>2020-01-30 14:26:22</td><td><span style=white-space:pre-wrap>Clark St &amp; Montrose Ave       </span></td><td>234</td><td><span style=white-space:pre-wrap>Southport Ave &amp; Irving Park Rd     </span></td><td>318</td><td>41.9616</td><td>-87.6660</td><td>41.9542</td><td>-87.6644</td><td>member</td></tr>\n",
       "\t<tr><td>789F3C21E472CA96</td><td>docked_bike</td><td>2020-01-09 19:29:26</td><td>2020-01-09 19:32:17</td><td><span style=white-space:pre-wrap>Broadway &amp; Belmont Ave        </span></td><td>296</td><td><span style=white-space:pre-wrap>Wilton Ave &amp; Belmont Ave           </span></td><td>117</td><td>41.9401</td><td>-87.6455</td><td>41.9402</td><td>-87.6530</td><td>member</td></tr>\n",
       "\t<tr><td>C9A388DAC6ABF313</td><td>docked_bike</td><td>2020-01-06 16:17:07</td><td>2020-01-06 16:25:56</td><td><span style=white-space:pre-wrap>Clark St &amp; Randolph St        </span></td><td> 51</td><td><span style=white-space:pre-wrap>Fairbanks Ct &amp; Grand Ave           </span></td><td> 24</td><td>41.8846</td><td>-87.6319</td><td>41.8918</td><td>-87.6206</td><td>member</td></tr>\n",
       "\t<tr><td>943BC3CBECCFD662</td><td>docked_bike</td><td>2020-01-30 08:37:16</td><td>2020-01-30 08:42:48</td><td><span style=white-space:pre-wrap>Clinton St &amp; Lake St          </span></td><td> 66</td><td><span style=white-space:pre-wrap>Wells St &amp; Hubbard St              </span></td><td>212</td><td>41.8856</td><td>-87.6418</td><td>41.8899</td><td>-87.6343</td><td>member</td></tr>\n",
       "\t<tr><td>6D9C8A6938165C11</td><td>docked_bike</td><td>2020-01-10 12:33:05</td><td>2020-01-10 12:37:54</td><td><span style=white-space:pre-wrap>Wells St &amp; Hubbard St         </span></td><td>212</td><td><span style=white-space:pre-wrap>Desplaines St &amp; Randolph St        </span></td><td> 96</td><td>41.8899</td><td>-87.6343</td><td>41.8846</td><td>-87.6446</td><td>member</td></tr>\n",
       "\t<tr><td>31EB9B8F406D4C82</td><td>docked_bike</td><td>2020-01-10 13:07:35</td><td>2020-01-10 13:12:24</td><td><span style=white-space:pre-wrap>Desplaines St &amp; Randolph St   </span></td><td> 96</td><td><span style=white-space:pre-wrap>Wells St &amp; Hubbard St              </span></td><td>212</td><td>41.8846</td><td>-87.6446</td><td>41.8899</td><td>-87.6343</td><td>member</td></tr>\n",
       "\t<tr><td>A2B24E3F9C9720E3</td><td>docked_bike</td><td>2020-01-10 07:24:53</td><td>2020-01-10 07:29:50</td><td><span style=white-space:pre-wrap>Desplaines St &amp; Randolph St   </span></td><td> 96</td><td><span style=white-space:pre-wrap>Wells St &amp; Hubbard St              </span></td><td>212</td><td>41.8846</td><td>-87.6446</td><td>41.8899</td><td>-87.6343</td><td>member</td></tr>\n",
       "\t<tr><td>5E3F01E1441730B7</td><td>docked_bike</td><td>2020-01-31 16:37:16</td><td>2020-01-31 16:42:11</td><td><span style=white-space:pre-wrap>Wells St &amp; Hubbard St         </span></td><td>212</td><td><span style=white-space:pre-wrap>Desplaines St &amp; Randolph St        </span></td><td> 96</td><td>41.8899</td><td>-87.6343</td><td>41.8846</td><td>-87.6446</td><td>member</td></tr>\n",
       "\t<tr><td>19DC57F7E3140131</td><td>docked_bike</td><td>2020-01-31 09:39:17</td><td>2020-01-31 09:42:40</td><td><span style=white-space:pre-wrap>Clark St &amp; Lake St            </span></td><td> 38</td><td>Orleans St &amp; Merchandise Mart Plaza</td><td>100</td><td>41.8860</td><td>-87.6309</td><td>41.8882</td><td>-87.6364</td><td>member</td></tr>\n",
       "\t<tr><td>8639202DD9FD9A41</td><td>docked_bike</td><td>2020-01-07 22:46:52</td><td>2020-01-07 22:50:08</td><td><span style=white-space:pre-wrap>Wilton Ave &amp; Belmont Ave      </span></td><td>117</td><td><span style=white-space:pre-wrap>Clark St &amp; Newport St              </span></td><td>632</td><td>41.9402</td><td>-87.6530</td><td>41.9445</td><td>-87.6547</td><td>member</td></tr>\n",
       "\t<tr><td>9E74E3BB4FFAB93A</td><td>docked_bike</td><td>2020-01-08 16:02:44</td><td>2020-01-08 16:09:04</td><td><span style=white-space:pre-wrap>LaSalle St &amp; Illinois St      </span></td><td>181</td><td><span style=white-space:pre-wrap>Clinton St &amp; Washington Blvd       </span></td><td> 91</td><td>41.8908</td><td>-87.6317</td><td>41.8834</td><td>-87.6412</td><td>member</td></tr>\n",
       "\t<tr><td>3B8B2E2F29B63597</td><td>docked_bike</td><td>2020-01-08 09:33:13</td><td>2020-01-08 09:42:02</td><td><span style=white-space:pre-wrap>Clinton St &amp; Washington Blvd  </span></td><td> 91</td><td><span style=white-space:pre-wrap>LaSalle St &amp; Illinois St           </span></td><td>181</td><td>41.8834</td><td>-87.6412</td><td>41.8908</td><td>-87.6317</td><td>member</td></tr>\n",
       "\t<tr><td>0F8517F8D21287D2</td><td>docked_bike</td><td>2020-01-23 09:38:11</td><td>2020-01-23 09:45:56</td><td><span style=white-space:pre-wrap>Clinton St &amp; Washington Blvd  </span></td><td> 91</td><td><span style=white-space:pre-wrap>LaSalle St &amp; Illinois St           </span></td><td>181</td><td>41.8834</td><td>-87.6412</td><td>41.8908</td><td>-87.6317</td><td>member</td></tr>\n",
       "\t<tr><td>15A91638FAEC2641</td><td>docked_bike</td><td>2020-01-28 20:52:50</td><td>2020-01-28 21:09:30</td><td>California Ave &amp; Milwaukee Ave</td><td>123</td><td><span style=white-space:pre-wrap>Marshfield Ave &amp; Cortland St       </span></td><td> 58</td><td>41.9227</td><td>-87.6972</td><td>41.9160</td><td>-87.6689</td><td>member</td></tr>\n",
       "\t<tr><td>E45104F1ED756AF7</td><td>docked_bike</td><td>2020-01-07 17:06:14</td><td>2020-01-07 17:42:01</td><td><span style=white-space:pre-wrap>Franklin St &amp; Jackson Blvd    </span></td><td> 36</td><td><span style=white-space:pre-wrap>Lincoln Ave &amp; Diversey Pkwy        </span></td><td>152</td><td>41.8777</td><td>-87.6353</td><td>41.9322</td><td>-87.6586</td><td>member</td></tr>\n",
       "\t<tr><td>219541294624C4B7</td><td>docked_bike</td><td>2020-01-07 08:38:55</td><td>2020-01-07 09:11:40</td><td><span style=white-space:pre-wrap>Wilton Ave &amp; Diversey Pkwy    </span></td><td> 13</td><td><span style=white-space:pre-wrap>Franklin St &amp; Jackson Blvd         </span></td><td> 36</td><td>41.9324</td><td>-87.6527</td><td>41.8777</td><td>-87.6353</td><td>member</td></tr>\n",
       "\t<tr><td>013862D47804B9A4</td><td>docked_bike</td><td>2020-01-06 17:16:14</td><td>2020-01-06 17:48:21</td><td><span style=white-space:pre-wrap>Franklin St &amp; Jackson Blvd    </span></td><td> 36</td><td><span style=white-space:pre-wrap>Lincoln Ave &amp; Diversey Pkwy        </span></td><td>152</td><td>41.8777</td><td>-87.6353</td><td>41.9322</td><td>-87.6586</td><td>member</td></tr>\n",
       "\t<tr><td>00678BB4A8438651</td><td>docked_bike</td><td>2020-01-06 08:44:31</td><td>2020-01-06 09:21:28</td><td><span style=white-space:pre-wrap>Lincoln Ave &amp; Diversey Pkwy   </span></td><td>152</td><td><span style=white-space:pre-wrap>Franklin St &amp; Jackson Blvd         </span></td><td> 36</td><td>41.9322</td><td>-87.6586</td><td>41.8777</td><td>-87.6353</td><td>member</td></tr>\n",
       "\t<tr><td>A854F81611B5A5C0</td><td>docked_bike</td><td>2020-01-19 12:04:10</td><td>2020-01-19 12:10:18</td><td><span style=white-space:pre-wrap>Kingsbury St &amp; Kinzie St      </span></td><td>133</td><td><span style=white-space:pre-wrap>Clark St &amp; Chicago Ave             </span></td><td>337</td><td>41.8892</td><td>-87.6385</td><td>41.8968</td><td>-87.6309</td><td>member</td></tr>\n",
       "\t<tr><td>3479141FF24AD595</td><td>docked_bike</td><td>2020-01-16 17:10:39</td><td>2020-01-16 17:40:40</td><td><span style=white-space:pre-wrap>Lake Shore Dr &amp; Monroe St     </span></td><td> 76</td><td><span style=white-space:pre-wrap>Michigan Ave &amp; Washington St       </span></td><td> 43</td><td>41.8810</td><td>-87.6167</td><td>41.8840</td><td>-87.6247</td><td>casual</td></tr>\n",
       "\t<tr><td>81D44C3E2353F9BE</td><td>docked_bike</td><td>2020-01-08 15:47:42</td><td>2020-01-08 15:58:40</td><td><span style=white-space:pre-wrap>Canal St &amp; Adams St           </span></td><td>192</td><td><span style=white-space:pre-wrap>Michigan Ave &amp; Washington St       </span></td><td> 43</td><td>41.8793</td><td>-87.6399</td><td>41.8840</td><td>-87.6247</td><td>member</td></tr>\n",
       "\t<tr><td>1AA18F54DC4A8636</td><td>docked_bike</td><td>2020-01-08 06:29:01</td><td>2020-01-08 06:50:02</td><td><span style=white-space:pre-wrap>Indiana Ave &amp; Roosevelt Rd    </span></td><td>255</td><td><span style=white-space:pre-wrap>Canal St &amp; Adams St                </span></td><td>192</td><td>41.8679</td><td>-87.6230</td><td>41.8793</td><td>-87.6399</td><td>member</td></tr>\n",
       "\t<tr><td>F5FB29DCF841C9F3</td><td>docked_bike</td><td>2020-01-08 07:30:59</td><td>2020-01-08 07:33:54</td><td><span style=white-space:pre-wrap>Broadway &amp; Sheridan Rd        </span></td><td>256</td><td><span style=white-space:pre-wrap>Sheridan Rd &amp; Irving Park Rd       </span></td><td>240</td><td>41.9528</td><td>-87.6500</td><td>41.9542</td><td>-87.6544</td><td>member</td></tr>\n",
       "\t<tr><td>869F3755B34163BA</td><td>docked_bike</td><td>2020-01-23 15:23:54</td><td>2020-01-23 15:37:37</td><td><span style=white-space:pre-wrap>Desplaines St &amp; Jackson Blvd  </span></td><td>107</td><td><span style=white-space:pre-wrap>Michigan Ave &amp; Washington St       </span></td><td> 43</td><td>41.8783</td><td>-87.6439</td><td>41.8840</td><td>-87.6247</td><td>member</td></tr>\n",
       "\t<tr><td>00EDF290239E4843</td><td>docked_bike</td><td>2020-01-23 14:59:58</td><td>2020-01-23 15:02:49</td><td><span style=white-space:pre-wrap>Canal St &amp; Adams St           </span></td><td>192</td><td><span style=white-space:pre-wrap>Desplaines St &amp; Jackson Blvd       </span></td><td>107</td><td>41.8793</td><td>-87.6399</td><td>41.8783</td><td>-87.6439</td><td>member</td></tr>\n",
       "\t<tr><td>CA8E2F8EB7A7639C</td><td>docked_bike</td><td>2020-01-11 14:45:48</td><td>2020-01-11 14:58:46</td><td><span style=white-space:pre-wrap>Western Ave &amp; Division St     </span></td><td>305</td><td><span style=white-space:pre-wrap>Wood St &amp; Hubbard St               </span></td><td>285</td><td>41.9029</td><td>-87.6873</td><td>41.8899</td><td>-87.6715</td><td>member</td></tr>\n",
       "\t<tr><td>7996062626A55CEF</td><td>docked_bike</td><td>2020-01-17 13:44:55</td><td>2020-01-17 13:48:33</td><td><span style=white-space:pre-wrap>Franklin St &amp; Jackson Blvd    </span></td><td> 36</td><td><span style=white-space:pre-wrap>Wells St &amp; Polk St                 </span></td><td>175</td><td>41.8777</td><td>-87.6353</td><td>41.8726</td><td>-87.6335</td><td>member</td></tr>\n",
       "\t<tr><td>142E7C9831AE8D5D</td><td>docked_bike</td><td>2020-01-08 08:23:41</td><td>2020-01-08 08:36:31</td><td><span style=white-space:pre-wrap>Dearborn St &amp; Erie St         </span></td><td>110</td><td><span style=white-space:pre-wrap>Franklin St &amp; Adams St (Temp)      </span></td><td>286</td><td>41.8940</td><td>-87.6293</td><td>41.8794</td><td>-87.6355</td><td>member</td></tr>\n",
       "\t<tr><td>82061D73814586B2</td><td>docked_bike</td><td>2020-01-08 16:22:13</td><td>2020-01-08 16:30:43</td><td><span style=white-space:pre-wrap>Franklin St &amp; Jackson Blvd    </span></td><td> 36</td><td><span style=white-space:pre-wrap>Green St &amp; Madison St              </span></td><td>198</td><td>41.8777</td><td>-87.6353</td><td>41.8819</td><td>-87.6488</td><td>member</td></tr>\n",
       "\t<tr><td>⋮</td><td>⋮</td><td>⋮</td><td>⋮</td><td>⋮</td><td>⋮</td><td>⋮</td><td>⋮</td><td>⋮</td><td>⋮</td><td>⋮</td><td>⋮</td><td>⋮</td></tr>\n",
       "\t<tr><td>8A8A039BB7072249</td><td>docked_bike</td><td>2020-03-02 17:29:26</td><td>2020-03-02 17:50:51</td><td><span style=white-space:pre-wrap>Clark St &amp; Lincoln Ave         </span></td><td>141</td><td><span style=white-space:pre-wrap>Halsted St &amp; Wrightwood Ave    </span></td><td>349</td><td>41.9157</td><td>-87.6346</td><td>41.9291</td><td>-87.6491</td><td>casual</td></tr>\n",
       "\t<tr><td>6244F21F053BA361</td><td>docked_bike</td><td>2020-03-13 16:58:54</td><td>2020-03-13 17:31:11</td><td><span style=white-space:pre-wrap>Franklin St &amp; Jackson Blvd     </span></td><td> 36</td><td><span style=white-space:pre-wrap>Wabash Ave &amp; Wacker Pl         </span></td><td>194</td><td>41.8777</td><td>-87.6353</td><td>41.8869</td><td>-87.6260</td><td>casual</td></tr>\n",
       "\t<tr><td>058D62FDDBF3C606</td><td>docked_bike</td><td>2020-03-12 15:39:44</td><td>2020-03-12 15:43:06</td><td><span style=white-space:pre-wrap>Broadway &amp; Waveland Ave        </span></td><td>304</td><td>Pine Grove Ave &amp; Irving Park Rd</td><td>254</td><td>41.9491</td><td>-87.6486</td><td>41.9544</td><td>-87.6480</td><td>member</td></tr>\n",
       "\t<tr><td>A2FFBD0AA763B19D</td><td>docked_bike</td><td>2020-03-11 18:39:03</td><td>2020-03-11 18:55:05</td><td><span style=white-space:pre-wrap>Kingsbury St &amp; Kinzie St       </span></td><td>133</td><td><span style=white-space:pre-wrap>Clark St &amp; Armitage Ave        </span></td><td> 94</td><td>41.8892</td><td>-87.6385</td><td>41.9183</td><td>-87.6363</td><td>member</td></tr>\n",
       "\t<tr><td>21A760C7DC9FD318</td><td>docked_bike</td><td>2020-03-11 16:06:45</td><td>2020-03-11 16:17:42</td><td><span style=white-space:pre-wrap>Wood St &amp; Hubbard St           </span></td><td>285</td><td><span style=white-space:pre-wrap>Kingsbury St &amp; Kinzie St       </span></td><td>133</td><td>41.8899</td><td>-87.6715</td><td>41.8892</td><td>-87.6385</td><td>member</td></tr>\n",
       "\t<tr><td>36A20E87B11FF36D</td><td>docked_bike</td><td>2020-03-01 15:16:06</td><td>2020-03-01 16:36:04</td><td><span style=white-space:pre-wrap>Woodlawn Ave &amp; 55th St         </span></td><td>248</td><td><span style=white-space:pre-wrap>Woodlawn Ave &amp; 55th St         </span></td><td>248</td><td>41.7953</td><td>-87.5965</td><td>41.7953</td><td>-87.5965</td><td>casual</td></tr>\n",
       "\t<tr><td>FEB95D075E9435E4</td><td>docked_bike</td><td>2020-03-04 07:25:24</td><td>2020-03-04 07:28:25</td><td>Pine Grove Ave &amp; Irving Park Rd</td><td>254</td><td><span style=white-space:pre-wrap>Broadway &amp; Waveland Ave        </span></td><td>304</td><td>41.9544</td><td>-87.6480</td><td>41.9491</td><td>-87.6486</td><td>member</td></tr>\n",
       "\t<tr><td>FD4B140C786D9E1D</td><td>docked_bike</td><td>2020-03-04 17:54:24</td><td>2020-03-04 18:04:18</td><td><span style=white-space:pre-wrap>Kingsbury St &amp; Kinzie St       </span></td><td>133</td><td><span style=white-space:pre-wrap>Wood St &amp; Hubbard St           </span></td><td>285</td><td>41.8892</td><td>-87.6385</td><td>41.8899</td><td>-87.6715</td><td>member</td></tr>\n",
       "\t<tr><td>062828AF86F56FA8</td><td>docked_bike</td><td>2020-03-10 15:38:13</td><td>2020-03-10 15:48:55</td><td><span style=white-space:pre-wrap>Wood St &amp; Hubbard St           </span></td><td>285</td><td><span style=white-space:pre-wrap>Kingsbury St &amp; Kinzie St       </span></td><td>133</td><td>41.8899</td><td>-87.6715</td><td>41.8892</td><td>-87.6385</td><td>member</td></tr>\n",
       "\t<tr><td>FB323E655F08521D</td><td>docked_bike</td><td>2020-03-10 08:46:57</td><td>2020-03-10 08:54:10</td><td><span style=white-space:pre-wrap>McClurg Ct &amp; Illinois St       </span></td><td> 26</td><td><span style=white-space:pre-wrap>State St &amp; Kinzie St           </span></td><td> 47</td><td>41.8904</td><td>-87.6175</td><td>41.8892</td><td>-87.6278</td><td>member</td></tr>\n",
       "\t<tr><td>7CD5C610872581BB</td><td>docked_bike</td><td>2020-03-02 15:56:46</td><td>2020-03-02 16:04:48</td><td><span style=white-space:pre-wrap>State St &amp; Kinzie St           </span></td><td> 47</td><td><span style=white-space:pre-wrap>Clinton St &amp; Washington Blvd   </span></td><td> 91</td><td>41.8892</td><td>-87.6278</td><td>41.8834</td><td>-87.6412</td><td>member</td></tr>\n",
       "\t<tr><td>330C4C8905197AAD</td><td>docked_bike</td><td>2020-03-08 13:34:12</td><td>2020-03-08 13:55:43</td><td><span style=white-space:pre-wrap>Buckingham Fountain            </span></td><td><span style=white-space:pre-wrap>  2</span></td><td><span style=white-space:pre-wrap>Rush St &amp; Cedar St             </span></td><td>172</td><td>41.8765</td><td>-87.6205</td><td>41.9023</td><td>-87.6277</td><td>casual</td></tr>\n",
       "\t<tr><td>0B8742C644002BB1</td><td>docked_bike</td><td>2020-03-10 06:46:32</td><td>2020-03-10 06:54:34</td><td><span style=white-space:pre-wrap>Clinton St &amp; Washington Blvd   </span></td><td> 91</td><td><span style=white-space:pre-wrap>State St &amp; Kinzie St           </span></td><td> 47</td><td>41.8834</td><td>-87.6412</td><td>41.8892</td><td>-87.6278</td><td>member</td></tr>\n",
       "\t<tr><td>BA30D82E5928E7A7</td><td>docked_bike</td><td>2020-03-09 15:52:18</td><td>2020-03-09 15:59:47</td><td><span style=white-space:pre-wrap>State St &amp; Kinzie St           </span></td><td> 47</td><td><span style=white-space:pre-wrap>Clinton St &amp; Washington Blvd   </span></td><td> 91</td><td>41.8892</td><td>-87.6278</td><td>41.8834</td><td>-87.6412</td><td>member</td></tr>\n",
       "\t<tr><td>B46765A0DB572D4B</td><td>docked_bike</td><td>2020-03-12 15:57:23</td><td>2020-03-12 16:04:09</td><td><span style=white-space:pre-wrap>State St &amp; Kinzie St           </span></td><td> 47</td><td><span style=white-space:pre-wrap>Clinton St &amp; Washington Blvd   </span></td><td> 91</td><td>41.8892</td><td>-87.6278</td><td>41.8834</td><td>-87.6412</td><td>member</td></tr>\n",
       "\t<tr><td>1C755B56146D806B</td><td>docked_bike</td><td>2020-03-06 07:13:14</td><td>2020-03-06 07:21:03</td><td><span style=white-space:pre-wrap>Clinton St &amp; Washington Blvd   </span></td><td> 91</td><td><span style=white-space:pre-wrap>State St &amp; Kinzie St           </span></td><td> 47</td><td>41.8834</td><td>-87.6412</td><td>41.8892</td><td>-87.6278</td><td>member</td></tr>\n",
       "\t<tr><td>46230CF6653E2CDE</td><td>docked_bike</td><td>2020-03-25 17:59:02</td><td>2020-03-25 18:29:31</td><td>Lakefront Trail &amp; Bryn Mawr Ave</td><td>459</td><td><span style=white-space:pre-wrap>Lakeview Ave &amp; Fullerton Pkwy  </span></td><td>313</td><td>41.9840</td><td>-87.6523</td><td>41.9259</td><td>-87.6390</td><td>member</td></tr>\n",
       "\t<tr><td>62BD7FE2B823B34E</td><td>docked_bike</td><td>2020-03-11 15:56:59</td><td>2020-03-11 16:03:43</td><td><span style=white-space:pre-wrap>State St &amp; Kinzie St           </span></td><td> 47</td><td><span style=white-space:pre-wrap>Clinton St &amp; Washington Blvd   </span></td><td> 91</td><td>41.8892</td><td>-87.6278</td><td>41.8834</td><td>-87.6412</td><td>member</td></tr>\n",
       "\t<tr><td>0E1BBACD66CAF13D</td><td>docked_bike</td><td>2020-03-02 06:47:31</td><td>2020-03-02 06:55:04</td><td><span style=white-space:pre-wrap>Clinton St &amp; Washington Blvd   </span></td><td> 91</td><td><span style=white-space:pre-wrap>State St &amp; Kinzie St           </span></td><td> 47</td><td>41.8834</td><td>-87.6412</td><td>41.8892</td><td>-87.6278</td><td>member</td></tr>\n",
       "\t<tr><td>72C026003AC3ED3C</td><td>docked_bike</td><td>2020-03-04 07:13:56</td><td>2020-03-04 07:21:10</td><td><span style=white-space:pre-wrap>Wacker Dr &amp; Washington St      </span></td><td> 18</td><td><span style=white-space:pre-wrap>State St &amp; Kinzie St           </span></td><td> 47</td><td>41.8831</td><td>-87.6373</td><td>41.8892</td><td>-87.6278</td><td>member</td></tr>\n",
       "\t<tr><td>59CD7783230EBC26</td><td>docked_bike</td><td>2020-03-06 15:58:30</td><td>2020-03-06 16:05:48</td><td><span style=white-space:pre-wrap>State St &amp; Kinzie St           </span></td><td> 47</td><td><span style=white-space:pre-wrap>Clinton St &amp; Washington Blvd   </span></td><td> 91</td><td>41.8892</td><td>-87.6278</td><td>41.8834</td><td>-87.6412</td><td>member</td></tr>\n",
       "\t<tr><td>33EE865F3D9E5D00</td><td>docked_bike</td><td>2020-03-08 17:22:42</td><td>2020-03-08 17:28:34</td><td><span style=white-space:pre-wrap>Green St &amp; Randolph St         </span></td><td>112</td><td><span style=white-space:pre-wrap>Aberdeen St &amp; Jackson Blvd     </span></td><td> 21</td><td>41.8837</td><td>-87.6487</td><td>41.8777</td><td>-87.6548</td><td>member</td></tr>\n",
       "\t<tr><td>4361A2348584C3E4</td><td>docked_bike</td><td>2020-03-25 17:10:10</td><td>2020-03-25 17:47:34</td><td><span style=white-space:pre-wrap>Lakeview Ave &amp; Fullerton Pkwy  </span></td><td>313</td><td>Lakefront Trail &amp; Bryn Mawr Ave</td><td>459</td><td>41.9259</td><td>-87.6390</td><td>41.9840</td><td>-87.6523</td><td>member</td></tr>\n",
       "\t<tr><td>005D3BC2A3B33DDA</td><td>docked_bike</td><td>2020-03-12 07:32:25</td><td>2020-03-12 07:38:44</td><td><span style=white-space:pre-wrap>Clinton St &amp; Washington Blvd   </span></td><td> 91</td><td><span style=white-space:pre-wrap>State St &amp; Kinzie St           </span></td><td> 47</td><td>41.8834</td><td>-87.6412</td><td>41.8892</td><td>-87.6278</td><td>member</td></tr>\n",
       "\t<tr><td>6F4D221BDDFD943F</td><td>docked_bike</td><td>2020-03-10 10:40:27</td><td>2020-03-10 10:40:29</td><td>HQ QR                          </td><td>675</td><td>HQ QR                          </td><td>675</td><td>41.8899</td><td>-87.6803</td><td>41.8899</td><td>-87.6803</td><td>casual</td></tr>\n",
       "\t<tr><td>ADDAA33CEBCAE733</td><td>docked_bike</td><td>2020-03-10 10:40:06</td><td>2020-03-10 10:40:07</td><td>HQ QR                          </td><td>675</td><td>HQ QR                          </td><td>675</td><td>41.8899</td><td>-87.6803</td><td>41.8899</td><td>-87.6803</td><td>casual</td></tr>\n",
       "\t<tr><td>82B10FA3994BC66A</td><td>docked_bike</td><td>2020-03-07 15:25:55</td><td>2020-03-07 16:14:03</td><td><span style=white-space:pre-wrap>Rush St &amp; Superior St          </span></td><td>161</td><td><span style=white-space:pre-wrap>Sheridan Rd &amp; Irving Park Rd   </span></td><td>240</td><td>41.8958</td><td>-87.6259</td><td>41.9542</td><td>-87.6544</td><td>member</td></tr>\n",
       "\t<tr><td>AA0D5AAA0B59C8AA</td><td>docked_bike</td><td>2020-03-01 13:12:38</td><td>2020-03-01 13:38:29</td><td><span style=white-space:pre-wrap>Clark St &amp; Lincoln Ave         </span></td><td>141</td><td><span style=white-space:pre-wrap>Ashland Ave &amp; Division St      </span></td><td>210</td><td>41.9157</td><td>-87.6346</td><td>41.9035</td><td>-87.6677</td><td>casual</td></tr>\n",
       "\t<tr><td>3296360A7BC20FB8</td><td>docked_bike</td><td>2020-03-07 18:02:45</td><td>2020-03-07 18:13:18</td><td><span style=white-space:pre-wrap>Franklin St &amp; Illinois St      </span></td><td>672</td><td><span style=white-space:pre-wrap>Stetson Ave &amp; South Water St   </span></td><td>264</td><td>41.8910</td><td>-87.6355</td><td>41.8868</td><td>-87.6223</td><td>member</td></tr>\n",
       "\t<tr><td>064EC7698E4FF9B3</td><td>docked_bike</td><td>2020-03-08 13:03:57</td><td>2020-03-08 13:32:27</td><td><span style=white-space:pre-wrap>Dearborn St &amp; Erie St          </span></td><td>110</td><td><span style=white-space:pre-wrap>Michigan Ave &amp; Oak St          </span></td><td> 85</td><td>41.8940</td><td>-87.6293</td><td>41.9010</td><td>-87.6238</td><td>casual</td></tr>\n",
       "</tbody>\n",
       "</table>\n"
      ],
      "text/latex": [
       "A data.frame: 426887 × 13\n",
       "\\begin{tabular}{lllllllllllll}\n",
       " ride\\_id & rideable\\_type & started\\_at & ended\\_at & start\\_station\\_name & start\\_station\\_id & end\\_station\\_name & end\\_station\\_id & start\\_lat & start\\_lng & end\\_lat & end\\_lng & member\\_casual\\\\\n",
       " <chr> & <chr> & <chr> & <chr> & <chr> & <int> & <chr> & <int> & <dbl> & <dbl> & <dbl> & <dbl> & <chr>\\\\\n",
       "\\hline\n",
       "\t EACB19130B0CDA4A & docked\\_bike & 2020-01-21 20:06:59 & 2020-01-21 20:14:30 & Western Ave \\& Leland Ave       & 239 & Clark St \\& Leland Ave               & 326 & 41.9665 & -87.6884 & 41.9671 & -87.6674 & member\\\\\n",
       "\t 8FED874C809DC021 & docked\\_bike & 2020-01-30 14:22:39 & 2020-01-30 14:26:22 & Clark St \\& Montrose Ave        & 234 & Southport Ave \\& Irving Park Rd      & 318 & 41.9616 & -87.6660 & 41.9542 & -87.6644 & member\\\\\n",
       "\t 789F3C21E472CA96 & docked\\_bike & 2020-01-09 19:29:26 & 2020-01-09 19:32:17 & Broadway \\& Belmont Ave         & 296 & Wilton Ave \\& Belmont Ave            & 117 & 41.9401 & -87.6455 & 41.9402 & -87.6530 & member\\\\\n",
       "\t C9A388DAC6ABF313 & docked\\_bike & 2020-01-06 16:17:07 & 2020-01-06 16:25:56 & Clark St \\& Randolph St         &  51 & Fairbanks Ct \\& Grand Ave            &  24 & 41.8846 & -87.6319 & 41.8918 & -87.6206 & member\\\\\n",
       "\t 943BC3CBECCFD662 & docked\\_bike & 2020-01-30 08:37:16 & 2020-01-30 08:42:48 & Clinton St \\& Lake St           &  66 & Wells St \\& Hubbard St               & 212 & 41.8856 & -87.6418 & 41.8899 & -87.6343 & member\\\\\n",
       "\t 6D9C8A6938165C11 & docked\\_bike & 2020-01-10 12:33:05 & 2020-01-10 12:37:54 & Wells St \\& Hubbard St          & 212 & Desplaines St \\& Randolph St         &  96 & 41.8899 & -87.6343 & 41.8846 & -87.6446 & member\\\\\n",
       "\t 31EB9B8F406D4C82 & docked\\_bike & 2020-01-10 13:07:35 & 2020-01-10 13:12:24 & Desplaines St \\& Randolph St    &  96 & Wells St \\& Hubbard St               & 212 & 41.8846 & -87.6446 & 41.8899 & -87.6343 & member\\\\\n",
       "\t A2B24E3F9C9720E3 & docked\\_bike & 2020-01-10 07:24:53 & 2020-01-10 07:29:50 & Desplaines St \\& Randolph St    &  96 & Wells St \\& Hubbard St               & 212 & 41.8846 & -87.6446 & 41.8899 & -87.6343 & member\\\\\n",
       "\t 5E3F01E1441730B7 & docked\\_bike & 2020-01-31 16:37:16 & 2020-01-31 16:42:11 & Wells St \\& Hubbard St          & 212 & Desplaines St \\& Randolph St         &  96 & 41.8899 & -87.6343 & 41.8846 & -87.6446 & member\\\\\n",
       "\t 19DC57F7E3140131 & docked\\_bike & 2020-01-31 09:39:17 & 2020-01-31 09:42:40 & Clark St \\& Lake St             &  38 & Orleans St \\& Merchandise Mart Plaza & 100 & 41.8860 & -87.6309 & 41.8882 & -87.6364 & member\\\\\n",
       "\t 8639202DD9FD9A41 & docked\\_bike & 2020-01-07 22:46:52 & 2020-01-07 22:50:08 & Wilton Ave \\& Belmont Ave       & 117 & Clark St \\& Newport St               & 632 & 41.9402 & -87.6530 & 41.9445 & -87.6547 & member\\\\\n",
       "\t 9E74E3BB4FFAB93A & docked\\_bike & 2020-01-08 16:02:44 & 2020-01-08 16:09:04 & LaSalle St \\& Illinois St       & 181 & Clinton St \\& Washington Blvd        &  91 & 41.8908 & -87.6317 & 41.8834 & -87.6412 & member\\\\\n",
       "\t 3B8B2E2F29B63597 & docked\\_bike & 2020-01-08 09:33:13 & 2020-01-08 09:42:02 & Clinton St \\& Washington Blvd   &  91 & LaSalle St \\& Illinois St            & 181 & 41.8834 & -87.6412 & 41.8908 & -87.6317 & member\\\\\n",
       "\t 0F8517F8D21287D2 & docked\\_bike & 2020-01-23 09:38:11 & 2020-01-23 09:45:56 & Clinton St \\& Washington Blvd   &  91 & LaSalle St \\& Illinois St            & 181 & 41.8834 & -87.6412 & 41.8908 & -87.6317 & member\\\\\n",
       "\t 15A91638FAEC2641 & docked\\_bike & 2020-01-28 20:52:50 & 2020-01-28 21:09:30 & California Ave \\& Milwaukee Ave & 123 & Marshfield Ave \\& Cortland St        &  58 & 41.9227 & -87.6972 & 41.9160 & -87.6689 & member\\\\\n",
       "\t E45104F1ED756AF7 & docked\\_bike & 2020-01-07 17:06:14 & 2020-01-07 17:42:01 & Franklin St \\& Jackson Blvd     &  36 & Lincoln Ave \\& Diversey Pkwy         & 152 & 41.8777 & -87.6353 & 41.9322 & -87.6586 & member\\\\\n",
       "\t 219541294624C4B7 & docked\\_bike & 2020-01-07 08:38:55 & 2020-01-07 09:11:40 & Wilton Ave \\& Diversey Pkwy     &  13 & Franklin St \\& Jackson Blvd          &  36 & 41.9324 & -87.6527 & 41.8777 & -87.6353 & member\\\\\n",
       "\t 013862D47804B9A4 & docked\\_bike & 2020-01-06 17:16:14 & 2020-01-06 17:48:21 & Franklin St \\& Jackson Blvd     &  36 & Lincoln Ave \\& Diversey Pkwy         & 152 & 41.8777 & -87.6353 & 41.9322 & -87.6586 & member\\\\\n",
       "\t 00678BB4A8438651 & docked\\_bike & 2020-01-06 08:44:31 & 2020-01-06 09:21:28 & Lincoln Ave \\& Diversey Pkwy    & 152 & Franklin St \\& Jackson Blvd          &  36 & 41.9322 & -87.6586 & 41.8777 & -87.6353 & member\\\\\n",
       "\t A854F81611B5A5C0 & docked\\_bike & 2020-01-19 12:04:10 & 2020-01-19 12:10:18 & Kingsbury St \\& Kinzie St       & 133 & Clark St \\& Chicago Ave              & 337 & 41.8892 & -87.6385 & 41.8968 & -87.6309 & member\\\\\n",
       "\t 3479141FF24AD595 & docked\\_bike & 2020-01-16 17:10:39 & 2020-01-16 17:40:40 & Lake Shore Dr \\& Monroe St      &  76 & Michigan Ave \\& Washington St        &  43 & 41.8810 & -87.6167 & 41.8840 & -87.6247 & casual\\\\\n",
       "\t 81D44C3E2353F9BE & docked\\_bike & 2020-01-08 15:47:42 & 2020-01-08 15:58:40 & Canal St \\& Adams St            & 192 & Michigan Ave \\& Washington St        &  43 & 41.8793 & -87.6399 & 41.8840 & -87.6247 & member\\\\\n",
       "\t 1AA18F54DC4A8636 & docked\\_bike & 2020-01-08 06:29:01 & 2020-01-08 06:50:02 & Indiana Ave \\& Roosevelt Rd     & 255 & Canal St \\& Adams St                 & 192 & 41.8679 & -87.6230 & 41.8793 & -87.6399 & member\\\\\n",
       "\t F5FB29DCF841C9F3 & docked\\_bike & 2020-01-08 07:30:59 & 2020-01-08 07:33:54 & Broadway \\& Sheridan Rd         & 256 & Sheridan Rd \\& Irving Park Rd        & 240 & 41.9528 & -87.6500 & 41.9542 & -87.6544 & member\\\\\n",
       "\t 869F3755B34163BA & docked\\_bike & 2020-01-23 15:23:54 & 2020-01-23 15:37:37 & Desplaines St \\& Jackson Blvd   & 107 & Michigan Ave \\& Washington St        &  43 & 41.8783 & -87.6439 & 41.8840 & -87.6247 & member\\\\\n",
       "\t 00EDF290239E4843 & docked\\_bike & 2020-01-23 14:59:58 & 2020-01-23 15:02:49 & Canal St \\& Adams St            & 192 & Desplaines St \\& Jackson Blvd        & 107 & 41.8793 & -87.6399 & 41.8783 & -87.6439 & member\\\\\n",
       "\t CA8E2F8EB7A7639C & docked\\_bike & 2020-01-11 14:45:48 & 2020-01-11 14:58:46 & Western Ave \\& Division St      & 305 & Wood St \\& Hubbard St                & 285 & 41.9029 & -87.6873 & 41.8899 & -87.6715 & member\\\\\n",
       "\t 7996062626A55CEF & docked\\_bike & 2020-01-17 13:44:55 & 2020-01-17 13:48:33 & Franklin St \\& Jackson Blvd     &  36 & Wells St \\& Polk St                  & 175 & 41.8777 & -87.6353 & 41.8726 & -87.6335 & member\\\\\n",
       "\t 142E7C9831AE8D5D & docked\\_bike & 2020-01-08 08:23:41 & 2020-01-08 08:36:31 & Dearborn St \\& Erie St          & 110 & Franklin St \\& Adams St (Temp)       & 286 & 41.8940 & -87.6293 & 41.8794 & -87.6355 & member\\\\\n",
       "\t 82061D73814586B2 & docked\\_bike & 2020-01-08 16:22:13 & 2020-01-08 16:30:43 & Franklin St \\& Jackson Blvd     &  36 & Green St \\& Madison St               & 198 & 41.8777 & -87.6353 & 41.8819 & -87.6488 & member\\\\\n",
       "\t ⋮ & ⋮ & ⋮ & ⋮ & ⋮ & ⋮ & ⋮ & ⋮ & ⋮ & ⋮ & ⋮ & ⋮ & ⋮\\\\\n",
       "\t 8A8A039BB7072249 & docked\\_bike & 2020-03-02 17:29:26 & 2020-03-02 17:50:51 & Clark St \\& Lincoln Ave          & 141 & Halsted St \\& Wrightwood Ave     & 349 & 41.9157 & -87.6346 & 41.9291 & -87.6491 & casual\\\\\n",
       "\t 6244F21F053BA361 & docked\\_bike & 2020-03-13 16:58:54 & 2020-03-13 17:31:11 & Franklin St \\& Jackson Blvd      &  36 & Wabash Ave \\& Wacker Pl          & 194 & 41.8777 & -87.6353 & 41.8869 & -87.6260 & casual\\\\\n",
       "\t 058D62FDDBF3C606 & docked\\_bike & 2020-03-12 15:39:44 & 2020-03-12 15:43:06 & Broadway \\& Waveland Ave         & 304 & Pine Grove Ave \\& Irving Park Rd & 254 & 41.9491 & -87.6486 & 41.9544 & -87.6480 & member\\\\\n",
       "\t A2FFBD0AA763B19D & docked\\_bike & 2020-03-11 18:39:03 & 2020-03-11 18:55:05 & Kingsbury St \\& Kinzie St        & 133 & Clark St \\& Armitage Ave         &  94 & 41.8892 & -87.6385 & 41.9183 & -87.6363 & member\\\\\n",
       "\t 21A760C7DC9FD318 & docked\\_bike & 2020-03-11 16:06:45 & 2020-03-11 16:17:42 & Wood St \\& Hubbard St            & 285 & Kingsbury St \\& Kinzie St        & 133 & 41.8899 & -87.6715 & 41.8892 & -87.6385 & member\\\\\n",
       "\t 36A20E87B11FF36D & docked\\_bike & 2020-03-01 15:16:06 & 2020-03-01 16:36:04 & Woodlawn Ave \\& 55th St          & 248 & Woodlawn Ave \\& 55th St          & 248 & 41.7953 & -87.5965 & 41.7953 & -87.5965 & casual\\\\\n",
       "\t FEB95D075E9435E4 & docked\\_bike & 2020-03-04 07:25:24 & 2020-03-04 07:28:25 & Pine Grove Ave \\& Irving Park Rd & 254 & Broadway \\& Waveland Ave         & 304 & 41.9544 & -87.6480 & 41.9491 & -87.6486 & member\\\\\n",
       "\t FD4B140C786D9E1D & docked\\_bike & 2020-03-04 17:54:24 & 2020-03-04 18:04:18 & Kingsbury St \\& Kinzie St        & 133 & Wood St \\& Hubbard St            & 285 & 41.8892 & -87.6385 & 41.8899 & -87.6715 & member\\\\\n",
       "\t 062828AF86F56FA8 & docked\\_bike & 2020-03-10 15:38:13 & 2020-03-10 15:48:55 & Wood St \\& Hubbard St            & 285 & Kingsbury St \\& Kinzie St        & 133 & 41.8899 & -87.6715 & 41.8892 & -87.6385 & member\\\\\n",
       "\t FB323E655F08521D & docked\\_bike & 2020-03-10 08:46:57 & 2020-03-10 08:54:10 & McClurg Ct \\& Illinois St        &  26 & State St \\& Kinzie St            &  47 & 41.8904 & -87.6175 & 41.8892 & -87.6278 & member\\\\\n",
       "\t 7CD5C610872581BB & docked\\_bike & 2020-03-02 15:56:46 & 2020-03-02 16:04:48 & State St \\& Kinzie St            &  47 & Clinton St \\& Washington Blvd    &  91 & 41.8892 & -87.6278 & 41.8834 & -87.6412 & member\\\\\n",
       "\t 330C4C8905197AAD & docked\\_bike & 2020-03-08 13:34:12 & 2020-03-08 13:55:43 & Buckingham Fountain             &   2 & Rush St \\& Cedar St              & 172 & 41.8765 & -87.6205 & 41.9023 & -87.6277 & casual\\\\\n",
       "\t 0B8742C644002BB1 & docked\\_bike & 2020-03-10 06:46:32 & 2020-03-10 06:54:34 & Clinton St \\& Washington Blvd    &  91 & State St \\& Kinzie St            &  47 & 41.8834 & -87.6412 & 41.8892 & -87.6278 & member\\\\\n",
       "\t BA30D82E5928E7A7 & docked\\_bike & 2020-03-09 15:52:18 & 2020-03-09 15:59:47 & State St \\& Kinzie St            &  47 & Clinton St \\& Washington Blvd    &  91 & 41.8892 & -87.6278 & 41.8834 & -87.6412 & member\\\\\n",
       "\t B46765A0DB572D4B & docked\\_bike & 2020-03-12 15:57:23 & 2020-03-12 16:04:09 & State St \\& Kinzie St            &  47 & Clinton St \\& Washington Blvd    &  91 & 41.8892 & -87.6278 & 41.8834 & -87.6412 & member\\\\\n",
       "\t 1C755B56146D806B & docked\\_bike & 2020-03-06 07:13:14 & 2020-03-06 07:21:03 & Clinton St \\& Washington Blvd    &  91 & State St \\& Kinzie St            &  47 & 41.8834 & -87.6412 & 41.8892 & -87.6278 & member\\\\\n",
       "\t 46230CF6653E2CDE & docked\\_bike & 2020-03-25 17:59:02 & 2020-03-25 18:29:31 & Lakefront Trail \\& Bryn Mawr Ave & 459 & Lakeview Ave \\& Fullerton Pkwy   & 313 & 41.9840 & -87.6523 & 41.9259 & -87.6390 & member\\\\\n",
       "\t 62BD7FE2B823B34E & docked\\_bike & 2020-03-11 15:56:59 & 2020-03-11 16:03:43 & State St \\& Kinzie St            &  47 & Clinton St \\& Washington Blvd    &  91 & 41.8892 & -87.6278 & 41.8834 & -87.6412 & member\\\\\n",
       "\t 0E1BBACD66CAF13D & docked\\_bike & 2020-03-02 06:47:31 & 2020-03-02 06:55:04 & Clinton St \\& Washington Blvd    &  91 & State St \\& Kinzie St            &  47 & 41.8834 & -87.6412 & 41.8892 & -87.6278 & member\\\\\n",
       "\t 72C026003AC3ED3C & docked\\_bike & 2020-03-04 07:13:56 & 2020-03-04 07:21:10 & Wacker Dr \\& Washington St       &  18 & State St \\& Kinzie St            &  47 & 41.8831 & -87.6373 & 41.8892 & -87.6278 & member\\\\\n",
       "\t 59CD7783230EBC26 & docked\\_bike & 2020-03-06 15:58:30 & 2020-03-06 16:05:48 & State St \\& Kinzie St            &  47 & Clinton St \\& Washington Blvd    &  91 & 41.8892 & -87.6278 & 41.8834 & -87.6412 & member\\\\\n",
       "\t 33EE865F3D9E5D00 & docked\\_bike & 2020-03-08 17:22:42 & 2020-03-08 17:28:34 & Green St \\& Randolph St          & 112 & Aberdeen St \\& Jackson Blvd      &  21 & 41.8837 & -87.6487 & 41.8777 & -87.6548 & member\\\\\n",
       "\t 4361A2348584C3E4 & docked\\_bike & 2020-03-25 17:10:10 & 2020-03-25 17:47:34 & Lakeview Ave \\& Fullerton Pkwy   & 313 & Lakefront Trail \\& Bryn Mawr Ave & 459 & 41.9259 & -87.6390 & 41.9840 & -87.6523 & member\\\\\n",
       "\t 005D3BC2A3B33DDA & docked\\_bike & 2020-03-12 07:32:25 & 2020-03-12 07:38:44 & Clinton St \\& Washington Blvd    &  91 & State St \\& Kinzie St            &  47 & 41.8834 & -87.6412 & 41.8892 & -87.6278 & member\\\\\n",
       "\t 6F4D221BDDFD943F & docked\\_bike & 2020-03-10 10:40:27 & 2020-03-10 10:40:29 & HQ QR                           & 675 & HQ QR                           & 675 & 41.8899 & -87.6803 & 41.8899 & -87.6803 & casual\\\\\n",
       "\t ADDAA33CEBCAE733 & docked\\_bike & 2020-03-10 10:40:06 & 2020-03-10 10:40:07 & HQ QR                           & 675 & HQ QR                           & 675 & 41.8899 & -87.6803 & 41.8899 & -87.6803 & casual\\\\\n",
       "\t 82B10FA3994BC66A & docked\\_bike & 2020-03-07 15:25:55 & 2020-03-07 16:14:03 & Rush St \\& Superior St           & 161 & Sheridan Rd \\& Irving Park Rd    & 240 & 41.8958 & -87.6259 & 41.9542 & -87.6544 & member\\\\\n",
       "\t AA0D5AAA0B59C8AA & docked\\_bike & 2020-03-01 13:12:38 & 2020-03-01 13:38:29 & Clark St \\& Lincoln Ave          & 141 & Ashland Ave \\& Division St       & 210 & 41.9157 & -87.6346 & 41.9035 & -87.6677 & casual\\\\\n",
       "\t 3296360A7BC20FB8 & docked\\_bike & 2020-03-07 18:02:45 & 2020-03-07 18:13:18 & Franklin St \\& Illinois St       & 672 & Stetson Ave \\& South Water St    & 264 & 41.8910 & -87.6355 & 41.8868 & -87.6223 & member\\\\\n",
       "\t 064EC7698E4FF9B3 & docked\\_bike & 2020-03-08 13:03:57 & 2020-03-08 13:32:27 & Dearborn St \\& Erie St           & 110 & Michigan Ave \\& Oak St           &  85 & 41.8940 & -87.6293 & 41.9010 & -87.6238 & casual\\\\\n",
       "\\end{tabular}\n"
      ],
      "text/markdown": [
       "\n",
       "A data.frame: 426887 × 13\n",
       "\n",
       "| ride_id &lt;chr&gt; | rideable_type &lt;chr&gt; | started_at &lt;chr&gt; | ended_at &lt;chr&gt; | start_station_name &lt;chr&gt; | start_station_id &lt;int&gt; | end_station_name &lt;chr&gt; | end_station_id &lt;int&gt; | start_lat &lt;dbl&gt; | start_lng &lt;dbl&gt; | end_lat &lt;dbl&gt; | end_lng &lt;dbl&gt; | member_casual &lt;chr&gt; |\n",
       "|---|---|---|---|---|---|---|---|---|---|---|---|---|\n",
       "| EACB19130B0CDA4A | docked_bike | 2020-01-21 20:06:59 | 2020-01-21 20:14:30 | Western Ave &amp; Leland Ave       | 239 | Clark St &amp; Leland Ave               | 326 | 41.9665 | -87.6884 | 41.9671 | -87.6674 | member |\n",
       "| 8FED874C809DC021 | docked_bike | 2020-01-30 14:22:39 | 2020-01-30 14:26:22 | Clark St &amp; Montrose Ave        | 234 | Southport Ave &amp; Irving Park Rd      | 318 | 41.9616 | -87.6660 | 41.9542 | -87.6644 | member |\n",
       "| 789F3C21E472CA96 | docked_bike | 2020-01-09 19:29:26 | 2020-01-09 19:32:17 | Broadway &amp; Belmont Ave         | 296 | Wilton Ave &amp; Belmont Ave            | 117 | 41.9401 | -87.6455 | 41.9402 | -87.6530 | member |\n",
       "| C9A388DAC6ABF313 | docked_bike | 2020-01-06 16:17:07 | 2020-01-06 16:25:56 | Clark St &amp; Randolph St         |  51 | Fairbanks Ct &amp; Grand Ave            |  24 | 41.8846 | -87.6319 | 41.8918 | -87.6206 | member |\n",
       "| 943BC3CBECCFD662 | docked_bike | 2020-01-30 08:37:16 | 2020-01-30 08:42:48 | Clinton St &amp; Lake St           |  66 | Wells St &amp; Hubbard St               | 212 | 41.8856 | -87.6418 | 41.8899 | -87.6343 | member |\n",
       "| 6D9C8A6938165C11 | docked_bike | 2020-01-10 12:33:05 | 2020-01-10 12:37:54 | Wells St &amp; Hubbard St          | 212 | Desplaines St &amp; Randolph St         |  96 | 41.8899 | -87.6343 | 41.8846 | -87.6446 | member |\n",
       "| 31EB9B8F406D4C82 | docked_bike | 2020-01-10 13:07:35 | 2020-01-10 13:12:24 | Desplaines St &amp; Randolph St    |  96 | Wells St &amp; Hubbard St               | 212 | 41.8846 | -87.6446 | 41.8899 | -87.6343 | member |\n",
       "| A2B24E3F9C9720E3 | docked_bike | 2020-01-10 07:24:53 | 2020-01-10 07:29:50 | Desplaines St &amp; Randolph St    |  96 | Wells St &amp; Hubbard St               | 212 | 41.8846 | -87.6446 | 41.8899 | -87.6343 | member |\n",
       "| 5E3F01E1441730B7 | docked_bike | 2020-01-31 16:37:16 | 2020-01-31 16:42:11 | Wells St &amp; Hubbard St          | 212 | Desplaines St &amp; Randolph St         |  96 | 41.8899 | -87.6343 | 41.8846 | -87.6446 | member |\n",
       "| 19DC57F7E3140131 | docked_bike | 2020-01-31 09:39:17 | 2020-01-31 09:42:40 | Clark St &amp; Lake St             |  38 | Orleans St &amp; Merchandise Mart Plaza | 100 | 41.8860 | -87.6309 | 41.8882 | -87.6364 | member |\n",
       "| 8639202DD9FD9A41 | docked_bike | 2020-01-07 22:46:52 | 2020-01-07 22:50:08 | Wilton Ave &amp; Belmont Ave       | 117 | Clark St &amp; Newport St               | 632 | 41.9402 | -87.6530 | 41.9445 | -87.6547 | member |\n",
       "| 9E74E3BB4FFAB93A | docked_bike | 2020-01-08 16:02:44 | 2020-01-08 16:09:04 | LaSalle St &amp; Illinois St       | 181 | Clinton St &amp; Washington Blvd        |  91 | 41.8908 | -87.6317 | 41.8834 | -87.6412 | member |\n",
       "| 3B8B2E2F29B63597 | docked_bike | 2020-01-08 09:33:13 | 2020-01-08 09:42:02 | Clinton St &amp; Washington Blvd   |  91 | LaSalle St &amp; Illinois St            | 181 | 41.8834 | -87.6412 | 41.8908 | -87.6317 | member |\n",
       "| 0F8517F8D21287D2 | docked_bike | 2020-01-23 09:38:11 | 2020-01-23 09:45:56 | Clinton St &amp; Washington Blvd   |  91 | LaSalle St &amp; Illinois St            | 181 | 41.8834 | -87.6412 | 41.8908 | -87.6317 | member |\n",
       "| 15A91638FAEC2641 | docked_bike | 2020-01-28 20:52:50 | 2020-01-28 21:09:30 | California Ave &amp; Milwaukee Ave | 123 | Marshfield Ave &amp; Cortland St        |  58 | 41.9227 | -87.6972 | 41.9160 | -87.6689 | member |\n",
       "| E45104F1ED756AF7 | docked_bike | 2020-01-07 17:06:14 | 2020-01-07 17:42:01 | Franklin St &amp; Jackson Blvd     |  36 | Lincoln Ave &amp; Diversey Pkwy         | 152 | 41.8777 | -87.6353 | 41.9322 | -87.6586 | member |\n",
       "| 219541294624C4B7 | docked_bike | 2020-01-07 08:38:55 | 2020-01-07 09:11:40 | Wilton Ave &amp; Diversey Pkwy     |  13 | Franklin St &amp; Jackson Blvd          |  36 | 41.9324 | -87.6527 | 41.8777 | -87.6353 | member |\n",
       "| 013862D47804B9A4 | docked_bike | 2020-01-06 17:16:14 | 2020-01-06 17:48:21 | Franklin St &amp; Jackson Blvd     |  36 | Lincoln Ave &amp; Diversey Pkwy         | 152 | 41.8777 | -87.6353 | 41.9322 | -87.6586 | member |\n",
       "| 00678BB4A8438651 | docked_bike | 2020-01-06 08:44:31 | 2020-01-06 09:21:28 | Lincoln Ave &amp; Diversey Pkwy    | 152 | Franklin St &amp; Jackson Blvd          |  36 | 41.9322 | -87.6586 | 41.8777 | -87.6353 | member |\n",
       "| A854F81611B5A5C0 | docked_bike | 2020-01-19 12:04:10 | 2020-01-19 12:10:18 | Kingsbury St &amp; Kinzie St       | 133 | Clark St &amp; Chicago Ave              | 337 | 41.8892 | -87.6385 | 41.8968 | -87.6309 | member |\n",
       "| 3479141FF24AD595 | docked_bike | 2020-01-16 17:10:39 | 2020-01-16 17:40:40 | Lake Shore Dr &amp; Monroe St      |  76 | Michigan Ave &amp; Washington St        |  43 | 41.8810 | -87.6167 | 41.8840 | -87.6247 | casual |\n",
       "| 81D44C3E2353F9BE | docked_bike | 2020-01-08 15:47:42 | 2020-01-08 15:58:40 | Canal St &amp; Adams St            | 192 | Michigan Ave &amp; Washington St        |  43 | 41.8793 | -87.6399 | 41.8840 | -87.6247 | member |\n",
       "| 1AA18F54DC4A8636 | docked_bike | 2020-01-08 06:29:01 | 2020-01-08 06:50:02 | Indiana Ave &amp; Roosevelt Rd     | 255 | Canal St &amp; Adams St                 | 192 | 41.8679 | -87.6230 | 41.8793 | -87.6399 | member |\n",
       "| F5FB29DCF841C9F3 | docked_bike | 2020-01-08 07:30:59 | 2020-01-08 07:33:54 | Broadway &amp; Sheridan Rd         | 256 | Sheridan Rd &amp; Irving Park Rd        | 240 | 41.9528 | -87.6500 | 41.9542 | -87.6544 | member |\n",
       "| 869F3755B34163BA | docked_bike | 2020-01-23 15:23:54 | 2020-01-23 15:37:37 | Desplaines St &amp; Jackson Blvd   | 107 | Michigan Ave &amp; Washington St        |  43 | 41.8783 | -87.6439 | 41.8840 | -87.6247 | member |\n",
       "| 00EDF290239E4843 | docked_bike | 2020-01-23 14:59:58 | 2020-01-23 15:02:49 | Canal St &amp; Adams St            | 192 | Desplaines St &amp; Jackson Blvd        | 107 | 41.8793 | -87.6399 | 41.8783 | -87.6439 | member |\n",
       "| CA8E2F8EB7A7639C | docked_bike | 2020-01-11 14:45:48 | 2020-01-11 14:58:46 | Western Ave &amp; Division St      | 305 | Wood St &amp; Hubbard St                | 285 | 41.9029 | -87.6873 | 41.8899 | -87.6715 | member |\n",
       "| 7996062626A55CEF | docked_bike | 2020-01-17 13:44:55 | 2020-01-17 13:48:33 | Franklin St &amp; Jackson Blvd     |  36 | Wells St &amp; Polk St                  | 175 | 41.8777 | -87.6353 | 41.8726 | -87.6335 | member |\n",
       "| 142E7C9831AE8D5D | docked_bike | 2020-01-08 08:23:41 | 2020-01-08 08:36:31 | Dearborn St &amp; Erie St          | 110 | Franklin St &amp; Adams St (Temp)       | 286 | 41.8940 | -87.6293 | 41.8794 | -87.6355 | member |\n",
       "| 82061D73814586B2 | docked_bike | 2020-01-08 16:22:13 | 2020-01-08 16:30:43 | Franklin St &amp; Jackson Blvd     |  36 | Green St &amp; Madison St               | 198 | 41.8777 | -87.6353 | 41.8819 | -87.6488 | member |\n",
       "| ⋮ | ⋮ | ⋮ | ⋮ | ⋮ | ⋮ | ⋮ | ⋮ | ⋮ | ⋮ | ⋮ | ⋮ | ⋮ |\n",
       "| 8A8A039BB7072249 | docked_bike | 2020-03-02 17:29:26 | 2020-03-02 17:50:51 | Clark St &amp; Lincoln Ave          | 141 | Halsted St &amp; Wrightwood Ave     | 349 | 41.9157 | -87.6346 | 41.9291 | -87.6491 | casual |\n",
       "| 6244F21F053BA361 | docked_bike | 2020-03-13 16:58:54 | 2020-03-13 17:31:11 | Franklin St &amp; Jackson Blvd      |  36 | Wabash Ave &amp; Wacker Pl          | 194 | 41.8777 | -87.6353 | 41.8869 | -87.6260 | casual |\n",
       "| 058D62FDDBF3C606 | docked_bike | 2020-03-12 15:39:44 | 2020-03-12 15:43:06 | Broadway &amp; Waveland Ave         | 304 | Pine Grove Ave &amp; Irving Park Rd | 254 | 41.9491 | -87.6486 | 41.9544 | -87.6480 | member |\n",
       "| A2FFBD0AA763B19D | docked_bike | 2020-03-11 18:39:03 | 2020-03-11 18:55:05 | Kingsbury St &amp; Kinzie St        | 133 | Clark St &amp; Armitage Ave         |  94 | 41.8892 | -87.6385 | 41.9183 | -87.6363 | member |\n",
       "| 21A760C7DC9FD318 | docked_bike | 2020-03-11 16:06:45 | 2020-03-11 16:17:42 | Wood St &amp; Hubbard St            | 285 | Kingsbury St &amp; Kinzie St        | 133 | 41.8899 | -87.6715 | 41.8892 | -87.6385 | member |\n",
       "| 36A20E87B11FF36D | docked_bike | 2020-03-01 15:16:06 | 2020-03-01 16:36:04 | Woodlawn Ave &amp; 55th St          | 248 | Woodlawn Ave &amp; 55th St          | 248 | 41.7953 | -87.5965 | 41.7953 | -87.5965 | casual |\n",
       "| FEB95D075E9435E4 | docked_bike | 2020-03-04 07:25:24 | 2020-03-04 07:28:25 | Pine Grove Ave &amp; Irving Park Rd | 254 | Broadway &amp; Waveland Ave         | 304 | 41.9544 | -87.6480 | 41.9491 | -87.6486 | member |\n",
       "| FD4B140C786D9E1D | docked_bike | 2020-03-04 17:54:24 | 2020-03-04 18:04:18 | Kingsbury St &amp; Kinzie St        | 133 | Wood St &amp; Hubbard St            | 285 | 41.8892 | -87.6385 | 41.8899 | -87.6715 | member |\n",
       "| 062828AF86F56FA8 | docked_bike | 2020-03-10 15:38:13 | 2020-03-10 15:48:55 | Wood St &amp; Hubbard St            | 285 | Kingsbury St &amp; Kinzie St        | 133 | 41.8899 | -87.6715 | 41.8892 | -87.6385 | member |\n",
       "| FB323E655F08521D | docked_bike | 2020-03-10 08:46:57 | 2020-03-10 08:54:10 | McClurg Ct &amp; Illinois St        |  26 | State St &amp; Kinzie St            |  47 | 41.8904 | -87.6175 | 41.8892 | -87.6278 | member |\n",
       "| 7CD5C610872581BB | docked_bike | 2020-03-02 15:56:46 | 2020-03-02 16:04:48 | State St &amp; Kinzie St            |  47 | Clinton St &amp; Washington Blvd    |  91 | 41.8892 | -87.6278 | 41.8834 | -87.6412 | member |\n",
       "| 330C4C8905197AAD | docked_bike | 2020-03-08 13:34:12 | 2020-03-08 13:55:43 | Buckingham Fountain             |   2 | Rush St &amp; Cedar St              | 172 | 41.8765 | -87.6205 | 41.9023 | -87.6277 | casual |\n",
       "| 0B8742C644002BB1 | docked_bike | 2020-03-10 06:46:32 | 2020-03-10 06:54:34 | Clinton St &amp; Washington Blvd    |  91 | State St &amp; Kinzie St            |  47 | 41.8834 | -87.6412 | 41.8892 | -87.6278 | member |\n",
       "| BA30D82E5928E7A7 | docked_bike | 2020-03-09 15:52:18 | 2020-03-09 15:59:47 | State St &amp; Kinzie St            |  47 | Clinton St &amp; Washington Blvd    |  91 | 41.8892 | -87.6278 | 41.8834 | -87.6412 | member |\n",
       "| B46765A0DB572D4B | docked_bike | 2020-03-12 15:57:23 | 2020-03-12 16:04:09 | State St &amp; Kinzie St            |  47 | Clinton St &amp; Washington Blvd    |  91 | 41.8892 | -87.6278 | 41.8834 | -87.6412 | member |\n",
       "| 1C755B56146D806B | docked_bike | 2020-03-06 07:13:14 | 2020-03-06 07:21:03 | Clinton St &amp; Washington Blvd    |  91 | State St &amp; Kinzie St            |  47 | 41.8834 | -87.6412 | 41.8892 | -87.6278 | member |\n",
       "| 46230CF6653E2CDE | docked_bike | 2020-03-25 17:59:02 | 2020-03-25 18:29:31 | Lakefront Trail &amp; Bryn Mawr Ave | 459 | Lakeview Ave &amp; Fullerton Pkwy   | 313 | 41.9840 | -87.6523 | 41.9259 | -87.6390 | member |\n",
       "| 62BD7FE2B823B34E | docked_bike | 2020-03-11 15:56:59 | 2020-03-11 16:03:43 | State St &amp; Kinzie St            |  47 | Clinton St &amp; Washington Blvd    |  91 | 41.8892 | -87.6278 | 41.8834 | -87.6412 | member |\n",
       "| 0E1BBACD66CAF13D | docked_bike | 2020-03-02 06:47:31 | 2020-03-02 06:55:04 | Clinton St &amp; Washington Blvd    |  91 | State St &amp; Kinzie St            |  47 | 41.8834 | -87.6412 | 41.8892 | -87.6278 | member |\n",
       "| 72C026003AC3ED3C | docked_bike | 2020-03-04 07:13:56 | 2020-03-04 07:21:10 | Wacker Dr &amp; Washington St       |  18 | State St &amp; Kinzie St            |  47 | 41.8831 | -87.6373 | 41.8892 | -87.6278 | member |\n",
       "| 59CD7783230EBC26 | docked_bike | 2020-03-06 15:58:30 | 2020-03-06 16:05:48 | State St &amp; Kinzie St            |  47 | Clinton St &amp; Washington Blvd    |  91 | 41.8892 | -87.6278 | 41.8834 | -87.6412 | member |\n",
       "| 33EE865F3D9E5D00 | docked_bike | 2020-03-08 17:22:42 | 2020-03-08 17:28:34 | Green St &amp; Randolph St          | 112 | Aberdeen St &amp; Jackson Blvd      |  21 | 41.8837 | -87.6487 | 41.8777 | -87.6548 | member |\n",
       "| 4361A2348584C3E4 | docked_bike | 2020-03-25 17:10:10 | 2020-03-25 17:47:34 | Lakeview Ave &amp; Fullerton Pkwy   | 313 | Lakefront Trail &amp; Bryn Mawr Ave | 459 | 41.9259 | -87.6390 | 41.9840 | -87.6523 | member |\n",
       "| 005D3BC2A3B33DDA | docked_bike | 2020-03-12 07:32:25 | 2020-03-12 07:38:44 | Clinton St &amp; Washington Blvd    |  91 | State St &amp; Kinzie St            |  47 | 41.8834 | -87.6412 | 41.8892 | -87.6278 | member |\n",
       "| 6F4D221BDDFD943F | docked_bike | 2020-03-10 10:40:27 | 2020-03-10 10:40:29 | HQ QR                           | 675 | HQ QR                           | 675 | 41.8899 | -87.6803 | 41.8899 | -87.6803 | casual |\n",
       "| ADDAA33CEBCAE733 | docked_bike | 2020-03-10 10:40:06 | 2020-03-10 10:40:07 | HQ QR                           | 675 | HQ QR                           | 675 | 41.8899 | -87.6803 | 41.8899 | -87.6803 | casual |\n",
       "| 82B10FA3994BC66A | docked_bike | 2020-03-07 15:25:55 | 2020-03-07 16:14:03 | Rush St &amp; Superior St           | 161 | Sheridan Rd &amp; Irving Park Rd    | 240 | 41.8958 | -87.6259 | 41.9542 | -87.6544 | member |\n",
       "| AA0D5AAA0B59C8AA | docked_bike | 2020-03-01 13:12:38 | 2020-03-01 13:38:29 | Clark St &amp; Lincoln Ave          | 141 | Ashland Ave &amp; Division St       | 210 | 41.9157 | -87.6346 | 41.9035 | -87.6677 | casual |\n",
       "| 3296360A7BC20FB8 | docked_bike | 2020-03-07 18:02:45 | 2020-03-07 18:13:18 | Franklin St &amp; Illinois St       | 672 | Stetson Ave &amp; South Water St    | 264 | 41.8910 | -87.6355 | 41.8868 | -87.6223 | member |\n",
       "| 064EC7698E4FF9B3 | docked_bike | 2020-03-08 13:03:57 | 2020-03-08 13:32:27 | Dearborn St &amp; Erie St           | 110 | Michigan Ave &amp; Oak St           |  85 | 41.8940 | -87.6293 | 41.9010 | -87.6238 | casual |\n",
       "\n"
      ],
      "text/plain": [
       "       ride_id          rideable_type started_at          ended_at           \n",
       "1      EACB19130B0CDA4A docked_bike   2020-01-21 20:06:59 2020-01-21 20:14:30\n",
       "2      8FED874C809DC021 docked_bike   2020-01-30 14:22:39 2020-01-30 14:26:22\n",
       "3      789F3C21E472CA96 docked_bike   2020-01-09 19:29:26 2020-01-09 19:32:17\n",
       "4      C9A388DAC6ABF313 docked_bike   2020-01-06 16:17:07 2020-01-06 16:25:56\n",
       "5      943BC3CBECCFD662 docked_bike   2020-01-30 08:37:16 2020-01-30 08:42:48\n",
       "6      6D9C8A6938165C11 docked_bike   2020-01-10 12:33:05 2020-01-10 12:37:54\n",
       "7      31EB9B8F406D4C82 docked_bike   2020-01-10 13:07:35 2020-01-10 13:12:24\n",
       "8      A2B24E3F9C9720E3 docked_bike   2020-01-10 07:24:53 2020-01-10 07:29:50\n",
       "9      5E3F01E1441730B7 docked_bike   2020-01-31 16:37:16 2020-01-31 16:42:11\n",
       "10     19DC57F7E3140131 docked_bike   2020-01-31 09:39:17 2020-01-31 09:42:40\n",
       "11     8639202DD9FD9A41 docked_bike   2020-01-07 22:46:52 2020-01-07 22:50:08\n",
       "12     9E74E3BB4FFAB93A docked_bike   2020-01-08 16:02:44 2020-01-08 16:09:04\n",
       "13     3B8B2E2F29B63597 docked_bike   2020-01-08 09:33:13 2020-01-08 09:42:02\n",
       "14     0F8517F8D21287D2 docked_bike   2020-01-23 09:38:11 2020-01-23 09:45:56\n",
       "15     15A91638FAEC2641 docked_bike   2020-01-28 20:52:50 2020-01-28 21:09:30\n",
       "16     E45104F1ED756AF7 docked_bike   2020-01-07 17:06:14 2020-01-07 17:42:01\n",
       "17     219541294624C4B7 docked_bike   2020-01-07 08:38:55 2020-01-07 09:11:40\n",
       "18     013862D47804B9A4 docked_bike   2020-01-06 17:16:14 2020-01-06 17:48:21\n",
       "19     00678BB4A8438651 docked_bike   2020-01-06 08:44:31 2020-01-06 09:21:28\n",
       "20     A854F81611B5A5C0 docked_bike   2020-01-19 12:04:10 2020-01-19 12:10:18\n",
       "21     3479141FF24AD595 docked_bike   2020-01-16 17:10:39 2020-01-16 17:40:40\n",
       "22     81D44C3E2353F9BE docked_bike   2020-01-08 15:47:42 2020-01-08 15:58:40\n",
       "23     1AA18F54DC4A8636 docked_bike   2020-01-08 06:29:01 2020-01-08 06:50:02\n",
       "24     F5FB29DCF841C9F3 docked_bike   2020-01-08 07:30:59 2020-01-08 07:33:54\n",
       "25     869F3755B34163BA docked_bike   2020-01-23 15:23:54 2020-01-23 15:37:37\n",
       "26     00EDF290239E4843 docked_bike   2020-01-23 14:59:58 2020-01-23 15:02:49\n",
       "27     CA8E2F8EB7A7639C docked_bike   2020-01-11 14:45:48 2020-01-11 14:58:46\n",
       "28     7996062626A55CEF docked_bike   2020-01-17 13:44:55 2020-01-17 13:48:33\n",
       "29     142E7C9831AE8D5D docked_bike   2020-01-08 08:23:41 2020-01-08 08:36:31\n",
       "30     82061D73814586B2 docked_bike   2020-01-08 16:22:13 2020-01-08 16:30:43\n",
       "⋮      ⋮                ⋮             ⋮                   ⋮                  \n",
       "426858 8A8A039BB7072249 docked_bike   2020-03-02 17:29:26 2020-03-02 17:50:51\n",
       "426859 6244F21F053BA361 docked_bike   2020-03-13 16:58:54 2020-03-13 17:31:11\n",
       "426860 058D62FDDBF3C606 docked_bike   2020-03-12 15:39:44 2020-03-12 15:43:06\n",
       "426861 A2FFBD0AA763B19D docked_bike   2020-03-11 18:39:03 2020-03-11 18:55:05\n",
       "426862 21A760C7DC9FD318 docked_bike   2020-03-11 16:06:45 2020-03-11 16:17:42\n",
       "426863 36A20E87B11FF36D docked_bike   2020-03-01 15:16:06 2020-03-01 16:36:04\n",
       "426864 FEB95D075E9435E4 docked_bike   2020-03-04 07:25:24 2020-03-04 07:28:25\n",
       "426865 FD4B140C786D9E1D docked_bike   2020-03-04 17:54:24 2020-03-04 18:04:18\n",
       "426866 062828AF86F56FA8 docked_bike   2020-03-10 15:38:13 2020-03-10 15:48:55\n",
       "426867 FB323E655F08521D docked_bike   2020-03-10 08:46:57 2020-03-10 08:54:10\n",
       "426868 7CD5C610872581BB docked_bike   2020-03-02 15:56:46 2020-03-02 16:04:48\n",
       "426869 330C4C8905197AAD docked_bike   2020-03-08 13:34:12 2020-03-08 13:55:43\n",
       "426870 0B8742C644002BB1 docked_bike   2020-03-10 06:46:32 2020-03-10 06:54:34\n",
       "426871 BA30D82E5928E7A7 docked_bike   2020-03-09 15:52:18 2020-03-09 15:59:47\n",
       "426872 B46765A0DB572D4B docked_bike   2020-03-12 15:57:23 2020-03-12 16:04:09\n",
       "426873 1C755B56146D806B docked_bike   2020-03-06 07:13:14 2020-03-06 07:21:03\n",
       "426874 46230CF6653E2CDE docked_bike   2020-03-25 17:59:02 2020-03-25 18:29:31\n",
       "426875 62BD7FE2B823B34E docked_bike   2020-03-11 15:56:59 2020-03-11 16:03:43\n",
       "426876 0E1BBACD66CAF13D docked_bike   2020-03-02 06:47:31 2020-03-02 06:55:04\n",
       "426877 72C026003AC3ED3C docked_bike   2020-03-04 07:13:56 2020-03-04 07:21:10\n",
       "426878 59CD7783230EBC26 docked_bike   2020-03-06 15:58:30 2020-03-06 16:05:48\n",
       "426879 33EE865F3D9E5D00 docked_bike   2020-03-08 17:22:42 2020-03-08 17:28:34\n",
       "426880 4361A2348584C3E4 docked_bike   2020-03-25 17:10:10 2020-03-25 17:47:34\n",
       "426881 005D3BC2A3B33DDA docked_bike   2020-03-12 07:32:25 2020-03-12 07:38:44\n",
       "426882 6F4D221BDDFD943F docked_bike   2020-03-10 10:40:27 2020-03-10 10:40:29\n",
       "426883 ADDAA33CEBCAE733 docked_bike   2020-03-10 10:40:06 2020-03-10 10:40:07\n",
       "426884 82B10FA3994BC66A docked_bike   2020-03-07 15:25:55 2020-03-07 16:14:03\n",
       "426885 AA0D5AAA0B59C8AA docked_bike   2020-03-01 13:12:38 2020-03-01 13:38:29\n",
       "426886 3296360A7BC20FB8 docked_bike   2020-03-07 18:02:45 2020-03-07 18:13:18\n",
       "426887 064EC7698E4FF9B3 docked_bike   2020-03-08 13:03:57 2020-03-08 13:32:27\n",
       "       start_station_name              start_station_id\n",
       "1      Western Ave & Leland Ave        239             \n",
       "2      Clark St & Montrose Ave         234             \n",
       "3      Broadway & Belmont Ave          296             \n",
       "4      Clark St & Randolph St           51             \n",
       "5      Clinton St & Lake St             66             \n",
       "6      Wells St & Hubbard St           212             \n",
       "7      Desplaines St & Randolph St      96             \n",
       "8      Desplaines St & Randolph St      96             \n",
       "9      Wells St & Hubbard St           212             \n",
       "10     Clark St & Lake St               38             \n",
       "11     Wilton Ave & Belmont Ave        117             \n",
       "12     LaSalle St & Illinois St        181             \n",
       "13     Clinton St & Washington Blvd     91             \n",
       "14     Clinton St & Washington Blvd     91             \n",
       "15     California Ave & Milwaukee Ave  123             \n",
       "16     Franklin St & Jackson Blvd       36             \n",
       "17     Wilton Ave & Diversey Pkwy       13             \n",
       "18     Franklin St & Jackson Blvd       36             \n",
       "19     Lincoln Ave & Diversey Pkwy     152             \n",
       "20     Kingsbury St & Kinzie St        133             \n",
       "21     Lake Shore Dr & Monroe St        76             \n",
       "22     Canal St & Adams St             192             \n",
       "23     Indiana Ave & Roosevelt Rd      255             \n",
       "24     Broadway & Sheridan Rd          256             \n",
       "25     Desplaines St & Jackson Blvd    107             \n",
       "26     Canal St & Adams St             192             \n",
       "27     Western Ave & Division St       305             \n",
       "28     Franklin St & Jackson Blvd       36             \n",
       "29     Dearborn St & Erie St           110             \n",
       "30     Franklin St & Jackson Blvd       36             \n",
       "⋮      ⋮                               ⋮               \n",
       "426858 Clark St & Lincoln Ave          141             \n",
       "426859 Franklin St & Jackson Blvd       36             \n",
       "426860 Broadway & Waveland Ave         304             \n",
       "426861 Kingsbury St & Kinzie St        133             \n",
       "426862 Wood St & Hubbard St            285             \n",
       "426863 Woodlawn Ave & 55th St          248             \n",
       "426864 Pine Grove Ave & Irving Park Rd 254             \n",
       "426865 Kingsbury St & Kinzie St        133             \n",
       "426866 Wood St & Hubbard St            285             \n",
       "426867 McClurg Ct & Illinois St         26             \n",
       "426868 State St & Kinzie St             47             \n",
       "426869 Buckingham Fountain               2             \n",
       "426870 Clinton St & Washington Blvd     91             \n",
       "426871 State St & Kinzie St             47             \n",
       "426872 State St & Kinzie St             47             \n",
       "426873 Clinton St & Washington Blvd     91             \n",
       "426874 Lakefront Trail & Bryn Mawr Ave 459             \n",
       "426875 State St & Kinzie St             47             \n",
       "426876 Clinton St & Washington Blvd     91             \n",
       "426877 Wacker Dr & Washington St        18             \n",
       "426878 State St & Kinzie St             47             \n",
       "426879 Green St & Randolph St          112             \n",
       "426880 Lakeview Ave & Fullerton Pkwy   313             \n",
       "426881 Clinton St & Washington Blvd     91             \n",
       "426882 HQ QR                           675             \n",
       "426883 HQ QR                           675             \n",
       "426884 Rush St & Superior St           161             \n",
       "426885 Clark St & Lincoln Ave          141             \n",
       "426886 Franklin St & Illinois St       672             \n",
       "426887 Dearborn St & Erie St           110             \n",
       "       end_station_name                    end_station_id start_lat start_lng\n",
       "1      Clark St & Leland Ave               326            41.9665   -87.6884 \n",
       "2      Southport Ave & Irving Park Rd      318            41.9616   -87.6660 \n",
       "3      Wilton Ave & Belmont Ave            117            41.9401   -87.6455 \n",
       "4      Fairbanks Ct & Grand Ave             24            41.8846   -87.6319 \n",
       "5      Wells St & Hubbard St               212            41.8856   -87.6418 \n",
       "6      Desplaines St & Randolph St          96            41.8899   -87.6343 \n",
       "7      Wells St & Hubbard St               212            41.8846   -87.6446 \n",
       "8      Wells St & Hubbard St               212            41.8846   -87.6446 \n",
       "9      Desplaines St & Randolph St          96            41.8899   -87.6343 \n",
       "10     Orleans St & Merchandise Mart Plaza 100            41.8860   -87.6309 \n",
       "11     Clark St & Newport St               632            41.9402   -87.6530 \n",
       "12     Clinton St & Washington Blvd         91            41.8908   -87.6317 \n",
       "13     LaSalle St & Illinois St            181            41.8834   -87.6412 \n",
       "14     LaSalle St & Illinois St            181            41.8834   -87.6412 \n",
       "15     Marshfield Ave & Cortland St         58            41.9227   -87.6972 \n",
       "16     Lincoln Ave & Diversey Pkwy         152            41.8777   -87.6353 \n",
       "17     Franklin St & Jackson Blvd           36            41.9324   -87.6527 \n",
       "18     Lincoln Ave & Diversey Pkwy         152            41.8777   -87.6353 \n",
       "19     Franklin St & Jackson Blvd           36            41.9322   -87.6586 \n",
       "20     Clark St & Chicago Ave              337            41.8892   -87.6385 \n",
       "21     Michigan Ave & Washington St         43            41.8810   -87.6167 \n",
       "22     Michigan Ave & Washington St         43            41.8793   -87.6399 \n",
       "23     Canal St & Adams St                 192            41.8679   -87.6230 \n",
       "24     Sheridan Rd & Irving Park Rd        240            41.9528   -87.6500 \n",
       "25     Michigan Ave & Washington St         43            41.8783   -87.6439 \n",
       "26     Desplaines St & Jackson Blvd        107            41.8793   -87.6399 \n",
       "27     Wood St & Hubbard St                285            41.9029   -87.6873 \n",
       "28     Wells St & Polk St                  175            41.8777   -87.6353 \n",
       "29     Franklin St & Adams St (Temp)       286            41.8940   -87.6293 \n",
       "30     Green St & Madison St               198            41.8777   -87.6353 \n",
       "⋮      ⋮                                   ⋮              ⋮         ⋮        \n",
       "426858 Halsted St & Wrightwood Ave         349            41.9157   -87.6346 \n",
       "426859 Wabash Ave & Wacker Pl              194            41.8777   -87.6353 \n",
       "426860 Pine Grove Ave & Irving Park Rd     254            41.9491   -87.6486 \n",
       "426861 Clark St & Armitage Ave              94            41.8892   -87.6385 \n",
       "426862 Kingsbury St & Kinzie St            133            41.8899   -87.6715 \n",
       "426863 Woodlawn Ave & 55th St              248            41.7953   -87.5965 \n",
       "426864 Broadway & Waveland Ave             304            41.9544   -87.6480 \n",
       "426865 Wood St & Hubbard St                285            41.8892   -87.6385 \n",
       "426866 Kingsbury St & Kinzie St            133            41.8899   -87.6715 \n",
       "426867 State St & Kinzie St                 47            41.8904   -87.6175 \n",
       "426868 Clinton St & Washington Blvd         91            41.8892   -87.6278 \n",
       "426869 Rush St & Cedar St                  172            41.8765   -87.6205 \n",
       "426870 State St & Kinzie St                 47            41.8834   -87.6412 \n",
       "426871 Clinton St & Washington Blvd         91            41.8892   -87.6278 \n",
       "426872 Clinton St & Washington Blvd         91            41.8892   -87.6278 \n",
       "426873 State St & Kinzie St                 47            41.8834   -87.6412 \n",
       "426874 Lakeview Ave & Fullerton Pkwy       313            41.9840   -87.6523 \n",
       "426875 Clinton St & Washington Blvd         91            41.8892   -87.6278 \n",
       "426876 State St & Kinzie St                 47            41.8834   -87.6412 \n",
       "426877 State St & Kinzie St                 47            41.8831   -87.6373 \n",
       "426878 Clinton St & Washington Blvd         91            41.8892   -87.6278 \n",
       "426879 Aberdeen St & Jackson Blvd           21            41.8837   -87.6487 \n",
       "426880 Lakefront Trail & Bryn Mawr Ave     459            41.9259   -87.6390 \n",
       "426881 State St & Kinzie St                 47            41.8834   -87.6412 \n",
       "426882 HQ QR                               675            41.8899   -87.6803 \n",
       "426883 HQ QR                               675            41.8899   -87.6803 \n",
       "426884 Sheridan Rd & Irving Park Rd        240            41.8958   -87.6259 \n",
       "426885 Ashland Ave & Division St           210            41.9157   -87.6346 \n",
       "426886 Stetson Ave & South Water St        264            41.8910   -87.6355 \n",
       "426887 Michigan Ave & Oak St                85            41.8940   -87.6293 \n",
       "       end_lat end_lng  member_casual\n",
       "1      41.9671 -87.6674 member       \n",
       "2      41.9542 -87.6644 member       \n",
       "3      41.9402 -87.6530 member       \n",
       "4      41.8918 -87.6206 member       \n",
       "5      41.8899 -87.6343 member       \n",
       "6      41.8846 -87.6446 member       \n",
       "7      41.8899 -87.6343 member       \n",
       "8      41.8899 -87.6343 member       \n",
       "9      41.8846 -87.6446 member       \n",
       "10     41.8882 -87.6364 member       \n",
       "11     41.9445 -87.6547 member       \n",
       "12     41.8834 -87.6412 member       \n",
       "13     41.8908 -87.6317 member       \n",
       "14     41.8908 -87.6317 member       \n",
       "15     41.9160 -87.6689 member       \n",
       "16     41.9322 -87.6586 member       \n",
       "17     41.8777 -87.6353 member       \n",
       "18     41.9322 -87.6586 member       \n",
       "19     41.8777 -87.6353 member       \n",
       "20     41.8968 -87.6309 member       \n",
       "21     41.8840 -87.6247 casual       \n",
       "22     41.8840 -87.6247 member       \n",
       "23     41.8793 -87.6399 member       \n",
       "24     41.9542 -87.6544 member       \n",
       "25     41.8840 -87.6247 member       \n",
       "26     41.8783 -87.6439 member       \n",
       "27     41.8899 -87.6715 member       \n",
       "28     41.8726 -87.6335 member       \n",
       "29     41.8794 -87.6355 member       \n",
       "30     41.8819 -87.6488 member       \n",
       "⋮      ⋮       ⋮        ⋮            \n",
       "426858 41.9291 -87.6491 casual       \n",
       "426859 41.8869 -87.6260 casual       \n",
       "426860 41.9544 -87.6480 member       \n",
       "426861 41.9183 -87.6363 member       \n",
       "426862 41.8892 -87.6385 member       \n",
       "426863 41.7953 -87.5965 casual       \n",
       "426864 41.9491 -87.6486 member       \n",
       "426865 41.8899 -87.6715 member       \n",
       "426866 41.8892 -87.6385 member       \n",
       "426867 41.8892 -87.6278 member       \n",
       "426868 41.8834 -87.6412 member       \n",
       "426869 41.9023 -87.6277 casual       \n",
       "426870 41.8892 -87.6278 member       \n",
       "426871 41.8834 -87.6412 member       \n",
       "426872 41.8834 -87.6412 member       \n",
       "426873 41.8892 -87.6278 member       \n",
       "426874 41.9259 -87.6390 member       \n",
       "426875 41.8834 -87.6412 member       \n",
       "426876 41.8892 -87.6278 member       \n",
       "426877 41.8892 -87.6278 member       \n",
       "426878 41.8834 -87.6412 member       \n",
       "426879 41.8777 -87.6548 member       \n",
       "426880 41.9840 -87.6523 member       \n",
       "426881 41.8892 -87.6278 member       \n",
       "426882 41.8899 -87.6803 casual       \n",
       "426883 41.8899 -87.6803 casual       \n",
       "426884 41.9542 -87.6544 member       \n",
       "426885 41.9035 -87.6677 casual       \n",
       "426886 41.8868 -87.6223 member       \n",
       "426887 41.9010 -87.6238 casual       "
      ]
     },
     "metadata": {},
     "output_type": "display_data"
    }
   ],
   "source": [
    "View(q1_2019)\n",
    "View(q1_2020)"
   ]
  },
  {
   "cell_type": "markdown",
   "id": "d93af608",
   "metadata": {
    "papermill": {
     "duration": 0.013837,
     "end_time": "2025-01-10T12:49:02.244006",
     "exception": false,
     "start_time": "2025-01-10T12:49:02.230169",
     "status": "completed"
    },
    "tags": []
   },
   "source": [
    "## Wrangling data and combining into a single dataset\n",
    "\n",
    "### Compare column names for each of the files\n",
    "While the names don't have to be in the same order, they DO need to match perfectly before we can join them together"
   ]
  },
  {
   "cell_type": "code",
   "execution_count": 4,
   "id": "b2da80f6",
   "metadata": {
    "execution": {
     "iopub.execute_input": "2025-01-10T12:49:02.275841Z",
     "iopub.status.busy": "2025-01-10T12:49:02.273880Z",
     "iopub.status.idle": "2025-01-10T12:49:02.303801Z",
     "shell.execute_reply": "2025-01-10T12:49:02.301481Z"
    },
    "papermill": {
     "duration": 0.048695,
     "end_time": "2025-01-10T12:49:02.306520",
     "exception": false,
     "start_time": "2025-01-10T12:49:02.257825",
     "status": "completed"
    },
    "tags": []
   },
   "outputs": [
    {
     "data": {
      "text/html": [
       "<style>\n",
       ".list-inline {list-style: none; margin:0; padding: 0}\n",
       ".list-inline>li {display: inline-block}\n",
       ".list-inline>li:not(:last-child)::after {content: \"\\00b7\"; padding: 0 .5ex}\n",
       "</style>\n",
       "<ol class=list-inline><li>'trip_id'</li><li>'start_time'</li><li>'end_time'</li><li>'bikeid'</li><li>'tripduration'</li><li>'from_station_id'</li><li>'from_station_name'</li><li>'to_station_id'</li><li>'to_station_name'</li><li>'usertype'</li><li>'gender'</li><li>'birthyear'</li></ol>\n"
      ],
      "text/latex": [
       "\\begin{enumerate*}\n",
       "\\item 'trip\\_id'\n",
       "\\item 'start\\_time'\n",
       "\\item 'end\\_time'\n",
       "\\item 'bikeid'\n",
       "\\item 'tripduration'\n",
       "\\item 'from\\_station\\_id'\n",
       "\\item 'from\\_station\\_name'\n",
       "\\item 'to\\_station\\_id'\n",
       "\\item 'to\\_station\\_name'\n",
       "\\item 'usertype'\n",
       "\\item 'gender'\n",
       "\\item 'birthyear'\n",
       "\\end{enumerate*}\n"
      ],
      "text/markdown": [
       "1. 'trip_id'\n",
       "2. 'start_time'\n",
       "3. 'end_time'\n",
       "4. 'bikeid'\n",
       "5. 'tripduration'\n",
       "6. 'from_station_id'\n",
       "7. 'from_station_name'\n",
       "8. 'to_station_id'\n",
       "9. 'to_station_name'\n",
       "10. 'usertype'\n",
       "11. 'gender'\n",
       "12. 'birthyear'\n",
       "\n",
       "\n"
      ],
      "text/plain": [
       " [1] \"trip_id\"           \"start_time\"        \"end_time\"         \n",
       " [4] \"bikeid\"            \"tripduration\"      \"from_station_id\"  \n",
       " [7] \"from_station_name\" \"to_station_id\"     \"to_station_name\"  \n",
       "[10] \"usertype\"          \"gender\"            \"birthyear\"        "
      ]
     },
     "metadata": {},
     "output_type": "display_data"
    },
    {
     "data": {
      "text/html": [
       "<style>\n",
       ".list-inline {list-style: none; margin:0; padding: 0}\n",
       ".list-inline>li {display: inline-block}\n",
       ".list-inline>li:not(:last-child)::after {content: \"\\00b7\"; padding: 0 .5ex}\n",
       "</style>\n",
       "<ol class=list-inline><li>'ride_id'</li><li>'rideable_type'</li><li>'started_at'</li><li>'ended_at'</li><li>'start_station_name'</li><li>'start_station_id'</li><li>'end_station_name'</li><li>'end_station_id'</li><li>'start_lat'</li><li>'start_lng'</li><li>'end_lat'</li><li>'end_lng'</li><li>'member_casual'</li></ol>\n"
      ],
      "text/latex": [
       "\\begin{enumerate*}\n",
       "\\item 'ride\\_id'\n",
       "\\item 'rideable\\_type'\n",
       "\\item 'started\\_at'\n",
       "\\item 'ended\\_at'\n",
       "\\item 'start\\_station\\_name'\n",
       "\\item 'start\\_station\\_id'\n",
       "\\item 'end\\_station\\_name'\n",
       "\\item 'end\\_station\\_id'\n",
       "\\item 'start\\_lat'\n",
       "\\item 'start\\_lng'\n",
       "\\item 'end\\_lat'\n",
       "\\item 'end\\_lng'\n",
       "\\item 'member\\_casual'\n",
       "\\end{enumerate*}\n"
      ],
      "text/markdown": [
       "1. 'ride_id'\n",
       "2. 'rideable_type'\n",
       "3. 'started_at'\n",
       "4. 'ended_at'\n",
       "5. 'start_station_name'\n",
       "6. 'start_station_id'\n",
       "7. 'end_station_name'\n",
       "8. 'end_station_id'\n",
       "9. 'start_lat'\n",
       "10. 'start_lng'\n",
       "11. 'end_lat'\n",
       "12. 'end_lng'\n",
       "13. 'member_casual'\n",
       "\n",
       "\n"
      ],
      "text/plain": [
       " [1] \"ride_id\"            \"rideable_type\"      \"started_at\"        \n",
       " [4] \"ended_at\"           \"start_station_name\" \"start_station_id\"  \n",
       " [7] \"end_station_name\"   \"end_station_id\"     \"start_lat\"         \n",
       "[10] \"start_lng\"          \"end_lat\"            \"end_lng\"           \n",
       "[13] \"member_casual\"     "
      ]
     },
     "metadata": {},
     "output_type": "display_data"
    }
   ],
   "source": [
    "colnames(q1_2019)\n",
    "colnames(q1_2020)"
   ]
  },
  {
   "cell_type": "markdown",
   "id": "cae8b74f",
   "metadata": {
    "papermill": {
     "duration": 0.013952,
     "end_time": "2025-01-10T12:49:02.334586",
     "exception": false,
     "start_time": "2025-01-10T12:49:02.320634",
     "status": "completed"
    },
    "tags": []
   },
   "source": [
    "### Renaming columns\n",
    "\n",
    "After the datasets were loaded, we proceeded to the renaming of columns to make them consistent. Datasets from 2020 have light changes in the naming of columns."
   ]
  },
  {
   "cell_type": "code",
   "execution_count": 5,
   "id": "fc4a7085",
   "metadata": {
    "execution": {
     "iopub.execute_input": "2025-01-10T12:49:02.367798Z",
     "iopub.status.busy": "2025-01-10T12:49:02.365669Z",
     "iopub.status.idle": "2025-01-10T12:49:02.573650Z",
     "shell.execute_reply": "2025-01-10T12:49:02.570922Z"
    },
    "papermill": {
     "duration": 0.227868,
     "end_time": "2025-01-10T12:49:02.576530",
     "exception": false,
     "start_time": "2025-01-10T12:49:02.348662",
     "status": "completed"
    },
    "tags": []
   },
   "outputs": [
    {
     "data": {
      "text/html": [
       "<table class=\"dataframe\">\n",
       "<caption>A data.frame: 426887 × 13</caption>\n",
       "<thead>\n",
       "\t<tr><th scope=col>trip_id</th><th scope=col>bikeid</th><th scope=col>start_time</th><th scope=col>end_time</th><th scope=col>from_station_name</th><th scope=col>from_station_id</th><th scope=col>to_station_name</th><th scope=col>to_station_id</th><th scope=col>start_lat</th><th scope=col>start_lng</th><th scope=col>end_lat</th><th scope=col>end_lng</th><th scope=col>usertype</th></tr>\n",
       "\t<tr><th scope=col>&lt;chr&gt;</th><th scope=col>&lt;chr&gt;</th><th scope=col>&lt;chr&gt;</th><th scope=col>&lt;chr&gt;</th><th scope=col>&lt;chr&gt;</th><th scope=col>&lt;int&gt;</th><th scope=col>&lt;chr&gt;</th><th scope=col>&lt;int&gt;</th><th scope=col>&lt;dbl&gt;</th><th scope=col>&lt;dbl&gt;</th><th scope=col>&lt;dbl&gt;</th><th scope=col>&lt;dbl&gt;</th><th scope=col>&lt;chr&gt;</th></tr>\n",
       "</thead>\n",
       "<tbody>\n",
       "\t<tr><td>EACB19130B0CDA4A</td><td>docked_bike</td><td>2020-01-21 20:06:59</td><td>2020-01-21 20:14:30</td><td><span style=white-space:pre-wrap>Western Ave &amp; Leland Ave      </span></td><td>239</td><td><span style=white-space:pre-wrap>Clark St &amp; Leland Ave              </span></td><td>326</td><td>41.9665</td><td>-87.6884</td><td>41.9671</td><td>-87.6674</td><td>member</td></tr>\n",
       "\t<tr><td>8FED874C809DC021</td><td>docked_bike</td><td>2020-01-30 14:22:39</td><td>2020-01-30 14:26:22</td><td><span style=white-space:pre-wrap>Clark St &amp; Montrose Ave       </span></td><td>234</td><td><span style=white-space:pre-wrap>Southport Ave &amp; Irving Park Rd     </span></td><td>318</td><td>41.9616</td><td>-87.6660</td><td>41.9542</td><td>-87.6644</td><td>member</td></tr>\n",
       "\t<tr><td>789F3C21E472CA96</td><td>docked_bike</td><td>2020-01-09 19:29:26</td><td>2020-01-09 19:32:17</td><td><span style=white-space:pre-wrap>Broadway &amp; Belmont Ave        </span></td><td>296</td><td><span style=white-space:pre-wrap>Wilton Ave &amp; Belmont Ave           </span></td><td>117</td><td>41.9401</td><td>-87.6455</td><td>41.9402</td><td>-87.6530</td><td>member</td></tr>\n",
       "\t<tr><td>C9A388DAC6ABF313</td><td>docked_bike</td><td>2020-01-06 16:17:07</td><td>2020-01-06 16:25:56</td><td><span style=white-space:pre-wrap>Clark St &amp; Randolph St        </span></td><td> 51</td><td><span style=white-space:pre-wrap>Fairbanks Ct &amp; Grand Ave           </span></td><td> 24</td><td>41.8846</td><td>-87.6319</td><td>41.8918</td><td>-87.6206</td><td>member</td></tr>\n",
       "\t<tr><td>943BC3CBECCFD662</td><td>docked_bike</td><td>2020-01-30 08:37:16</td><td>2020-01-30 08:42:48</td><td><span style=white-space:pre-wrap>Clinton St &amp; Lake St          </span></td><td> 66</td><td><span style=white-space:pre-wrap>Wells St &amp; Hubbard St              </span></td><td>212</td><td>41.8856</td><td>-87.6418</td><td>41.8899</td><td>-87.6343</td><td>member</td></tr>\n",
       "\t<tr><td>6D9C8A6938165C11</td><td>docked_bike</td><td>2020-01-10 12:33:05</td><td>2020-01-10 12:37:54</td><td><span style=white-space:pre-wrap>Wells St &amp; Hubbard St         </span></td><td>212</td><td><span style=white-space:pre-wrap>Desplaines St &amp; Randolph St        </span></td><td> 96</td><td>41.8899</td><td>-87.6343</td><td>41.8846</td><td>-87.6446</td><td>member</td></tr>\n",
       "\t<tr><td>31EB9B8F406D4C82</td><td>docked_bike</td><td>2020-01-10 13:07:35</td><td>2020-01-10 13:12:24</td><td><span style=white-space:pre-wrap>Desplaines St &amp; Randolph St   </span></td><td> 96</td><td><span style=white-space:pre-wrap>Wells St &amp; Hubbard St              </span></td><td>212</td><td>41.8846</td><td>-87.6446</td><td>41.8899</td><td>-87.6343</td><td>member</td></tr>\n",
       "\t<tr><td>A2B24E3F9C9720E3</td><td>docked_bike</td><td>2020-01-10 07:24:53</td><td>2020-01-10 07:29:50</td><td><span style=white-space:pre-wrap>Desplaines St &amp; Randolph St   </span></td><td> 96</td><td><span style=white-space:pre-wrap>Wells St &amp; Hubbard St              </span></td><td>212</td><td>41.8846</td><td>-87.6446</td><td>41.8899</td><td>-87.6343</td><td>member</td></tr>\n",
       "\t<tr><td>5E3F01E1441730B7</td><td>docked_bike</td><td>2020-01-31 16:37:16</td><td>2020-01-31 16:42:11</td><td><span style=white-space:pre-wrap>Wells St &amp; Hubbard St         </span></td><td>212</td><td><span style=white-space:pre-wrap>Desplaines St &amp; Randolph St        </span></td><td> 96</td><td>41.8899</td><td>-87.6343</td><td>41.8846</td><td>-87.6446</td><td>member</td></tr>\n",
       "\t<tr><td>19DC57F7E3140131</td><td>docked_bike</td><td>2020-01-31 09:39:17</td><td>2020-01-31 09:42:40</td><td><span style=white-space:pre-wrap>Clark St &amp; Lake St            </span></td><td> 38</td><td>Orleans St &amp; Merchandise Mart Plaza</td><td>100</td><td>41.8860</td><td>-87.6309</td><td>41.8882</td><td>-87.6364</td><td>member</td></tr>\n",
       "\t<tr><td>8639202DD9FD9A41</td><td>docked_bike</td><td>2020-01-07 22:46:52</td><td>2020-01-07 22:50:08</td><td><span style=white-space:pre-wrap>Wilton Ave &amp; Belmont Ave      </span></td><td>117</td><td><span style=white-space:pre-wrap>Clark St &amp; Newport St              </span></td><td>632</td><td>41.9402</td><td>-87.6530</td><td>41.9445</td><td>-87.6547</td><td>member</td></tr>\n",
       "\t<tr><td>9E74E3BB4FFAB93A</td><td>docked_bike</td><td>2020-01-08 16:02:44</td><td>2020-01-08 16:09:04</td><td><span style=white-space:pre-wrap>LaSalle St &amp; Illinois St      </span></td><td>181</td><td><span style=white-space:pre-wrap>Clinton St &amp; Washington Blvd       </span></td><td> 91</td><td>41.8908</td><td>-87.6317</td><td>41.8834</td><td>-87.6412</td><td>member</td></tr>\n",
       "\t<tr><td>3B8B2E2F29B63597</td><td>docked_bike</td><td>2020-01-08 09:33:13</td><td>2020-01-08 09:42:02</td><td><span style=white-space:pre-wrap>Clinton St &amp; Washington Blvd  </span></td><td> 91</td><td><span style=white-space:pre-wrap>LaSalle St &amp; Illinois St           </span></td><td>181</td><td>41.8834</td><td>-87.6412</td><td>41.8908</td><td>-87.6317</td><td>member</td></tr>\n",
       "\t<tr><td>0F8517F8D21287D2</td><td>docked_bike</td><td>2020-01-23 09:38:11</td><td>2020-01-23 09:45:56</td><td><span style=white-space:pre-wrap>Clinton St &amp; Washington Blvd  </span></td><td> 91</td><td><span style=white-space:pre-wrap>LaSalle St &amp; Illinois St           </span></td><td>181</td><td>41.8834</td><td>-87.6412</td><td>41.8908</td><td>-87.6317</td><td>member</td></tr>\n",
       "\t<tr><td>15A91638FAEC2641</td><td>docked_bike</td><td>2020-01-28 20:52:50</td><td>2020-01-28 21:09:30</td><td>California Ave &amp; Milwaukee Ave</td><td>123</td><td><span style=white-space:pre-wrap>Marshfield Ave &amp; Cortland St       </span></td><td> 58</td><td>41.9227</td><td>-87.6972</td><td>41.9160</td><td>-87.6689</td><td>member</td></tr>\n",
       "\t<tr><td>E45104F1ED756AF7</td><td>docked_bike</td><td>2020-01-07 17:06:14</td><td>2020-01-07 17:42:01</td><td><span style=white-space:pre-wrap>Franklin St &amp; Jackson Blvd    </span></td><td> 36</td><td><span style=white-space:pre-wrap>Lincoln Ave &amp; Diversey Pkwy        </span></td><td>152</td><td>41.8777</td><td>-87.6353</td><td>41.9322</td><td>-87.6586</td><td>member</td></tr>\n",
       "\t<tr><td>219541294624C4B7</td><td>docked_bike</td><td>2020-01-07 08:38:55</td><td>2020-01-07 09:11:40</td><td><span style=white-space:pre-wrap>Wilton Ave &amp; Diversey Pkwy    </span></td><td> 13</td><td><span style=white-space:pre-wrap>Franklin St &amp; Jackson Blvd         </span></td><td> 36</td><td>41.9324</td><td>-87.6527</td><td>41.8777</td><td>-87.6353</td><td>member</td></tr>\n",
       "\t<tr><td>013862D47804B9A4</td><td>docked_bike</td><td>2020-01-06 17:16:14</td><td>2020-01-06 17:48:21</td><td><span style=white-space:pre-wrap>Franklin St &amp; Jackson Blvd    </span></td><td> 36</td><td><span style=white-space:pre-wrap>Lincoln Ave &amp; Diversey Pkwy        </span></td><td>152</td><td>41.8777</td><td>-87.6353</td><td>41.9322</td><td>-87.6586</td><td>member</td></tr>\n",
       "\t<tr><td>00678BB4A8438651</td><td>docked_bike</td><td>2020-01-06 08:44:31</td><td>2020-01-06 09:21:28</td><td><span style=white-space:pre-wrap>Lincoln Ave &amp; Diversey Pkwy   </span></td><td>152</td><td><span style=white-space:pre-wrap>Franklin St &amp; Jackson Blvd         </span></td><td> 36</td><td>41.9322</td><td>-87.6586</td><td>41.8777</td><td>-87.6353</td><td>member</td></tr>\n",
       "\t<tr><td>A854F81611B5A5C0</td><td>docked_bike</td><td>2020-01-19 12:04:10</td><td>2020-01-19 12:10:18</td><td><span style=white-space:pre-wrap>Kingsbury St &amp; Kinzie St      </span></td><td>133</td><td><span style=white-space:pre-wrap>Clark St &amp; Chicago Ave             </span></td><td>337</td><td>41.8892</td><td>-87.6385</td><td>41.8968</td><td>-87.6309</td><td>member</td></tr>\n",
       "\t<tr><td>3479141FF24AD595</td><td>docked_bike</td><td>2020-01-16 17:10:39</td><td>2020-01-16 17:40:40</td><td><span style=white-space:pre-wrap>Lake Shore Dr &amp; Monroe St     </span></td><td> 76</td><td><span style=white-space:pre-wrap>Michigan Ave &amp; Washington St       </span></td><td> 43</td><td>41.8810</td><td>-87.6167</td><td>41.8840</td><td>-87.6247</td><td>casual</td></tr>\n",
       "\t<tr><td>81D44C3E2353F9BE</td><td>docked_bike</td><td>2020-01-08 15:47:42</td><td>2020-01-08 15:58:40</td><td><span style=white-space:pre-wrap>Canal St &amp; Adams St           </span></td><td>192</td><td><span style=white-space:pre-wrap>Michigan Ave &amp; Washington St       </span></td><td> 43</td><td>41.8793</td><td>-87.6399</td><td>41.8840</td><td>-87.6247</td><td>member</td></tr>\n",
       "\t<tr><td>1AA18F54DC4A8636</td><td>docked_bike</td><td>2020-01-08 06:29:01</td><td>2020-01-08 06:50:02</td><td><span style=white-space:pre-wrap>Indiana Ave &amp; Roosevelt Rd    </span></td><td>255</td><td><span style=white-space:pre-wrap>Canal St &amp; Adams St                </span></td><td>192</td><td>41.8679</td><td>-87.6230</td><td>41.8793</td><td>-87.6399</td><td>member</td></tr>\n",
       "\t<tr><td>F5FB29DCF841C9F3</td><td>docked_bike</td><td>2020-01-08 07:30:59</td><td>2020-01-08 07:33:54</td><td><span style=white-space:pre-wrap>Broadway &amp; Sheridan Rd        </span></td><td>256</td><td><span style=white-space:pre-wrap>Sheridan Rd &amp; Irving Park Rd       </span></td><td>240</td><td>41.9528</td><td>-87.6500</td><td>41.9542</td><td>-87.6544</td><td>member</td></tr>\n",
       "\t<tr><td>869F3755B34163BA</td><td>docked_bike</td><td>2020-01-23 15:23:54</td><td>2020-01-23 15:37:37</td><td><span style=white-space:pre-wrap>Desplaines St &amp; Jackson Blvd  </span></td><td>107</td><td><span style=white-space:pre-wrap>Michigan Ave &amp; Washington St       </span></td><td> 43</td><td>41.8783</td><td>-87.6439</td><td>41.8840</td><td>-87.6247</td><td>member</td></tr>\n",
       "\t<tr><td>00EDF290239E4843</td><td>docked_bike</td><td>2020-01-23 14:59:58</td><td>2020-01-23 15:02:49</td><td><span style=white-space:pre-wrap>Canal St &amp; Adams St           </span></td><td>192</td><td><span style=white-space:pre-wrap>Desplaines St &amp; Jackson Blvd       </span></td><td>107</td><td>41.8793</td><td>-87.6399</td><td>41.8783</td><td>-87.6439</td><td>member</td></tr>\n",
       "\t<tr><td>CA8E2F8EB7A7639C</td><td>docked_bike</td><td>2020-01-11 14:45:48</td><td>2020-01-11 14:58:46</td><td><span style=white-space:pre-wrap>Western Ave &amp; Division St     </span></td><td>305</td><td><span style=white-space:pre-wrap>Wood St &amp; Hubbard St               </span></td><td>285</td><td>41.9029</td><td>-87.6873</td><td>41.8899</td><td>-87.6715</td><td>member</td></tr>\n",
       "\t<tr><td>7996062626A55CEF</td><td>docked_bike</td><td>2020-01-17 13:44:55</td><td>2020-01-17 13:48:33</td><td><span style=white-space:pre-wrap>Franklin St &amp; Jackson Blvd    </span></td><td> 36</td><td><span style=white-space:pre-wrap>Wells St &amp; Polk St                 </span></td><td>175</td><td>41.8777</td><td>-87.6353</td><td>41.8726</td><td>-87.6335</td><td>member</td></tr>\n",
       "\t<tr><td>142E7C9831AE8D5D</td><td>docked_bike</td><td>2020-01-08 08:23:41</td><td>2020-01-08 08:36:31</td><td><span style=white-space:pre-wrap>Dearborn St &amp; Erie St         </span></td><td>110</td><td><span style=white-space:pre-wrap>Franklin St &amp; Adams St (Temp)      </span></td><td>286</td><td>41.8940</td><td>-87.6293</td><td>41.8794</td><td>-87.6355</td><td>member</td></tr>\n",
       "\t<tr><td>82061D73814586B2</td><td>docked_bike</td><td>2020-01-08 16:22:13</td><td>2020-01-08 16:30:43</td><td><span style=white-space:pre-wrap>Franklin St &amp; Jackson Blvd    </span></td><td> 36</td><td><span style=white-space:pre-wrap>Green St &amp; Madison St              </span></td><td>198</td><td>41.8777</td><td>-87.6353</td><td>41.8819</td><td>-87.6488</td><td>member</td></tr>\n",
       "\t<tr><td>⋮</td><td>⋮</td><td>⋮</td><td>⋮</td><td>⋮</td><td>⋮</td><td>⋮</td><td>⋮</td><td>⋮</td><td>⋮</td><td>⋮</td><td>⋮</td><td>⋮</td></tr>\n",
       "\t<tr><td>8A8A039BB7072249</td><td>docked_bike</td><td>2020-03-02 17:29:26</td><td>2020-03-02 17:50:51</td><td><span style=white-space:pre-wrap>Clark St &amp; Lincoln Ave         </span></td><td>141</td><td><span style=white-space:pre-wrap>Halsted St &amp; Wrightwood Ave    </span></td><td>349</td><td>41.9157</td><td>-87.6346</td><td>41.9291</td><td>-87.6491</td><td>casual</td></tr>\n",
       "\t<tr><td>6244F21F053BA361</td><td>docked_bike</td><td>2020-03-13 16:58:54</td><td>2020-03-13 17:31:11</td><td><span style=white-space:pre-wrap>Franklin St &amp; Jackson Blvd     </span></td><td> 36</td><td><span style=white-space:pre-wrap>Wabash Ave &amp; Wacker Pl         </span></td><td>194</td><td>41.8777</td><td>-87.6353</td><td>41.8869</td><td>-87.6260</td><td>casual</td></tr>\n",
       "\t<tr><td>058D62FDDBF3C606</td><td>docked_bike</td><td>2020-03-12 15:39:44</td><td>2020-03-12 15:43:06</td><td><span style=white-space:pre-wrap>Broadway &amp; Waveland Ave        </span></td><td>304</td><td>Pine Grove Ave &amp; Irving Park Rd</td><td>254</td><td>41.9491</td><td>-87.6486</td><td>41.9544</td><td>-87.6480</td><td>member</td></tr>\n",
       "\t<tr><td>A2FFBD0AA763B19D</td><td>docked_bike</td><td>2020-03-11 18:39:03</td><td>2020-03-11 18:55:05</td><td><span style=white-space:pre-wrap>Kingsbury St &amp; Kinzie St       </span></td><td>133</td><td><span style=white-space:pre-wrap>Clark St &amp; Armitage Ave        </span></td><td> 94</td><td>41.8892</td><td>-87.6385</td><td>41.9183</td><td>-87.6363</td><td>member</td></tr>\n",
       "\t<tr><td>21A760C7DC9FD318</td><td>docked_bike</td><td>2020-03-11 16:06:45</td><td>2020-03-11 16:17:42</td><td><span style=white-space:pre-wrap>Wood St &amp; Hubbard St           </span></td><td>285</td><td><span style=white-space:pre-wrap>Kingsbury St &amp; Kinzie St       </span></td><td>133</td><td>41.8899</td><td>-87.6715</td><td>41.8892</td><td>-87.6385</td><td>member</td></tr>\n",
       "\t<tr><td>36A20E87B11FF36D</td><td>docked_bike</td><td>2020-03-01 15:16:06</td><td>2020-03-01 16:36:04</td><td><span style=white-space:pre-wrap>Woodlawn Ave &amp; 55th St         </span></td><td>248</td><td><span style=white-space:pre-wrap>Woodlawn Ave &amp; 55th St         </span></td><td>248</td><td>41.7953</td><td>-87.5965</td><td>41.7953</td><td>-87.5965</td><td>casual</td></tr>\n",
       "\t<tr><td>FEB95D075E9435E4</td><td>docked_bike</td><td>2020-03-04 07:25:24</td><td>2020-03-04 07:28:25</td><td>Pine Grove Ave &amp; Irving Park Rd</td><td>254</td><td><span style=white-space:pre-wrap>Broadway &amp; Waveland Ave        </span></td><td>304</td><td>41.9544</td><td>-87.6480</td><td>41.9491</td><td>-87.6486</td><td>member</td></tr>\n",
       "\t<tr><td>FD4B140C786D9E1D</td><td>docked_bike</td><td>2020-03-04 17:54:24</td><td>2020-03-04 18:04:18</td><td><span style=white-space:pre-wrap>Kingsbury St &amp; Kinzie St       </span></td><td>133</td><td><span style=white-space:pre-wrap>Wood St &amp; Hubbard St           </span></td><td>285</td><td>41.8892</td><td>-87.6385</td><td>41.8899</td><td>-87.6715</td><td>member</td></tr>\n",
       "\t<tr><td>062828AF86F56FA8</td><td>docked_bike</td><td>2020-03-10 15:38:13</td><td>2020-03-10 15:48:55</td><td><span style=white-space:pre-wrap>Wood St &amp; Hubbard St           </span></td><td>285</td><td><span style=white-space:pre-wrap>Kingsbury St &amp; Kinzie St       </span></td><td>133</td><td>41.8899</td><td>-87.6715</td><td>41.8892</td><td>-87.6385</td><td>member</td></tr>\n",
       "\t<tr><td>FB323E655F08521D</td><td>docked_bike</td><td>2020-03-10 08:46:57</td><td>2020-03-10 08:54:10</td><td><span style=white-space:pre-wrap>McClurg Ct &amp; Illinois St       </span></td><td> 26</td><td><span style=white-space:pre-wrap>State St &amp; Kinzie St           </span></td><td> 47</td><td>41.8904</td><td>-87.6175</td><td>41.8892</td><td>-87.6278</td><td>member</td></tr>\n",
       "\t<tr><td>7CD5C610872581BB</td><td>docked_bike</td><td>2020-03-02 15:56:46</td><td>2020-03-02 16:04:48</td><td><span style=white-space:pre-wrap>State St &amp; Kinzie St           </span></td><td> 47</td><td><span style=white-space:pre-wrap>Clinton St &amp; Washington Blvd   </span></td><td> 91</td><td>41.8892</td><td>-87.6278</td><td>41.8834</td><td>-87.6412</td><td>member</td></tr>\n",
       "\t<tr><td>330C4C8905197AAD</td><td>docked_bike</td><td>2020-03-08 13:34:12</td><td>2020-03-08 13:55:43</td><td><span style=white-space:pre-wrap>Buckingham Fountain            </span></td><td><span style=white-space:pre-wrap>  2</span></td><td><span style=white-space:pre-wrap>Rush St &amp; Cedar St             </span></td><td>172</td><td>41.8765</td><td>-87.6205</td><td>41.9023</td><td>-87.6277</td><td>casual</td></tr>\n",
       "\t<tr><td>0B8742C644002BB1</td><td>docked_bike</td><td>2020-03-10 06:46:32</td><td>2020-03-10 06:54:34</td><td><span style=white-space:pre-wrap>Clinton St &amp; Washington Blvd   </span></td><td> 91</td><td><span style=white-space:pre-wrap>State St &amp; Kinzie St           </span></td><td> 47</td><td>41.8834</td><td>-87.6412</td><td>41.8892</td><td>-87.6278</td><td>member</td></tr>\n",
       "\t<tr><td>BA30D82E5928E7A7</td><td>docked_bike</td><td>2020-03-09 15:52:18</td><td>2020-03-09 15:59:47</td><td><span style=white-space:pre-wrap>State St &amp; Kinzie St           </span></td><td> 47</td><td><span style=white-space:pre-wrap>Clinton St &amp; Washington Blvd   </span></td><td> 91</td><td>41.8892</td><td>-87.6278</td><td>41.8834</td><td>-87.6412</td><td>member</td></tr>\n",
       "\t<tr><td>B46765A0DB572D4B</td><td>docked_bike</td><td>2020-03-12 15:57:23</td><td>2020-03-12 16:04:09</td><td><span style=white-space:pre-wrap>State St &amp; Kinzie St           </span></td><td> 47</td><td><span style=white-space:pre-wrap>Clinton St &amp; Washington Blvd   </span></td><td> 91</td><td>41.8892</td><td>-87.6278</td><td>41.8834</td><td>-87.6412</td><td>member</td></tr>\n",
       "\t<tr><td>1C755B56146D806B</td><td>docked_bike</td><td>2020-03-06 07:13:14</td><td>2020-03-06 07:21:03</td><td><span style=white-space:pre-wrap>Clinton St &amp; Washington Blvd   </span></td><td> 91</td><td><span style=white-space:pre-wrap>State St &amp; Kinzie St           </span></td><td> 47</td><td>41.8834</td><td>-87.6412</td><td>41.8892</td><td>-87.6278</td><td>member</td></tr>\n",
       "\t<tr><td>46230CF6653E2CDE</td><td>docked_bike</td><td>2020-03-25 17:59:02</td><td>2020-03-25 18:29:31</td><td>Lakefront Trail &amp; Bryn Mawr Ave</td><td>459</td><td><span style=white-space:pre-wrap>Lakeview Ave &amp; Fullerton Pkwy  </span></td><td>313</td><td>41.9840</td><td>-87.6523</td><td>41.9259</td><td>-87.6390</td><td>member</td></tr>\n",
       "\t<tr><td>62BD7FE2B823B34E</td><td>docked_bike</td><td>2020-03-11 15:56:59</td><td>2020-03-11 16:03:43</td><td><span style=white-space:pre-wrap>State St &amp; Kinzie St           </span></td><td> 47</td><td><span style=white-space:pre-wrap>Clinton St &amp; Washington Blvd   </span></td><td> 91</td><td>41.8892</td><td>-87.6278</td><td>41.8834</td><td>-87.6412</td><td>member</td></tr>\n",
       "\t<tr><td>0E1BBACD66CAF13D</td><td>docked_bike</td><td>2020-03-02 06:47:31</td><td>2020-03-02 06:55:04</td><td><span style=white-space:pre-wrap>Clinton St &amp; Washington Blvd   </span></td><td> 91</td><td><span style=white-space:pre-wrap>State St &amp; Kinzie St           </span></td><td> 47</td><td>41.8834</td><td>-87.6412</td><td>41.8892</td><td>-87.6278</td><td>member</td></tr>\n",
       "\t<tr><td>72C026003AC3ED3C</td><td>docked_bike</td><td>2020-03-04 07:13:56</td><td>2020-03-04 07:21:10</td><td><span style=white-space:pre-wrap>Wacker Dr &amp; Washington St      </span></td><td> 18</td><td><span style=white-space:pre-wrap>State St &amp; Kinzie St           </span></td><td> 47</td><td>41.8831</td><td>-87.6373</td><td>41.8892</td><td>-87.6278</td><td>member</td></tr>\n",
       "\t<tr><td>59CD7783230EBC26</td><td>docked_bike</td><td>2020-03-06 15:58:30</td><td>2020-03-06 16:05:48</td><td><span style=white-space:pre-wrap>State St &amp; Kinzie St           </span></td><td> 47</td><td><span style=white-space:pre-wrap>Clinton St &amp; Washington Blvd   </span></td><td> 91</td><td>41.8892</td><td>-87.6278</td><td>41.8834</td><td>-87.6412</td><td>member</td></tr>\n",
       "\t<tr><td>33EE865F3D9E5D00</td><td>docked_bike</td><td>2020-03-08 17:22:42</td><td>2020-03-08 17:28:34</td><td><span style=white-space:pre-wrap>Green St &amp; Randolph St         </span></td><td>112</td><td><span style=white-space:pre-wrap>Aberdeen St &amp; Jackson Blvd     </span></td><td> 21</td><td>41.8837</td><td>-87.6487</td><td>41.8777</td><td>-87.6548</td><td>member</td></tr>\n",
       "\t<tr><td>4361A2348584C3E4</td><td>docked_bike</td><td>2020-03-25 17:10:10</td><td>2020-03-25 17:47:34</td><td><span style=white-space:pre-wrap>Lakeview Ave &amp; Fullerton Pkwy  </span></td><td>313</td><td>Lakefront Trail &amp; Bryn Mawr Ave</td><td>459</td><td>41.9259</td><td>-87.6390</td><td>41.9840</td><td>-87.6523</td><td>member</td></tr>\n",
       "\t<tr><td>005D3BC2A3B33DDA</td><td>docked_bike</td><td>2020-03-12 07:32:25</td><td>2020-03-12 07:38:44</td><td><span style=white-space:pre-wrap>Clinton St &amp; Washington Blvd   </span></td><td> 91</td><td><span style=white-space:pre-wrap>State St &amp; Kinzie St           </span></td><td> 47</td><td>41.8834</td><td>-87.6412</td><td>41.8892</td><td>-87.6278</td><td>member</td></tr>\n",
       "\t<tr><td>6F4D221BDDFD943F</td><td>docked_bike</td><td>2020-03-10 10:40:27</td><td>2020-03-10 10:40:29</td><td>HQ QR                          </td><td>675</td><td>HQ QR                          </td><td>675</td><td>41.8899</td><td>-87.6803</td><td>41.8899</td><td>-87.6803</td><td>casual</td></tr>\n",
       "\t<tr><td>ADDAA33CEBCAE733</td><td>docked_bike</td><td>2020-03-10 10:40:06</td><td>2020-03-10 10:40:07</td><td>HQ QR                          </td><td>675</td><td>HQ QR                          </td><td>675</td><td>41.8899</td><td>-87.6803</td><td>41.8899</td><td>-87.6803</td><td>casual</td></tr>\n",
       "\t<tr><td>82B10FA3994BC66A</td><td>docked_bike</td><td>2020-03-07 15:25:55</td><td>2020-03-07 16:14:03</td><td><span style=white-space:pre-wrap>Rush St &amp; Superior St          </span></td><td>161</td><td><span style=white-space:pre-wrap>Sheridan Rd &amp; Irving Park Rd   </span></td><td>240</td><td>41.8958</td><td>-87.6259</td><td>41.9542</td><td>-87.6544</td><td>member</td></tr>\n",
       "\t<tr><td>AA0D5AAA0B59C8AA</td><td>docked_bike</td><td>2020-03-01 13:12:38</td><td>2020-03-01 13:38:29</td><td><span style=white-space:pre-wrap>Clark St &amp; Lincoln Ave         </span></td><td>141</td><td><span style=white-space:pre-wrap>Ashland Ave &amp; Division St      </span></td><td>210</td><td>41.9157</td><td>-87.6346</td><td>41.9035</td><td>-87.6677</td><td>casual</td></tr>\n",
       "\t<tr><td>3296360A7BC20FB8</td><td>docked_bike</td><td>2020-03-07 18:02:45</td><td>2020-03-07 18:13:18</td><td><span style=white-space:pre-wrap>Franklin St &amp; Illinois St      </span></td><td>672</td><td><span style=white-space:pre-wrap>Stetson Ave &amp; South Water St   </span></td><td>264</td><td>41.8910</td><td>-87.6355</td><td>41.8868</td><td>-87.6223</td><td>member</td></tr>\n",
       "\t<tr><td>064EC7698E4FF9B3</td><td>docked_bike</td><td>2020-03-08 13:03:57</td><td>2020-03-08 13:32:27</td><td><span style=white-space:pre-wrap>Dearborn St &amp; Erie St          </span></td><td>110</td><td><span style=white-space:pre-wrap>Michigan Ave &amp; Oak St          </span></td><td> 85</td><td>41.8940</td><td>-87.6293</td><td>41.9010</td><td>-87.6238</td><td>casual</td></tr>\n",
       "</tbody>\n",
       "</table>\n"
      ],
      "text/latex": [
       "A data.frame: 426887 × 13\n",
       "\\begin{tabular}{lllllllllllll}\n",
       " trip\\_id & bikeid & start\\_time & end\\_time & from\\_station\\_name & from\\_station\\_id & to\\_station\\_name & to\\_station\\_id & start\\_lat & start\\_lng & end\\_lat & end\\_lng & usertype\\\\\n",
       " <chr> & <chr> & <chr> & <chr> & <chr> & <int> & <chr> & <int> & <dbl> & <dbl> & <dbl> & <dbl> & <chr>\\\\\n",
       "\\hline\n",
       "\t EACB19130B0CDA4A & docked\\_bike & 2020-01-21 20:06:59 & 2020-01-21 20:14:30 & Western Ave \\& Leland Ave       & 239 & Clark St \\& Leland Ave               & 326 & 41.9665 & -87.6884 & 41.9671 & -87.6674 & member\\\\\n",
       "\t 8FED874C809DC021 & docked\\_bike & 2020-01-30 14:22:39 & 2020-01-30 14:26:22 & Clark St \\& Montrose Ave        & 234 & Southport Ave \\& Irving Park Rd      & 318 & 41.9616 & -87.6660 & 41.9542 & -87.6644 & member\\\\\n",
       "\t 789F3C21E472CA96 & docked\\_bike & 2020-01-09 19:29:26 & 2020-01-09 19:32:17 & Broadway \\& Belmont Ave         & 296 & Wilton Ave \\& Belmont Ave            & 117 & 41.9401 & -87.6455 & 41.9402 & -87.6530 & member\\\\\n",
       "\t C9A388DAC6ABF313 & docked\\_bike & 2020-01-06 16:17:07 & 2020-01-06 16:25:56 & Clark St \\& Randolph St         &  51 & Fairbanks Ct \\& Grand Ave            &  24 & 41.8846 & -87.6319 & 41.8918 & -87.6206 & member\\\\\n",
       "\t 943BC3CBECCFD662 & docked\\_bike & 2020-01-30 08:37:16 & 2020-01-30 08:42:48 & Clinton St \\& Lake St           &  66 & Wells St \\& Hubbard St               & 212 & 41.8856 & -87.6418 & 41.8899 & -87.6343 & member\\\\\n",
       "\t 6D9C8A6938165C11 & docked\\_bike & 2020-01-10 12:33:05 & 2020-01-10 12:37:54 & Wells St \\& Hubbard St          & 212 & Desplaines St \\& Randolph St         &  96 & 41.8899 & -87.6343 & 41.8846 & -87.6446 & member\\\\\n",
       "\t 31EB9B8F406D4C82 & docked\\_bike & 2020-01-10 13:07:35 & 2020-01-10 13:12:24 & Desplaines St \\& Randolph St    &  96 & Wells St \\& Hubbard St               & 212 & 41.8846 & -87.6446 & 41.8899 & -87.6343 & member\\\\\n",
       "\t A2B24E3F9C9720E3 & docked\\_bike & 2020-01-10 07:24:53 & 2020-01-10 07:29:50 & Desplaines St \\& Randolph St    &  96 & Wells St \\& Hubbard St               & 212 & 41.8846 & -87.6446 & 41.8899 & -87.6343 & member\\\\\n",
       "\t 5E3F01E1441730B7 & docked\\_bike & 2020-01-31 16:37:16 & 2020-01-31 16:42:11 & Wells St \\& Hubbard St          & 212 & Desplaines St \\& Randolph St         &  96 & 41.8899 & -87.6343 & 41.8846 & -87.6446 & member\\\\\n",
       "\t 19DC57F7E3140131 & docked\\_bike & 2020-01-31 09:39:17 & 2020-01-31 09:42:40 & Clark St \\& Lake St             &  38 & Orleans St \\& Merchandise Mart Plaza & 100 & 41.8860 & -87.6309 & 41.8882 & -87.6364 & member\\\\\n",
       "\t 8639202DD9FD9A41 & docked\\_bike & 2020-01-07 22:46:52 & 2020-01-07 22:50:08 & Wilton Ave \\& Belmont Ave       & 117 & Clark St \\& Newport St               & 632 & 41.9402 & -87.6530 & 41.9445 & -87.6547 & member\\\\\n",
       "\t 9E74E3BB4FFAB93A & docked\\_bike & 2020-01-08 16:02:44 & 2020-01-08 16:09:04 & LaSalle St \\& Illinois St       & 181 & Clinton St \\& Washington Blvd        &  91 & 41.8908 & -87.6317 & 41.8834 & -87.6412 & member\\\\\n",
       "\t 3B8B2E2F29B63597 & docked\\_bike & 2020-01-08 09:33:13 & 2020-01-08 09:42:02 & Clinton St \\& Washington Blvd   &  91 & LaSalle St \\& Illinois St            & 181 & 41.8834 & -87.6412 & 41.8908 & -87.6317 & member\\\\\n",
       "\t 0F8517F8D21287D2 & docked\\_bike & 2020-01-23 09:38:11 & 2020-01-23 09:45:56 & Clinton St \\& Washington Blvd   &  91 & LaSalle St \\& Illinois St            & 181 & 41.8834 & -87.6412 & 41.8908 & -87.6317 & member\\\\\n",
       "\t 15A91638FAEC2641 & docked\\_bike & 2020-01-28 20:52:50 & 2020-01-28 21:09:30 & California Ave \\& Milwaukee Ave & 123 & Marshfield Ave \\& Cortland St        &  58 & 41.9227 & -87.6972 & 41.9160 & -87.6689 & member\\\\\n",
       "\t E45104F1ED756AF7 & docked\\_bike & 2020-01-07 17:06:14 & 2020-01-07 17:42:01 & Franklin St \\& Jackson Blvd     &  36 & Lincoln Ave \\& Diversey Pkwy         & 152 & 41.8777 & -87.6353 & 41.9322 & -87.6586 & member\\\\\n",
       "\t 219541294624C4B7 & docked\\_bike & 2020-01-07 08:38:55 & 2020-01-07 09:11:40 & Wilton Ave \\& Diversey Pkwy     &  13 & Franklin St \\& Jackson Blvd          &  36 & 41.9324 & -87.6527 & 41.8777 & -87.6353 & member\\\\\n",
       "\t 013862D47804B9A4 & docked\\_bike & 2020-01-06 17:16:14 & 2020-01-06 17:48:21 & Franklin St \\& Jackson Blvd     &  36 & Lincoln Ave \\& Diversey Pkwy         & 152 & 41.8777 & -87.6353 & 41.9322 & -87.6586 & member\\\\\n",
       "\t 00678BB4A8438651 & docked\\_bike & 2020-01-06 08:44:31 & 2020-01-06 09:21:28 & Lincoln Ave \\& Diversey Pkwy    & 152 & Franklin St \\& Jackson Blvd          &  36 & 41.9322 & -87.6586 & 41.8777 & -87.6353 & member\\\\\n",
       "\t A854F81611B5A5C0 & docked\\_bike & 2020-01-19 12:04:10 & 2020-01-19 12:10:18 & Kingsbury St \\& Kinzie St       & 133 & Clark St \\& Chicago Ave              & 337 & 41.8892 & -87.6385 & 41.8968 & -87.6309 & member\\\\\n",
       "\t 3479141FF24AD595 & docked\\_bike & 2020-01-16 17:10:39 & 2020-01-16 17:40:40 & Lake Shore Dr \\& Monroe St      &  76 & Michigan Ave \\& Washington St        &  43 & 41.8810 & -87.6167 & 41.8840 & -87.6247 & casual\\\\\n",
       "\t 81D44C3E2353F9BE & docked\\_bike & 2020-01-08 15:47:42 & 2020-01-08 15:58:40 & Canal St \\& Adams St            & 192 & Michigan Ave \\& Washington St        &  43 & 41.8793 & -87.6399 & 41.8840 & -87.6247 & member\\\\\n",
       "\t 1AA18F54DC4A8636 & docked\\_bike & 2020-01-08 06:29:01 & 2020-01-08 06:50:02 & Indiana Ave \\& Roosevelt Rd     & 255 & Canal St \\& Adams St                 & 192 & 41.8679 & -87.6230 & 41.8793 & -87.6399 & member\\\\\n",
       "\t F5FB29DCF841C9F3 & docked\\_bike & 2020-01-08 07:30:59 & 2020-01-08 07:33:54 & Broadway \\& Sheridan Rd         & 256 & Sheridan Rd \\& Irving Park Rd        & 240 & 41.9528 & -87.6500 & 41.9542 & -87.6544 & member\\\\\n",
       "\t 869F3755B34163BA & docked\\_bike & 2020-01-23 15:23:54 & 2020-01-23 15:37:37 & Desplaines St \\& Jackson Blvd   & 107 & Michigan Ave \\& Washington St        &  43 & 41.8783 & -87.6439 & 41.8840 & -87.6247 & member\\\\\n",
       "\t 00EDF290239E4843 & docked\\_bike & 2020-01-23 14:59:58 & 2020-01-23 15:02:49 & Canal St \\& Adams St            & 192 & Desplaines St \\& Jackson Blvd        & 107 & 41.8793 & -87.6399 & 41.8783 & -87.6439 & member\\\\\n",
       "\t CA8E2F8EB7A7639C & docked\\_bike & 2020-01-11 14:45:48 & 2020-01-11 14:58:46 & Western Ave \\& Division St      & 305 & Wood St \\& Hubbard St                & 285 & 41.9029 & -87.6873 & 41.8899 & -87.6715 & member\\\\\n",
       "\t 7996062626A55CEF & docked\\_bike & 2020-01-17 13:44:55 & 2020-01-17 13:48:33 & Franklin St \\& Jackson Blvd     &  36 & Wells St \\& Polk St                  & 175 & 41.8777 & -87.6353 & 41.8726 & -87.6335 & member\\\\\n",
       "\t 142E7C9831AE8D5D & docked\\_bike & 2020-01-08 08:23:41 & 2020-01-08 08:36:31 & Dearborn St \\& Erie St          & 110 & Franklin St \\& Adams St (Temp)       & 286 & 41.8940 & -87.6293 & 41.8794 & -87.6355 & member\\\\\n",
       "\t 82061D73814586B2 & docked\\_bike & 2020-01-08 16:22:13 & 2020-01-08 16:30:43 & Franklin St \\& Jackson Blvd     &  36 & Green St \\& Madison St               & 198 & 41.8777 & -87.6353 & 41.8819 & -87.6488 & member\\\\\n",
       "\t ⋮ & ⋮ & ⋮ & ⋮ & ⋮ & ⋮ & ⋮ & ⋮ & ⋮ & ⋮ & ⋮ & ⋮ & ⋮\\\\\n",
       "\t 8A8A039BB7072249 & docked\\_bike & 2020-03-02 17:29:26 & 2020-03-02 17:50:51 & Clark St \\& Lincoln Ave          & 141 & Halsted St \\& Wrightwood Ave     & 349 & 41.9157 & -87.6346 & 41.9291 & -87.6491 & casual\\\\\n",
       "\t 6244F21F053BA361 & docked\\_bike & 2020-03-13 16:58:54 & 2020-03-13 17:31:11 & Franklin St \\& Jackson Blvd      &  36 & Wabash Ave \\& Wacker Pl          & 194 & 41.8777 & -87.6353 & 41.8869 & -87.6260 & casual\\\\\n",
       "\t 058D62FDDBF3C606 & docked\\_bike & 2020-03-12 15:39:44 & 2020-03-12 15:43:06 & Broadway \\& Waveland Ave         & 304 & Pine Grove Ave \\& Irving Park Rd & 254 & 41.9491 & -87.6486 & 41.9544 & -87.6480 & member\\\\\n",
       "\t A2FFBD0AA763B19D & docked\\_bike & 2020-03-11 18:39:03 & 2020-03-11 18:55:05 & Kingsbury St \\& Kinzie St        & 133 & Clark St \\& Armitage Ave         &  94 & 41.8892 & -87.6385 & 41.9183 & -87.6363 & member\\\\\n",
       "\t 21A760C7DC9FD318 & docked\\_bike & 2020-03-11 16:06:45 & 2020-03-11 16:17:42 & Wood St \\& Hubbard St            & 285 & Kingsbury St \\& Kinzie St        & 133 & 41.8899 & -87.6715 & 41.8892 & -87.6385 & member\\\\\n",
       "\t 36A20E87B11FF36D & docked\\_bike & 2020-03-01 15:16:06 & 2020-03-01 16:36:04 & Woodlawn Ave \\& 55th St          & 248 & Woodlawn Ave \\& 55th St          & 248 & 41.7953 & -87.5965 & 41.7953 & -87.5965 & casual\\\\\n",
       "\t FEB95D075E9435E4 & docked\\_bike & 2020-03-04 07:25:24 & 2020-03-04 07:28:25 & Pine Grove Ave \\& Irving Park Rd & 254 & Broadway \\& Waveland Ave         & 304 & 41.9544 & -87.6480 & 41.9491 & -87.6486 & member\\\\\n",
       "\t FD4B140C786D9E1D & docked\\_bike & 2020-03-04 17:54:24 & 2020-03-04 18:04:18 & Kingsbury St \\& Kinzie St        & 133 & Wood St \\& Hubbard St            & 285 & 41.8892 & -87.6385 & 41.8899 & -87.6715 & member\\\\\n",
       "\t 062828AF86F56FA8 & docked\\_bike & 2020-03-10 15:38:13 & 2020-03-10 15:48:55 & Wood St \\& Hubbard St            & 285 & Kingsbury St \\& Kinzie St        & 133 & 41.8899 & -87.6715 & 41.8892 & -87.6385 & member\\\\\n",
       "\t FB323E655F08521D & docked\\_bike & 2020-03-10 08:46:57 & 2020-03-10 08:54:10 & McClurg Ct \\& Illinois St        &  26 & State St \\& Kinzie St            &  47 & 41.8904 & -87.6175 & 41.8892 & -87.6278 & member\\\\\n",
       "\t 7CD5C610872581BB & docked\\_bike & 2020-03-02 15:56:46 & 2020-03-02 16:04:48 & State St \\& Kinzie St            &  47 & Clinton St \\& Washington Blvd    &  91 & 41.8892 & -87.6278 & 41.8834 & -87.6412 & member\\\\\n",
       "\t 330C4C8905197AAD & docked\\_bike & 2020-03-08 13:34:12 & 2020-03-08 13:55:43 & Buckingham Fountain             &   2 & Rush St \\& Cedar St              & 172 & 41.8765 & -87.6205 & 41.9023 & -87.6277 & casual\\\\\n",
       "\t 0B8742C644002BB1 & docked\\_bike & 2020-03-10 06:46:32 & 2020-03-10 06:54:34 & Clinton St \\& Washington Blvd    &  91 & State St \\& Kinzie St            &  47 & 41.8834 & -87.6412 & 41.8892 & -87.6278 & member\\\\\n",
       "\t BA30D82E5928E7A7 & docked\\_bike & 2020-03-09 15:52:18 & 2020-03-09 15:59:47 & State St \\& Kinzie St            &  47 & Clinton St \\& Washington Blvd    &  91 & 41.8892 & -87.6278 & 41.8834 & -87.6412 & member\\\\\n",
       "\t B46765A0DB572D4B & docked\\_bike & 2020-03-12 15:57:23 & 2020-03-12 16:04:09 & State St \\& Kinzie St            &  47 & Clinton St \\& Washington Blvd    &  91 & 41.8892 & -87.6278 & 41.8834 & -87.6412 & member\\\\\n",
       "\t 1C755B56146D806B & docked\\_bike & 2020-03-06 07:13:14 & 2020-03-06 07:21:03 & Clinton St \\& Washington Blvd    &  91 & State St \\& Kinzie St            &  47 & 41.8834 & -87.6412 & 41.8892 & -87.6278 & member\\\\\n",
       "\t 46230CF6653E2CDE & docked\\_bike & 2020-03-25 17:59:02 & 2020-03-25 18:29:31 & Lakefront Trail \\& Bryn Mawr Ave & 459 & Lakeview Ave \\& Fullerton Pkwy   & 313 & 41.9840 & -87.6523 & 41.9259 & -87.6390 & member\\\\\n",
       "\t 62BD7FE2B823B34E & docked\\_bike & 2020-03-11 15:56:59 & 2020-03-11 16:03:43 & State St \\& Kinzie St            &  47 & Clinton St \\& Washington Blvd    &  91 & 41.8892 & -87.6278 & 41.8834 & -87.6412 & member\\\\\n",
       "\t 0E1BBACD66CAF13D & docked\\_bike & 2020-03-02 06:47:31 & 2020-03-02 06:55:04 & Clinton St \\& Washington Blvd    &  91 & State St \\& Kinzie St            &  47 & 41.8834 & -87.6412 & 41.8892 & -87.6278 & member\\\\\n",
       "\t 72C026003AC3ED3C & docked\\_bike & 2020-03-04 07:13:56 & 2020-03-04 07:21:10 & Wacker Dr \\& Washington St       &  18 & State St \\& Kinzie St            &  47 & 41.8831 & -87.6373 & 41.8892 & -87.6278 & member\\\\\n",
       "\t 59CD7783230EBC26 & docked\\_bike & 2020-03-06 15:58:30 & 2020-03-06 16:05:48 & State St \\& Kinzie St            &  47 & Clinton St \\& Washington Blvd    &  91 & 41.8892 & -87.6278 & 41.8834 & -87.6412 & member\\\\\n",
       "\t 33EE865F3D9E5D00 & docked\\_bike & 2020-03-08 17:22:42 & 2020-03-08 17:28:34 & Green St \\& Randolph St          & 112 & Aberdeen St \\& Jackson Blvd      &  21 & 41.8837 & -87.6487 & 41.8777 & -87.6548 & member\\\\\n",
       "\t 4361A2348584C3E4 & docked\\_bike & 2020-03-25 17:10:10 & 2020-03-25 17:47:34 & Lakeview Ave \\& Fullerton Pkwy   & 313 & Lakefront Trail \\& Bryn Mawr Ave & 459 & 41.9259 & -87.6390 & 41.9840 & -87.6523 & member\\\\\n",
       "\t 005D3BC2A3B33DDA & docked\\_bike & 2020-03-12 07:32:25 & 2020-03-12 07:38:44 & Clinton St \\& Washington Blvd    &  91 & State St \\& Kinzie St            &  47 & 41.8834 & -87.6412 & 41.8892 & -87.6278 & member\\\\\n",
       "\t 6F4D221BDDFD943F & docked\\_bike & 2020-03-10 10:40:27 & 2020-03-10 10:40:29 & HQ QR                           & 675 & HQ QR                           & 675 & 41.8899 & -87.6803 & 41.8899 & -87.6803 & casual\\\\\n",
       "\t ADDAA33CEBCAE733 & docked\\_bike & 2020-03-10 10:40:06 & 2020-03-10 10:40:07 & HQ QR                           & 675 & HQ QR                           & 675 & 41.8899 & -87.6803 & 41.8899 & -87.6803 & casual\\\\\n",
       "\t 82B10FA3994BC66A & docked\\_bike & 2020-03-07 15:25:55 & 2020-03-07 16:14:03 & Rush St \\& Superior St           & 161 & Sheridan Rd \\& Irving Park Rd    & 240 & 41.8958 & -87.6259 & 41.9542 & -87.6544 & member\\\\\n",
       "\t AA0D5AAA0B59C8AA & docked\\_bike & 2020-03-01 13:12:38 & 2020-03-01 13:38:29 & Clark St \\& Lincoln Ave          & 141 & Ashland Ave \\& Division St       & 210 & 41.9157 & -87.6346 & 41.9035 & -87.6677 & casual\\\\\n",
       "\t 3296360A7BC20FB8 & docked\\_bike & 2020-03-07 18:02:45 & 2020-03-07 18:13:18 & Franklin St \\& Illinois St       & 672 & Stetson Ave \\& South Water St    & 264 & 41.8910 & -87.6355 & 41.8868 & -87.6223 & member\\\\\n",
       "\t 064EC7698E4FF9B3 & docked\\_bike & 2020-03-08 13:03:57 & 2020-03-08 13:32:27 & Dearborn St \\& Erie St           & 110 & Michigan Ave \\& Oak St           &  85 & 41.8940 & -87.6293 & 41.9010 & -87.6238 & casual\\\\\n",
       "\\end{tabular}\n"
      ],
      "text/markdown": [
       "\n",
       "A data.frame: 426887 × 13\n",
       "\n",
       "| trip_id &lt;chr&gt; | bikeid &lt;chr&gt; | start_time &lt;chr&gt; | end_time &lt;chr&gt; | from_station_name &lt;chr&gt; | from_station_id &lt;int&gt; | to_station_name &lt;chr&gt; | to_station_id &lt;int&gt; | start_lat &lt;dbl&gt; | start_lng &lt;dbl&gt; | end_lat &lt;dbl&gt; | end_lng &lt;dbl&gt; | usertype &lt;chr&gt; |\n",
       "|---|---|---|---|---|---|---|---|---|---|---|---|---|\n",
       "| EACB19130B0CDA4A | docked_bike | 2020-01-21 20:06:59 | 2020-01-21 20:14:30 | Western Ave &amp; Leland Ave       | 239 | Clark St &amp; Leland Ave               | 326 | 41.9665 | -87.6884 | 41.9671 | -87.6674 | member |\n",
       "| 8FED874C809DC021 | docked_bike | 2020-01-30 14:22:39 | 2020-01-30 14:26:22 | Clark St &amp; Montrose Ave        | 234 | Southport Ave &amp; Irving Park Rd      | 318 | 41.9616 | -87.6660 | 41.9542 | -87.6644 | member |\n",
       "| 789F3C21E472CA96 | docked_bike | 2020-01-09 19:29:26 | 2020-01-09 19:32:17 | Broadway &amp; Belmont Ave         | 296 | Wilton Ave &amp; Belmont Ave            | 117 | 41.9401 | -87.6455 | 41.9402 | -87.6530 | member |\n",
       "| C9A388DAC6ABF313 | docked_bike | 2020-01-06 16:17:07 | 2020-01-06 16:25:56 | Clark St &amp; Randolph St         |  51 | Fairbanks Ct &amp; Grand Ave            |  24 | 41.8846 | -87.6319 | 41.8918 | -87.6206 | member |\n",
       "| 943BC3CBECCFD662 | docked_bike | 2020-01-30 08:37:16 | 2020-01-30 08:42:48 | Clinton St &amp; Lake St           |  66 | Wells St &amp; Hubbard St               | 212 | 41.8856 | -87.6418 | 41.8899 | -87.6343 | member |\n",
       "| 6D9C8A6938165C11 | docked_bike | 2020-01-10 12:33:05 | 2020-01-10 12:37:54 | Wells St &amp; Hubbard St          | 212 | Desplaines St &amp; Randolph St         |  96 | 41.8899 | -87.6343 | 41.8846 | -87.6446 | member |\n",
       "| 31EB9B8F406D4C82 | docked_bike | 2020-01-10 13:07:35 | 2020-01-10 13:12:24 | Desplaines St &amp; Randolph St    |  96 | Wells St &amp; Hubbard St               | 212 | 41.8846 | -87.6446 | 41.8899 | -87.6343 | member |\n",
       "| A2B24E3F9C9720E3 | docked_bike | 2020-01-10 07:24:53 | 2020-01-10 07:29:50 | Desplaines St &amp; Randolph St    |  96 | Wells St &amp; Hubbard St               | 212 | 41.8846 | -87.6446 | 41.8899 | -87.6343 | member |\n",
       "| 5E3F01E1441730B7 | docked_bike | 2020-01-31 16:37:16 | 2020-01-31 16:42:11 | Wells St &amp; Hubbard St          | 212 | Desplaines St &amp; Randolph St         |  96 | 41.8899 | -87.6343 | 41.8846 | -87.6446 | member |\n",
       "| 19DC57F7E3140131 | docked_bike | 2020-01-31 09:39:17 | 2020-01-31 09:42:40 | Clark St &amp; Lake St             |  38 | Orleans St &amp; Merchandise Mart Plaza | 100 | 41.8860 | -87.6309 | 41.8882 | -87.6364 | member |\n",
       "| 8639202DD9FD9A41 | docked_bike | 2020-01-07 22:46:52 | 2020-01-07 22:50:08 | Wilton Ave &amp; Belmont Ave       | 117 | Clark St &amp; Newport St               | 632 | 41.9402 | -87.6530 | 41.9445 | -87.6547 | member |\n",
       "| 9E74E3BB4FFAB93A | docked_bike | 2020-01-08 16:02:44 | 2020-01-08 16:09:04 | LaSalle St &amp; Illinois St       | 181 | Clinton St &amp; Washington Blvd        |  91 | 41.8908 | -87.6317 | 41.8834 | -87.6412 | member |\n",
       "| 3B8B2E2F29B63597 | docked_bike | 2020-01-08 09:33:13 | 2020-01-08 09:42:02 | Clinton St &amp; Washington Blvd   |  91 | LaSalle St &amp; Illinois St            | 181 | 41.8834 | -87.6412 | 41.8908 | -87.6317 | member |\n",
       "| 0F8517F8D21287D2 | docked_bike | 2020-01-23 09:38:11 | 2020-01-23 09:45:56 | Clinton St &amp; Washington Blvd   |  91 | LaSalle St &amp; Illinois St            | 181 | 41.8834 | -87.6412 | 41.8908 | -87.6317 | member |\n",
       "| 15A91638FAEC2641 | docked_bike | 2020-01-28 20:52:50 | 2020-01-28 21:09:30 | California Ave &amp; Milwaukee Ave | 123 | Marshfield Ave &amp; Cortland St        |  58 | 41.9227 | -87.6972 | 41.9160 | -87.6689 | member |\n",
       "| E45104F1ED756AF7 | docked_bike | 2020-01-07 17:06:14 | 2020-01-07 17:42:01 | Franklin St &amp; Jackson Blvd     |  36 | Lincoln Ave &amp; Diversey Pkwy         | 152 | 41.8777 | -87.6353 | 41.9322 | -87.6586 | member |\n",
       "| 219541294624C4B7 | docked_bike | 2020-01-07 08:38:55 | 2020-01-07 09:11:40 | Wilton Ave &amp; Diversey Pkwy     |  13 | Franklin St &amp; Jackson Blvd          |  36 | 41.9324 | -87.6527 | 41.8777 | -87.6353 | member |\n",
       "| 013862D47804B9A4 | docked_bike | 2020-01-06 17:16:14 | 2020-01-06 17:48:21 | Franklin St &amp; Jackson Blvd     |  36 | Lincoln Ave &amp; Diversey Pkwy         | 152 | 41.8777 | -87.6353 | 41.9322 | -87.6586 | member |\n",
       "| 00678BB4A8438651 | docked_bike | 2020-01-06 08:44:31 | 2020-01-06 09:21:28 | Lincoln Ave &amp; Diversey Pkwy    | 152 | Franklin St &amp; Jackson Blvd          |  36 | 41.9322 | -87.6586 | 41.8777 | -87.6353 | member |\n",
       "| A854F81611B5A5C0 | docked_bike | 2020-01-19 12:04:10 | 2020-01-19 12:10:18 | Kingsbury St &amp; Kinzie St       | 133 | Clark St &amp; Chicago Ave              | 337 | 41.8892 | -87.6385 | 41.8968 | -87.6309 | member |\n",
       "| 3479141FF24AD595 | docked_bike | 2020-01-16 17:10:39 | 2020-01-16 17:40:40 | Lake Shore Dr &amp; Monroe St      |  76 | Michigan Ave &amp; Washington St        |  43 | 41.8810 | -87.6167 | 41.8840 | -87.6247 | casual |\n",
       "| 81D44C3E2353F9BE | docked_bike | 2020-01-08 15:47:42 | 2020-01-08 15:58:40 | Canal St &amp; Adams St            | 192 | Michigan Ave &amp; Washington St        |  43 | 41.8793 | -87.6399 | 41.8840 | -87.6247 | member |\n",
       "| 1AA18F54DC4A8636 | docked_bike | 2020-01-08 06:29:01 | 2020-01-08 06:50:02 | Indiana Ave &amp; Roosevelt Rd     | 255 | Canal St &amp; Adams St                 | 192 | 41.8679 | -87.6230 | 41.8793 | -87.6399 | member |\n",
       "| F5FB29DCF841C9F3 | docked_bike | 2020-01-08 07:30:59 | 2020-01-08 07:33:54 | Broadway &amp; Sheridan Rd         | 256 | Sheridan Rd &amp; Irving Park Rd        | 240 | 41.9528 | -87.6500 | 41.9542 | -87.6544 | member |\n",
       "| 869F3755B34163BA | docked_bike | 2020-01-23 15:23:54 | 2020-01-23 15:37:37 | Desplaines St &amp; Jackson Blvd   | 107 | Michigan Ave &amp; Washington St        |  43 | 41.8783 | -87.6439 | 41.8840 | -87.6247 | member |\n",
       "| 00EDF290239E4843 | docked_bike | 2020-01-23 14:59:58 | 2020-01-23 15:02:49 | Canal St &amp; Adams St            | 192 | Desplaines St &amp; Jackson Blvd        | 107 | 41.8793 | -87.6399 | 41.8783 | -87.6439 | member |\n",
       "| CA8E2F8EB7A7639C | docked_bike | 2020-01-11 14:45:48 | 2020-01-11 14:58:46 | Western Ave &amp; Division St      | 305 | Wood St &amp; Hubbard St                | 285 | 41.9029 | -87.6873 | 41.8899 | -87.6715 | member |\n",
       "| 7996062626A55CEF | docked_bike | 2020-01-17 13:44:55 | 2020-01-17 13:48:33 | Franklin St &amp; Jackson Blvd     |  36 | Wells St &amp; Polk St                  | 175 | 41.8777 | -87.6353 | 41.8726 | -87.6335 | member |\n",
       "| 142E7C9831AE8D5D | docked_bike | 2020-01-08 08:23:41 | 2020-01-08 08:36:31 | Dearborn St &amp; Erie St          | 110 | Franklin St &amp; Adams St (Temp)       | 286 | 41.8940 | -87.6293 | 41.8794 | -87.6355 | member |\n",
       "| 82061D73814586B2 | docked_bike | 2020-01-08 16:22:13 | 2020-01-08 16:30:43 | Franklin St &amp; Jackson Blvd     |  36 | Green St &amp; Madison St               | 198 | 41.8777 | -87.6353 | 41.8819 | -87.6488 | member |\n",
       "| ⋮ | ⋮ | ⋮ | ⋮ | ⋮ | ⋮ | ⋮ | ⋮ | ⋮ | ⋮ | ⋮ | ⋮ | ⋮ |\n",
       "| 8A8A039BB7072249 | docked_bike | 2020-03-02 17:29:26 | 2020-03-02 17:50:51 | Clark St &amp; Lincoln Ave          | 141 | Halsted St &amp; Wrightwood Ave     | 349 | 41.9157 | -87.6346 | 41.9291 | -87.6491 | casual |\n",
       "| 6244F21F053BA361 | docked_bike | 2020-03-13 16:58:54 | 2020-03-13 17:31:11 | Franklin St &amp; Jackson Blvd      |  36 | Wabash Ave &amp; Wacker Pl          | 194 | 41.8777 | -87.6353 | 41.8869 | -87.6260 | casual |\n",
       "| 058D62FDDBF3C606 | docked_bike | 2020-03-12 15:39:44 | 2020-03-12 15:43:06 | Broadway &amp; Waveland Ave         | 304 | Pine Grove Ave &amp; Irving Park Rd | 254 | 41.9491 | -87.6486 | 41.9544 | -87.6480 | member |\n",
       "| A2FFBD0AA763B19D | docked_bike | 2020-03-11 18:39:03 | 2020-03-11 18:55:05 | Kingsbury St &amp; Kinzie St        | 133 | Clark St &amp; Armitage Ave         |  94 | 41.8892 | -87.6385 | 41.9183 | -87.6363 | member |\n",
       "| 21A760C7DC9FD318 | docked_bike | 2020-03-11 16:06:45 | 2020-03-11 16:17:42 | Wood St &amp; Hubbard St            | 285 | Kingsbury St &amp; Kinzie St        | 133 | 41.8899 | -87.6715 | 41.8892 | -87.6385 | member |\n",
       "| 36A20E87B11FF36D | docked_bike | 2020-03-01 15:16:06 | 2020-03-01 16:36:04 | Woodlawn Ave &amp; 55th St          | 248 | Woodlawn Ave &amp; 55th St          | 248 | 41.7953 | -87.5965 | 41.7953 | -87.5965 | casual |\n",
       "| FEB95D075E9435E4 | docked_bike | 2020-03-04 07:25:24 | 2020-03-04 07:28:25 | Pine Grove Ave &amp; Irving Park Rd | 254 | Broadway &amp; Waveland Ave         | 304 | 41.9544 | -87.6480 | 41.9491 | -87.6486 | member |\n",
       "| FD4B140C786D9E1D | docked_bike | 2020-03-04 17:54:24 | 2020-03-04 18:04:18 | Kingsbury St &amp; Kinzie St        | 133 | Wood St &amp; Hubbard St            | 285 | 41.8892 | -87.6385 | 41.8899 | -87.6715 | member |\n",
       "| 062828AF86F56FA8 | docked_bike | 2020-03-10 15:38:13 | 2020-03-10 15:48:55 | Wood St &amp; Hubbard St            | 285 | Kingsbury St &amp; Kinzie St        | 133 | 41.8899 | -87.6715 | 41.8892 | -87.6385 | member |\n",
       "| FB323E655F08521D | docked_bike | 2020-03-10 08:46:57 | 2020-03-10 08:54:10 | McClurg Ct &amp; Illinois St        |  26 | State St &amp; Kinzie St            |  47 | 41.8904 | -87.6175 | 41.8892 | -87.6278 | member |\n",
       "| 7CD5C610872581BB | docked_bike | 2020-03-02 15:56:46 | 2020-03-02 16:04:48 | State St &amp; Kinzie St            |  47 | Clinton St &amp; Washington Blvd    |  91 | 41.8892 | -87.6278 | 41.8834 | -87.6412 | member |\n",
       "| 330C4C8905197AAD | docked_bike | 2020-03-08 13:34:12 | 2020-03-08 13:55:43 | Buckingham Fountain             |   2 | Rush St &amp; Cedar St              | 172 | 41.8765 | -87.6205 | 41.9023 | -87.6277 | casual |\n",
       "| 0B8742C644002BB1 | docked_bike | 2020-03-10 06:46:32 | 2020-03-10 06:54:34 | Clinton St &amp; Washington Blvd    |  91 | State St &amp; Kinzie St            |  47 | 41.8834 | -87.6412 | 41.8892 | -87.6278 | member |\n",
       "| BA30D82E5928E7A7 | docked_bike | 2020-03-09 15:52:18 | 2020-03-09 15:59:47 | State St &amp; Kinzie St            |  47 | Clinton St &amp; Washington Blvd    |  91 | 41.8892 | -87.6278 | 41.8834 | -87.6412 | member |\n",
       "| B46765A0DB572D4B | docked_bike | 2020-03-12 15:57:23 | 2020-03-12 16:04:09 | State St &amp; Kinzie St            |  47 | Clinton St &amp; Washington Blvd    |  91 | 41.8892 | -87.6278 | 41.8834 | -87.6412 | member |\n",
       "| 1C755B56146D806B | docked_bike | 2020-03-06 07:13:14 | 2020-03-06 07:21:03 | Clinton St &amp; Washington Blvd    |  91 | State St &amp; Kinzie St            |  47 | 41.8834 | -87.6412 | 41.8892 | -87.6278 | member |\n",
       "| 46230CF6653E2CDE | docked_bike | 2020-03-25 17:59:02 | 2020-03-25 18:29:31 | Lakefront Trail &amp; Bryn Mawr Ave | 459 | Lakeview Ave &amp; Fullerton Pkwy   | 313 | 41.9840 | -87.6523 | 41.9259 | -87.6390 | member |\n",
       "| 62BD7FE2B823B34E | docked_bike | 2020-03-11 15:56:59 | 2020-03-11 16:03:43 | State St &amp; Kinzie St            |  47 | Clinton St &amp; Washington Blvd    |  91 | 41.8892 | -87.6278 | 41.8834 | -87.6412 | member |\n",
       "| 0E1BBACD66CAF13D | docked_bike | 2020-03-02 06:47:31 | 2020-03-02 06:55:04 | Clinton St &amp; Washington Blvd    |  91 | State St &amp; Kinzie St            |  47 | 41.8834 | -87.6412 | 41.8892 | -87.6278 | member |\n",
       "| 72C026003AC3ED3C | docked_bike | 2020-03-04 07:13:56 | 2020-03-04 07:21:10 | Wacker Dr &amp; Washington St       |  18 | State St &amp; Kinzie St            |  47 | 41.8831 | -87.6373 | 41.8892 | -87.6278 | member |\n",
       "| 59CD7783230EBC26 | docked_bike | 2020-03-06 15:58:30 | 2020-03-06 16:05:48 | State St &amp; Kinzie St            |  47 | Clinton St &amp; Washington Blvd    |  91 | 41.8892 | -87.6278 | 41.8834 | -87.6412 | member |\n",
       "| 33EE865F3D9E5D00 | docked_bike | 2020-03-08 17:22:42 | 2020-03-08 17:28:34 | Green St &amp; Randolph St          | 112 | Aberdeen St &amp; Jackson Blvd      |  21 | 41.8837 | -87.6487 | 41.8777 | -87.6548 | member |\n",
       "| 4361A2348584C3E4 | docked_bike | 2020-03-25 17:10:10 | 2020-03-25 17:47:34 | Lakeview Ave &amp; Fullerton Pkwy   | 313 | Lakefront Trail &amp; Bryn Mawr Ave | 459 | 41.9259 | -87.6390 | 41.9840 | -87.6523 | member |\n",
       "| 005D3BC2A3B33DDA | docked_bike | 2020-03-12 07:32:25 | 2020-03-12 07:38:44 | Clinton St &amp; Washington Blvd    |  91 | State St &amp; Kinzie St            |  47 | 41.8834 | -87.6412 | 41.8892 | -87.6278 | member |\n",
       "| 6F4D221BDDFD943F | docked_bike | 2020-03-10 10:40:27 | 2020-03-10 10:40:29 | HQ QR                           | 675 | HQ QR                           | 675 | 41.8899 | -87.6803 | 41.8899 | -87.6803 | casual |\n",
       "| ADDAA33CEBCAE733 | docked_bike | 2020-03-10 10:40:06 | 2020-03-10 10:40:07 | HQ QR                           | 675 | HQ QR                           | 675 | 41.8899 | -87.6803 | 41.8899 | -87.6803 | casual |\n",
       "| 82B10FA3994BC66A | docked_bike | 2020-03-07 15:25:55 | 2020-03-07 16:14:03 | Rush St &amp; Superior St           | 161 | Sheridan Rd &amp; Irving Park Rd    | 240 | 41.8958 | -87.6259 | 41.9542 | -87.6544 | member |\n",
       "| AA0D5AAA0B59C8AA | docked_bike | 2020-03-01 13:12:38 | 2020-03-01 13:38:29 | Clark St &amp; Lincoln Ave          | 141 | Ashland Ave &amp; Division St       | 210 | 41.9157 | -87.6346 | 41.9035 | -87.6677 | casual |\n",
       "| 3296360A7BC20FB8 | docked_bike | 2020-03-07 18:02:45 | 2020-03-07 18:13:18 | Franklin St &amp; Illinois St       | 672 | Stetson Ave &amp; South Water St    | 264 | 41.8910 | -87.6355 | 41.8868 | -87.6223 | member |\n",
       "| 064EC7698E4FF9B3 | docked_bike | 2020-03-08 13:03:57 | 2020-03-08 13:32:27 | Dearborn St &amp; Erie St           | 110 | Michigan Ave &amp; Oak St           |  85 | 41.8940 | -87.6293 | 41.9010 | -87.6238 | casual |\n",
       "\n"
      ],
      "text/plain": [
       "       trip_id          bikeid      start_time          end_time           \n",
       "1      EACB19130B0CDA4A docked_bike 2020-01-21 20:06:59 2020-01-21 20:14:30\n",
       "2      8FED874C809DC021 docked_bike 2020-01-30 14:22:39 2020-01-30 14:26:22\n",
       "3      789F3C21E472CA96 docked_bike 2020-01-09 19:29:26 2020-01-09 19:32:17\n",
       "4      C9A388DAC6ABF313 docked_bike 2020-01-06 16:17:07 2020-01-06 16:25:56\n",
       "5      943BC3CBECCFD662 docked_bike 2020-01-30 08:37:16 2020-01-30 08:42:48\n",
       "6      6D9C8A6938165C11 docked_bike 2020-01-10 12:33:05 2020-01-10 12:37:54\n",
       "7      31EB9B8F406D4C82 docked_bike 2020-01-10 13:07:35 2020-01-10 13:12:24\n",
       "8      A2B24E3F9C9720E3 docked_bike 2020-01-10 07:24:53 2020-01-10 07:29:50\n",
       "9      5E3F01E1441730B7 docked_bike 2020-01-31 16:37:16 2020-01-31 16:42:11\n",
       "10     19DC57F7E3140131 docked_bike 2020-01-31 09:39:17 2020-01-31 09:42:40\n",
       "11     8639202DD9FD9A41 docked_bike 2020-01-07 22:46:52 2020-01-07 22:50:08\n",
       "12     9E74E3BB4FFAB93A docked_bike 2020-01-08 16:02:44 2020-01-08 16:09:04\n",
       "13     3B8B2E2F29B63597 docked_bike 2020-01-08 09:33:13 2020-01-08 09:42:02\n",
       "14     0F8517F8D21287D2 docked_bike 2020-01-23 09:38:11 2020-01-23 09:45:56\n",
       "15     15A91638FAEC2641 docked_bike 2020-01-28 20:52:50 2020-01-28 21:09:30\n",
       "16     E45104F1ED756AF7 docked_bike 2020-01-07 17:06:14 2020-01-07 17:42:01\n",
       "17     219541294624C4B7 docked_bike 2020-01-07 08:38:55 2020-01-07 09:11:40\n",
       "18     013862D47804B9A4 docked_bike 2020-01-06 17:16:14 2020-01-06 17:48:21\n",
       "19     00678BB4A8438651 docked_bike 2020-01-06 08:44:31 2020-01-06 09:21:28\n",
       "20     A854F81611B5A5C0 docked_bike 2020-01-19 12:04:10 2020-01-19 12:10:18\n",
       "21     3479141FF24AD595 docked_bike 2020-01-16 17:10:39 2020-01-16 17:40:40\n",
       "22     81D44C3E2353F9BE docked_bike 2020-01-08 15:47:42 2020-01-08 15:58:40\n",
       "23     1AA18F54DC4A8636 docked_bike 2020-01-08 06:29:01 2020-01-08 06:50:02\n",
       "24     F5FB29DCF841C9F3 docked_bike 2020-01-08 07:30:59 2020-01-08 07:33:54\n",
       "25     869F3755B34163BA docked_bike 2020-01-23 15:23:54 2020-01-23 15:37:37\n",
       "26     00EDF290239E4843 docked_bike 2020-01-23 14:59:58 2020-01-23 15:02:49\n",
       "27     CA8E2F8EB7A7639C docked_bike 2020-01-11 14:45:48 2020-01-11 14:58:46\n",
       "28     7996062626A55CEF docked_bike 2020-01-17 13:44:55 2020-01-17 13:48:33\n",
       "29     142E7C9831AE8D5D docked_bike 2020-01-08 08:23:41 2020-01-08 08:36:31\n",
       "30     82061D73814586B2 docked_bike 2020-01-08 16:22:13 2020-01-08 16:30:43\n",
       "⋮      ⋮                ⋮           ⋮                   ⋮                  \n",
       "426858 8A8A039BB7072249 docked_bike 2020-03-02 17:29:26 2020-03-02 17:50:51\n",
       "426859 6244F21F053BA361 docked_bike 2020-03-13 16:58:54 2020-03-13 17:31:11\n",
       "426860 058D62FDDBF3C606 docked_bike 2020-03-12 15:39:44 2020-03-12 15:43:06\n",
       "426861 A2FFBD0AA763B19D docked_bike 2020-03-11 18:39:03 2020-03-11 18:55:05\n",
       "426862 21A760C7DC9FD318 docked_bike 2020-03-11 16:06:45 2020-03-11 16:17:42\n",
       "426863 36A20E87B11FF36D docked_bike 2020-03-01 15:16:06 2020-03-01 16:36:04\n",
       "426864 FEB95D075E9435E4 docked_bike 2020-03-04 07:25:24 2020-03-04 07:28:25\n",
       "426865 FD4B140C786D9E1D docked_bike 2020-03-04 17:54:24 2020-03-04 18:04:18\n",
       "426866 062828AF86F56FA8 docked_bike 2020-03-10 15:38:13 2020-03-10 15:48:55\n",
       "426867 FB323E655F08521D docked_bike 2020-03-10 08:46:57 2020-03-10 08:54:10\n",
       "426868 7CD5C610872581BB docked_bike 2020-03-02 15:56:46 2020-03-02 16:04:48\n",
       "426869 330C4C8905197AAD docked_bike 2020-03-08 13:34:12 2020-03-08 13:55:43\n",
       "426870 0B8742C644002BB1 docked_bike 2020-03-10 06:46:32 2020-03-10 06:54:34\n",
       "426871 BA30D82E5928E7A7 docked_bike 2020-03-09 15:52:18 2020-03-09 15:59:47\n",
       "426872 B46765A0DB572D4B docked_bike 2020-03-12 15:57:23 2020-03-12 16:04:09\n",
       "426873 1C755B56146D806B docked_bike 2020-03-06 07:13:14 2020-03-06 07:21:03\n",
       "426874 46230CF6653E2CDE docked_bike 2020-03-25 17:59:02 2020-03-25 18:29:31\n",
       "426875 62BD7FE2B823B34E docked_bike 2020-03-11 15:56:59 2020-03-11 16:03:43\n",
       "426876 0E1BBACD66CAF13D docked_bike 2020-03-02 06:47:31 2020-03-02 06:55:04\n",
       "426877 72C026003AC3ED3C docked_bike 2020-03-04 07:13:56 2020-03-04 07:21:10\n",
       "426878 59CD7783230EBC26 docked_bike 2020-03-06 15:58:30 2020-03-06 16:05:48\n",
       "426879 33EE865F3D9E5D00 docked_bike 2020-03-08 17:22:42 2020-03-08 17:28:34\n",
       "426880 4361A2348584C3E4 docked_bike 2020-03-25 17:10:10 2020-03-25 17:47:34\n",
       "426881 005D3BC2A3B33DDA docked_bike 2020-03-12 07:32:25 2020-03-12 07:38:44\n",
       "426882 6F4D221BDDFD943F docked_bike 2020-03-10 10:40:27 2020-03-10 10:40:29\n",
       "426883 ADDAA33CEBCAE733 docked_bike 2020-03-10 10:40:06 2020-03-10 10:40:07\n",
       "426884 82B10FA3994BC66A docked_bike 2020-03-07 15:25:55 2020-03-07 16:14:03\n",
       "426885 AA0D5AAA0B59C8AA docked_bike 2020-03-01 13:12:38 2020-03-01 13:38:29\n",
       "426886 3296360A7BC20FB8 docked_bike 2020-03-07 18:02:45 2020-03-07 18:13:18\n",
       "426887 064EC7698E4FF9B3 docked_bike 2020-03-08 13:03:57 2020-03-08 13:32:27\n",
       "       from_station_name               from_station_id\n",
       "1      Western Ave & Leland Ave        239            \n",
       "2      Clark St & Montrose Ave         234            \n",
       "3      Broadway & Belmont Ave          296            \n",
       "4      Clark St & Randolph St           51            \n",
       "5      Clinton St & Lake St             66            \n",
       "6      Wells St & Hubbard St           212            \n",
       "7      Desplaines St & Randolph St      96            \n",
       "8      Desplaines St & Randolph St      96            \n",
       "9      Wells St & Hubbard St           212            \n",
       "10     Clark St & Lake St               38            \n",
       "11     Wilton Ave & Belmont Ave        117            \n",
       "12     LaSalle St & Illinois St        181            \n",
       "13     Clinton St & Washington Blvd     91            \n",
       "14     Clinton St & Washington Blvd     91            \n",
       "15     California Ave & Milwaukee Ave  123            \n",
       "16     Franklin St & Jackson Blvd       36            \n",
       "17     Wilton Ave & Diversey Pkwy       13            \n",
       "18     Franklin St & Jackson Blvd       36            \n",
       "19     Lincoln Ave & Diversey Pkwy     152            \n",
       "20     Kingsbury St & Kinzie St        133            \n",
       "21     Lake Shore Dr & Monroe St        76            \n",
       "22     Canal St & Adams St             192            \n",
       "23     Indiana Ave & Roosevelt Rd      255            \n",
       "24     Broadway & Sheridan Rd          256            \n",
       "25     Desplaines St & Jackson Blvd    107            \n",
       "26     Canal St & Adams St             192            \n",
       "27     Western Ave & Division St       305            \n",
       "28     Franklin St & Jackson Blvd       36            \n",
       "29     Dearborn St & Erie St           110            \n",
       "30     Franklin St & Jackson Blvd       36            \n",
       "⋮      ⋮                               ⋮              \n",
       "426858 Clark St & Lincoln Ave          141            \n",
       "426859 Franklin St & Jackson Blvd       36            \n",
       "426860 Broadway & Waveland Ave         304            \n",
       "426861 Kingsbury St & Kinzie St        133            \n",
       "426862 Wood St & Hubbard St            285            \n",
       "426863 Woodlawn Ave & 55th St          248            \n",
       "426864 Pine Grove Ave & Irving Park Rd 254            \n",
       "426865 Kingsbury St & Kinzie St        133            \n",
       "426866 Wood St & Hubbard St            285            \n",
       "426867 McClurg Ct & Illinois St         26            \n",
       "426868 State St & Kinzie St             47            \n",
       "426869 Buckingham Fountain               2            \n",
       "426870 Clinton St & Washington Blvd     91            \n",
       "426871 State St & Kinzie St             47            \n",
       "426872 State St & Kinzie St             47            \n",
       "426873 Clinton St & Washington Blvd     91            \n",
       "426874 Lakefront Trail & Bryn Mawr Ave 459            \n",
       "426875 State St & Kinzie St             47            \n",
       "426876 Clinton St & Washington Blvd     91            \n",
       "426877 Wacker Dr & Washington St        18            \n",
       "426878 State St & Kinzie St             47            \n",
       "426879 Green St & Randolph St          112            \n",
       "426880 Lakeview Ave & Fullerton Pkwy   313            \n",
       "426881 Clinton St & Washington Blvd     91            \n",
       "426882 HQ QR                           675            \n",
       "426883 HQ QR                           675            \n",
       "426884 Rush St & Superior St           161            \n",
       "426885 Clark St & Lincoln Ave          141            \n",
       "426886 Franklin St & Illinois St       672            \n",
       "426887 Dearborn St & Erie St           110            \n",
       "       to_station_name                     to_station_id start_lat start_lng\n",
       "1      Clark St & Leland Ave               326           41.9665   -87.6884 \n",
       "2      Southport Ave & Irving Park Rd      318           41.9616   -87.6660 \n",
       "3      Wilton Ave & Belmont Ave            117           41.9401   -87.6455 \n",
       "4      Fairbanks Ct & Grand Ave             24           41.8846   -87.6319 \n",
       "5      Wells St & Hubbard St               212           41.8856   -87.6418 \n",
       "6      Desplaines St & Randolph St          96           41.8899   -87.6343 \n",
       "7      Wells St & Hubbard St               212           41.8846   -87.6446 \n",
       "8      Wells St & Hubbard St               212           41.8846   -87.6446 \n",
       "9      Desplaines St & Randolph St          96           41.8899   -87.6343 \n",
       "10     Orleans St & Merchandise Mart Plaza 100           41.8860   -87.6309 \n",
       "11     Clark St & Newport St               632           41.9402   -87.6530 \n",
       "12     Clinton St & Washington Blvd         91           41.8908   -87.6317 \n",
       "13     LaSalle St & Illinois St            181           41.8834   -87.6412 \n",
       "14     LaSalle St & Illinois St            181           41.8834   -87.6412 \n",
       "15     Marshfield Ave & Cortland St         58           41.9227   -87.6972 \n",
       "16     Lincoln Ave & Diversey Pkwy         152           41.8777   -87.6353 \n",
       "17     Franklin St & Jackson Blvd           36           41.9324   -87.6527 \n",
       "18     Lincoln Ave & Diversey Pkwy         152           41.8777   -87.6353 \n",
       "19     Franklin St & Jackson Blvd           36           41.9322   -87.6586 \n",
       "20     Clark St & Chicago Ave              337           41.8892   -87.6385 \n",
       "21     Michigan Ave & Washington St         43           41.8810   -87.6167 \n",
       "22     Michigan Ave & Washington St         43           41.8793   -87.6399 \n",
       "23     Canal St & Adams St                 192           41.8679   -87.6230 \n",
       "24     Sheridan Rd & Irving Park Rd        240           41.9528   -87.6500 \n",
       "25     Michigan Ave & Washington St         43           41.8783   -87.6439 \n",
       "26     Desplaines St & Jackson Blvd        107           41.8793   -87.6399 \n",
       "27     Wood St & Hubbard St                285           41.9029   -87.6873 \n",
       "28     Wells St & Polk St                  175           41.8777   -87.6353 \n",
       "29     Franklin St & Adams St (Temp)       286           41.8940   -87.6293 \n",
       "30     Green St & Madison St               198           41.8777   -87.6353 \n",
       "⋮      ⋮                                   ⋮             ⋮         ⋮        \n",
       "426858 Halsted St & Wrightwood Ave         349           41.9157   -87.6346 \n",
       "426859 Wabash Ave & Wacker Pl              194           41.8777   -87.6353 \n",
       "426860 Pine Grove Ave & Irving Park Rd     254           41.9491   -87.6486 \n",
       "426861 Clark St & Armitage Ave              94           41.8892   -87.6385 \n",
       "426862 Kingsbury St & Kinzie St            133           41.8899   -87.6715 \n",
       "426863 Woodlawn Ave & 55th St              248           41.7953   -87.5965 \n",
       "426864 Broadway & Waveland Ave             304           41.9544   -87.6480 \n",
       "426865 Wood St & Hubbard St                285           41.8892   -87.6385 \n",
       "426866 Kingsbury St & Kinzie St            133           41.8899   -87.6715 \n",
       "426867 State St & Kinzie St                 47           41.8904   -87.6175 \n",
       "426868 Clinton St & Washington Blvd         91           41.8892   -87.6278 \n",
       "426869 Rush St & Cedar St                  172           41.8765   -87.6205 \n",
       "426870 State St & Kinzie St                 47           41.8834   -87.6412 \n",
       "426871 Clinton St & Washington Blvd         91           41.8892   -87.6278 \n",
       "426872 Clinton St & Washington Blvd         91           41.8892   -87.6278 \n",
       "426873 State St & Kinzie St                 47           41.8834   -87.6412 \n",
       "426874 Lakeview Ave & Fullerton Pkwy       313           41.9840   -87.6523 \n",
       "426875 Clinton St & Washington Blvd         91           41.8892   -87.6278 \n",
       "426876 State St & Kinzie St                 47           41.8834   -87.6412 \n",
       "426877 State St & Kinzie St                 47           41.8831   -87.6373 \n",
       "426878 Clinton St & Washington Blvd         91           41.8892   -87.6278 \n",
       "426879 Aberdeen St & Jackson Blvd           21           41.8837   -87.6487 \n",
       "426880 Lakefront Trail & Bryn Mawr Ave     459           41.9259   -87.6390 \n",
       "426881 State St & Kinzie St                 47           41.8834   -87.6412 \n",
       "426882 HQ QR                               675           41.8899   -87.6803 \n",
       "426883 HQ QR                               675           41.8899   -87.6803 \n",
       "426884 Sheridan Rd & Irving Park Rd        240           41.8958   -87.6259 \n",
       "426885 Ashland Ave & Division St           210           41.9157   -87.6346 \n",
       "426886 Stetson Ave & South Water St        264           41.8910   -87.6355 \n",
       "426887 Michigan Ave & Oak St                85           41.8940   -87.6293 \n",
       "       end_lat end_lng  usertype\n",
       "1      41.9671 -87.6674 member  \n",
       "2      41.9542 -87.6644 member  \n",
       "3      41.9402 -87.6530 member  \n",
       "4      41.8918 -87.6206 member  \n",
       "5      41.8899 -87.6343 member  \n",
       "6      41.8846 -87.6446 member  \n",
       "7      41.8899 -87.6343 member  \n",
       "8      41.8899 -87.6343 member  \n",
       "9      41.8846 -87.6446 member  \n",
       "10     41.8882 -87.6364 member  \n",
       "11     41.9445 -87.6547 member  \n",
       "12     41.8834 -87.6412 member  \n",
       "13     41.8908 -87.6317 member  \n",
       "14     41.8908 -87.6317 member  \n",
       "15     41.9160 -87.6689 member  \n",
       "16     41.9322 -87.6586 member  \n",
       "17     41.8777 -87.6353 member  \n",
       "18     41.9322 -87.6586 member  \n",
       "19     41.8777 -87.6353 member  \n",
       "20     41.8968 -87.6309 member  \n",
       "21     41.8840 -87.6247 casual  \n",
       "22     41.8840 -87.6247 member  \n",
       "23     41.8793 -87.6399 member  \n",
       "24     41.9542 -87.6544 member  \n",
       "25     41.8840 -87.6247 member  \n",
       "26     41.8783 -87.6439 member  \n",
       "27     41.8899 -87.6715 member  \n",
       "28     41.8726 -87.6335 member  \n",
       "29     41.8794 -87.6355 member  \n",
       "30     41.8819 -87.6488 member  \n",
       "⋮      ⋮       ⋮        ⋮       \n",
       "426858 41.9291 -87.6491 casual  \n",
       "426859 41.8869 -87.6260 casual  \n",
       "426860 41.9544 -87.6480 member  \n",
       "426861 41.9183 -87.6363 member  \n",
       "426862 41.8892 -87.6385 member  \n",
       "426863 41.7953 -87.5965 casual  \n",
       "426864 41.9491 -87.6486 member  \n",
       "426865 41.8899 -87.6715 member  \n",
       "426866 41.8892 -87.6385 member  \n",
       "426867 41.8892 -87.6278 member  \n",
       "426868 41.8834 -87.6412 member  \n",
       "426869 41.9023 -87.6277 casual  \n",
       "426870 41.8892 -87.6278 member  \n",
       "426871 41.8834 -87.6412 member  \n",
       "426872 41.8834 -87.6412 member  \n",
       "426873 41.8892 -87.6278 member  \n",
       "426874 41.9259 -87.6390 member  \n",
       "426875 41.8834 -87.6412 member  \n",
       "426876 41.8892 -87.6278 member  \n",
       "426877 41.8892 -87.6278 member  \n",
       "426878 41.8834 -87.6412 member  \n",
       "426879 41.8777 -87.6548 member  \n",
       "426880 41.9840 -87.6523 member  \n",
       "426881 41.8892 -87.6278 member  \n",
       "426882 41.8899 -87.6803 casual  \n",
       "426883 41.8899 -87.6803 casual  \n",
       "426884 41.9542 -87.6544 member  \n",
       "426885 41.9035 -87.6677 casual  \n",
       "426886 41.8868 -87.6223 member  \n",
       "426887 41.9010 -87.6238 casual  "
      ]
     },
     "metadata": {},
     "output_type": "display_data"
    }
   ],
   "source": [
    "(q1_2020 <- rename(q1_2020,\n",
    "                  trip_id = ride_id,\n",
    "                  bikeid = rideable_type,\n",
    "                   start_time = started_at,\n",
    "                   end_time = ended_at,\n",
    "                   from_station_name = start_station_name,\n",
    "                   from_station_id = start_station_id,\n",
    "                   to_station_name = end_station_name,\n",
    "                   to_station_id = end_station_id,\n",
    "                   usertype = member_casual\n",
    "                   ))"
   ]
  },
  {
   "cell_type": "markdown",
   "id": "19ee203b",
   "metadata": {
    "papermill": {
     "duration": 0.015678,
     "end_time": "2025-01-10T12:49:02.608078",
     "exception": false,
     "start_time": "2025-01-10T12:49:02.592400",
     "status": "completed"
    },
    "tags": []
   },
   "source": [
    "### Convert data types\n",
    "\n",
    "Convert **trip_id** and **bikeid** from **2019** to character so that they can stack correctly with that from **2020**."
   ]
  },
  {
   "cell_type": "code",
   "execution_count": 6,
   "id": "f78e57cb",
   "metadata": {
    "execution": {
     "iopub.execute_input": "2025-01-10T12:49:02.643925Z",
     "iopub.status.busy": "2025-01-10T12:49:02.641838Z",
     "iopub.status.idle": "2025-01-10T12:49:02.672386Z",
     "shell.execute_reply": "2025-01-10T12:49:02.669766Z"
    },
    "papermill": {
     "duration": 0.051745,
     "end_time": "2025-01-10T12:49:02.675337",
     "exception": false,
     "start_time": "2025-01-10T12:49:02.623592",
     "status": "completed"
    },
    "tags": []
   },
   "outputs": [],
   "source": [
    "# 2019 quarters trip_id into character\n",
    "q1_2019$trip_id <- as.character(q1_2019$trip_id)\n",
    "q3_2019$trip_id <- as.character(q3_2019$trip_id)\n",
    "q4_2019$trip_id <- as.character(q4_2019$trip_id)\n",
    "\n",
    "# 2019 quarters bikeid into character\n",
    "q1_2019$bikeid <- as.character(q1_2019$bikeid)\n",
    "q3_2019$bikeid <- as.character(q3_2019$bikeid)\n",
    "q4_2019$bikeid <- as.character(q4_2019$bikeid)"
   ]
  },
  {
   "cell_type": "markdown",
   "id": "6086c584",
   "metadata": {
    "papermill": {
     "duration": 0.015465,
     "end_time": "2025-01-10T12:49:02.706255",
     "exception": false,
     "start_time": "2025-01-10T12:49:02.690790",
     "status": "completed"
    },
    "tags": []
   },
   "source": [
    "### Stack individual quarter's data frames into one big data frame\n",
    "\n",
    "Stack individual quarter's data frames into one big data frame. Q1, Q3, Q4 from 2019 and Q1 from 2020 have been stacked into one single dataframe."
   ]
  },
  {
   "cell_type": "code",
   "execution_count": 7,
   "id": "4247351b",
   "metadata": {
    "execution": {
     "iopub.execute_input": "2025-01-10T12:49:02.742123Z",
     "iopub.status.busy": "2025-01-10T12:49:02.740027Z",
     "iopub.status.idle": "2025-01-10T12:49:10.433506Z",
     "shell.execute_reply": "2025-01-10T12:49:10.431608Z"
    },
    "papermill": {
     "duration": 7.714629,
     "end_time": "2025-01-10T12:49:10.436253",
     "exception": false,
     "start_time": "2025-01-10T12:49:02.721624",
     "status": "completed"
    },
    "tags": []
   },
   "outputs": [],
   "source": [
    "#all_trips <- bind_rows(q1_2019, q1_2020)#, q3_2019)#, q4_2019, q1_2020)\n",
    "all_trips <- bind_rows(q1_2019, q3_2019, q4_2019, q1_2020)"
   ]
  },
  {
   "cell_type": "markdown",
   "id": "9072a712",
   "metadata": {
    "papermill": {
     "duration": 0.015745,
     "end_time": "2025-01-10T12:49:10.467550",
     "exception": false,
     "start_time": "2025-01-10T12:49:10.451805",
     "status": "completed"
    },
    "tags": []
   },
   "source": [
    "Let's take a look at the stacked dataset"
   ]
  },
  {
   "cell_type": "code",
   "execution_count": 8,
   "id": "7bc27526",
   "metadata": {
    "execution": {
     "iopub.execute_input": "2025-01-10T12:49:10.502249Z",
     "iopub.status.busy": "2025-01-10T12:49:10.500675Z",
     "iopub.status.idle": "2025-01-10T12:49:10.659462Z",
     "shell.execute_reply": "2025-01-10T12:49:10.657547Z"
    },
    "papermill": {
     "duration": 0.179119,
     "end_time": "2025-01-10T12:49:10.662072",
     "exception": false,
     "start_time": "2025-01-10T12:49:10.482953",
     "status": "completed"
    },
    "tags": []
   },
   "outputs": [
    {
     "data": {
      "text/html": [
       "<table class=\"dataframe\">\n",
       "<caption>A data.frame: 3136728 × 16</caption>\n",
       "<thead>\n",
       "\t<tr><th scope=col>trip_id</th><th scope=col>start_time</th><th scope=col>end_time</th><th scope=col>bikeid</th><th scope=col>tripduration</th><th scope=col>from_station_id</th><th scope=col>from_station_name</th><th scope=col>to_station_id</th><th scope=col>to_station_name</th><th scope=col>usertype</th><th scope=col>gender</th><th scope=col>birthyear</th><th scope=col>start_lat</th><th scope=col>start_lng</th><th scope=col>end_lat</th><th scope=col>end_lng</th></tr>\n",
       "\t<tr><th scope=col>&lt;chr&gt;</th><th scope=col>&lt;chr&gt;</th><th scope=col>&lt;chr&gt;</th><th scope=col>&lt;chr&gt;</th><th scope=col>&lt;chr&gt;</th><th scope=col>&lt;int&gt;</th><th scope=col>&lt;chr&gt;</th><th scope=col>&lt;int&gt;</th><th scope=col>&lt;chr&gt;</th><th scope=col>&lt;chr&gt;</th><th scope=col>&lt;chr&gt;</th><th scope=col>&lt;int&gt;</th><th scope=col>&lt;dbl&gt;</th><th scope=col>&lt;dbl&gt;</th><th scope=col>&lt;dbl&gt;</th><th scope=col>&lt;dbl&gt;</th></tr>\n",
       "</thead>\n",
       "<tbody>\n",
       "\t<tr><td>21742443</td><td>2019-01-01 00:04:37</td><td>2019-01-01 00:11:07</td><td>2167</td><td><span style=white-space:pre-wrap>390.0  </span></td><td>199</td><td><span style=white-space:pre-wrap>Wabash Ave &amp; Grand Ave             </span></td><td> 84</td><td><span style=white-space:pre-wrap>Milwaukee Ave &amp; Grand Ave     </span></td><td>Subscriber</td><td><span style=white-space:pre-wrap>Male  </span></td><td>1989</td><td>NA</td><td>NA</td><td>NA</td><td>NA</td></tr>\n",
       "\t<tr><td>21742444</td><td>2019-01-01 00:08:13</td><td>2019-01-01 00:15:34</td><td>4386</td><td><span style=white-space:pre-wrap>441.0  </span></td><td> 44</td><td><span style=white-space:pre-wrap>State St &amp; Randolph St             </span></td><td>624</td><td>Dearborn St &amp; Van Buren St (*)</td><td>Subscriber</td><td>Female</td><td>1990</td><td>NA</td><td>NA</td><td>NA</td><td>NA</td></tr>\n",
       "\t<tr><td>21742445</td><td>2019-01-01 00:13:23</td><td>2019-01-01 00:27:12</td><td>1524</td><td><span style=white-space:pre-wrap>829.0  </span></td><td> 15</td><td><span style=white-space:pre-wrap>Racine Ave &amp; 18th St               </span></td><td>644</td><td>Western Ave &amp; Fillmore St (*) </td><td>Subscriber</td><td>Female</td><td>1994</td><td>NA</td><td>NA</td><td>NA</td><td>NA</td></tr>\n",
       "\t<tr><td>21742446</td><td>2019-01-01 00:13:45</td><td>2019-01-01 00:43:28</td><td>252 </td><td>1,783.0</td><td>123</td><td><span style=white-space:pre-wrap>California Ave &amp; Milwaukee Ave     </span></td><td>176</td><td><span style=white-space:pre-wrap>Clark St &amp; Elm St             </span></td><td>Subscriber</td><td><span style=white-space:pre-wrap>Male  </span></td><td>1993</td><td>NA</td><td>NA</td><td>NA</td><td>NA</td></tr>\n",
       "\t<tr><td>21742447</td><td>2019-01-01 00:14:52</td><td>2019-01-01 00:20:56</td><td>1170</td><td><span style=white-space:pre-wrap>364.0  </span></td><td>173</td><td>Mies van der Rohe Way &amp; Chicago Ave</td><td> 35</td><td><span style=white-space:pre-wrap>Streeter Dr &amp; Grand Ave       </span></td><td>Subscriber</td><td><span style=white-space:pre-wrap>Male  </span></td><td>1994</td><td>NA</td><td>NA</td><td>NA</td><td>NA</td></tr>\n",
       "\t<tr><td>21742448</td><td>2019-01-01 00:15:33</td><td>2019-01-01 00:19:09</td><td>2437</td><td><span style=white-space:pre-wrap>216.0  </span></td><td> 98</td><td><span style=white-space:pre-wrap>LaSalle St &amp; Washington St         </span></td><td> 49</td><td><span style=white-space:pre-wrap>Dearborn St &amp; Monroe St       </span></td><td>Subscriber</td><td>Female</td><td>1983</td><td>NA</td><td>NA</td><td>NA</td><td>NA</td></tr>\n",
       "\t<tr><td>21742449</td><td>2019-01-01 00:16:06</td><td>2019-01-01 00:19:03</td><td>2708</td><td><span style=white-space:pre-wrap>177.0  </span></td><td> 98</td><td><span style=white-space:pre-wrap>LaSalle St &amp; Washington St         </span></td><td> 49</td><td><span style=white-space:pre-wrap>Dearborn St &amp; Monroe St       </span></td><td>Subscriber</td><td><span style=white-space:pre-wrap>Male  </span></td><td>1984</td><td>NA</td><td>NA</td><td>NA</td><td>NA</td></tr>\n",
       "\t<tr><td>21742450</td><td>2019-01-01 00:18:41</td><td>2019-01-01 00:20:21</td><td>2796</td><td><span style=white-space:pre-wrap>100.0  </span></td><td>211</td><td><span style=white-space:pre-wrap>St. Clair St &amp; Erie St             </span></td><td>142</td><td><span style=white-space:pre-wrap>McClurg Ct &amp; Erie St          </span></td><td>Subscriber</td><td><span style=white-space:pre-wrap>Male  </span></td><td>1990</td><td>NA</td><td>NA</td><td>NA</td><td>NA</td></tr>\n",
       "\t<tr><td>21742451</td><td>2019-01-01 00:18:43</td><td>2019-01-01 00:47:30</td><td>6205</td><td>1,727.0</td><td>150</td><td><span style=white-space:pre-wrap>Fort Dearborn Dr &amp; 31st St         </span></td><td>148</td><td><span style=white-space:pre-wrap>State St &amp; 33rd St            </span></td><td>Subscriber</td><td><span style=white-space:pre-wrap>Male  </span></td><td>1995</td><td>NA</td><td>NA</td><td>NA</td><td>NA</td></tr>\n",
       "\t<tr><td>21742452</td><td>2019-01-01 00:19:18</td><td>2019-01-01 00:24:54</td><td>3939</td><td><span style=white-space:pre-wrap>336.0  </span></td><td>268</td><td><span style=white-space:pre-wrap>Lake Shore Dr &amp; North Blvd         </span></td><td>141</td><td><span style=white-space:pre-wrap>Clark St &amp; Lincoln Ave        </span></td><td>Subscriber</td><td><span style=white-space:pre-wrap>Male  </span></td><td>1996</td><td>NA</td><td>NA</td><td>NA</td><td>NA</td></tr>\n",
       "\t<tr><td>21742453</td><td>2019-01-01 00:20:34</td><td>2019-01-01 00:35:20</td><td>6243</td><td><span style=white-space:pre-wrap>886.0  </span></td><td>299</td><td><span style=white-space:pre-wrap>Halsted St &amp; Roscoe St             </span></td><td>295</td><td><span style=white-space:pre-wrap>Broadway &amp; Argyle St          </span></td><td>Subscriber</td><td><span style=white-space:pre-wrap>Male  </span></td><td>1994</td><td>NA</td><td>NA</td><td>NA</td><td>NA</td></tr>\n",
       "\t<tr><td>21742454</td><td>2019-01-01 00:21:52</td><td>2019-01-01 00:32:45</td><td>6300</td><td><span style=white-space:pre-wrap>653.0  </span></td><td>204</td><td><span style=white-space:pre-wrap>Prairie Ave &amp; Garfield Blvd        </span></td><td>420</td><td><span style=white-space:pre-wrap>Ellis Ave &amp; 55th St           </span></td><td>Subscriber</td><td>Female</td><td>1994</td><td>NA</td><td>NA</td><td>NA</td><td>NA</td></tr>\n",
       "\t<tr><td>21742455</td><td>2019-01-01 00:23:04</td><td>2019-01-01 00:33:05</td><td>3029</td><td><span style=white-space:pre-wrap>601.0  </span></td><td> 90</td><td><span style=white-space:pre-wrap>Millennium Park                    </span></td><td>255</td><td><span style=white-space:pre-wrap>Indiana Ave &amp; Roosevelt Rd    </span></td><td>Subscriber</td><td><span style=white-space:pre-wrap>Male  </span></td><td>1986</td><td>NA</td><td>NA</td><td>NA</td><td>NA</td></tr>\n",
       "\t<tr><td>21742456</td><td>2019-01-01 00:23:43</td><td>2019-01-01 00:33:05</td><td><span style=white-space:pre-wrap>84  </span></td><td><span style=white-space:pre-wrap>562.0  </span></td><td> 90</td><td><span style=white-space:pre-wrap>Millennium Park                    </span></td><td>255</td><td><span style=white-space:pre-wrap>Indiana Ave &amp; Roosevelt Rd    </span></td><td><span style=white-space:pre-wrap>Customer  </span></td><td>Female</td><td>1990</td><td>NA</td><td>NA</td><td>NA</td><td>NA</td></tr>\n",
       "\t<tr><td>21742457</td><td>2019-01-01 00:23:54</td><td>2019-01-01 00:39:00</td><td>5019</td><td><span style=white-space:pre-wrap>906.0  </span></td><td>289</td><td><span style=white-space:pre-wrap>Wells St &amp; Concord Ln              </span></td><td>324</td><td><span style=white-space:pre-wrap>Stockton Dr &amp; Wrightwood Ave  </span></td><td>Subscriber</td><td>Female</td><td>1989</td><td>NA</td><td>NA</td><td>NA</td><td>NA</td></tr>\n",
       "\t<tr><td>21742458</td><td>2019-01-01 00:24:08</td><td>2019-01-01 00:39:00</td><td>5526</td><td><span style=white-space:pre-wrap>892.0  </span></td><td>289</td><td><span style=white-space:pre-wrap>Wells St &amp; Concord Ln              </span></td><td>324</td><td><span style=white-space:pre-wrap>Stockton Dr &amp; Wrightwood Ave  </span></td><td>Subscriber</td><td>Female</td><td>1989</td><td>NA</td><td>NA</td><td>NA</td><td>NA</td></tr>\n",
       "\t<tr><td>21742459</td><td>2019-01-01 00:24:13</td><td>2019-01-01 00:31:00</td><td>3373</td><td><span style=white-space:pre-wrap>407.0  </span></td><td>152</td><td><span style=white-space:pre-wrap>Lincoln Ave &amp; Diversey Pkwy        </span></td><td>166</td><td><span style=white-space:pre-wrap>Ashland Ave &amp; Wrightwood Ave  </span></td><td>Subscriber</td><td><span style=white-space:pre-wrap>Male  </span></td><td>1967</td><td>NA</td><td>NA</td><td>NA</td><td>NA</td></tr>\n",
       "\t<tr><td>21742460</td><td>2019-01-01 00:24:27</td><td>2019-01-01 00:47:03</td><td>5777</td><td>1,356.0</td><td>268</td><td><span style=white-space:pre-wrap>Lake Shore Dr &amp; North Blvd         </span></td><td>319</td><td>Greenview Ave &amp; Diversey Pkwy </td><td><span style=white-space:pre-wrap>Customer  </span></td><td>Female</td><td>1990</td><td>NA</td><td>NA</td><td>NA</td><td>NA</td></tr>\n",
       "\t<tr><td>21742461</td><td>2019-01-01 00:25:28</td><td>2019-01-01 00:27:10</td><td>3940</td><td><span style=white-space:pre-wrap>102.0  </span></td><td> 35</td><td><span style=white-space:pre-wrap>Streeter Dr &amp; Grand Ave            </span></td><td> 35</td><td><span style=white-space:pre-wrap>Streeter Dr &amp; Grand Ave       </span></td><td>Subscriber</td><td><span style=white-space:pre-wrap>Male  </span></td><td>1985</td><td>NA</td><td>NA</td><td>NA</td><td>NA</td></tr>\n",
       "\t<tr><td>21742463</td><td>2019-01-01 00:29:19</td><td>2019-01-01 01:08:12</td><td>3914</td><td>2,333.0</td><td> 35</td><td><span style=white-space:pre-wrap>Streeter Dr &amp; Grand Ave            </span></td><td> 39</td><td><span style=white-space:pre-wrap>Wabash Ave &amp; Adams St         </span></td><td><span style=white-space:pre-wrap>Customer  </span></td><td><span style=white-space:pre-wrap>      </span></td><td><span style=white-space:pre-wrap>  NA</span></td><td>NA</td><td>NA</td><td>NA</td><td>NA</td></tr>\n",
       "\t<tr><td>21742464</td><td>2019-01-01 00:29:21</td><td>2019-01-01 00:45:21</td><td>140 </td><td><span style=white-space:pre-wrap>960.0  </span></td><td> 47</td><td><span style=white-space:pre-wrap>State St &amp; Kinzie St               </span></td><td>111</td><td><span style=white-space:pre-wrap>Sedgwick St &amp; Huron St        </span></td><td>Subscriber</td><td><span style=white-space:pre-wrap>Male  </span></td><td>1957</td><td>NA</td><td>NA</td><td>NA</td><td>NA</td></tr>\n",
       "\t<tr><td>21742465</td><td>2019-01-01 00:29:28</td><td>2019-01-01 01:07:49</td><td>3355</td><td>2,301.0</td><td> 35</td><td><span style=white-space:pre-wrap>Streeter Dr &amp; Grand Ave            </span></td><td> 39</td><td><span style=white-space:pre-wrap>Wabash Ave &amp; Adams St         </span></td><td><span style=white-space:pre-wrap>Customer  </span></td><td><span style=white-space:pre-wrap>      </span></td><td><span style=white-space:pre-wrap>  NA</span></td><td>NA</td><td>NA</td><td>NA</td><td>NA</td></tr>\n",
       "\t<tr><td>21742466</td><td>2019-01-01 00:29:47</td><td>2019-01-01 00:49:15</td><td>5026</td><td>1,168.0</td><td> 85</td><td><span style=white-space:pre-wrap>Michigan Ave &amp; Oak St              </span></td><td>329</td><td>Lake Shore Dr &amp; Diversey Pkwy </td><td>Subscriber</td><td><span style=white-space:pre-wrap>Male  </span></td><td>1959</td><td>NA</td><td>NA</td><td>NA</td><td>NA</td></tr>\n",
       "\t<tr><td>21742467</td><td>2019-01-01 00:30:48</td><td>2019-01-01 00:38:42</td><td>1998</td><td><span style=white-space:pre-wrap>474.0  </span></td><td>289</td><td><span style=white-space:pre-wrap>Wells St &amp; Concord Ln              </span></td><td>313</td><td>Lakeview Ave &amp; Fullerton Pkwy </td><td>Subscriber</td><td><span style=white-space:pre-wrap>Male  </span></td><td>1994</td><td>NA</td><td>NA</td><td>NA</td><td>NA</td></tr>\n",
       "\t<tr><td>21742468</td><td>2019-01-01 00:33:09</td><td>2019-01-01 00:50:25</td><td>2630</td><td>1,036.0</td><td> 13</td><td><span style=white-space:pre-wrap>Wilton Ave &amp; Diversey Pkwy         </span></td><td> 61</td><td><span style=white-space:pre-wrap>Wood St &amp; Milwaukee Ave       </span></td><td>Subscriber</td><td><span style=white-space:pre-wrap>Male  </span></td><td>1991</td><td>NA</td><td>NA</td><td>NA</td><td>NA</td></tr>\n",
       "\t<tr><td>21742469</td><td>2019-01-01 00:34:35</td><td>2019-01-01 00:38:25</td><td>3722</td><td><span style=white-space:pre-wrap>230.0  </span></td><td>520</td><td><span style=white-space:pre-wrap>Greenview Ave &amp; Jarvis Ave         </span></td><td>523</td><td><span style=white-space:pre-wrap>Eastlake Ter &amp; Rogers Ave     </span></td><td>Subscriber</td><td><span style=white-space:pre-wrap>Male  </span></td><td>1961</td><td>NA</td><td>NA</td><td>NA</td><td>NA</td></tr>\n",
       "\t<tr><td>21742471</td><td>2019-01-01 00:38:11</td><td>2019-01-01 00:50:38</td><td>1166</td><td><span style=white-space:pre-wrap>747.0  </span></td><td>256</td><td><span style=white-space:pre-wrap>Broadway &amp; Sheridan Rd             </span></td><td>297</td><td><span style=white-space:pre-wrap>Paulina St &amp; Montrose Ave     </span></td><td>Subscriber</td><td><span style=white-space:pre-wrap>Male  </span></td><td>1968</td><td>NA</td><td>NA</td><td>NA</td><td>NA</td></tr>\n",
       "\t<tr><td>21742472</td><td>2019-01-01 00:38:47</td><td>2019-01-01 00:50:38</td><td>1704</td><td><span style=white-space:pre-wrap>711.0  </span></td><td>256</td><td><span style=white-space:pre-wrap>Broadway &amp; Sheridan Rd             </span></td><td>297</td><td><span style=white-space:pre-wrap>Paulina St &amp; Montrose Ave     </span></td><td>Subscriber</td><td><span style=white-space:pre-wrap>Male  </span></td><td>1964</td><td>NA</td><td>NA</td><td>NA</td><td>NA</td></tr>\n",
       "\t<tr><td>21742473</td><td>2019-01-01 00:40:16</td><td>2019-01-01 00:49:29</td><td>1476</td><td><span style=white-space:pre-wrap>553.0  </span></td><td>254</td><td><span style=white-space:pre-wrap>Pine Grove Ave &amp; Irving Park Rd    </span></td><td>465</td><td><span style=white-space:pre-wrap>Marine Dr &amp; Ainslie St        </span></td><td>Subscriber</td><td><span style=white-space:pre-wrap>Male  </span></td><td>1990</td><td>NA</td><td>NA</td><td>NA</td><td>NA</td></tr>\n",
       "\t<tr><td>21742474</td><td>2019-01-01 00:41:46</td><td>2019-01-01 00:50:27</td><td>4614</td><td><span style=white-space:pre-wrap>521.0  </span></td><td> 66</td><td><span style=white-space:pre-wrap>Clinton St &amp; Lake St               </span></td><td> 52</td><td><span style=white-space:pre-wrap>Michigan Ave &amp; Lake St        </span></td><td>Subscriber</td><td><span style=white-space:pre-wrap>Male  </span></td><td>1994</td><td>NA</td><td>NA</td><td>NA</td><td>NA</td></tr>\n",
       "\t<tr><td>⋮</td><td>⋮</td><td>⋮</td><td>⋮</td><td>⋮</td><td>⋮</td><td>⋮</td><td>⋮</td><td>⋮</td><td>⋮</td><td>⋮</td><td>⋮</td><td>⋮</td><td>⋮</td><td>⋮</td><td>⋮</td></tr>\n",
       "\t<tr><td>8A8A039BB7072249</td><td>2020-03-02 17:29:26</td><td>2020-03-02 17:50:51</td><td>docked_bike</td><td>NA</td><td>141</td><td><span style=white-space:pre-wrap>Clark St &amp; Lincoln Ave         </span></td><td>349</td><td><span style=white-space:pre-wrap>Halsted St &amp; Wrightwood Ave    </span></td><td>casual</td><td>NA</td><td>NA</td><td>41.9157</td><td>-87.6346</td><td>41.9291</td><td>-87.6491</td></tr>\n",
       "\t<tr><td>6244F21F053BA361</td><td>2020-03-13 16:58:54</td><td>2020-03-13 17:31:11</td><td>docked_bike</td><td>NA</td><td> 36</td><td><span style=white-space:pre-wrap>Franklin St &amp; Jackson Blvd     </span></td><td>194</td><td><span style=white-space:pre-wrap>Wabash Ave &amp; Wacker Pl         </span></td><td>casual</td><td>NA</td><td>NA</td><td>41.8777</td><td>-87.6353</td><td>41.8869</td><td>-87.6260</td></tr>\n",
       "\t<tr><td>058D62FDDBF3C606</td><td>2020-03-12 15:39:44</td><td>2020-03-12 15:43:06</td><td>docked_bike</td><td>NA</td><td>304</td><td><span style=white-space:pre-wrap>Broadway &amp; Waveland Ave        </span></td><td>254</td><td>Pine Grove Ave &amp; Irving Park Rd</td><td>member</td><td>NA</td><td>NA</td><td>41.9491</td><td>-87.6486</td><td>41.9544</td><td>-87.6480</td></tr>\n",
       "\t<tr><td>A2FFBD0AA763B19D</td><td>2020-03-11 18:39:03</td><td>2020-03-11 18:55:05</td><td>docked_bike</td><td>NA</td><td>133</td><td><span style=white-space:pre-wrap>Kingsbury St &amp; Kinzie St       </span></td><td> 94</td><td><span style=white-space:pre-wrap>Clark St &amp; Armitage Ave        </span></td><td>member</td><td>NA</td><td>NA</td><td>41.8892</td><td>-87.6385</td><td>41.9183</td><td>-87.6363</td></tr>\n",
       "\t<tr><td>21A760C7DC9FD318</td><td>2020-03-11 16:06:45</td><td>2020-03-11 16:17:42</td><td>docked_bike</td><td>NA</td><td>285</td><td><span style=white-space:pre-wrap>Wood St &amp; Hubbard St           </span></td><td>133</td><td><span style=white-space:pre-wrap>Kingsbury St &amp; Kinzie St       </span></td><td>member</td><td>NA</td><td>NA</td><td>41.8899</td><td>-87.6715</td><td>41.8892</td><td>-87.6385</td></tr>\n",
       "\t<tr><td>36A20E87B11FF36D</td><td>2020-03-01 15:16:06</td><td>2020-03-01 16:36:04</td><td>docked_bike</td><td>NA</td><td>248</td><td><span style=white-space:pre-wrap>Woodlawn Ave &amp; 55th St         </span></td><td>248</td><td><span style=white-space:pre-wrap>Woodlawn Ave &amp; 55th St         </span></td><td>casual</td><td>NA</td><td>NA</td><td>41.7953</td><td>-87.5965</td><td>41.7953</td><td>-87.5965</td></tr>\n",
       "\t<tr><td>FEB95D075E9435E4</td><td>2020-03-04 07:25:24</td><td>2020-03-04 07:28:25</td><td>docked_bike</td><td>NA</td><td>254</td><td>Pine Grove Ave &amp; Irving Park Rd</td><td>304</td><td><span style=white-space:pre-wrap>Broadway &amp; Waveland Ave        </span></td><td>member</td><td>NA</td><td>NA</td><td>41.9544</td><td>-87.6480</td><td>41.9491</td><td>-87.6486</td></tr>\n",
       "\t<tr><td>FD4B140C786D9E1D</td><td>2020-03-04 17:54:24</td><td>2020-03-04 18:04:18</td><td>docked_bike</td><td>NA</td><td>133</td><td><span style=white-space:pre-wrap>Kingsbury St &amp; Kinzie St       </span></td><td>285</td><td><span style=white-space:pre-wrap>Wood St &amp; Hubbard St           </span></td><td>member</td><td>NA</td><td>NA</td><td>41.8892</td><td>-87.6385</td><td>41.8899</td><td>-87.6715</td></tr>\n",
       "\t<tr><td>062828AF86F56FA8</td><td>2020-03-10 15:38:13</td><td>2020-03-10 15:48:55</td><td>docked_bike</td><td>NA</td><td>285</td><td><span style=white-space:pre-wrap>Wood St &amp; Hubbard St           </span></td><td>133</td><td><span style=white-space:pre-wrap>Kingsbury St &amp; Kinzie St       </span></td><td>member</td><td>NA</td><td>NA</td><td>41.8899</td><td>-87.6715</td><td>41.8892</td><td>-87.6385</td></tr>\n",
       "\t<tr><td>FB323E655F08521D</td><td>2020-03-10 08:46:57</td><td>2020-03-10 08:54:10</td><td>docked_bike</td><td>NA</td><td> 26</td><td><span style=white-space:pre-wrap>McClurg Ct &amp; Illinois St       </span></td><td> 47</td><td><span style=white-space:pre-wrap>State St &amp; Kinzie St           </span></td><td>member</td><td>NA</td><td>NA</td><td>41.8904</td><td>-87.6175</td><td>41.8892</td><td>-87.6278</td></tr>\n",
       "\t<tr><td>7CD5C610872581BB</td><td>2020-03-02 15:56:46</td><td>2020-03-02 16:04:48</td><td>docked_bike</td><td>NA</td><td> 47</td><td><span style=white-space:pre-wrap>State St &amp; Kinzie St           </span></td><td> 91</td><td><span style=white-space:pre-wrap>Clinton St &amp; Washington Blvd   </span></td><td>member</td><td>NA</td><td>NA</td><td>41.8892</td><td>-87.6278</td><td>41.8834</td><td>-87.6412</td></tr>\n",
       "\t<tr><td>330C4C8905197AAD</td><td>2020-03-08 13:34:12</td><td>2020-03-08 13:55:43</td><td>docked_bike</td><td>NA</td><td><span style=white-space:pre-wrap>  2</span></td><td><span style=white-space:pre-wrap>Buckingham Fountain            </span></td><td>172</td><td><span style=white-space:pre-wrap>Rush St &amp; Cedar St             </span></td><td>casual</td><td>NA</td><td>NA</td><td>41.8765</td><td>-87.6205</td><td>41.9023</td><td>-87.6277</td></tr>\n",
       "\t<tr><td>0B8742C644002BB1</td><td>2020-03-10 06:46:32</td><td>2020-03-10 06:54:34</td><td>docked_bike</td><td>NA</td><td> 91</td><td><span style=white-space:pre-wrap>Clinton St &amp; Washington Blvd   </span></td><td> 47</td><td><span style=white-space:pre-wrap>State St &amp; Kinzie St           </span></td><td>member</td><td>NA</td><td>NA</td><td>41.8834</td><td>-87.6412</td><td>41.8892</td><td>-87.6278</td></tr>\n",
       "\t<tr><td>BA30D82E5928E7A7</td><td>2020-03-09 15:52:18</td><td>2020-03-09 15:59:47</td><td>docked_bike</td><td>NA</td><td> 47</td><td><span style=white-space:pre-wrap>State St &amp; Kinzie St           </span></td><td> 91</td><td><span style=white-space:pre-wrap>Clinton St &amp; Washington Blvd   </span></td><td>member</td><td>NA</td><td>NA</td><td>41.8892</td><td>-87.6278</td><td>41.8834</td><td>-87.6412</td></tr>\n",
       "\t<tr><td>B46765A0DB572D4B</td><td>2020-03-12 15:57:23</td><td>2020-03-12 16:04:09</td><td>docked_bike</td><td>NA</td><td> 47</td><td><span style=white-space:pre-wrap>State St &amp; Kinzie St           </span></td><td> 91</td><td><span style=white-space:pre-wrap>Clinton St &amp; Washington Blvd   </span></td><td>member</td><td>NA</td><td>NA</td><td>41.8892</td><td>-87.6278</td><td>41.8834</td><td>-87.6412</td></tr>\n",
       "\t<tr><td>1C755B56146D806B</td><td>2020-03-06 07:13:14</td><td>2020-03-06 07:21:03</td><td>docked_bike</td><td>NA</td><td> 91</td><td><span style=white-space:pre-wrap>Clinton St &amp; Washington Blvd   </span></td><td> 47</td><td><span style=white-space:pre-wrap>State St &amp; Kinzie St           </span></td><td>member</td><td>NA</td><td>NA</td><td>41.8834</td><td>-87.6412</td><td>41.8892</td><td>-87.6278</td></tr>\n",
       "\t<tr><td>46230CF6653E2CDE</td><td>2020-03-25 17:59:02</td><td>2020-03-25 18:29:31</td><td>docked_bike</td><td>NA</td><td>459</td><td>Lakefront Trail &amp; Bryn Mawr Ave</td><td>313</td><td><span style=white-space:pre-wrap>Lakeview Ave &amp; Fullerton Pkwy  </span></td><td>member</td><td>NA</td><td>NA</td><td>41.9840</td><td>-87.6523</td><td>41.9259</td><td>-87.6390</td></tr>\n",
       "\t<tr><td>62BD7FE2B823B34E</td><td>2020-03-11 15:56:59</td><td>2020-03-11 16:03:43</td><td>docked_bike</td><td>NA</td><td> 47</td><td><span style=white-space:pre-wrap>State St &amp; Kinzie St           </span></td><td> 91</td><td><span style=white-space:pre-wrap>Clinton St &amp; Washington Blvd   </span></td><td>member</td><td>NA</td><td>NA</td><td>41.8892</td><td>-87.6278</td><td>41.8834</td><td>-87.6412</td></tr>\n",
       "\t<tr><td>0E1BBACD66CAF13D</td><td>2020-03-02 06:47:31</td><td>2020-03-02 06:55:04</td><td>docked_bike</td><td>NA</td><td> 91</td><td><span style=white-space:pre-wrap>Clinton St &amp; Washington Blvd   </span></td><td> 47</td><td><span style=white-space:pre-wrap>State St &amp; Kinzie St           </span></td><td>member</td><td>NA</td><td>NA</td><td>41.8834</td><td>-87.6412</td><td>41.8892</td><td>-87.6278</td></tr>\n",
       "\t<tr><td>72C026003AC3ED3C</td><td>2020-03-04 07:13:56</td><td>2020-03-04 07:21:10</td><td>docked_bike</td><td>NA</td><td> 18</td><td><span style=white-space:pre-wrap>Wacker Dr &amp; Washington St      </span></td><td> 47</td><td><span style=white-space:pre-wrap>State St &amp; Kinzie St           </span></td><td>member</td><td>NA</td><td>NA</td><td>41.8831</td><td>-87.6373</td><td>41.8892</td><td>-87.6278</td></tr>\n",
       "\t<tr><td>59CD7783230EBC26</td><td>2020-03-06 15:58:30</td><td>2020-03-06 16:05:48</td><td>docked_bike</td><td>NA</td><td> 47</td><td><span style=white-space:pre-wrap>State St &amp; Kinzie St           </span></td><td> 91</td><td><span style=white-space:pre-wrap>Clinton St &amp; Washington Blvd   </span></td><td>member</td><td>NA</td><td>NA</td><td>41.8892</td><td>-87.6278</td><td>41.8834</td><td>-87.6412</td></tr>\n",
       "\t<tr><td>33EE865F3D9E5D00</td><td>2020-03-08 17:22:42</td><td>2020-03-08 17:28:34</td><td>docked_bike</td><td>NA</td><td>112</td><td><span style=white-space:pre-wrap>Green St &amp; Randolph St         </span></td><td> 21</td><td><span style=white-space:pre-wrap>Aberdeen St &amp; Jackson Blvd     </span></td><td>member</td><td>NA</td><td>NA</td><td>41.8837</td><td>-87.6487</td><td>41.8777</td><td>-87.6548</td></tr>\n",
       "\t<tr><td>4361A2348584C3E4</td><td>2020-03-25 17:10:10</td><td>2020-03-25 17:47:34</td><td>docked_bike</td><td>NA</td><td>313</td><td><span style=white-space:pre-wrap>Lakeview Ave &amp; Fullerton Pkwy  </span></td><td>459</td><td>Lakefront Trail &amp; Bryn Mawr Ave</td><td>member</td><td>NA</td><td>NA</td><td>41.9259</td><td>-87.6390</td><td>41.9840</td><td>-87.6523</td></tr>\n",
       "\t<tr><td>005D3BC2A3B33DDA</td><td>2020-03-12 07:32:25</td><td>2020-03-12 07:38:44</td><td>docked_bike</td><td>NA</td><td> 91</td><td><span style=white-space:pre-wrap>Clinton St &amp; Washington Blvd   </span></td><td> 47</td><td><span style=white-space:pre-wrap>State St &amp; Kinzie St           </span></td><td>member</td><td>NA</td><td>NA</td><td>41.8834</td><td>-87.6412</td><td>41.8892</td><td>-87.6278</td></tr>\n",
       "\t<tr><td>6F4D221BDDFD943F</td><td>2020-03-10 10:40:27</td><td>2020-03-10 10:40:29</td><td>docked_bike</td><td>NA</td><td>675</td><td>HQ QR                          </td><td>675</td><td>HQ QR                          </td><td>casual</td><td>NA</td><td>NA</td><td>41.8899</td><td>-87.6803</td><td>41.8899</td><td>-87.6803</td></tr>\n",
       "\t<tr><td>ADDAA33CEBCAE733</td><td>2020-03-10 10:40:06</td><td>2020-03-10 10:40:07</td><td>docked_bike</td><td>NA</td><td>675</td><td>HQ QR                          </td><td>675</td><td>HQ QR                          </td><td>casual</td><td>NA</td><td>NA</td><td>41.8899</td><td>-87.6803</td><td>41.8899</td><td>-87.6803</td></tr>\n",
       "\t<tr><td>82B10FA3994BC66A</td><td>2020-03-07 15:25:55</td><td>2020-03-07 16:14:03</td><td>docked_bike</td><td>NA</td><td>161</td><td><span style=white-space:pre-wrap>Rush St &amp; Superior St          </span></td><td>240</td><td><span style=white-space:pre-wrap>Sheridan Rd &amp; Irving Park Rd   </span></td><td>member</td><td>NA</td><td>NA</td><td>41.8958</td><td>-87.6259</td><td>41.9542</td><td>-87.6544</td></tr>\n",
       "\t<tr><td>AA0D5AAA0B59C8AA</td><td>2020-03-01 13:12:38</td><td>2020-03-01 13:38:29</td><td>docked_bike</td><td>NA</td><td>141</td><td><span style=white-space:pre-wrap>Clark St &amp; Lincoln Ave         </span></td><td>210</td><td><span style=white-space:pre-wrap>Ashland Ave &amp; Division St      </span></td><td>casual</td><td>NA</td><td>NA</td><td>41.9157</td><td>-87.6346</td><td>41.9035</td><td>-87.6677</td></tr>\n",
       "\t<tr><td>3296360A7BC20FB8</td><td>2020-03-07 18:02:45</td><td>2020-03-07 18:13:18</td><td>docked_bike</td><td>NA</td><td>672</td><td><span style=white-space:pre-wrap>Franklin St &amp; Illinois St      </span></td><td>264</td><td><span style=white-space:pre-wrap>Stetson Ave &amp; South Water St   </span></td><td>member</td><td>NA</td><td>NA</td><td>41.8910</td><td>-87.6355</td><td>41.8868</td><td>-87.6223</td></tr>\n",
       "\t<tr><td>064EC7698E4FF9B3</td><td>2020-03-08 13:03:57</td><td>2020-03-08 13:32:27</td><td>docked_bike</td><td>NA</td><td>110</td><td><span style=white-space:pre-wrap>Dearborn St &amp; Erie St          </span></td><td> 85</td><td><span style=white-space:pre-wrap>Michigan Ave &amp; Oak St          </span></td><td>casual</td><td>NA</td><td>NA</td><td>41.8940</td><td>-87.6293</td><td>41.9010</td><td>-87.6238</td></tr>\n",
       "</tbody>\n",
       "</table>\n"
      ],
      "text/latex": [
       "A data.frame: 3136728 × 16\n",
       "\\begin{tabular}{llllllllllllllll}\n",
       " trip\\_id & start\\_time & end\\_time & bikeid & tripduration & from\\_station\\_id & from\\_station\\_name & to\\_station\\_id & to\\_station\\_name & usertype & gender & birthyear & start\\_lat & start\\_lng & end\\_lat & end\\_lng\\\\\n",
       " <chr> & <chr> & <chr> & <chr> & <chr> & <int> & <chr> & <int> & <chr> & <chr> & <chr> & <int> & <dbl> & <dbl> & <dbl> & <dbl>\\\\\n",
       "\\hline\n",
       "\t 21742443 & 2019-01-01 00:04:37 & 2019-01-01 00:11:07 & 2167 & 390.0   & 199 & Wabash Ave \\& Grand Ave              &  84 & Milwaukee Ave \\& Grand Ave      & Subscriber & Male   & 1989 & NA & NA & NA & NA\\\\\n",
       "\t 21742444 & 2019-01-01 00:08:13 & 2019-01-01 00:15:34 & 4386 & 441.0   &  44 & State St \\& Randolph St              & 624 & Dearborn St \\& Van Buren St (*) & Subscriber & Female & 1990 & NA & NA & NA & NA\\\\\n",
       "\t 21742445 & 2019-01-01 00:13:23 & 2019-01-01 00:27:12 & 1524 & 829.0   &  15 & Racine Ave \\& 18th St                & 644 & Western Ave \\& Fillmore St (*)  & Subscriber & Female & 1994 & NA & NA & NA & NA\\\\\n",
       "\t 21742446 & 2019-01-01 00:13:45 & 2019-01-01 00:43:28 & 252  & 1,783.0 & 123 & California Ave \\& Milwaukee Ave      & 176 & Clark St \\& Elm St              & Subscriber & Male   & 1993 & NA & NA & NA & NA\\\\\n",
       "\t 21742447 & 2019-01-01 00:14:52 & 2019-01-01 00:20:56 & 1170 & 364.0   & 173 & Mies van der Rohe Way \\& Chicago Ave &  35 & Streeter Dr \\& Grand Ave        & Subscriber & Male   & 1994 & NA & NA & NA & NA\\\\\n",
       "\t 21742448 & 2019-01-01 00:15:33 & 2019-01-01 00:19:09 & 2437 & 216.0   &  98 & LaSalle St \\& Washington St          &  49 & Dearborn St \\& Monroe St        & Subscriber & Female & 1983 & NA & NA & NA & NA\\\\\n",
       "\t 21742449 & 2019-01-01 00:16:06 & 2019-01-01 00:19:03 & 2708 & 177.0   &  98 & LaSalle St \\& Washington St          &  49 & Dearborn St \\& Monroe St        & Subscriber & Male   & 1984 & NA & NA & NA & NA\\\\\n",
       "\t 21742450 & 2019-01-01 00:18:41 & 2019-01-01 00:20:21 & 2796 & 100.0   & 211 & St. Clair St \\& Erie St              & 142 & McClurg Ct \\& Erie St           & Subscriber & Male   & 1990 & NA & NA & NA & NA\\\\\n",
       "\t 21742451 & 2019-01-01 00:18:43 & 2019-01-01 00:47:30 & 6205 & 1,727.0 & 150 & Fort Dearborn Dr \\& 31st St          & 148 & State St \\& 33rd St             & Subscriber & Male   & 1995 & NA & NA & NA & NA\\\\\n",
       "\t 21742452 & 2019-01-01 00:19:18 & 2019-01-01 00:24:54 & 3939 & 336.0   & 268 & Lake Shore Dr \\& North Blvd          & 141 & Clark St \\& Lincoln Ave         & Subscriber & Male   & 1996 & NA & NA & NA & NA\\\\\n",
       "\t 21742453 & 2019-01-01 00:20:34 & 2019-01-01 00:35:20 & 6243 & 886.0   & 299 & Halsted St \\& Roscoe St              & 295 & Broadway \\& Argyle St           & Subscriber & Male   & 1994 & NA & NA & NA & NA\\\\\n",
       "\t 21742454 & 2019-01-01 00:21:52 & 2019-01-01 00:32:45 & 6300 & 653.0   & 204 & Prairie Ave \\& Garfield Blvd         & 420 & Ellis Ave \\& 55th St            & Subscriber & Female & 1994 & NA & NA & NA & NA\\\\\n",
       "\t 21742455 & 2019-01-01 00:23:04 & 2019-01-01 00:33:05 & 3029 & 601.0   &  90 & Millennium Park                     & 255 & Indiana Ave \\& Roosevelt Rd     & Subscriber & Male   & 1986 & NA & NA & NA & NA\\\\\n",
       "\t 21742456 & 2019-01-01 00:23:43 & 2019-01-01 00:33:05 & 84   & 562.0   &  90 & Millennium Park                     & 255 & Indiana Ave \\& Roosevelt Rd     & Customer   & Female & 1990 & NA & NA & NA & NA\\\\\n",
       "\t 21742457 & 2019-01-01 00:23:54 & 2019-01-01 00:39:00 & 5019 & 906.0   & 289 & Wells St \\& Concord Ln               & 324 & Stockton Dr \\& Wrightwood Ave   & Subscriber & Female & 1989 & NA & NA & NA & NA\\\\\n",
       "\t 21742458 & 2019-01-01 00:24:08 & 2019-01-01 00:39:00 & 5526 & 892.0   & 289 & Wells St \\& Concord Ln               & 324 & Stockton Dr \\& Wrightwood Ave   & Subscriber & Female & 1989 & NA & NA & NA & NA\\\\\n",
       "\t 21742459 & 2019-01-01 00:24:13 & 2019-01-01 00:31:00 & 3373 & 407.0   & 152 & Lincoln Ave \\& Diversey Pkwy         & 166 & Ashland Ave \\& Wrightwood Ave   & Subscriber & Male   & 1967 & NA & NA & NA & NA\\\\\n",
       "\t 21742460 & 2019-01-01 00:24:27 & 2019-01-01 00:47:03 & 5777 & 1,356.0 & 268 & Lake Shore Dr \\& North Blvd          & 319 & Greenview Ave \\& Diversey Pkwy  & Customer   & Female & 1990 & NA & NA & NA & NA\\\\\n",
       "\t 21742461 & 2019-01-01 00:25:28 & 2019-01-01 00:27:10 & 3940 & 102.0   &  35 & Streeter Dr \\& Grand Ave             &  35 & Streeter Dr \\& Grand Ave        & Subscriber & Male   & 1985 & NA & NA & NA & NA\\\\\n",
       "\t 21742463 & 2019-01-01 00:29:19 & 2019-01-01 01:08:12 & 3914 & 2,333.0 &  35 & Streeter Dr \\& Grand Ave             &  39 & Wabash Ave \\& Adams St          & Customer   &        &   NA & NA & NA & NA & NA\\\\\n",
       "\t 21742464 & 2019-01-01 00:29:21 & 2019-01-01 00:45:21 & 140  & 960.0   &  47 & State St \\& Kinzie St                & 111 & Sedgwick St \\& Huron St         & Subscriber & Male   & 1957 & NA & NA & NA & NA\\\\\n",
       "\t 21742465 & 2019-01-01 00:29:28 & 2019-01-01 01:07:49 & 3355 & 2,301.0 &  35 & Streeter Dr \\& Grand Ave             &  39 & Wabash Ave \\& Adams St          & Customer   &        &   NA & NA & NA & NA & NA\\\\\n",
       "\t 21742466 & 2019-01-01 00:29:47 & 2019-01-01 00:49:15 & 5026 & 1,168.0 &  85 & Michigan Ave \\& Oak St               & 329 & Lake Shore Dr \\& Diversey Pkwy  & Subscriber & Male   & 1959 & NA & NA & NA & NA\\\\\n",
       "\t 21742467 & 2019-01-01 00:30:48 & 2019-01-01 00:38:42 & 1998 & 474.0   & 289 & Wells St \\& Concord Ln               & 313 & Lakeview Ave \\& Fullerton Pkwy  & Subscriber & Male   & 1994 & NA & NA & NA & NA\\\\\n",
       "\t 21742468 & 2019-01-01 00:33:09 & 2019-01-01 00:50:25 & 2630 & 1,036.0 &  13 & Wilton Ave \\& Diversey Pkwy          &  61 & Wood St \\& Milwaukee Ave        & Subscriber & Male   & 1991 & NA & NA & NA & NA\\\\\n",
       "\t 21742469 & 2019-01-01 00:34:35 & 2019-01-01 00:38:25 & 3722 & 230.0   & 520 & Greenview Ave \\& Jarvis Ave          & 523 & Eastlake Ter \\& Rogers Ave      & Subscriber & Male   & 1961 & NA & NA & NA & NA\\\\\n",
       "\t 21742471 & 2019-01-01 00:38:11 & 2019-01-01 00:50:38 & 1166 & 747.0   & 256 & Broadway \\& Sheridan Rd              & 297 & Paulina St \\& Montrose Ave      & Subscriber & Male   & 1968 & NA & NA & NA & NA\\\\\n",
       "\t 21742472 & 2019-01-01 00:38:47 & 2019-01-01 00:50:38 & 1704 & 711.0   & 256 & Broadway \\& Sheridan Rd              & 297 & Paulina St \\& Montrose Ave      & Subscriber & Male   & 1964 & NA & NA & NA & NA\\\\\n",
       "\t 21742473 & 2019-01-01 00:40:16 & 2019-01-01 00:49:29 & 1476 & 553.0   & 254 & Pine Grove Ave \\& Irving Park Rd     & 465 & Marine Dr \\& Ainslie St         & Subscriber & Male   & 1990 & NA & NA & NA & NA\\\\\n",
       "\t 21742474 & 2019-01-01 00:41:46 & 2019-01-01 00:50:27 & 4614 & 521.0   &  66 & Clinton St \\& Lake St                &  52 & Michigan Ave \\& Lake St         & Subscriber & Male   & 1994 & NA & NA & NA & NA\\\\\n",
       "\t ⋮ & ⋮ & ⋮ & ⋮ & ⋮ & ⋮ & ⋮ & ⋮ & ⋮ & ⋮ & ⋮ & ⋮ & ⋮ & ⋮ & ⋮ & ⋮\\\\\n",
       "\t 8A8A039BB7072249 & 2020-03-02 17:29:26 & 2020-03-02 17:50:51 & docked\\_bike & NA & 141 & Clark St \\& Lincoln Ave          & 349 & Halsted St \\& Wrightwood Ave     & casual & NA & NA & 41.9157 & -87.6346 & 41.9291 & -87.6491\\\\\n",
       "\t 6244F21F053BA361 & 2020-03-13 16:58:54 & 2020-03-13 17:31:11 & docked\\_bike & NA &  36 & Franklin St \\& Jackson Blvd      & 194 & Wabash Ave \\& Wacker Pl          & casual & NA & NA & 41.8777 & -87.6353 & 41.8869 & -87.6260\\\\\n",
       "\t 058D62FDDBF3C606 & 2020-03-12 15:39:44 & 2020-03-12 15:43:06 & docked\\_bike & NA & 304 & Broadway \\& Waveland Ave         & 254 & Pine Grove Ave \\& Irving Park Rd & member & NA & NA & 41.9491 & -87.6486 & 41.9544 & -87.6480\\\\\n",
       "\t A2FFBD0AA763B19D & 2020-03-11 18:39:03 & 2020-03-11 18:55:05 & docked\\_bike & NA & 133 & Kingsbury St \\& Kinzie St        &  94 & Clark St \\& Armitage Ave         & member & NA & NA & 41.8892 & -87.6385 & 41.9183 & -87.6363\\\\\n",
       "\t 21A760C7DC9FD318 & 2020-03-11 16:06:45 & 2020-03-11 16:17:42 & docked\\_bike & NA & 285 & Wood St \\& Hubbard St            & 133 & Kingsbury St \\& Kinzie St        & member & NA & NA & 41.8899 & -87.6715 & 41.8892 & -87.6385\\\\\n",
       "\t 36A20E87B11FF36D & 2020-03-01 15:16:06 & 2020-03-01 16:36:04 & docked\\_bike & NA & 248 & Woodlawn Ave \\& 55th St          & 248 & Woodlawn Ave \\& 55th St          & casual & NA & NA & 41.7953 & -87.5965 & 41.7953 & -87.5965\\\\\n",
       "\t FEB95D075E9435E4 & 2020-03-04 07:25:24 & 2020-03-04 07:28:25 & docked\\_bike & NA & 254 & Pine Grove Ave \\& Irving Park Rd & 304 & Broadway \\& Waveland Ave         & member & NA & NA & 41.9544 & -87.6480 & 41.9491 & -87.6486\\\\\n",
       "\t FD4B140C786D9E1D & 2020-03-04 17:54:24 & 2020-03-04 18:04:18 & docked\\_bike & NA & 133 & Kingsbury St \\& Kinzie St        & 285 & Wood St \\& Hubbard St            & member & NA & NA & 41.8892 & -87.6385 & 41.8899 & -87.6715\\\\\n",
       "\t 062828AF86F56FA8 & 2020-03-10 15:38:13 & 2020-03-10 15:48:55 & docked\\_bike & NA & 285 & Wood St \\& Hubbard St            & 133 & Kingsbury St \\& Kinzie St        & member & NA & NA & 41.8899 & -87.6715 & 41.8892 & -87.6385\\\\\n",
       "\t FB323E655F08521D & 2020-03-10 08:46:57 & 2020-03-10 08:54:10 & docked\\_bike & NA &  26 & McClurg Ct \\& Illinois St        &  47 & State St \\& Kinzie St            & member & NA & NA & 41.8904 & -87.6175 & 41.8892 & -87.6278\\\\\n",
       "\t 7CD5C610872581BB & 2020-03-02 15:56:46 & 2020-03-02 16:04:48 & docked\\_bike & NA &  47 & State St \\& Kinzie St            &  91 & Clinton St \\& Washington Blvd    & member & NA & NA & 41.8892 & -87.6278 & 41.8834 & -87.6412\\\\\n",
       "\t 330C4C8905197AAD & 2020-03-08 13:34:12 & 2020-03-08 13:55:43 & docked\\_bike & NA &   2 & Buckingham Fountain             & 172 & Rush St \\& Cedar St              & casual & NA & NA & 41.8765 & -87.6205 & 41.9023 & -87.6277\\\\\n",
       "\t 0B8742C644002BB1 & 2020-03-10 06:46:32 & 2020-03-10 06:54:34 & docked\\_bike & NA &  91 & Clinton St \\& Washington Blvd    &  47 & State St \\& Kinzie St            & member & NA & NA & 41.8834 & -87.6412 & 41.8892 & -87.6278\\\\\n",
       "\t BA30D82E5928E7A7 & 2020-03-09 15:52:18 & 2020-03-09 15:59:47 & docked\\_bike & NA &  47 & State St \\& Kinzie St            &  91 & Clinton St \\& Washington Blvd    & member & NA & NA & 41.8892 & -87.6278 & 41.8834 & -87.6412\\\\\n",
       "\t B46765A0DB572D4B & 2020-03-12 15:57:23 & 2020-03-12 16:04:09 & docked\\_bike & NA &  47 & State St \\& Kinzie St            &  91 & Clinton St \\& Washington Blvd    & member & NA & NA & 41.8892 & -87.6278 & 41.8834 & -87.6412\\\\\n",
       "\t 1C755B56146D806B & 2020-03-06 07:13:14 & 2020-03-06 07:21:03 & docked\\_bike & NA &  91 & Clinton St \\& Washington Blvd    &  47 & State St \\& Kinzie St            & member & NA & NA & 41.8834 & -87.6412 & 41.8892 & -87.6278\\\\\n",
       "\t 46230CF6653E2CDE & 2020-03-25 17:59:02 & 2020-03-25 18:29:31 & docked\\_bike & NA & 459 & Lakefront Trail \\& Bryn Mawr Ave & 313 & Lakeview Ave \\& Fullerton Pkwy   & member & NA & NA & 41.9840 & -87.6523 & 41.9259 & -87.6390\\\\\n",
       "\t 62BD7FE2B823B34E & 2020-03-11 15:56:59 & 2020-03-11 16:03:43 & docked\\_bike & NA &  47 & State St \\& Kinzie St            &  91 & Clinton St \\& Washington Blvd    & member & NA & NA & 41.8892 & -87.6278 & 41.8834 & -87.6412\\\\\n",
       "\t 0E1BBACD66CAF13D & 2020-03-02 06:47:31 & 2020-03-02 06:55:04 & docked\\_bike & NA &  91 & Clinton St \\& Washington Blvd    &  47 & State St \\& Kinzie St            & member & NA & NA & 41.8834 & -87.6412 & 41.8892 & -87.6278\\\\\n",
       "\t 72C026003AC3ED3C & 2020-03-04 07:13:56 & 2020-03-04 07:21:10 & docked\\_bike & NA &  18 & Wacker Dr \\& Washington St       &  47 & State St \\& Kinzie St            & member & NA & NA & 41.8831 & -87.6373 & 41.8892 & -87.6278\\\\\n",
       "\t 59CD7783230EBC26 & 2020-03-06 15:58:30 & 2020-03-06 16:05:48 & docked\\_bike & NA &  47 & State St \\& Kinzie St            &  91 & Clinton St \\& Washington Blvd    & member & NA & NA & 41.8892 & -87.6278 & 41.8834 & -87.6412\\\\\n",
       "\t 33EE865F3D9E5D00 & 2020-03-08 17:22:42 & 2020-03-08 17:28:34 & docked\\_bike & NA & 112 & Green St \\& Randolph St          &  21 & Aberdeen St \\& Jackson Blvd      & member & NA & NA & 41.8837 & -87.6487 & 41.8777 & -87.6548\\\\\n",
       "\t 4361A2348584C3E4 & 2020-03-25 17:10:10 & 2020-03-25 17:47:34 & docked\\_bike & NA & 313 & Lakeview Ave \\& Fullerton Pkwy   & 459 & Lakefront Trail \\& Bryn Mawr Ave & member & NA & NA & 41.9259 & -87.6390 & 41.9840 & -87.6523\\\\\n",
       "\t 005D3BC2A3B33DDA & 2020-03-12 07:32:25 & 2020-03-12 07:38:44 & docked\\_bike & NA &  91 & Clinton St \\& Washington Blvd    &  47 & State St \\& Kinzie St            & member & NA & NA & 41.8834 & -87.6412 & 41.8892 & -87.6278\\\\\n",
       "\t 6F4D221BDDFD943F & 2020-03-10 10:40:27 & 2020-03-10 10:40:29 & docked\\_bike & NA & 675 & HQ QR                           & 675 & HQ QR                           & casual & NA & NA & 41.8899 & -87.6803 & 41.8899 & -87.6803\\\\\n",
       "\t ADDAA33CEBCAE733 & 2020-03-10 10:40:06 & 2020-03-10 10:40:07 & docked\\_bike & NA & 675 & HQ QR                           & 675 & HQ QR                           & casual & NA & NA & 41.8899 & -87.6803 & 41.8899 & -87.6803\\\\\n",
       "\t 82B10FA3994BC66A & 2020-03-07 15:25:55 & 2020-03-07 16:14:03 & docked\\_bike & NA & 161 & Rush St \\& Superior St           & 240 & Sheridan Rd \\& Irving Park Rd    & member & NA & NA & 41.8958 & -87.6259 & 41.9542 & -87.6544\\\\\n",
       "\t AA0D5AAA0B59C8AA & 2020-03-01 13:12:38 & 2020-03-01 13:38:29 & docked\\_bike & NA & 141 & Clark St \\& Lincoln Ave          & 210 & Ashland Ave \\& Division St       & casual & NA & NA & 41.9157 & -87.6346 & 41.9035 & -87.6677\\\\\n",
       "\t 3296360A7BC20FB8 & 2020-03-07 18:02:45 & 2020-03-07 18:13:18 & docked\\_bike & NA & 672 & Franklin St \\& Illinois St       & 264 & Stetson Ave \\& South Water St    & member & NA & NA & 41.8910 & -87.6355 & 41.8868 & -87.6223\\\\\n",
       "\t 064EC7698E4FF9B3 & 2020-03-08 13:03:57 & 2020-03-08 13:32:27 & docked\\_bike & NA & 110 & Dearborn St \\& Erie St           &  85 & Michigan Ave \\& Oak St           & casual & NA & NA & 41.8940 & -87.6293 & 41.9010 & -87.6238\\\\\n",
       "\\end{tabular}\n"
      ],
      "text/markdown": [
       "\n",
       "A data.frame: 3136728 × 16\n",
       "\n",
       "| trip_id &lt;chr&gt; | start_time &lt;chr&gt; | end_time &lt;chr&gt; | bikeid &lt;chr&gt; | tripduration &lt;chr&gt; | from_station_id &lt;int&gt; | from_station_name &lt;chr&gt; | to_station_id &lt;int&gt; | to_station_name &lt;chr&gt; | usertype &lt;chr&gt; | gender &lt;chr&gt; | birthyear &lt;int&gt; | start_lat &lt;dbl&gt; | start_lng &lt;dbl&gt; | end_lat &lt;dbl&gt; | end_lng &lt;dbl&gt; |\n",
       "|---|---|---|---|---|---|---|---|---|---|---|---|---|---|---|---|\n",
       "| 21742443 | 2019-01-01 00:04:37 | 2019-01-01 00:11:07 | 2167 | 390.0   | 199 | Wabash Ave &amp; Grand Ave              |  84 | Milwaukee Ave &amp; Grand Ave      | Subscriber | Male   | 1989 | NA | NA | NA | NA |\n",
       "| 21742444 | 2019-01-01 00:08:13 | 2019-01-01 00:15:34 | 4386 | 441.0   |  44 | State St &amp; Randolph St              | 624 | Dearborn St &amp; Van Buren St (*) | Subscriber | Female | 1990 | NA | NA | NA | NA |\n",
       "| 21742445 | 2019-01-01 00:13:23 | 2019-01-01 00:27:12 | 1524 | 829.0   |  15 | Racine Ave &amp; 18th St                | 644 | Western Ave &amp; Fillmore St (*)  | Subscriber | Female | 1994 | NA | NA | NA | NA |\n",
       "| 21742446 | 2019-01-01 00:13:45 | 2019-01-01 00:43:28 | 252  | 1,783.0 | 123 | California Ave &amp; Milwaukee Ave      | 176 | Clark St &amp; Elm St              | Subscriber | Male   | 1993 | NA | NA | NA | NA |\n",
       "| 21742447 | 2019-01-01 00:14:52 | 2019-01-01 00:20:56 | 1170 | 364.0   | 173 | Mies van der Rohe Way &amp; Chicago Ave |  35 | Streeter Dr &amp; Grand Ave        | Subscriber | Male   | 1994 | NA | NA | NA | NA |\n",
       "| 21742448 | 2019-01-01 00:15:33 | 2019-01-01 00:19:09 | 2437 | 216.0   |  98 | LaSalle St &amp; Washington St          |  49 | Dearborn St &amp; Monroe St        | Subscriber | Female | 1983 | NA | NA | NA | NA |\n",
       "| 21742449 | 2019-01-01 00:16:06 | 2019-01-01 00:19:03 | 2708 | 177.0   |  98 | LaSalle St &amp; Washington St          |  49 | Dearborn St &amp; Monroe St        | Subscriber | Male   | 1984 | NA | NA | NA | NA |\n",
       "| 21742450 | 2019-01-01 00:18:41 | 2019-01-01 00:20:21 | 2796 | 100.0   | 211 | St. Clair St &amp; Erie St              | 142 | McClurg Ct &amp; Erie St           | Subscriber | Male   | 1990 | NA | NA | NA | NA |\n",
       "| 21742451 | 2019-01-01 00:18:43 | 2019-01-01 00:47:30 | 6205 | 1,727.0 | 150 | Fort Dearborn Dr &amp; 31st St          | 148 | State St &amp; 33rd St             | Subscriber | Male   | 1995 | NA | NA | NA | NA |\n",
       "| 21742452 | 2019-01-01 00:19:18 | 2019-01-01 00:24:54 | 3939 | 336.0   | 268 | Lake Shore Dr &amp; North Blvd          | 141 | Clark St &amp; Lincoln Ave         | Subscriber | Male   | 1996 | NA | NA | NA | NA |\n",
       "| 21742453 | 2019-01-01 00:20:34 | 2019-01-01 00:35:20 | 6243 | 886.0   | 299 | Halsted St &amp; Roscoe St              | 295 | Broadway &amp; Argyle St           | Subscriber | Male   | 1994 | NA | NA | NA | NA |\n",
       "| 21742454 | 2019-01-01 00:21:52 | 2019-01-01 00:32:45 | 6300 | 653.0   | 204 | Prairie Ave &amp; Garfield Blvd         | 420 | Ellis Ave &amp; 55th St            | Subscriber | Female | 1994 | NA | NA | NA | NA |\n",
       "| 21742455 | 2019-01-01 00:23:04 | 2019-01-01 00:33:05 | 3029 | 601.0   |  90 | Millennium Park                     | 255 | Indiana Ave &amp; Roosevelt Rd     | Subscriber | Male   | 1986 | NA | NA | NA | NA |\n",
       "| 21742456 | 2019-01-01 00:23:43 | 2019-01-01 00:33:05 | 84   | 562.0   |  90 | Millennium Park                     | 255 | Indiana Ave &amp; Roosevelt Rd     | Customer   | Female | 1990 | NA | NA | NA | NA |\n",
       "| 21742457 | 2019-01-01 00:23:54 | 2019-01-01 00:39:00 | 5019 | 906.0   | 289 | Wells St &amp; Concord Ln               | 324 | Stockton Dr &amp; Wrightwood Ave   | Subscriber | Female | 1989 | NA | NA | NA | NA |\n",
       "| 21742458 | 2019-01-01 00:24:08 | 2019-01-01 00:39:00 | 5526 | 892.0   | 289 | Wells St &amp; Concord Ln               | 324 | Stockton Dr &amp; Wrightwood Ave   | Subscriber | Female | 1989 | NA | NA | NA | NA |\n",
       "| 21742459 | 2019-01-01 00:24:13 | 2019-01-01 00:31:00 | 3373 | 407.0   | 152 | Lincoln Ave &amp; Diversey Pkwy         | 166 | Ashland Ave &amp; Wrightwood Ave   | Subscriber | Male   | 1967 | NA | NA | NA | NA |\n",
       "| 21742460 | 2019-01-01 00:24:27 | 2019-01-01 00:47:03 | 5777 | 1,356.0 | 268 | Lake Shore Dr &amp; North Blvd          | 319 | Greenview Ave &amp; Diversey Pkwy  | Customer   | Female | 1990 | NA | NA | NA | NA |\n",
       "| 21742461 | 2019-01-01 00:25:28 | 2019-01-01 00:27:10 | 3940 | 102.0   |  35 | Streeter Dr &amp; Grand Ave             |  35 | Streeter Dr &amp; Grand Ave        | Subscriber | Male   | 1985 | NA | NA | NA | NA |\n",
       "| 21742463 | 2019-01-01 00:29:19 | 2019-01-01 01:08:12 | 3914 | 2,333.0 |  35 | Streeter Dr &amp; Grand Ave             |  39 | Wabash Ave &amp; Adams St          | Customer   | <!----> |   NA | NA | NA | NA | NA |\n",
       "| 21742464 | 2019-01-01 00:29:21 | 2019-01-01 00:45:21 | 140  | 960.0   |  47 | State St &amp; Kinzie St                | 111 | Sedgwick St &amp; Huron St         | Subscriber | Male   | 1957 | NA | NA | NA | NA |\n",
       "| 21742465 | 2019-01-01 00:29:28 | 2019-01-01 01:07:49 | 3355 | 2,301.0 |  35 | Streeter Dr &amp; Grand Ave             |  39 | Wabash Ave &amp; Adams St          | Customer   | <!----> |   NA | NA | NA | NA | NA |\n",
       "| 21742466 | 2019-01-01 00:29:47 | 2019-01-01 00:49:15 | 5026 | 1,168.0 |  85 | Michigan Ave &amp; Oak St               | 329 | Lake Shore Dr &amp; Diversey Pkwy  | Subscriber | Male   | 1959 | NA | NA | NA | NA |\n",
       "| 21742467 | 2019-01-01 00:30:48 | 2019-01-01 00:38:42 | 1998 | 474.0   | 289 | Wells St &amp; Concord Ln               | 313 | Lakeview Ave &amp; Fullerton Pkwy  | Subscriber | Male   | 1994 | NA | NA | NA | NA |\n",
       "| 21742468 | 2019-01-01 00:33:09 | 2019-01-01 00:50:25 | 2630 | 1,036.0 |  13 | Wilton Ave &amp; Diversey Pkwy          |  61 | Wood St &amp; Milwaukee Ave        | Subscriber | Male   | 1991 | NA | NA | NA | NA |\n",
       "| 21742469 | 2019-01-01 00:34:35 | 2019-01-01 00:38:25 | 3722 | 230.0   | 520 | Greenview Ave &amp; Jarvis Ave          | 523 | Eastlake Ter &amp; Rogers Ave      | Subscriber | Male   | 1961 | NA | NA | NA | NA |\n",
       "| 21742471 | 2019-01-01 00:38:11 | 2019-01-01 00:50:38 | 1166 | 747.0   | 256 | Broadway &amp; Sheridan Rd              | 297 | Paulina St &amp; Montrose Ave      | Subscriber | Male   | 1968 | NA | NA | NA | NA |\n",
       "| 21742472 | 2019-01-01 00:38:47 | 2019-01-01 00:50:38 | 1704 | 711.0   | 256 | Broadway &amp; Sheridan Rd              | 297 | Paulina St &amp; Montrose Ave      | Subscriber | Male   | 1964 | NA | NA | NA | NA |\n",
       "| 21742473 | 2019-01-01 00:40:16 | 2019-01-01 00:49:29 | 1476 | 553.0   | 254 | Pine Grove Ave &amp; Irving Park Rd     | 465 | Marine Dr &amp; Ainslie St         | Subscriber | Male   | 1990 | NA | NA | NA | NA |\n",
       "| 21742474 | 2019-01-01 00:41:46 | 2019-01-01 00:50:27 | 4614 | 521.0   |  66 | Clinton St &amp; Lake St                |  52 | Michigan Ave &amp; Lake St         | Subscriber | Male   | 1994 | NA | NA | NA | NA |\n",
       "| ⋮ | ⋮ | ⋮ | ⋮ | ⋮ | ⋮ | ⋮ | ⋮ | ⋮ | ⋮ | ⋮ | ⋮ | ⋮ | ⋮ | ⋮ | ⋮ |\n",
       "| 8A8A039BB7072249 | 2020-03-02 17:29:26 | 2020-03-02 17:50:51 | docked_bike | NA | 141 | Clark St &amp; Lincoln Ave          | 349 | Halsted St &amp; Wrightwood Ave     | casual | NA | NA | 41.9157 | -87.6346 | 41.9291 | -87.6491 |\n",
       "| 6244F21F053BA361 | 2020-03-13 16:58:54 | 2020-03-13 17:31:11 | docked_bike | NA |  36 | Franklin St &amp; Jackson Blvd      | 194 | Wabash Ave &amp; Wacker Pl          | casual | NA | NA | 41.8777 | -87.6353 | 41.8869 | -87.6260 |\n",
       "| 058D62FDDBF3C606 | 2020-03-12 15:39:44 | 2020-03-12 15:43:06 | docked_bike | NA | 304 | Broadway &amp; Waveland Ave         | 254 | Pine Grove Ave &amp; Irving Park Rd | member | NA | NA | 41.9491 | -87.6486 | 41.9544 | -87.6480 |\n",
       "| A2FFBD0AA763B19D | 2020-03-11 18:39:03 | 2020-03-11 18:55:05 | docked_bike | NA | 133 | Kingsbury St &amp; Kinzie St        |  94 | Clark St &amp; Armitage Ave         | member | NA | NA | 41.8892 | -87.6385 | 41.9183 | -87.6363 |\n",
       "| 21A760C7DC9FD318 | 2020-03-11 16:06:45 | 2020-03-11 16:17:42 | docked_bike | NA | 285 | Wood St &amp; Hubbard St            | 133 | Kingsbury St &amp; Kinzie St        | member | NA | NA | 41.8899 | -87.6715 | 41.8892 | -87.6385 |\n",
       "| 36A20E87B11FF36D | 2020-03-01 15:16:06 | 2020-03-01 16:36:04 | docked_bike | NA | 248 | Woodlawn Ave &amp; 55th St          | 248 | Woodlawn Ave &amp; 55th St          | casual | NA | NA | 41.7953 | -87.5965 | 41.7953 | -87.5965 |\n",
       "| FEB95D075E9435E4 | 2020-03-04 07:25:24 | 2020-03-04 07:28:25 | docked_bike | NA | 254 | Pine Grove Ave &amp; Irving Park Rd | 304 | Broadway &amp; Waveland Ave         | member | NA | NA | 41.9544 | -87.6480 | 41.9491 | -87.6486 |\n",
       "| FD4B140C786D9E1D | 2020-03-04 17:54:24 | 2020-03-04 18:04:18 | docked_bike | NA | 133 | Kingsbury St &amp; Kinzie St        | 285 | Wood St &amp; Hubbard St            | member | NA | NA | 41.8892 | -87.6385 | 41.8899 | -87.6715 |\n",
       "| 062828AF86F56FA8 | 2020-03-10 15:38:13 | 2020-03-10 15:48:55 | docked_bike | NA | 285 | Wood St &amp; Hubbard St            | 133 | Kingsbury St &amp; Kinzie St        | member | NA | NA | 41.8899 | -87.6715 | 41.8892 | -87.6385 |\n",
       "| FB323E655F08521D | 2020-03-10 08:46:57 | 2020-03-10 08:54:10 | docked_bike | NA |  26 | McClurg Ct &amp; Illinois St        |  47 | State St &amp; Kinzie St            | member | NA | NA | 41.8904 | -87.6175 | 41.8892 | -87.6278 |\n",
       "| 7CD5C610872581BB | 2020-03-02 15:56:46 | 2020-03-02 16:04:48 | docked_bike | NA |  47 | State St &amp; Kinzie St            |  91 | Clinton St &amp; Washington Blvd    | member | NA | NA | 41.8892 | -87.6278 | 41.8834 | -87.6412 |\n",
       "| 330C4C8905197AAD | 2020-03-08 13:34:12 | 2020-03-08 13:55:43 | docked_bike | NA |   2 | Buckingham Fountain             | 172 | Rush St &amp; Cedar St              | casual | NA | NA | 41.8765 | -87.6205 | 41.9023 | -87.6277 |\n",
       "| 0B8742C644002BB1 | 2020-03-10 06:46:32 | 2020-03-10 06:54:34 | docked_bike | NA |  91 | Clinton St &amp; Washington Blvd    |  47 | State St &amp; Kinzie St            | member | NA | NA | 41.8834 | -87.6412 | 41.8892 | -87.6278 |\n",
       "| BA30D82E5928E7A7 | 2020-03-09 15:52:18 | 2020-03-09 15:59:47 | docked_bike | NA |  47 | State St &amp; Kinzie St            |  91 | Clinton St &amp; Washington Blvd    | member | NA | NA | 41.8892 | -87.6278 | 41.8834 | -87.6412 |\n",
       "| B46765A0DB572D4B | 2020-03-12 15:57:23 | 2020-03-12 16:04:09 | docked_bike | NA |  47 | State St &amp; Kinzie St            |  91 | Clinton St &amp; Washington Blvd    | member | NA | NA | 41.8892 | -87.6278 | 41.8834 | -87.6412 |\n",
       "| 1C755B56146D806B | 2020-03-06 07:13:14 | 2020-03-06 07:21:03 | docked_bike | NA |  91 | Clinton St &amp; Washington Blvd    |  47 | State St &amp; Kinzie St            | member | NA | NA | 41.8834 | -87.6412 | 41.8892 | -87.6278 |\n",
       "| 46230CF6653E2CDE | 2020-03-25 17:59:02 | 2020-03-25 18:29:31 | docked_bike | NA | 459 | Lakefront Trail &amp; Bryn Mawr Ave | 313 | Lakeview Ave &amp; Fullerton Pkwy   | member | NA | NA | 41.9840 | -87.6523 | 41.9259 | -87.6390 |\n",
       "| 62BD7FE2B823B34E | 2020-03-11 15:56:59 | 2020-03-11 16:03:43 | docked_bike | NA |  47 | State St &amp; Kinzie St            |  91 | Clinton St &amp; Washington Blvd    | member | NA | NA | 41.8892 | -87.6278 | 41.8834 | -87.6412 |\n",
       "| 0E1BBACD66CAF13D | 2020-03-02 06:47:31 | 2020-03-02 06:55:04 | docked_bike | NA |  91 | Clinton St &amp; Washington Blvd    |  47 | State St &amp; Kinzie St            | member | NA | NA | 41.8834 | -87.6412 | 41.8892 | -87.6278 |\n",
       "| 72C026003AC3ED3C | 2020-03-04 07:13:56 | 2020-03-04 07:21:10 | docked_bike | NA |  18 | Wacker Dr &amp; Washington St       |  47 | State St &amp; Kinzie St            | member | NA | NA | 41.8831 | -87.6373 | 41.8892 | -87.6278 |\n",
       "| 59CD7783230EBC26 | 2020-03-06 15:58:30 | 2020-03-06 16:05:48 | docked_bike | NA |  47 | State St &amp; Kinzie St            |  91 | Clinton St &amp; Washington Blvd    | member | NA | NA | 41.8892 | -87.6278 | 41.8834 | -87.6412 |\n",
       "| 33EE865F3D9E5D00 | 2020-03-08 17:22:42 | 2020-03-08 17:28:34 | docked_bike | NA | 112 | Green St &amp; Randolph St          |  21 | Aberdeen St &amp; Jackson Blvd      | member | NA | NA | 41.8837 | -87.6487 | 41.8777 | -87.6548 |\n",
       "| 4361A2348584C3E4 | 2020-03-25 17:10:10 | 2020-03-25 17:47:34 | docked_bike | NA | 313 | Lakeview Ave &amp; Fullerton Pkwy   | 459 | Lakefront Trail &amp; Bryn Mawr Ave | member | NA | NA | 41.9259 | -87.6390 | 41.9840 | -87.6523 |\n",
       "| 005D3BC2A3B33DDA | 2020-03-12 07:32:25 | 2020-03-12 07:38:44 | docked_bike | NA |  91 | Clinton St &amp; Washington Blvd    |  47 | State St &amp; Kinzie St            | member | NA | NA | 41.8834 | -87.6412 | 41.8892 | -87.6278 |\n",
       "| 6F4D221BDDFD943F | 2020-03-10 10:40:27 | 2020-03-10 10:40:29 | docked_bike | NA | 675 | HQ QR                           | 675 | HQ QR                           | casual | NA | NA | 41.8899 | -87.6803 | 41.8899 | -87.6803 |\n",
       "| ADDAA33CEBCAE733 | 2020-03-10 10:40:06 | 2020-03-10 10:40:07 | docked_bike | NA | 675 | HQ QR                           | 675 | HQ QR                           | casual | NA | NA | 41.8899 | -87.6803 | 41.8899 | -87.6803 |\n",
       "| 82B10FA3994BC66A | 2020-03-07 15:25:55 | 2020-03-07 16:14:03 | docked_bike | NA | 161 | Rush St &amp; Superior St           | 240 | Sheridan Rd &amp; Irving Park Rd    | member | NA | NA | 41.8958 | -87.6259 | 41.9542 | -87.6544 |\n",
       "| AA0D5AAA0B59C8AA | 2020-03-01 13:12:38 | 2020-03-01 13:38:29 | docked_bike | NA | 141 | Clark St &amp; Lincoln Ave          | 210 | Ashland Ave &amp; Division St       | casual | NA | NA | 41.9157 | -87.6346 | 41.9035 | -87.6677 |\n",
       "| 3296360A7BC20FB8 | 2020-03-07 18:02:45 | 2020-03-07 18:13:18 | docked_bike | NA | 672 | Franklin St &amp; Illinois St       | 264 | Stetson Ave &amp; South Water St    | member | NA | NA | 41.8910 | -87.6355 | 41.8868 | -87.6223 |\n",
       "| 064EC7698E4FF9B3 | 2020-03-08 13:03:57 | 2020-03-08 13:32:27 | docked_bike | NA | 110 | Dearborn St &amp; Erie St           |  85 | Michigan Ave &amp; Oak St           | casual | NA | NA | 41.8940 | -87.6293 | 41.9010 | -87.6238 |\n",
       "\n"
      ],
      "text/plain": [
       "        trip_id          start_time          end_time            bikeid     \n",
       "1       21742443         2019-01-01 00:04:37 2019-01-01 00:11:07 2167       \n",
       "2       21742444         2019-01-01 00:08:13 2019-01-01 00:15:34 4386       \n",
       "3       21742445         2019-01-01 00:13:23 2019-01-01 00:27:12 1524       \n",
       "4       21742446         2019-01-01 00:13:45 2019-01-01 00:43:28 252        \n",
       "5       21742447         2019-01-01 00:14:52 2019-01-01 00:20:56 1170       \n",
       "6       21742448         2019-01-01 00:15:33 2019-01-01 00:19:09 2437       \n",
       "7       21742449         2019-01-01 00:16:06 2019-01-01 00:19:03 2708       \n",
       "8       21742450         2019-01-01 00:18:41 2019-01-01 00:20:21 2796       \n",
       "9       21742451         2019-01-01 00:18:43 2019-01-01 00:47:30 6205       \n",
       "10      21742452         2019-01-01 00:19:18 2019-01-01 00:24:54 3939       \n",
       "11      21742453         2019-01-01 00:20:34 2019-01-01 00:35:20 6243       \n",
       "12      21742454         2019-01-01 00:21:52 2019-01-01 00:32:45 6300       \n",
       "13      21742455         2019-01-01 00:23:04 2019-01-01 00:33:05 3029       \n",
       "14      21742456         2019-01-01 00:23:43 2019-01-01 00:33:05 84         \n",
       "15      21742457         2019-01-01 00:23:54 2019-01-01 00:39:00 5019       \n",
       "16      21742458         2019-01-01 00:24:08 2019-01-01 00:39:00 5526       \n",
       "17      21742459         2019-01-01 00:24:13 2019-01-01 00:31:00 3373       \n",
       "18      21742460         2019-01-01 00:24:27 2019-01-01 00:47:03 5777       \n",
       "19      21742461         2019-01-01 00:25:28 2019-01-01 00:27:10 3940       \n",
       "20      21742463         2019-01-01 00:29:19 2019-01-01 01:08:12 3914       \n",
       "21      21742464         2019-01-01 00:29:21 2019-01-01 00:45:21 140        \n",
       "22      21742465         2019-01-01 00:29:28 2019-01-01 01:07:49 3355       \n",
       "23      21742466         2019-01-01 00:29:47 2019-01-01 00:49:15 5026       \n",
       "24      21742467         2019-01-01 00:30:48 2019-01-01 00:38:42 1998       \n",
       "25      21742468         2019-01-01 00:33:09 2019-01-01 00:50:25 2630       \n",
       "26      21742469         2019-01-01 00:34:35 2019-01-01 00:38:25 3722       \n",
       "27      21742471         2019-01-01 00:38:11 2019-01-01 00:50:38 1166       \n",
       "28      21742472         2019-01-01 00:38:47 2019-01-01 00:50:38 1704       \n",
       "29      21742473         2019-01-01 00:40:16 2019-01-01 00:49:29 1476       \n",
       "30      21742474         2019-01-01 00:41:46 2019-01-01 00:50:27 4614       \n",
       "⋮       ⋮                ⋮                   ⋮                   ⋮          \n",
       "3136699 8A8A039BB7072249 2020-03-02 17:29:26 2020-03-02 17:50:51 docked_bike\n",
       "3136700 6244F21F053BA361 2020-03-13 16:58:54 2020-03-13 17:31:11 docked_bike\n",
       "3136701 058D62FDDBF3C606 2020-03-12 15:39:44 2020-03-12 15:43:06 docked_bike\n",
       "3136702 A2FFBD0AA763B19D 2020-03-11 18:39:03 2020-03-11 18:55:05 docked_bike\n",
       "3136703 21A760C7DC9FD318 2020-03-11 16:06:45 2020-03-11 16:17:42 docked_bike\n",
       "3136704 36A20E87B11FF36D 2020-03-01 15:16:06 2020-03-01 16:36:04 docked_bike\n",
       "3136705 FEB95D075E9435E4 2020-03-04 07:25:24 2020-03-04 07:28:25 docked_bike\n",
       "3136706 FD4B140C786D9E1D 2020-03-04 17:54:24 2020-03-04 18:04:18 docked_bike\n",
       "3136707 062828AF86F56FA8 2020-03-10 15:38:13 2020-03-10 15:48:55 docked_bike\n",
       "3136708 FB323E655F08521D 2020-03-10 08:46:57 2020-03-10 08:54:10 docked_bike\n",
       "3136709 7CD5C610872581BB 2020-03-02 15:56:46 2020-03-02 16:04:48 docked_bike\n",
       "3136710 330C4C8905197AAD 2020-03-08 13:34:12 2020-03-08 13:55:43 docked_bike\n",
       "3136711 0B8742C644002BB1 2020-03-10 06:46:32 2020-03-10 06:54:34 docked_bike\n",
       "3136712 BA30D82E5928E7A7 2020-03-09 15:52:18 2020-03-09 15:59:47 docked_bike\n",
       "3136713 B46765A0DB572D4B 2020-03-12 15:57:23 2020-03-12 16:04:09 docked_bike\n",
       "3136714 1C755B56146D806B 2020-03-06 07:13:14 2020-03-06 07:21:03 docked_bike\n",
       "3136715 46230CF6653E2CDE 2020-03-25 17:59:02 2020-03-25 18:29:31 docked_bike\n",
       "3136716 62BD7FE2B823B34E 2020-03-11 15:56:59 2020-03-11 16:03:43 docked_bike\n",
       "3136717 0E1BBACD66CAF13D 2020-03-02 06:47:31 2020-03-02 06:55:04 docked_bike\n",
       "3136718 72C026003AC3ED3C 2020-03-04 07:13:56 2020-03-04 07:21:10 docked_bike\n",
       "3136719 59CD7783230EBC26 2020-03-06 15:58:30 2020-03-06 16:05:48 docked_bike\n",
       "3136720 33EE865F3D9E5D00 2020-03-08 17:22:42 2020-03-08 17:28:34 docked_bike\n",
       "3136721 4361A2348584C3E4 2020-03-25 17:10:10 2020-03-25 17:47:34 docked_bike\n",
       "3136722 005D3BC2A3B33DDA 2020-03-12 07:32:25 2020-03-12 07:38:44 docked_bike\n",
       "3136723 6F4D221BDDFD943F 2020-03-10 10:40:27 2020-03-10 10:40:29 docked_bike\n",
       "3136724 ADDAA33CEBCAE733 2020-03-10 10:40:06 2020-03-10 10:40:07 docked_bike\n",
       "3136725 82B10FA3994BC66A 2020-03-07 15:25:55 2020-03-07 16:14:03 docked_bike\n",
       "3136726 AA0D5AAA0B59C8AA 2020-03-01 13:12:38 2020-03-01 13:38:29 docked_bike\n",
       "3136727 3296360A7BC20FB8 2020-03-07 18:02:45 2020-03-07 18:13:18 docked_bike\n",
       "3136728 064EC7698E4FF9B3 2020-03-08 13:03:57 2020-03-08 13:32:27 docked_bike\n",
       "        tripduration from_station_id from_station_name                  \n",
       "1       390.0        199             Wabash Ave & Grand Ave             \n",
       "2       441.0         44             State St & Randolph St             \n",
       "3       829.0         15             Racine Ave & 18th St               \n",
       "4       1,783.0      123             California Ave & Milwaukee Ave     \n",
       "5       364.0        173             Mies van der Rohe Way & Chicago Ave\n",
       "6       216.0         98             LaSalle St & Washington St         \n",
       "7       177.0         98             LaSalle St & Washington St         \n",
       "8       100.0        211             St. Clair St & Erie St             \n",
       "9       1,727.0      150             Fort Dearborn Dr & 31st St         \n",
       "10      336.0        268             Lake Shore Dr & North Blvd         \n",
       "11      886.0        299             Halsted St & Roscoe St             \n",
       "12      653.0        204             Prairie Ave & Garfield Blvd        \n",
       "13      601.0         90             Millennium Park                    \n",
       "14      562.0         90             Millennium Park                    \n",
       "15      906.0        289             Wells St & Concord Ln              \n",
       "16      892.0        289             Wells St & Concord Ln              \n",
       "17      407.0        152             Lincoln Ave & Diversey Pkwy        \n",
       "18      1,356.0      268             Lake Shore Dr & North Blvd         \n",
       "19      102.0         35             Streeter Dr & Grand Ave            \n",
       "20      2,333.0       35             Streeter Dr & Grand Ave            \n",
       "21      960.0         47             State St & Kinzie St               \n",
       "22      2,301.0       35             Streeter Dr & Grand Ave            \n",
       "23      1,168.0       85             Michigan Ave & Oak St              \n",
       "24      474.0        289             Wells St & Concord Ln              \n",
       "25      1,036.0       13             Wilton Ave & Diversey Pkwy         \n",
       "26      230.0        520             Greenview Ave & Jarvis Ave         \n",
       "27      747.0        256             Broadway & Sheridan Rd             \n",
       "28      711.0        256             Broadway & Sheridan Rd             \n",
       "29      553.0        254             Pine Grove Ave & Irving Park Rd    \n",
       "30      521.0         66             Clinton St & Lake St               \n",
       "⋮       ⋮            ⋮               ⋮                                  \n",
       "3136699 NA           141             Clark St & Lincoln Ave             \n",
       "3136700 NA            36             Franklin St & Jackson Blvd         \n",
       "3136701 NA           304             Broadway & Waveland Ave            \n",
       "3136702 NA           133             Kingsbury St & Kinzie St           \n",
       "3136703 NA           285             Wood St & Hubbard St               \n",
       "3136704 NA           248             Woodlawn Ave & 55th St             \n",
       "3136705 NA           254             Pine Grove Ave & Irving Park Rd    \n",
       "3136706 NA           133             Kingsbury St & Kinzie St           \n",
       "3136707 NA           285             Wood St & Hubbard St               \n",
       "3136708 NA            26             McClurg Ct & Illinois St           \n",
       "3136709 NA            47             State St & Kinzie St               \n",
       "3136710 NA             2             Buckingham Fountain                \n",
       "3136711 NA            91             Clinton St & Washington Blvd       \n",
       "3136712 NA            47             State St & Kinzie St               \n",
       "3136713 NA            47             State St & Kinzie St               \n",
       "3136714 NA            91             Clinton St & Washington Blvd       \n",
       "3136715 NA           459             Lakefront Trail & Bryn Mawr Ave    \n",
       "3136716 NA            47             State St & Kinzie St               \n",
       "3136717 NA            91             Clinton St & Washington Blvd       \n",
       "3136718 NA            18             Wacker Dr & Washington St          \n",
       "3136719 NA            47             State St & Kinzie St               \n",
       "3136720 NA           112             Green St & Randolph St             \n",
       "3136721 NA           313             Lakeview Ave & Fullerton Pkwy      \n",
       "3136722 NA            91             Clinton St & Washington Blvd       \n",
       "3136723 NA           675             HQ QR                              \n",
       "3136724 NA           675             HQ QR                              \n",
       "3136725 NA           161             Rush St & Superior St              \n",
       "3136726 NA           141             Clark St & Lincoln Ave             \n",
       "3136727 NA           672             Franklin St & Illinois St          \n",
       "3136728 NA           110             Dearborn St & Erie St              \n",
       "        to_station_id to_station_name                 usertype   gender\n",
       "1        84           Milwaukee Ave & Grand Ave       Subscriber Male  \n",
       "2       624           Dearborn St & Van Buren St (*)  Subscriber Female\n",
       "3       644           Western Ave & Fillmore St (*)   Subscriber Female\n",
       "4       176           Clark St & Elm St               Subscriber Male  \n",
       "5        35           Streeter Dr & Grand Ave         Subscriber Male  \n",
       "6        49           Dearborn St & Monroe St         Subscriber Female\n",
       "7        49           Dearborn St & Monroe St         Subscriber Male  \n",
       "8       142           McClurg Ct & Erie St            Subscriber Male  \n",
       "9       148           State St & 33rd St              Subscriber Male  \n",
       "10      141           Clark St & Lincoln Ave          Subscriber Male  \n",
       "11      295           Broadway & Argyle St            Subscriber Male  \n",
       "12      420           Ellis Ave & 55th St             Subscriber Female\n",
       "13      255           Indiana Ave & Roosevelt Rd      Subscriber Male  \n",
       "14      255           Indiana Ave & Roosevelt Rd      Customer   Female\n",
       "15      324           Stockton Dr & Wrightwood Ave    Subscriber Female\n",
       "16      324           Stockton Dr & Wrightwood Ave    Subscriber Female\n",
       "17      166           Ashland Ave & Wrightwood Ave    Subscriber Male  \n",
       "18      319           Greenview Ave & Diversey Pkwy   Customer   Female\n",
       "19       35           Streeter Dr & Grand Ave         Subscriber Male  \n",
       "20       39           Wabash Ave & Adams St           Customer         \n",
       "21      111           Sedgwick St & Huron St          Subscriber Male  \n",
       "22       39           Wabash Ave & Adams St           Customer         \n",
       "23      329           Lake Shore Dr & Diversey Pkwy   Subscriber Male  \n",
       "24      313           Lakeview Ave & Fullerton Pkwy   Subscriber Male  \n",
       "25       61           Wood St & Milwaukee Ave         Subscriber Male  \n",
       "26      523           Eastlake Ter & Rogers Ave       Subscriber Male  \n",
       "27      297           Paulina St & Montrose Ave       Subscriber Male  \n",
       "28      297           Paulina St & Montrose Ave       Subscriber Male  \n",
       "29      465           Marine Dr & Ainslie St          Subscriber Male  \n",
       "30       52           Michigan Ave & Lake St          Subscriber Male  \n",
       "⋮       ⋮             ⋮                               ⋮          ⋮     \n",
       "3136699 349           Halsted St & Wrightwood Ave     casual     NA    \n",
       "3136700 194           Wabash Ave & Wacker Pl          casual     NA    \n",
       "3136701 254           Pine Grove Ave & Irving Park Rd member     NA    \n",
       "3136702  94           Clark St & Armitage Ave         member     NA    \n",
       "3136703 133           Kingsbury St & Kinzie St        member     NA    \n",
       "3136704 248           Woodlawn Ave & 55th St          casual     NA    \n",
       "3136705 304           Broadway & Waveland Ave         member     NA    \n",
       "3136706 285           Wood St & Hubbard St            member     NA    \n",
       "3136707 133           Kingsbury St & Kinzie St        member     NA    \n",
       "3136708  47           State St & Kinzie St            member     NA    \n",
       "3136709  91           Clinton St & Washington Blvd    member     NA    \n",
       "3136710 172           Rush St & Cedar St              casual     NA    \n",
       "3136711  47           State St & Kinzie St            member     NA    \n",
       "3136712  91           Clinton St & Washington Blvd    member     NA    \n",
       "3136713  91           Clinton St & Washington Blvd    member     NA    \n",
       "3136714  47           State St & Kinzie St            member     NA    \n",
       "3136715 313           Lakeview Ave & Fullerton Pkwy   member     NA    \n",
       "3136716  91           Clinton St & Washington Blvd    member     NA    \n",
       "3136717  47           State St & Kinzie St            member     NA    \n",
       "3136718  47           State St & Kinzie St            member     NA    \n",
       "3136719  91           Clinton St & Washington Blvd    member     NA    \n",
       "3136720  21           Aberdeen St & Jackson Blvd      member     NA    \n",
       "3136721 459           Lakefront Trail & Bryn Mawr Ave member     NA    \n",
       "3136722  47           State St & Kinzie St            member     NA    \n",
       "3136723 675           HQ QR                           casual     NA    \n",
       "3136724 675           HQ QR                           casual     NA    \n",
       "3136725 240           Sheridan Rd & Irving Park Rd    member     NA    \n",
       "3136726 210           Ashland Ave & Division St       casual     NA    \n",
       "3136727 264           Stetson Ave & South Water St    member     NA    \n",
       "3136728  85           Michigan Ave & Oak St           casual     NA    \n",
       "        birthyear start_lat start_lng end_lat end_lng \n",
       "1       1989      NA        NA        NA      NA      \n",
       "2       1990      NA        NA        NA      NA      \n",
       "3       1994      NA        NA        NA      NA      \n",
       "4       1993      NA        NA        NA      NA      \n",
       "5       1994      NA        NA        NA      NA      \n",
       "6       1983      NA        NA        NA      NA      \n",
       "7       1984      NA        NA        NA      NA      \n",
       "8       1990      NA        NA        NA      NA      \n",
       "9       1995      NA        NA        NA      NA      \n",
       "10      1996      NA        NA        NA      NA      \n",
       "11      1994      NA        NA        NA      NA      \n",
       "12      1994      NA        NA        NA      NA      \n",
       "13      1986      NA        NA        NA      NA      \n",
       "14      1990      NA        NA        NA      NA      \n",
       "15      1989      NA        NA        NA      NA      \n",
       "16      1989      NA        NA        NA      NA      \n",
       "17      1967      NA        NA        NA      NA      \n",
       "18      1990      NA        NA        NA      NA      \n",
       "19      1985      NA        NA        NA      NA      \n",
       "20        NA      NA        NA        NA      NA      \n",
       "21      1957      NA        NA        NA      NA      \n",
       "22        NA      NA        NA        NA      NA      \n",
       "23      1959      NA        NA        NA      NA      \n",
       "24      1994      NA        NA        NA      NA      \n",
       "25      1991      NA        NA        NA      NA      \n",
       "26      1961      NA        NA        NA      NA      \n",
       "27      1968      NA        NA        NA      NA      \n",
       "28      1964      NA        NA        NA      NA      \n",
       "29      1990      NA        NA        NA      NA      \n",
       "30      1994      NA        NA        NA      NA      \n",
       "⋮       ⋮         ⋮         ⋮         ⋮       ⋮       \n",
       "3136699 NA        41.9157   -87.6346  41.9291 -87.6491\n",
       "3136700 NA        41.8777   -87.6353  41.8869 -87.6260\n",
       "3136701 NA        41.9491   -87.6486  41.9544 -87.6480\n",
       "3136702 NA        41.8892   -87.6385  41.9183 -87.6363\n",
       "3136703 NA        41.8899   -87.6715  41.8892 -87.6385\n",
       "3136704 NA        41.7953   -87.5965  41.7953 -87.5965\n",
       "3136705 NA        41.9544   -87.6480  41.9491 -87.6486\n",
       "3136706 NA        41.8892   -87.6385  41.8899 -87.6715\n",
       "3136707 NA        41.8899   -87.6715  41.8892 -87.6385\n",
       "3136708 NA        41.8904   -87.6175  41.8892 -87.6278\n",
       "3136709 NA        41.8892   -87.6278  41.8834 -87.6412\n",
       "3136710 NA        41.8765   -87.6205  41.9023 -87.6277\n",
       "3136711 NA        41.8834   -87.6412  41.8892 -87.6278\n",
       "3136712 NA        41.8892   -87.6278  41.8834 -87.6412\n",
       "3136713 NA        41.8892   -87.6278  41.8834 -87.6412\n",
       "3136714 NA        41.8834   -87.6412  41.8892 -87.6278\n",
       "3136715 NA        41.9840   -87.6523  41.9259 -87.6390\n",
       "3136716 NA        41.8892   -87.6278  41.8834 -87.6412\n",
       "3136717 NA        41.8834   -87.6412  41.8892 -87.6278\n",
       "3136718 NA        41.8831   -87.6373  41.8892 -87.6278\n",
       "3136719 NA        41.8892   -87.6278  41.8834 -87.6412\n",
       "3136720 NA        41.8837   -87.6487  41.8777 -87.6548\n",
       "3136721 NA        41.9259   -87.6390  41.9840 -87.6523\n",
       "3136722 NA        41.8834   -87.6412  41.8892 -87.6278\n",
       "3136723 NA        41.8899   -87.6803  41.8899 -87.6803\n",
       "3136724 NA        41.8899   -87.6803  41.8899 -87.6803\n",
       "3136725 NA        41.8958   -87.6259  41.9542 -87.6544\n",
       "3136726 NA        41.9157   -87.6346  41.9035 -87.6677\n",
       "3136727 NA        41.8910   -87.6355  41.8868 -87.6223\n",
       "3136728 NA        41.8940   -87.6293  41.9010 -87.6238"
      ]
     },
     "metadata": {},
     "output_type": "display_data"
    }
   ],
   "source": [
    "View(all_trips)"
   ]
  },
  {
   "cell_type": "markdown",
   "id": "4ebaf842",
   "metadata": {
    "papermill": {
     "duration": 0.017543,
     "end_time": "2025-01-10T12:49:10.697670",
     "exception": false,
     "start_time": "2025-01-10T12:49:10.680127",
     "status": "completed"
    },
    "tags": []
   },
   "source": [
    "### Remove unnecessary fields\n",
    "\n",
    "Remove unnecessary fields. Lat, long, birthyear, and gender and trip_duratin fields removed from 2019 as this data was dropped beginning in 2020. "
   ]
  },
  {
   "cell_type": "code",
   "execution_count": 9,
   "id": "869919c4",
   "metadata": {
    "execution": {
     "iopub.execute_input": "2025-01-10T12:49:10.735625Z",
     "iopub.status.busy": "2025-01-10T12:49:10.733915Z",
     "iopub.status.idle": "2025-01-10T12:49:10.752174Z",
     "shell.execute_reply": "2025-01-10T12:49:10.750195Z"
    },
    "papermill": {
     "duration": 0.039975,
     "end_time": "2025-01-10T12:49:10.754595",
     "exception": false,
     "start_time": "2025-01-10T12:49:10.714620",
     "status": "completed"
    },
    "tags": []
   },
   "outputs": [],
   "source": [
    "all_trips <- all_trips %>%  \n",
    "  select(-c(start_lat, start_lng, end_lat, end_lng, birthyear, gender,  \"tripduration\"))"
   ]
  },
  {
   "cell_type": "markdown",
   "id": "9ac3810a",
   "metadata": {
    "papermill": {
     "duration": 0.016854,
     "end_time": "2025-01-10T12:49:10.814931",
     "exception": false,
     "start_time": "2025-01-10T12:49:10.798077",
     "status": "completed"
    },
    "tags": []
   },
   "source": [
    "## Clean up and add data to prepare for analysis\n",
    "\n",
    "Inspect the new table that has been created\n",
    "Inspect to check if there are any irregilarities"
   ]
  },
  {
   "cell_type": "code",
   "execution_count": 10,
   "id": "590cd055",
   "metadata": {
    "execution": {
     "iopub.execute_input": "2025-01-10T12:49:10.852645Z",
     "iopub.status.busy": "2025-01-10T12:49:10.850929Z",
     "iopub.status.idle": "2025-01-10T12:49:11.390698Z",
     "shell.execute_reply": "2025-01-10T12:49:11.388768Z"
    },
    "papermill": {
     "duration": 0.561514,
     "end_time": "2025-01-10T12:49:11.393273",
     "exception": false,
     "start_time": "2025-01-10T12:49:10.831759",
     "status": "completed"
    },
    "tags": []
   },
   "outputs": [
    {
     "data": {
      "text/html": [
       "<style>\n",
       ".list-inline {list-style: none; margin:0; padding: 0}\n",
       ".list-inline>li {display: inline-block}\n",
       ".list-inline>li:not(:last-child)::after {content: \"\\00b7\"; padding: 0 .5ex}\n",
       "</style>\n",
       "<ol class=list-inline><li>'trip_id'</li><li>'start_time'</li><li>'end_time'</li><li>'bikeid'</li><li>'from_station_id'</li><li>'from_station_name'</li><li>'to_station_id'</li><li>'to_station_name'</li><li>'usertype'</li></ol>\n"
      ],
      "text/latex": [
       "\\begin{enumerate*}\n",
       "\\item 'trip\\_id'\n",
       "\\item 'start\\_time'\n",
       "\\item 'end\\_time'\n",
       "\\item 'bikeid'\n",
       "\\item 'from\\_station\\_id'\n",
       "\\item 'from\\_station\\_name'\n",
       "\\item 'to\\_station\\_id'\n",
       "\\item 'to\\_station\\_name'\n",
       "\\item 'usertype'\n",
       "\\end{enumerate*}\n"
      ],
      "text/markdown": [
       "1. 'trip_id'\n",
       "2. 'start_time'\n",
       "3. 'end_time'\n",
       "4. 'bikeid'\n",
       "5. 'from_station_id'\n",
       "6. 'from_station_name'\n",
       "7. 'to_station_id'\n",
       "8. 'to_station_name'\n",
       "9. 'usertype'\n",
       "\n",
       "\n"
      ],
      "text/plain": [
       "[1] \"trip_id\"           \"start_time\"        \"end_time\"         \n",
       "[4] \"bikeid\"            \"from_station_id\"   \"from_station_name\"\n",
       "[7] \"to_station_id\"     \"to_station_name\"   \"usertype\"         "
      ]
     },
     "metadata": {},
     "output_type": "display_data"
    },
    {
     "data": {
      "text/html": [
       "3136728"
      ],
      "text/latex": [
       "3136728"
      ],
      "text/markdown": [
       "3136728"
      ],
      "text/plain": [
       "[1] 3136728"
      ]
     },
     "metadata": {},
     "output_type": "display_data"
    },
    {
     "data": {
      "text/html": [
       "<style>\n",
       ".list-inline {list-style: none; margin:0; padding: 0}\n",
       ".list-inline>li {display: inline-block}\n",
       ".list-inline>li:not(:last-child)::after {content: \"\\00b7\"; padding: 0 .5ex}\n",
       "</style>\n",
       "<ol class=list-inline><li>3136728</li><li>9</li></ol>\n"
      ],
      "text/latex": [
       "\\begin{enumerate*}\n",
       "\\item 3136728\n",
       "\\item 9\n",
       "\\end{enumerate*}\n"
      ],
      "text/markdown": [
       "1. 3136728\n",
       "2. 9\n",
       "\n",
       "\n"
      ],
      "text/plain": [
       "[1] 3136728       9"
      ]
     },
     "metadata": {},
     "output_type": "display_data"
    },
    {
     "data": {
      "text/html": [
       "<table class=\"dataframe\">\n",
       "<caption>A data.frame: 6 × 9</caption>\n",
       "<thead>\n",
       "\t<tr><th></th><th scope=col>trip_id</th><th scope=col>start_time</th><th scope=col>end_time</th><th scope=col>bikeid</th><th scope=col>from_station_id</th><th scope=col>from_station_name</th><th scope=col>to_station_id</th><th scope=col>to_station_name</th><th scope=col>usertype</th></tr>\n",
       "\t<tr><th></th><th scope=col>&lt;chr&gt;</th><th scope=col>&lt;chr&gt;</th><th scope=col>&lt;chr&gt;</th><th scope=col>&lt;chr&gt;</th><th scope=col>&lt;int&gt;</th><th scope=col>&lt;chr&gt;</th><th scope=col>&lt;int&gt;</th><th scope=col>&lt;chr&gt;</th><th scope=col>&lt;chr&gt;</th></tr>\n",
       "</thead>\n",
       "<tbody>\n",
       "\t<tr><th scope=row>1</th><td>21742443</td><td>2019-01-01 00:04:37</td><td>2019-01-01 00:11:07</td><td>2167</td><td>199</td><td><span style=white-space:pre-wrap>Wabash Ave &amp; Grand Ave             </span></td><td> 84</td><td><span style=white-space:pre-wrap>Milwaukee Ave &amp; Grand Ave     </span></td><td>Subscriber</td></tr>\n",
       "\t<tr><th scope=row>2</th><td>21742444</td><td>2019-01-01 00:08:13</td><td>2019-01-01 00:15:34</td><td>4386</td><td> 44</td><td><span style=white-space:pre-wrap>State St &amp; Randolph St             </span></td><td>624</td><td>Dearborn St &amp; Van Buren St (*)</td><td>Subscriber</td></tr>\n",
       "\t<tr><th scope=row>3</th><td>21742445</td><td>2019-01-01 00:13:23</td><td>2019-01-01 00:27:12</td><td>1524</td><td> 15</td><td><span style=white-space:pre-wrap>Racine Ave &amp; 18th St               </span></td><td>644</td><td>Western Ave &amp; Fillmore St (*) </td><td>Subscriber</td></tr>\n",
       "\t<tr><th scope=row>4</th><td>21742446</td><td>2019-01-01 00:13:45</td><td>2019-01-01 00:43:28</td><td>252 </td><td>123</td><td><span style=white-space:pre-wrap>California Ave &amp; Milwaukee Ave     </span></td><td>176</td><td><span style=white-space:pre-wrap>Clark St &amp; Elm St             </span></td><td>Subscriber</td></tr>\n",
       "\t<tr><th scope=row>5</th><td>21742447</td><td>2019-01-01 00:14:52</td><td>2019-01-01 00:20:56</td><td>1170</td><td>173</td><td>Mies van der Rohe Way &amp; Chicago Ave</td><td> 35</td><td><span style=white-space:pre-wrap>Streeter Dr &amp; Grand Ave       </span></td><td>Subscriber</td></tr>\n",
       "\t<tr><th scope=row>6</th><td>21742448</td><td>2019-01-01 00:15:33</td><td>2019-01-01 00:19:09</td><td>2437</td><td> 98</td><td><span style=white-space:pre-wrap>LaSalle St &amp; Washington St         </span></td><td> 49</td><td><span style=white-space:pre-wrap>Dearborn St &amp; Monroe St       </span></td><td>Subscriber</td></tr>\n",
       "</tbody>\n",
       "</table>\n"
      ],
      "text/latex": [
       "A data.frame: 6 × 9\n",
       "\\begin{tabular}{r|lllllllll}\n",
       "  & trip\\_id & start\\_time & end\\_time & bikeid & from\\_station\\_id & from\\_station\\_name & to\\_station\\_id & to\\_station\\_name & usertype\\\\\n",
       "  & <chr> & <chr> & <chr> & <chr> & <int> & <chr> & <int> & <chr> & <chr>\\\\\n",
       "\\hline\n",
       "\t1 & 21742443 & 2019-01-01 00:04:37 & 2019-01-01 00:11:07 & 2167 & 199 & Wabash Ave \\& Grand Ave              &  84 & Milwaukee Ave \\& Grand Ave      & Subscriber\\\\\n",
       "\t2 & 21742444 & 2019-01-01 00:08:13 & 2019-01-01 00:15:34 & 4386 &  44 & State St \\& Randolph St              & 624 & Dearborn St \\& Van Buren St (*) & Subscriber\\\\\n",
       "\t3 & 21742445 & 2019-01-01 00:13:23 & 2019-01-01 00:27:12 & 1524 &  15 & Racine Ave \\& 18th St                & 644 & Western Ave \\& Fillmore St (*)  & Subscriber\\\\\n",
       "\t4 & 21742446 & 2019-01-01 00:13:45 & 2019-01-01 00:43:28 & 252  & 123 & California Ave \\& Milwaukee Ave      & 176 & Clark St \\& Elm St              & Subscriber\\\\\n",
       "\t5 & 21742447 & 2019-01-01 00:14:52 & 2019-01-01 00:20:56 & 1170 & 173 & Mies van der Rohe Way \\& Chicago Ave &  35 & Streeter Dr \\& Grand Ave        & Subscriber\\\\\n",
       "\t6 & 21742448 & 2019-01-01 00:15:33 & 2019-01-01 00:19:09 & 2437 &  98 & LaSalle St \\& Washington St          &  49 & Dearborn St \\& Monroe St        & Subscriber\\\\\n",
       "\\end{tabular}\n"
      ],
      "text/markdown": [
       "\n",
       "A data.frame: 6 × 9\n",
       "\n",
       "| <!--/--> | trip_id &lt;chr&gt; | start_time &lt;chr&gt; | end_time &lt;chr&gt; | bikeid &lt;chr&gt; | from_station_id &lt;int&gt; | from_station_name &lt;chr&gt; | to_station_id &lt;int&gt; | to_station_name &lt;chr&gt; | usertype &lt;chr&gt; |\n",
       "|---|---|---|---|---|---|---|---|---|---|\n",
       "| 1 | 21742443 | 2019-01-01 00:04:37 | 2019-01-01 00:11:07 | 2167 | 199 | Wabash Ave &amp; Grand Ave              |  84 | Milwaukee Ave &amp; Grand Ave      | Subscriber |\n",
       "| 2 | 21742444 | 2019-01-01 00:08:13 | 2019-01-01 00:15:34 | 4386 |  44 | State St &amp; Randolph St              | 624 | Dearborn St &amp; Van Buren St (*) | Subscriber |\n",
       "| 3 | 21742445 | 2019-01-01 00:13:23 | 2019-01-01 00:27:12 | 1524 |  15 | Racine Ave &amp; 18th St                | 644 | Western Ave &amp; Fillmore St (*)  | Subscriber |\n",
       "| 4 | 21742446 | 2019-01-01 00:13:45 | 2019-01-01 00:43:28 | 252  | 123 | California Ave &amp; Milwaukee Ave      | 176 | Clark St &amp; Elm St              | Subscriber |\n",
       "| 5 | 21742447 | 2019-01-01 00:14:52 | 2019-01-01 00:20:56 | 1170 | 173 | Mies van der Rohe Way &amp; Chicago Ave |  35 | Streeter Dr &amp; Grand Ave        | Subscriber |\n",
       "| 6 | 21742448 | 2019-01-01 00:15:33 | 2019-01-01 00:19:09 | 2437 |  98 | LaSalle St &amp; Washington St          |  49 | Dearborn St &amp; Monroe St        | Subscriber |\n",
       "\n"
      ],
      "text/plain": [
       "  trip_id  start_time          end_time            bikeid from_station_id\n",
       "1 21742443 2019-01-01 00:04:37 2019-01-01 00:11:07 2167   199            \n",
       "2 21742444 2019-01-01 00:08:13 2019-01-01 00:15:34 4386    44            \n",
       "3 21742445 2019-01-01 00:13:23 2019-01-01 00:27:12 1524    15            \n",
       "4 21742446 2019-01-01 00:13:45 2019-01-01 00:43:28 252    123            \n",
       "5 21742447 2019-01-01 00:14:52 2019-01-01 00:20:56 1170   173            \n",
       "6 21742448 2019-01-01 00:15:33 2019-01-01 00:19:09 2437    98            \n",
       "  from_station_name                   to_station_id\n",
       "1 Wabash Ave & Grand Ave               84          \n",
       "2 State St & Randolph St              624          \n",
       "3 Racine Ave & 18th St                644          \n",
       "4 California Ave & Milwaukee Ave      176          \n",
       "5 Mies van der Rohe Way & Chicago Ave  35          \n",
       "6 LaSalle St & Washington St           49          \n",
       "  to_station_name                usertype  \n",
       "1 Milwaukee Ave & Grand Ave      Subscriber\n",
       "2 Dearborn St & Van Buren St (*) Subscriber\n",
       "3 Western Ave & Fillmore St (*)  Subscriber\n",
       "4 Clark St & Elm St              Subscriber\n",
       "5 Streeter Dr & Grand Ave        Subscriber\n",
       "6 Dearborn St & Monroe St        Subscriber"
      ]
     },
     "metadata": {},
     "output_type": "display_data"
    },
    {
     "name": "stdout",
     "output_type": "stream",
     "text": [
      "'data.frame':\t3136728 obs. of  9 variables:\n",
      " $ trip_id          : chr  \"21742443\" \"21742444\" \"21742445\" \"21742446\" ...\n",
      " $ start_time       : chr  \"2019-01-01 00:04:37\" \"2019-01-01 00:08:13\" \"2019-01-01 00:13:23\" \"2019-01-01 00:13:45\" ...\n",
      " $ end_time         : chr  \"2019-01-01 00:11:07\" \"2019-01-01 00:15:34\" \"2019-01-01 00:27:12\" \"2019-01-01 00:43:28\" ...\n",
      " $ bikeid           : chr  \"2167\" \"4386\" \"1524\" \"252\" ...\n",
      " $ from_station_id  : int  199 44 15 123 173 98 98 211 150 268 ...\n",
      " $ from_station_name: chr  \"Wabash Ave & Grand Ave\" \"State St & Randolph St\" \"Racine Ave & 18th St\" \"California Ave & Milwaukee Ave\" ...\n",
      " $ to_station_id    : int  84 624 644 176 35 49 49 142 148 141 ...\n",
      " $ to_station_name  : chr  \"Milwaukee Ave & Grand Ave\" \"Dearborn St & Van Buren St (*)\" \"Western Ave & Fillmore St (*)\" \"Clark St & Elm St\" ...\n",
      " $ usertype         : chr  \"Subscriber\" \"Subscriber\" \"Subscriber\" \"Subscriber\" ...\n"
     ]
    },
    {
     "data": {
      "text/plain": [
       "   trip_id           start_time          end_time            bikeid         \n",
       " Length:3136728     Length:3136728     Length:3136728     Length:3136728    \n",
       " Class :character   Class :character   Class :character   Class :character  \n",
       " Mode  :character   Mode  :character   Mode  :character   Mode  :character  \n",
       "                                                                            \n",
       "                                                                            \n",
       "                                                                            \n",
       "                                                                            \n",
       " from_station_id from_station_name  to_station_id to_station_name   \n",
       " Min.   :  2.0   Length:3136728     Min.   :  2   Length:3136728    \n",
       " 1st Qu.: 77.0   Class :character   1st Qu.: 77   Class :character  \n",
       " Median :174.0   Mode  :character   Median :174   Mode  :character  \n",
       " Mean   :203.3                      Mean   :204                     \n",
       " 3rd Qu.:290.0                      3rd Qu.:291                     \n",
       " Max.   :675.0                      Max.   :675                     \n",
       "                                    NA's   :1                       \n",
       "   usertype        \n",
       " Length:3136728    \n",
       " Class :character  \n",
       " Mode  :character  \n",
       "                   \n",
       "                   \n",
       "                   \n",
       "                   "
      ]
     },
     "metadata": {},
     "output_type": "display_data"
    }
   ],
   "source": [
    "colnames(all_trips)  #List of column names\n",
    "nrow(all_trips)  #How many rows are in data frame?\n",
    "dim(all_trips)  #Dimensions of the data frame?\n",
    "head(all_trips)  #See the first 6 rows of data frame.  Also tail(all_trips)\n",
    "str(all_trips)  #See list of columns and data types (numeric, character, etc)\n",
    "summary(all_trips)  #Statistical summary of data. Mainly for numerics"
   ]
  },
  {
   "cell_type": "markdown",
   "id": "82fe3d6b",
   "metadata": {
    "papermill": {
     "duration": 0.017893,
     "end_time": "2025-01-10T12:49:11.429153",
     "exception": false,
     "start_time": "2025-01-10T12:49:11.411260",
     "status": "completed"
    },
    "tags": []
   },
   "source": [
    "Change the types of usertype, add more columns for date, year, etc, recalculate the trip duration\n",
    "\n",
    "In the \"member_casual\" column, there are two names for members (\"member\" and \"Subscriber\") and two names for casual riders (\"Customer\" and \"casual\"). We will need to consolidate that from four to two labels."
   ]
  },
  {
   "cell_type": "code",
   "execution_count": 11,
   "id": "1f3c29c9",
   "metadata": {
    "execution": {
     "iopub.execute_input": "2025-01-10T12:49:11.469239Z",
     "iopub.status.busy": "2025-01-10T12:49:11.467298Z",
     "iopub.status.idle": "2025-01-10T12:49:13.842278Z",
     "shell.execute_reply": "2025-01-10T12:49:13.840499Z"
    },
    "papermill": {
     "duration": 2.397698,
     "end_time": "2025-01-10T12:49:13.844789",
     "exception": false,
     "start_time": "2025-01-10T12:49:11.447091",
     "status": "completed"
    },
    "tags": []
   },
   "outputs": [
    {
     "data": {
      "text/plain": [
       "\n",
       " casual  member \n",
       " 669531 2467197 "
      ]
     },
     "metadata": {},
     "output_type": "display_data"
    }
   ],
   "source": [
    "# In the \"member_casual\" column, replace \"Subscriber\" with \"member\" and \"Customer\" with \"casual\"\n",
    "all_trips <- all_trips %>%\n",
    "  mutate(usertype = recode(usertype,\n",
    "                           \"Subscriber\"=\"member\",\n",
    "                           \"Customer\"=\"casual\"))\n",
    "\n",
    "table(all_trips$usertype)"
   ]
  },
  {
   "cell_type": "markdown",
   "id": "eb4d28c6",
   "metadata": {
    "papermill": {
     "duration": 0.0178,
     "end_time": "2025-01-10T12:49:13.880482",
     "exception": false,
     "start_time": "2025-01-10T12:49:13.862682",
     "status": "completed"
    },
    "tags": []
   },
   "source": [
    "### Add columns that list the date, month, day, and year of each ride\n",
    "\n",
    "This will allow us to aggregate ride data for each month, day, or year ... before completing these operations we could only aggregate at the ride level\n",
    "Added more fields for **Date**, **Month**, **Day**, **Day_of_week** and **ride_length** (difference between the **end_time** of trip and the **start_time**, in seconds)\n",
    "\n",
    "https://www.statmethods.net/input/dates.html more on date formats in R found at that link"
   ]
  },
  {
   "cell_type": "code",
   "execution_count": 12,
   "id": "0cd5637b",
   "metadata": {
    "execution": {
     "iopub.execute_input": "2025-01-10T12:49:13.920356Z",
     "iopub.status.busy": "2025-01-10T12:49:13.918803Z",
     "iopub.status.idle": "2025-01-10T12:49:34.287585Z",
     "shell.execute_reply": "2025-01-10T12:49:34.285748Z"
    },
    "papermill": {
     "duration": 20.392655,
     "end_time": "2025-01-10T12:49:34.291287",
     "exception": false,
     "start_time": "2025-01-10T12:49:13.898632",
     "status": "completed"
    },
    "tags": []
   },
   "outputs": [],
   "source": [
    "all_trips$date <- as.Date(all_trips$start_time) #The default format is yyyy-mm-dd\n",
    "all_trips$month <- format(as.Date(all_trips$date), \"%m\")\n",
    "all_trips$day <- format(as.Date(all_trips$date), \"%d\")\n",
    "all_trips$year <- format(as.Date(all_trips$date), \"%Y\")\n",
    "all_trips$day_of_week <- format(as.Date(all_trips$date), \"%A\")"
   ]
  },
  {
   "cell_type": "markdown",
   "id": "2f92e0d1",
   "metadata": {
    "papermill": {
     "duration": 0.018003,
     "end_time": "2025-01-10T12:49:34.328066",
     "exception": false,
     "start_time": "2025-01-10T12:49:34.310063",
     "status": "completed"
    },
    "tags": []
   },
   "source": [
    "### Add a column for tripduration\n",
    "\n",
    "Add \"ride_length\" column for calculation to all_trips (in minutes)\n",
    "\n",
    "https://stat.ethz.ch/R-manual/R-devel/library/base/html/difftime.html"
   ]
  },
  {
   "cell_type": "code",
   "execution_count": 13,
   "id": "bcee792b",
   "metadata": {
    "execution": {
     "iopub.execute_input": "2025-01-10T12:49:34.367599Z",
     "iopub.status.busy": "2025-01-10T12:49:34.365998Z",
     "iopub.status.idle": "2025-01-10T12:49:49.269531Z",
     "shell.execute_reply": "2025-01-10T12:49:49.267017Z"
    },
    "papermill": {
     "duration": 14.927065,
     "end_time": "2025-01-10T12:49:49.272948",
     "exception": false,
     "start_time": "2025-01-10T12:49:34.345883",
     "status": "completed"
    },
    "tags": []
   },
   "outputs": [
    {
     "name": "stdout",
     "output_type": "stream",
     "text": [
      "'data.frame':\t3136728 obs. of  15 variables:\n",
      " $ trip_id          : chr  \"21742443\" \"21742444\" \"21742445\" \"21742446\" ...\n",
      " $ start_time       : chr  \"2019-01-01 00:04:37\" \"2019-01-01 00:08:13\" \"2019-01-01 00:13:23\" \"2019-01-01 00:13:45\" ...\n",
      " $ end_time         : chr  \"2019-01-01 00:11:07\" \"2019-01-01 00:15:34\" \"2019-01-01 00:27:12\" \"2019-01-01 00:43:28\" ...\n",
      " $ bikeid           : chr  \"2167\" \"4386\" \"1524\" \"252\" ...\n",
      " $ from_station_id  : int  199 44 15 123 173 98 98 211 150 268 ...\n",
      " $ from_station_name: chr  \"Wabash Ave & Grand Ave\" \"State St & Randolph St\" \"Racine Ave & 18th St\" \"California Ave & Milwaukee Ave\" ...\n",
      " $ to_station_id    : int  84 624 644 176 35 49 49 142 148 141 ...\n",
      " $ to_station_name  : chr  \"Milwaukee Ave & Grand Ave\" \"Dearborn St & Van Buren St (*)\" \"Western Ave & Fillmore St (*)\" \"Clark St & Elm St\" ...\n",
      " $ usertype         : chr  \"member\" \"member\" \"member\" \"member\" ...\n",
      " $ date             : Date, format: \"2019-01-01\" \"2019-01-01\" ...\n",
      " $ month            : chr  \"01\" \"01\" \"01\" \"01\" ...\n",
      " $ day              : chr  \"01\" \"01\" \"01\" \"01\" ...\n",
      " $ year             : chr  \"2019\" \"2019\" \"2019\" \"2019\" ...\n",
      " $ day_of_week      : chr  \"Tuesday\" \"Tuesday\" \"Tuesday\" \"Tuesday\" ...\n",
      " $ ride_length      : 'difftime' num  6.5 7.35 13.8166666666667 29.7166666666667 ...\n",
      "  ..- attr(*, \"units\")= chr \"mins\"\n"
     ]
    }
   ],
   "source": [
    "all_trips$ride_length <- difftime(all_trips$end_time, all_trips$start_time, units = \"min\")\n",
    "\n",
    "str(all_trips)"
   ]
  },
  {
   "cell_type": "markdown",
   "id": "d62333d1",
   "metadata": {
    "papermill": {
     "duration": 0.018282,
     "end_time": "2025-01-10T12:49:49.309719",
     "exception": false,
     "start_time": "2025-01-10T12:49:49.291437",
     "status": "completed"
    },
    "tags": []
   },
   "source": [
    "\n",
    "### Remove \"bad\" data\n",
    "\n",
    "The dataframe includes a few hundred entries when bikes were taken out of docks and checked for quality by Divvy or ride_length was negative.\n",
    "\n",
    "We will create a new version of the dataframe (v2) since data is being removed.\n",
    "\n",
    "https://www.datasciencemadesimple.com/delete-or-drop-rows-in-r-with-conditions-2/"
   ]
  },
  {
   "cell_type": "code",
   "execution_count": 14,
   "id": "f57e30dd",
   "metadata": {
    "execution": {
     "iopub.execute_input": "2025-01-10T12:49:49.349729Z",
     "iopub.status.busy": "2025-01-10T12:49:49.348109Z",
     "iopub.status.idle": "2025-01-10T12:49:52.404793Z",
     "shell.execute_reply": "2025-01-10T12:49:52.402894Z"
    },
    "papermill": {
     "duration": 3.079434,
     "end_time": "2025-01-10T12:49:52.407318",
     "exception": false,
     "start_time": "2025-01-10T12:49:49.327884",
     "status": "completed"
    },
    "tags": []
   },
   "outputs": [],
   "source": [
    "all_trips_v2 <- all_trips[!(all_trips$from_station_name == \"HQ QR\" | all_trips$ride_length<0),]"
   ]
  },
  {
   "cell_type": "markdown",
   "id": "d7e789da",
   "metadata": {
    "papermill": {
     "duration": 0.018387,
     "end_time": "2025-01-10T12:49:52.443846",
     "exception": false,
     "start_time": "2025-01-10T12:49:52.425459",
     "status": "completed"
    },
    "tags": []
   },
   "source": [
    "# DESCRIPTIVE ANALYSIS AND VISUALIZATION\n",
    "\n",
    "### Descriptive analysis on ride_length (all figures in minutes)"
   ]
  },
  {
   "cell_type": "code",
   "execution_count": 15,
   "id": "8a986e3a",
   "metadata": {
    "execution": {
     "iopub.execute_input": "2025-01-10T12:49:52.484043Z",
     "iopub.status.busy": "2025-01-10T12:49:52.482500Z",
     "iopub.status.idle": "2025-01-10T12:49:52.974889Z",
     "shell.execute_reply": "2025-01-10T12:49:52.973225Z"
    },
    "papermill": {
     "duration": 0.515192,
     "end_time": "2025-01-10T12:49:52.977211",
     "exception": false,
     "start_time": "2025-01-10T12:49:52.462019",
     "status": "completed"
    },
    "tags": []
   },
   "outputs": [
    {
     "data": {
      "text/plain": [
       "Time difference of 24.64899 mins"
      ]
     },
     "metadata": {},
     "output_type": "display_data"
    },
    {
     "data": {
      "text/plain": [
       "Time difference of 11.25 mins"
      ]
     },
     "metadata": {},
     "output_type": "display_data"
    },
    {
     "data": {
      "text/plain": [
       "Time difference of 177200.4 mins"
      ]
     },
     "metadata": {},
     "output_type": "display_data"
    },
    {
     "data": {
      "text/plain": [
       "Time difference of 0.01666667 mins"
      ]
     },
     "metadata": {},
     "output_type": "display_data"
    },
    {
     "data": {
      "text/plain": [
       "  Length    Class     Mode \n",
       " 3132948 difftime  numeric "
      ]
     },
     "metadata": {},
     "output_type": "display_data"
    }
   ],
   "source": [
    "mean(all_trips_v2$ride_length) #straight average (total ride length / rides)\n",
    "median(all_trips_v2$ride_length) #midpoint number in the ascending array of ride lengths\n",
    "max(all_trips_v2$ride_length) #longest ride\n",
    "min(all_trips_v2$ride_length) #shortest ride\n",
    "\n",
    "summary(all_trips_v2$ride_length)"
   ]
  },
  {
   "cell_type": "markdown",
   "id": "7235e9a0",
   "metadata": {
    "papermill": {
     "duration": 0.018957,
     "end_time": "2025-01-10T12:49:53.015720",
     "exception": false,
     "start_time": "2025-01-10T12:49:52.996763",
     "status": "completed"
    },
    "tags": []
   },
   "source": [
    "### Compare annual members and casual riders\n",
    "\n",
    "Annual members and casual riders average ride_length, max, min and median"
   ]
  },
  {
   "cell_type": "code",
   "execution_count": 16,
   "id": "89b6f60f",
   "metadata": {
    "execution": {
     "iopub.execute_input": "2025-01-10T12:49:53.057009Z",
     "iopub.status.busy": "2025-01-10T12:49:53.055442Z",
     "iopub.status.idle": "2025-01-10T12:50:01.017354Z",
     "shell.execute_reply": "2025-01-10T12:50:01.014874Z"
    },
    "papermill": {
     "duration": 7.985667,
     "end_time": "2025-01-10T12:50:01.020102",
     "exception": false,
     "start_time": "2025-01-10T12:49:53.034435",
     "status": "completed"
    },
    "tags": []
   },
   "outputs": [
    {
     "data": {
      "text/html": [
       "<table class=\"dataframe\">\n",
       "<caption>A data.frame: 2 × 2</caption>\n",
       "<thead>\n",
       "\t<tr><th scope=col>all_trips_v2$usertype</th><th scope=col>all_trips_v2$ride_length</th></tr>\n",
       "\t<tr><th scope=col>&lt;chr&gt;</th><th scope=col>&lt;drtn&gt;</th></tr>\n",
       "</thead>\n",
       "<tbody>\n",
       "\t<tr><td>casual</td><td>63.47811 mins</td></tr>\n",
       "\t<tr><td>member</td><td>14.17114 mins</td></tr>\n",
       "</tbody>\n",
       "</table>\n"
      ],
      "text/latex": [
       "A data.frame: 2 × 2\n",
       "\\begin{tabular}{ll}\n",
       " all\\_trips\\_v2\\$usertype & all\\_trips\\_v2\\$ride\\_length\\\\\n",
       " <chr> & <drtn>\\\\\n",
       "\\hline\n",
       "\t casual & 63.47811 mins\\\\\n",
       "\t member & 14.17114 mins\\\\\n",
       "\\end{tabular}\n"
      ],
      "text/markdown": [
       "\n",
       "A data.frame: 2 × 2\n",
       "\n",
       "| all_trips_v2$usertype &lt;chr&gt; | all_trips_v2$ride_length &lt;drtn&gt; |\n",
       "|---|---|\n",
       "| casual | 63.47811 mins |\n",
       "| member | 14.17114 mins |\n",
       "\n"
      ],
      "text/plain": [
       "  all_trips_v2$usertype all_trips_v2$ride_length\n",
       "1 casual                63.47811 mins           \n",
       "2 member                14.17114 mins           "
      ]
     },
     "metadata": {},
     "output_type": "display_data"
    },
    {
     "data": {
      "text/html": [
       "<table class=\"dataframe\">\n",
       "<caption>A data.frame: 2 × 2</caption>\n",
       "<thead>\n",
       "\t<tr><th scope=col>all_trips_v2$usertype</th><th scope=col>all_trips_v2$ride_length</th></tr>\n",
       "\t<tr><th scope=col>&lt;chr&gt;</th><th scope=col>&lt;drtn&gt;</th></tr>\n",
       "</thead>\n",
       "<tbody>\n",
       "\t<tr><td>casual</td><td>25.03333 mins</td></tr>\n",
       "\t<tr><td>member</td><td> 9.50000 mins</td></tr>\n",
       "</tbody>\n",
       "</table>\n"
      ],
      "text/latex": [
       "A data.frame: 2 × 2\n",
       "\\begin{tabular}{ll}\n",
       " all\\_trips\\_v2\\$usertype & all\\_trips\\_v2\\$ride\\_length\\\\\n",
       " <chr> & <drtn>\\\\\n",
       "\\hline\n",
       "\t casual & 25.03333 mins\\\\\n",
       "\t member &  9.50000 mins\\\\\n",
       "\\end{tabular}\n"
      ],
      "text/markdown": [
       "\n",
       "A data.frame: 2 × 2\n",
       "\n",
       "| all_trips_v2$usertype &lt;chr&gt; | all_trips_v2$ride_length &lt;drtn&gt; |\n",
       "|---|---|\n",
       "| casual | 25.03333 mins |\n",
       "| member |  9.50000 mins |\n",
       "\n"
      ],
      "text/plain": [
       "  all_trips_v2$usertype all_trips_v2$ride_length\n",
       "1 casual                25.03333 mins           \n",
       "2 member                 9.50000 mins           "
      ]
     },
     "metadata": {},
     "output_type": "display_data"
    },
    {
     "data": {
      "text/html": [
       "<table class=\"dataframe\">\n",
       "<caption>A data.frame: 2 × 2</caption>\n",
       "<thead>\n",
       "\t<tr><th scope=col>all_trips_v2$usertype</th><th scope=col>all_trips_v2$ride_length</th></tr>\n",
       "\t<tr><th scope=col>&lt;chr&gt;</th><th scope=col>&lt;drtn&gt;</th></tr>\n",
       "</thead>\n",
       "<tbody>\n",
       "\t<tr><td>casual</td><td>177200.4 mins</td></tr>\n",
       "\t<tr><td>member</td><td>150943.9 mins</td></tr>\n",
       "</tbody>\n",
       "</table>\n"
      ],
      "text/latex": [
       "A data.frame: 2 × 2\n",
       "\\begin{tabular}{ll}\n",
       " all\\_trips\\_v2\\$usertype & all\\_trips\\_v2\\$ride\\_length\\\\\n",
       " <chr> & <drtn>\\\\\n",
       "\\hline\n",
       "\t casual & 177200.4 mins\\\\\n",
       "\t member & 150943.9 mins\\\\\n",
       "\\end{tabular}\n"
      ],
      "text/markdown": [
       "\n",
       "A data.frame: 2 × 2\n",
       "\n",
       "| all_trips_v2$usertype &lt;chr&gt; | all_trips_v2$ride_length &lt;drtn&gt; |\n",
       "|---|---|\n",
       "| casual | 177200.4 mins |\n",
       "| member | 150943.9 mins |\n",
       "\n"
      ],
      "text/plain": [
       "  all_trips_v2$usertype all_trips_v2$ride_length\n",
       "1 casual                177200.4 mins           \n",
       "2 member                150943.9 mins           "
      ]
     },
     "metadata": {},
     "output_type": "display_data"
    },
    {
     "data": {
      "text/html": [
       "<table class=\"dataframe\">\n",
       "<caption>A data.frame: 2 × 2</caption>\n",
       "<thead>\n",
       "\t<tr><th scope=col>all_trips_v2$usertype</th><th scope=col>all_trips_v2$ride_length</th></tr>\n",
       "\t<tr><th scope=col>&lt;chr&gt;</th><th scope=col>&lt;drtn&gt;</th></tr>\n",
       "</thead>\n",
       "<tbody>\n",
       "\t<tr><td>casual</td><td>0.03333333 mins</td></tr>\n",
       "\t<tr><td>member</td><td>0.01666667 mins</td></tr>\n",
       "</tbody>\n",
       "</table>\n"
      ],
      "text/latex": [
       "A data.frame: 2 × 2\n",
       "\\begin{tabular}{ll}\n",
       " all\\_trips\\_v2\\$usertype & all\\_trips\\_v2\\$ride\\_length\\\\\n",
       " <chr> & <drtn>\\\\\n",
       "\\hline\n",
       "\t casual & 0.03333333 mins\\\\\n",
       "\t member & 0.01666667 mins\\\\\n",
       "\\end{tabular}\n"
      ],
      "text/markdown": [
       "\n",
       "A data.frame: 2 × 2\n",
       "\n",
       "| all_trips_v2$usertype &lt;chr&gt; | all_trips_v2$ride_length &lt;drtn&gt; |\n",
       "|---|---|\n",
       "| casual | 0.03333333 mins |\n",
       "| member | 0.01666667 mins |\n",
       "\n"
      ],
      "text/plain": [
       "  all_trips_v2$usertype all_trips_v2$ride_length\n",
       "1 casual                0.03333333 mins         \n",
       "2 member                0.01666667 mins         "
      ]
     },
     "metadata": {},
     "output_type": "display_data"
    }
   ],
   "source": [
    "aggregate(all_trips_v2$ride_length ~ all_trips_v2$usertype, FUN = mean)\n",
    "aggregate(all_trips_v2$ride_length ~ all_trips_v2$usertype, FUN = median)\n",
    "aggregate(all_trips_v2$ride_length ~ all_trips_v2$usertype, FUN = max)\n",
    "aggregate(all_trips_v2$ride_length ~ all_trips_v2$usertype, FUN = min)"
   ]
  },
  {
   "cell_type": "markdown",
   "id": "ccd5421f",
   "metadata": {
    "papermill": {
     "duration": 0.019191,
     "end_time": "2025-01-10T12:50:01.058958",
     "exception": false,
     "start_time": "2025-01-10T12:50:01.039767",
     "status": "completed"
    },
    "tags": []
   },
   "source": [
    "We could see that casual riders have spent more time on rides than the annual members, an average of **63 mins** against **14 mins**"
   ]
  },
  {
   "cell_type": "markdown",
   "id": "ef8434a1",
   "metadata": {
    "papermill": {
     "duration": 0.019387,
     "end_time": "2025-01-10T12:50:01.097395",
     "exception": false,
     "start_time": "2025-01-10T12:50:01.078008",
     "status": "completed"
    },
    "tags": []
   },
   "source": [
    "### See the average ride time by each day for annual members vs casual riders"
   ]
  },
  {
   "cell_type": "code",
   "execution_count": 17,
   "id": "d3ad020f",
   "metadata": {
    "execution": {
     "iopub.execute_input": "2025-01-10T12:50:01.146186Z",
     "iopub.status.busy": "2025-01-10T12:50:01.144499Z",
     "iopub.status.idle": "2025-01-10T12:50:03.456257Z",
     "shell.execute_reply": "2025-01-10T12:50:03.454528Z"
    },
    "papermill": {
     "duration": 2.342184,
     "end_time": "2025-01-10T12:50:03.458715",
     "exception": false,
     "start_time": "2025-01-10T12:50:01.116531",
     "status": "completed"
    },
    "tags": []
   },
   "outputs": [
    {
     "data": {
      "text/html": [
       "<table class=\"dataframe\">\n",
       "<caption>A data.frame: 14 × 3</caption>\n",
       "<thead>\n",
       "\t<tr><th scope=col>all_trips_v2$usertype</th><th scope=col>all_trips_v2$day_of_week</th><th scope=col>all_trips_v2$ride_length</th></tr>\n",
       "\t<tr><th scope=col>&lt;chr&gt;</th><th scope=col>&lt;ord&gt;</th><th scope=col>&lt;drtn&gt;</th></tr>\n",
       "</thead>\n",
       "<tbody>\n",
       "\t<tr><td>casual</td><td>Sunday   </td><td>63.86667 mins</td></tr>\n",
       "\t<tr><td>member</td><td>Sunday   </td><td>15.36281 mins</td></tr>\n",
       "\t<tr><td>casual</td><td>Monday   </td><td>60.14245 mins</td></tr>\n",
       "\t<tr><td>member</td><td>Monday   </td><td>14.12533 mins</td></tr>\n",
       "\t<tr><td>casual</td><td>Tuesday  </td><td>63.56750 mins</td></tr>\n",
       "\t<tr><td>member</td><td>Tuesday  </td><td>14.01480 mins</td></tr>\n",
       "\t<tr><td>casual</td><td>Wednesday</td><td>66.26376 mins</td></tr>\n",
       "\t<tr><td>member</td><td>Wednesday</td><td>13.48182 mins</td></tr>\n",
       "\t<tr><td>casual</td><td>Thursday </td><td>67.95063 mins</td></tr>\n",
       "\t<tr><td>member</td><td>Thursday </td><td>13.46746 mins</td></tr>\n",
       "\t<tr><td>casual</td><td>Friday   </td><td>69.13647 mins</td></tr>\n",
       "\t<tr><td>member</td><td>Friday   </td><td>13.75413 mins</td></tr>\n",
       "\t<tr><td>casual</td><td>Saturday </td><td>57.77983 mins</td></tr>\n",
       "\t<tr><td>member</td><td>Saturday </td><td>16.57943 mins</td></tr>\n",
       "</tbody>\n",
       "</table>\n"
      ],
      "text/latex": [
       "A data.frame: 14 × 3\n",
       "\\begin{tabular}{lll}\n",
       " all\\_trips\\_v2\\$usertype & all\\_trips\\_v2\\$day\\_of\\_week & all\\_trips\\_v2\\$ride\\_length\\\\\n",
       " <chr> & <ord> & <drtn>\\\\\n",
       "\\hline\n",
       "\t casual & Sunday    & 63.86667 mins\\\\\n",
       "\t member & Sunday    & 15.36281 mins\\\\\n",
       "\t casual & Monday    & 60.14245 mins\\\\\n",
       "\t member & Monday    & 14.12533 mins\\\\\n",
       "\t casual & Tuesday   & 63.56750 mins\\\\\n",
       "\t member & Tuesday   & 14.01480 mins\\\\\n",
       "\t casual & Wednesday & 66.26376 mins\\\\\n",
       "\t member & Wednesday & 13.48182 mins\\\\\n",
       "\t casual & Thursday  & 67.95063 mins\\\\\n",
       "\t member & Thursday  & 13.46746 mins\\\\\n",
       "\t casual & Friday    & 69.13647 mins\\\\\n",
       "\t member & Friday    & 13.75413 mins\\\\\n",
       "\t casual & Saturday  & 57.77983 mins\\\\\n",
       "\t member & Saturday  & 16.57943 mins\\\\\n",
       "\\end{tabular}\n"
      ],
      "text/markdown": [
       "\n",
       "A data.frame: 14 × 3\n",
       "\n",
       "| all_trips_v2$usertype &lt;chr&gt; | all_trips_v2$day_of_week &lt;ord&gt; | all_trips_v2$ride_length &lt;drtn&gt; |\n",
       "|---|---|---|\n",
       "| casual | Sunday    | 63.86667 mins |\n",
       "| member | Sunday    | 15.36281 mins |\n",
       "| casual | Monday    | 60.14245 mins |\n",
       "| member | Monday    | 14.12533 mins |\n",
       "| casual | Tuesday   | 63.56750 mins |\n",
       "| member | Tuesday   | 14.01480 mins |\n",
       "| casual | Wednesday | 66.26376 mins |\n",
       "| member | Wednesday | 13.48182 mins |\n",
       "| casual | Thursday  | 67.95063 mins |\n",
       "| member | Thursday  | 13.46746 mins |\n",
       "| casual | Friday    | 69.13647 mins |\n",
       "| member | Friday    | 13.75413 mins |\n",
       "| casual | Saturday  | 57.77983 mins |\n",
       "| member | Saturday  | 16.57943 mins |\n",
       "\n"
      ],
      "text/plain": [
       "   all_trips_v2$usertype all_trips_v2$day_of_week all_trips_v2$ride_length\n",
       "1  casual                Sunday                   63.86667 mins           \n",
       "2  member                Sunday                   15.36281 mins           \n",
       "3  casual                Monday                   60.14245 mins           \n",
       "4  member                Monday                   14.12533 mins           \n",
       "5  casual                Tuesday                  63.56750 mins           \n",
       "6  member                Tuesday                  14.01480 mins           \n",
       "7  casual                Wednesday                66.26376 mins           \n",
       "8  member                Wednesday                13.48182 mins           \n",
       "9  casual                Thursday                 67.95063 mins           \n",
       "10 member                Thursday                 13.46746 mins           \n",
       "11 casual                Friday                   69.13647 mins           \n",
       "12 member                Friday                   13.75413 mins           \n",
       "13 casual                Saturday                 57.77983 mins           \n",
       "14 member                Saturday                 16.57943 mins           "
      ]
     },
     "metadata": {},
     "output_type": "display_data"
    }
   ],
   "source": [
    "# Notice that the days of the week are out of order. Let's fix that\n",
    "all_trips_v2$day_of_week <- ordered(all_trips_v2$day_of_week, levels=c(\"Sunday\", \"Monday\", \"Tuesday\", \"Wednesday\", \"Thursday\", \"Friday\", \"Saturday\"))\n",
    "\n",
    "aggregate(all_trips_v2$ride_length ~ all_trips_v2$usertype + all_trips_v2$day_of_week, FUN = mean)"
   ]
  },
  {
   "cell_type": "markdown",
   "id": "778843bd",
   "metadata": {
    "papermill": {
     "duration": 0.019435,
     "end_time": "2025-01-10T12:50:03.497810",
     "exception": false,
     "start_time": "2025-01-10T12:50:03.478375",
     "status": "completed"
    },
    "tags": []
   },
   "source": [
    "Over the week, casual riders have the highest time spent on **Fridays**, **69.13 mins** and spent less time on **Sarurdays**, **57.7 mins**. On the other hand, annual members have spent their highest time on **Saturdays**, **16.57 mins** and their lowest time on **Thursdays**, **13.75 mins**"
   ]
  },
  {
   "cell_type": "markdown",
   "id": "67958aa1",
   "metadata": {
    "papermill": {
     "duration": 0.019415,
     "end_time": "2025-01-10T12:50:03.537077",
     "exception": false,
     "start_time": "2025-01-10T12:50:03.517662",
     "status": "completed"
    },
    "tags": []
   },
   "source": [
    "### Analyze ridership data by type and weekday"
   ]
  },
  {
   "cell_type": "code",
   "execution_count": 18,
   "id": "81409d9d",
   "metadata": {
    "execution": {
     "iopub.execute_input": "2025-01-10T12:50:03.579978Z",
     "iopub.status.busy": "2025-01-10T12:50:03.578310Z",
     "iopub.status.idle": "2025-01-10T12:50:40.568009Z",
     "shell.execute_reply": "2025-01-10T12:50:40.566224Z"
    },
    "papermill": {
     "duration": 37.013654,
     "end_time": "2025-01-10T12:50:40.570535",
     "exception": false,
     "start_time": "2025-01-10T12:50:03.556881",
     "status": "completed"
    },
    "tags": []
   },
   "outputs": [
    {
     "name": "stderr",
     "output_type": "stream",
     "text": [
      "\u001b[1m\u001b[22m`summarise()` has grouped output by 'usertype'. You can override using the\n",
      "`.groups` argument.\n"
     ]
    },
    {
     "data": {
      "text/html": [
       "<table class=\"dataframe\">\n",
       "<caption>A grouped_df: 14 × 4</caption>\n",
       "<thead>\n",
       "\t<tr><th scope=col>usertype</th><th scope=col>weekday</th><th scope=col>number_of_rides</th><th scope=col>average_duration</th></tr>\n",
       "\t<tr><th scope=col>&lt;chr&gt;</th><th scope=col>&lt;ord&gt;</th><th scope=col>&lt;int&gt;</th><th scope=col>&lt;drtn&gt;</th></tr>\n",
       "</thead>\n",
       "<tbody>\n",
       "\t<tr><td>casual</td><td>Sun</td><td>129727</td><td>63.86667 mins</td></tr>\n",
       "\t<tr><td>casual</td><td>Mon</td><td> 77611</td><td>60.14245 mins</td></tr>\n",
       "\t<tr><td>casual</td><td>Tue</td><td> 67672</td><td>63.56750 mins</td></tr>\n",
       "\t<tr><td>casual</td><td>Wed</td><td> 70045</td><td>66.26376 mins</td></tr>\n",
       "\t<tr><td>casual</td><td>Thu</td><td> 80828</td><td>67.95063 mins</td></tr>\n",
       "\t<tr><td>casual</td><td>Fri</td><td> 89171</td><td>69.13647 mins</td></tr>\n",
       "\t<tr><td>casual</td><td>Sat</td><td>150705</td><td>57.77983 mins</td></tr>\n",
       "\t<tr><td>member</td><td>Sun</td><td>216548</td><td>15.36281 mins</td></tr>\n",
       "\t<tr><td>member</td><td>Mon</td><td>391837</td><td>14.12533 mins</td></tr>\n",
       "\t<tr><td>member</td><td>Tue</td><td>427201</td><td>14.01480 mins</td></tr>\n",
       "\t<tr><td>member</td><td>Wed</td><td>412951</td><td>13.48182 mins</td></tr>\n",
       "\t<tr><td>member</td><td>Thu</td><td>410211</td><td>13.46746 mins</td></tr>\n",
       "\t<tr><td>member</td><td>Fri</td><td>377058</td><td>13.75413 mins</td></tr>\n",
       "\t<tr><td>member</td><td>Sat</td><td>231383</td><td>16.57943 mins</td></tr>\n",
       "</tbody>\n",
       "</table>\n"
      ],
      "text/latex": [
       "A grouped\\_df: 14 × 4\n",
       "\\begin{tabular}{llll}\n",
       " usertype & weekday & number\\_of\\_rides & average\\_duration\\\\\n",
       " <chr> & <ord> & <int> & <drtn>\\\\\n",
       "\\hline\n",
       "\t casual & Sun & 129727 & 63.86667 mins\\\\\n",
       "\t casual & Mon &  77611 & 60.14245 mins\\\\\n",
       "\t casual & Tue &  67672 & 63.56750 mins\\\\\n",
       "\t casual & Wed &  70045 & 66.26376 mins\\\\\n",
       "\t casual & Thu &  80828 & 67.95063 mins\\\\\n",
       "\t casual & Fri &  89171 & 69.13647 mins\\\\\n",
       "\t casual & Sat & 150705 & 57.77983 mins\\\\\n",
       "\t member & Sun & 216548 & 15.36281 mins\\\\\n",
       "\t member & Mon & 391837 & 14.12533 mins\\\\\n",
       "\t member & Tue & 427201 & 14.01480 mins\\\\\n",
       "\t member & Wed & 412951 & 13.48182 mins\\\\\n",
       "\t member & Thu & 410211 & 13.46746 mins\\\\\n",
       "\t member & Fri & 377058 & 13.75413 mins\\\\\n",
       "\t member & Sat & 231383 & 16.57943 mins\\\\\n",
       "\\end{tabular}\n"
      ],
      "text/markdown": [
       "\n",
       "A grouped_df: 14 × 4\n",
       "\n",
       "| usertype &lt;chr&gt; | weekday &lt;ord&gt; | number_of_rides &lt;int&gt; | average_duration &lt;drtn&gt; |\n",
       "|---|---|---|---|\n",
       "| casual | Sun | 129727 | 63.86667 mins |\n",
       "| casual | Mon |  77611 | 60.14245 mins |\n",
       "| casual | Tue |  67672 | 63.56750 mins |\n",
       "| casual | Wed |  70045 | 66.26376 mins |\n",
       "| casual | Thu |  80828 | 67.95063 mins |\n",
       "| casual | Fri |  89171 | 69.13647 mins |\n",
       "| casual | Sat | 150705 | 57.77983 mins |\n",
       "| member | Sun | 216548 | 15.36281 mins |\n",
       "| member | Mon | 391837 | 14.12533 mins |\n",
       "| member | Tue | 427201 | 14.01480 mins |\n",
       "| member | Wed | 412951 | 13.48182 mins |\n",
       "| member | Thu | 410211 | 13.46746 mins |\n",
       "| member | Fri | 377058 | 13.75413 mins |\n",
       "| member | Sat | 231383 | 16.57943 mins |\n",
       "\n"
      ],
      "text/plain": [
       "   usertype weekday number_of_rides average_duration\n",
       "1  casual   Sun     129727          63.86667 mins   \n",
       "2  casual   Mon      77611          60.14245 mins   \n",
       "3  casual   Tue      67672          63.56750 mins   \n",
       "4  casual   Wed      70045          66.26376 mins   \n",
       "5  casual   Thu      80828          67.95063 mins   \n",
       "6  casual   Fri      89171          69.13647 mins   \n",
       "7  casual   Sat     150705          57.77983 mins   \n",
       "8  member   Sun     216548          15.36281 mins   \n",
       "9  member   Mon     391837          14.12533 mins   \n",
       "10 member   Tue     427201          14.01480 mins   \n",
       "11 member   Wed     412951          13.48182 mins   \n",
       "12 member   Thu     410211          13.46746 mins   \n",
       "13 member   Fri     377058          13.75413 mins   \n",
       "14 member   Sat     231383          16.57943 mins   "
      ]
     },
     "metadata": {},
     "output_type": "display_data"
    }
   ],
   "source": [
    "all_trips_v2 %>% \n",
    "  mutate(weekday = wday(start_time, label = TRUE)) %>%  #creates weekday field using wday()\n",
    "  group_by(usertype, weekday) %>%  #groups by usertype and weekday\n",
    "  summarise(number_of_rides = n()\t#calculates the number of rides and average duration \n",
    "            ,average_duration = mean(ride_length)) %>% \t\t# calculates the average duration\n",
    "  arrange(usertype, weekday)\t# sorts"
   ]
  },
  {
   "cell_type": "markdown",
   "id": "717c38ba",
   "metadata": {
    "papermill": {
     "duration": 0.019657,
     "end_time": "2025-01-10T12:50:40.610711",
     "exception": false,
     "start_time": "2025-01-10T12:50:40.591054",
     "status": "completed"
    },
    "tags": []
   },
   "source": [
    "Here we can see that annual members have more number of rides than the casual riders, and this all over the week"
   ]
  },
  {
   "cell_type": "markdown",
   "id": "45babbd0",
   "metadata": {
    "papermill": {
     "duration": 0.019596,
     "end_time": "2025-01-10T12:50:40.650157",
     "exception": false,
     "start_time": "2025-01-10T12:50:40.630561",
     "status": "completed"
    },
    "tags": []
   },
   "source": [
    "### Overall total number of rides by user type"
   ]
  },
  {
   "cell_type": "code",
   "execution_count": 19,
   "id": "d86fae06",
   "metadata": {
    "execution": {
     "iopub.execute_input": "2025-01-10T12:50:40.693135Z",
     "iopub.status.busy": "2025-01-10T12:50:40.691514Z",
     "iopub.status.idle": "2025-01-10T12:50:41.458595Z",
     "shell.execute_reply": "2025-01-10T12:50:41.456737Z"
    },
    "papermill": {
     "duration": 0.791142,
     "end_time": "2025-01-10T12:50:41.460950",
     "exception": false,
     "start_time": "2025-01-10T12:50:40.669808",
     "status": "completed"
    },
    "tags": []
   },
   "outputs": [
    {
     "data": {
      "image/png": "[encoded data removed]"
     },
     "metadata": {
      "image/png": {
       "height": 420,
       "width": 420
      }
     },
     "output_type": "display_data"
    }
   ],
   "source": [
    "all_trips_v2 %>% group_by(usertype) %>% summarise(numer_of_ride = n()) %>% ggplot(aes(x = \"\", y = usertype, fill = usertype)) +\n",
    "  geom_bar(stat = \"identity\", width = 1, color = \"white\") +  # Create a bar chart\n",
    "  coord_polar(\"y\", start = 0) + # Convert to pie chart\n",
    "  geom_text(aes(label = paste0(round(numer_of_ride / sum(numer_of_ride) * 100, 1), \"%\")), # Add percentage labels\n",
    "            position = position_stack(vjust = 0.5), # Center the labels\n",
    "            color = \"white\", size = 5) +  # Adjust label color and size\n",
    "  labs(title = \"Total Number of Rides\", subtitle = \"(Casual riders Vs Annual members)\") +\n",
    "  theme_void()  # Remove axes for a clean pie chart"
   ]
  },
  {
   "cell_type": "markdown",
   "id": "4877e437",
   "metadata": {
    "papermill": {
     "duration": 0.020794,
     "end_time": "2025-01-10T12:50:41.502762",
     "exception": false,
     "start_time": "2025-01-10T12:50:41.481968",
     "status": "completed"
    },
    "tags": []
   },
   "source": [
    "**78%** of rides are by the annual members against **21%** for casual riders"
   ]
  },
  {
   "cell_type": "markdown",
   "id": "33c92743",
   "metadata": {
    "papermill": {
     "duration": 0.020968,
     "end_time": "2025-01-10T12:50:41.544819",
     "exception": false,
     "start_time": "2025-01-10T12:50:41.523851",
     "status": "completed"
    },
    "tags": []
   },
   "source": [
    "### Now the number of rides over the week by user type"
   ]
  },
  {
   "cell_type": "code",
   "execution_count": 20,
   "id": "81571873",
   "metadata": {
    "execution": {
     "iopub.execute_input": "2025-01-10T12:50:41.590460Z",
     "iopub.status.busy": "2025-01-10T12:50:41.588755Z",
     "iopub.status.idle": "2025-01-10T12:51:18.077878Z",
     "shell.execute_reply": "2025-01-10T12:51:18.075955Z"
    },
    "papermill": {
     "duration": 36.515387,
     "end_time": "2025-01-10T12:51:18.081017",
     "exception": false,
     "start_time": "2025-01-10T12:50:41.565630",
     "status": "completed"
    },
    "tags": []
   },
   "outputs": [
    {
     "name": "stderr",
     "output_type": "stream",
     "text": [
      "\u001b[1m\u001b[22m`summarise()` has grouped output by 'usertype'. You can override using the\n",
      "`.groups` argument.\n"
     ]
    },
    {
     "data": {
      "image/png": "[encoded data removed]"
     },
     "metadata": {
      "image/png": {
       "height": 420,
       "width": 420
      }
     },
     "output_type": "display_data"
    }
   ],
   "source": [
    "all_trips_v2 %>% \n",
    "  mutate(weekday = wday(start_time, label = TRUE)) %>%   \n",
    "  group_by(usertype, weekday) %>%   \n",
    "  summarise(number_of_rides = n()\t \n",
    "            ,average_duration = mean(ride_length)) %>% \t\t \n",
    "  arrange(usertype, weekday) %>%\n",
    "ggplot(aes(x = weekday, y = number_of_rides, fill = usertype)) +\n",
    "geom_col(position = \"dodge\") +\n",
    "labs(title = \"Total rides by user type and by weekday\", subtitle = \"(Casual riders Vs Annual members)\")"
   ]
  },
  {
   "cell_type": "markdown",
   "id": "b29e60a5",
   "metadata": {
    "papermill": {
     "duration": 0.022856,
     "end_time": "2025-01-10T12:51:18.127265",
     "exception": false,
     "start_time": "2025-01-10T12:51:18.104409",
     "status": "completed"
    },
    "tags": []
   },
   "source": [
    "### Overall time spent on rides by user type"
   ]
  },
  {
   "cell_type": "code",
   "execution_count": 21,
   "id": "45546ac1",
   "metadata": {
    "execution": {
     "iopub.execute_input": "2025-01-10T12:51:18.175556Z",
     "iopub.status.busy": "2025-01-10T12:51:18.173833Z",
     "iopub.status.idle": "2025-01-10T12:51:18.576965Z",
     "shell.execute_reply": "2025-01-10T12:51:18.575037Z"
    },
    "papermill": {
     "duration": 0.429882,
     "end_time": "2025-01-10T12:51:18.579416",
     "exception": false,
     "start_time": "2025-01-10T12:51:18.149534",
     "status": "completed"
    },
    "tags": []
   },
   "outputs": [
    {
     "data": {
      "image/png": "[encoded data removed]"
     },
     "metadata": {
      "image/png": {
       "height": 420,
       "width": 420
      }
     },
     "output_type": "display_data"
    }
   ],
   "source": [
    "all_trips_v2 %>% group_by(usertype) %>% summarise(length_of_ride = sum(ride_length)) %>% ggplot(aes(x = \"\", y = usertype, fill = usertype)) +\n",
    "  geom_bar(stat = \"identity\", width = 1, color = \"white\") +  # Create a bar chart\n",
    "  coord_polar(\"y\", start = 0) + # Convert to pie chart\n",
    "  geom_text(aes(label = paste0(round(as.numeric(length_of_ride) / sum(as.numeric(length_of_ride)) * 100, 1), \"%\")), # Add percentage labels\n",
    "            position = position_stack(vjust = 0.5), # Center the labels\n",
    "            color = \"white\", size = 5) +  # Adjust label color and size\n",
    "  labs(title = \"Overall Time Spent On Rides\", subtitle = \"(Casual riders Vs Annual members)\") +\n",
    "  theme_void()  # Remove axes for a clean pie chart"
   ]
  },
  {
   "cell_type": "markdown",
   "id": "85de2b64",
   "metadata": {
    "papermill": {
     "duration": 0.02326,
     "end_time": "2025-01-10T12:51:18.626435",
     "exception": false,
     "start_time": "2025-01-10T12:51:18.603175",
     "status": "completed"
    },
    "tags": []
   },
   "source": [
    "**54.7%** of the time spent on the rides are by the casual riders, **45.3%** are by the annual members"
   ]
  },
  {
   "cell_type": "markdown",
   "id": "8c9c1fd7",
   "metadata": {
    "papermill": {
     "duration": 0.022947,
     "end_time": "2025-01-10T12:51:18.672584",
     "exception": false,
     "start_time": "2025-01-10T12:51:18.649637",
     "status": "completed"
    },
    "tags": []
   },
   "source": [
    "### The time spent over the week"
   ]
  },
  {
   "cell_type": "code",
   "execution_count": 22,
   "id": "0807fcb4",
   "metadata": {
    "execution": {
     "iopub.execute_input": "2025-01-10T12:51:18.723002Z",
     "iopub.status.busy": "2025-01-10T12:51:18.721236Z",
     "iopub.status.idle": "2025-01-10T12:51:55.721846Z",
     "shell.execute_reply": "2025-01-10T12:51:55.719887Z"
    },
    "papermill": {
     "duration": 37.028913,
     "end_time": "2025-01-10T12:51:55.724295",
     "exception": false,
     "start_time": "2025-01-10T12:51:18.695382",
     "status": "completed"
    },
    "tags": []
   },
   "outputs": [
    {
     "name": "stderr",
     "output_type": "stream",
     "text": [
      "\u001b[1m\u001b[22m`summarise()` has grouped output by 'usertype'. You can override using the\n",
      "`.groups` argument.\n"
     ]
    },
    {
     "name": "stderr",
     "output_type": "stream",
     "text": [
      "\u001b[1m\u001b[22mDon't know how to automatically pick scale for object of type \u001b[34m<difftime>\u001b[39m.\n",
      "Defaulting to continuous.\n"
     ]
    },
    {
     "data": {
      "image/png": "[encoded data removed]"
     },
     "metadata": {
      "image/png": {
       "height": 420,
       "width": 420
      }
     },
     "output_type": "display_data"
    }
   ],
   "source": [
    "all_trips_v2 %>% \n",
    "  mutate(weekday = wday(start_time, label = TRUE)) %>%   \n",
    "  group_by(usertype, weekday) %>%\n",
    "  summarise(number_of_rides = n()\t \n",
    "            ,time_spent = sum(ride_length)) %>% \n",
    "  arrange(usertype, weekday) %>%\n",
    "ggplot(aes(x = weekday, y = time_spent, fill = usertype)) +\n",
    "geom_col(position = \"dodge\") +\n",
    "labs(title = \"Total time spent on rides by weekday\",\n",
    "        subtitle = \"(Casual riders Vs Annual members)\")"
   ]
  },
  {
   "cell_type": "markdown",
   "id": "d1069743",
   "metadata": {
    "papermill": {
     "duration": 0.024928,
     "end_time": "2025-01-10T12:51:55.774434",
     "exception": false,
     "start_time": "2025-01-10T12:51:55.749506",
     "status": "completed"
    },
    "tags": []
   },
   "source": [
    "Overall in the week, Casual riders spent more time on rides than the annual members except on **Mondays**, **Tuesdays** and **wednesdays**."
   ]
  },
  {
   "cell_type": "markdown",
   "id": "3c9dfc07",
   "metadata": {
    "papermill": {
     "duration": 0.024685,
     "end_time": "2025-01-10T12:51:55.824624",
     "exception": false,
     "start_time": "2025-01-10T12:51:55.799939",
     "status": "completed"
    },
    "tags": []
   },
   "source": [
    "### Let's see the average duration over the week by user type"
   ]
  },
  {
   "cell_type": "code",
   "execution_count": 23,
   "id": "ac73edd1",
   "metadata": {
    "execution": {
     "iopub.execute_input": "2025-01-10T12:51:55.877534Z",
     "iopub.status.busy": "2025-01-10T12:51:55.875823Z",
     "iopub.status.idle": "2025-01-10T12:52:32.275514Z",
     "shell.execute_reply": "2025-01-10T12:52:32.273648Z"
    },
    "papermill": {
     "duration": 36.430212,
     "end_time": "2025-01-10T12:52:32.279172",
     "exception": false,
     "start_time": "2025-01-10T12:51:55.848960",
     "status": "completed"
    },
    "tags": []
   },
   "outputs": [
    {
     "name": "stderr",
     "output_type": "stream",
     "text": [
      "\u001b[1m\u001b[22m`summarise()` has grouped output by 'usertype'. You can override using the\n",
      "`.groups` argument.\n"
     ]
    },
    {
     "name": "stderr",
     "output_type": "stream",
     "text": [
      "\u001b[1m\u001b[22mDon't know how to automatically pick scale for object of type \u001b[34m<difftime>\u001b[39m.\n",
      "Defaulting to continuous.\n"
     ]
    },
    {
     "data": {
      "image/png": "[encoded data removed]"
     },
     "metadata": {
      "image/png": {
       "height": 420,
       "width": 420
      }
     },
     "output_type": "display_data"
    }
   ],
   "source": [
    "all_trips_v2 %>% \n",
    "  mutate(weekday = wday(start_time, label = TRUE)) %>%   \n",
    "  group_by(usertype, weekday) %>%   \n",
    "  summarise(number_of_rides = n()\t \n",
    "            ,average_duration = mean(ride_length)) %>% \t\t \n",
    "  arrange(usertype, weekday) %>%\n",
    "  ggplot(aes(x = weekday, y = average_duration, fill = usertype)) +\n",
    "geom_col(position = \"dodge\") +\n",
    "labs(title = \"Average time spent on rides by weekday\",\n",
    "    subtitle = \"(Casual riders Vs Annual members)\")"
   ]
  },
  {
   "cell_type": "markdown",
   "id": "2fddd534",
   "metadata": {
    "papermill": {
     "duration": 0.025425,
     "end_time": "2025-01-10T12:52:32.341273",
     "exception": false,
     "start_time": "2025-01-10T12:52:32.315848",
     "status": "completed"
    },
    "tags": []
   },
   "source": [
    "In average over the week, casual riders have more time spent than the annual members"
   ]
  },
  {
   "cell_type": "markdown",
   "id": "44317b55",
   "metadata": {
    "papermill": {
     "duration": 0.025403,
     "end_time": "2025-01-10T12:52:32.391801",
     "exception": false,
     "start_time": "2025-01-10T12:52:32.366398",
     "status": "completed"
    },
    "tags": []
   },
   "source": [
    "### Calculate the costs of rides on classic and electric bikes\n",
    "Let's calculate to see how much casual riders spent over a week, month and year and by type of bike"
   ]
  },
  {
   "cell_type": "code",
   "execution_count": 24,
   "id": "78cd4e37",
   "metadata": {
    "execution": {
     "iopub.execute_input": "2025-01-10T12:52:32.446110Z",
     "iopub.status.busy": "2025-01-10T12:52:32.444396Z",
     "iopub.status.idle": "2025-01-10T12:52:43.205089Z",
     "shell.execute_reply": "2025-01-10T12:52:43.202779Z"
    },
    "papermill": {
     "duration": 10.791335,
     "end_time": "2025-01-10T12:52:43.208274",
     "exception": false,
     "start_time": "2025-01-10T12:52:32.416939",
     "status": "completed"
    },
    "tags": []
   },
   "outputs": [
    {
     "name": "stderr",
     "output_type": "stream",
     "text": [
      "\u001b[1m\u001b[22m`summarise()` has grouped output by 'usertype'. You can override using the\n",
      "`.groups` argument.\n"
     ]
    },
    {
     "data": {
      "text/plain": [
       "\n",
       "\n",
       "| Weekday | Avg_Ride_Length_Casual | Avg_Ride_Length_Member | Avg_Cost_Cb_Casual | Avg_Cost_Cb_Member | Avg_Cost_Eb_Casual | Avg_Cost_Eb_Member |\n",
       "|:-------:|:----------------------:|:----------------------:|:------------------:|:------------------:|:------------------:|:------------------:|\n",
       "|   Sun   |        63.86667        |        15.36281        |      11.49600      |      2.765306      |      28.10134      |      6.759637      |\n",
       "|   Mon   |        60.14245        |        14.12533        |      10.82564      |      2.542559      |      26.46268      |      6.215144      |\n",
       "|   Tue   |        63.56750        |        14.01480        |      11.44215      |      2.522665      |      27.96970      |      6.166514      |\n",
       "|   Wed   |        66.26376        |        13.48182        |      11.92748      |      2.426727      |      29.15605      |      5.932000      |\n",
       "|   Thu   |        67.95063        |        13.46746        |      12.23111      |      2.424142      |      29.89828      |      5.925681      |\n",
       "|   Fri   |        69.13647        |        13.75413        |      12.44456      |      2.475743      |      30.42005      |      6.051815      |\n",
       "|   Sat   |        57.77983        |        16.57943        |      10.40037      |      2.984297      |      25.42313      |      7.294949      |"
      ]
     },
     "metadata": {},
     "output_type": "display_data"
    }
   ],
   "source": [
    "#Single and day pass rides costs in dollars on classic and electric bikes\n",
    "\n",
    "# Ensure 'start_time' is a proper date-time object\n",
    "all_trips_v2 <- all_trips_v2 %>%\n",
    "  mutate(start_time = as.POSIXct(start_time))\n",
    "\n",
    "# Ensure ride_length is numeric\n",
    "all_trips_v2 <- all_trips_v2 %>%\n",
    "  mutate(ride_length = as.numeric(ride_length))\n",
    "\n",
    "# Create the aggregated data\n",
    "aggreg_data <- all_trips_v2 %>% \n",
    "  mutate(weekday = wday(start_time, label = TRUE)) %>%   # Add weekday column\n",
    "  group_by(usertype, weekday) %>%   # Group by usertype and weekday\n",
    "  summarise(\n",
    "    avg_ride_length = mean(ride_length, na.rm = TRUE),  # Average ride length\n",
    "    avg_cost_cb = mean(ride_length, na.rm = TRUE) * 0.18,  # Single ride cost\n",
    "    avg_cost_eb = mean(ride_length, na.rm = TRUE) * 0.44  # Day pass cost\n",
    "  ) %>% \t\t \n",
    "  arrange(usertype, weekday) %>%  # Arrange by usertype and weekday\n",
    "  pivot_wider(\n",
    "    names_from = usertype,  # Spread by usertype\n",
    "    values_from = c(avg_ride_length, avg_cost_cb, avg_cost_eb),\n",
    "    names_sep = \"_\"\n",
    "  )\n",
    "\n",
    "# Rename columns for clarity\n",
    "colnames(aggreg_data) <- c(\"Weekday\", \n",
    "                          \"Avg_Ride_Length_Casual\", \"Avg_Ride_Length_Member\",\n",
    "                          \"Avg_Cost_Cb_Casual\", \"Avg_Cost_Cb_Member\",\n",
    "                          \"Avg_Cost_Eb_Casual\", \"Avg_Cost_Eb_Member\")\n",
    "\n",
    "# Print the table in a neat format\n",
    "kable(aggreg_data, format = \"markdown\", align = \"c\")"
   ]
  },
  {
   "cell_type": "markdown",
   "id": "251523a7",
   "metadata": {
    "papermill": {
     "duration": 0.02534,
     "end_time": "2025-01-10T12:52:43.259113",
     "exception": false,
     "start_time": "2025-01-10T12:52:43.233773",
     "status": "completed"
    },
    "tags": []
   },
   "source": [
    "In calculating the costs spent by both users on the two types of bikes, we notice that casual riders spent more money on either classic or electric bikes. The highest average cost spent on classic bikes by casual riders is **USD 12.44** and the lowest cost is **USD 10.40**. On the electric bikes their highest expense is **USD 30.42** and the lowest expense being **USD 25.42**. On the other hand, annual members have only an average expense of **USD 2.98** on classic bike and **USD 7.29** on electric bikes, which are their highest expenes"
   ]
  },
  {
   "cell_type": "markdown",
   "id": "be9e4f4e",
   "metadata": {
    "papermill": {
     "duration": 0.025378,
     "end_time": "2025-01-10T12:52:43.309851",
     "exception": false,
     "start_time": "2025-01-10T12:52:43.284473",
     "status": "completed"
    },
    "tags": []
   },
   "source": [
    "### Plot the costs of rides on classic and electric bikes"
   ]
  },
  {
   "cell_type": "code",
   "execution_count": 25,
   "id": "ef7a02f7",
   "metadata": {
    "execution": {
     "iopub.execute_input": "2025-01-10T12:52:43.364225Z",
     "iopub.status.busy": "2025-01-10T12:52:43.362549Z",
     "iopub.status.idle": "2025-01-10T12:52:48.232604Z",
     "shell.execute_reply": "2025-01-10T12:52:48.230712Z"
    },
    "papermill": {
     "duration": 4.899775,
     "end_time": "2025-01-10T12:52:48.235026",
     "exception": false,
     "start_time": "2025-01-10T12:52:43.335251",
     "status": "completed"
    },
    "tags": []
   },
   "outputs": [
    {
     "name": "stderr",
     "output_type": "stream",
     "text": [
      "\u001b[1m\u001b[22m`summarise()` has grouped output by 'usertype'. You can override using the\n",
      "`.groups` argument.\n"
     ]
    },
    {
     "name": "stderr",
     "output_type": "stream",
     "text": [
      "Warning message in geom_col(stat = \"identity\", position = \"dodge\"):\n",
      "“\u001b[1m\u001b[22mIgnoring unknown parameters: `stat`”\n"
     ]
    },
    {
     "data": {
      "image/png": "[encoded data removed]"
     },
     "metadata": {
      "image/png": {
       "height": 420,
       "width": 420
      }
     },
     "output_type": "display_data"
    }
   ],
   "source": [
    "aggreg_data <- all_trips_v2 %>% \n",
    "  mutate(weekday = wday(start_time, label = TRUE)) %>%   # Add weekday column\n",
    "  group_by(usertype, weekday) %>%   # Group by usertype and weekday\n",
    "  summarise(\n",
    "    avg_ride_length = mean(ride_length, na.rm = TRUE),  # Average ride length\n",
    "    avg_cost_cb = mean(ride_length, na.rm = TRUE) * 0.18,  # Single ride cost\n",
    "    avg_cost_eb = mean(ride_length, na.rm = TRUE) * 0.44  # Day pass cost\n",
    "  ) %>% \t\t \n",
    "  arrange(usertype, weekday)\n",
    "\n",
    " \n",
    "# Reshape data for combined plotting\n",
    "plot_data <- aggreg_data %>%\n",
    "  pivot_longer(\n",
    "    cols = starts_with(\"avg_\"),\n",
    "    names_to = \"metric\",\n",
    "    values_to = \"value\"\n",
    "  )\n",
    "\n",
    "# Plot with facets\n",
    "ggplot(plot_data, aes(x = weekday, y = value, fill = usertype)) +\n",
    "  geom_col(stat = \"identity\", position = \"dodge\") +\n",
    "  facet_wrap(~ metric, scales = \"free\", labeller = labeller(\n",
    "    metric = c(\n",
    "      avg_ride_length = \"Average Ride Length (minutes)\",\n",
    "      avg_cost_cb = \"Average Cost CBike (in USD)\",\n",
    "      avg_cost_eb = \"Average Cost EBike (in USD)\"\n",
    "    )\n",
    "  )) +\n",
    "  labs(\n",
    "    title = \"Average Costs by User Type and Weekday\",\n",
    "    x = \"Day of the Week\",\n",
    "    y = \"Cost in USD\",\n",
    "    fill = \"User Type\"\n",
    "  ) +\n",
    "  theme_minimal() +\n",
    "  theme(axis.text.x = element_text(angle = 45, hjust = 1))"
   ]
  },
  {
   "cell_type": "markdown",
   "id": "b75f7e7b",
   "metadata": {
    "papermill": {
     "duration": 0.027414,
     "end_time": "2025-01-10T12:52:48.290419",
     "exception": false,
     "start_time": "2025-01-10T12:52:48.263005",
     "status": "completed"
    },
    "tags": []
   },
   "source": [
    "### Calculate the costs of rides on classic bikes"
   ]
  },
  {
   "cell_type": "code",
   "execution_count": 26,
   "id": "0aa25e73",
   "metadata": {
    "execution": {
     "iopub.execute_input": "2025-01-10T12:52:48.348486Z",
     "iopub.status.busy": "2025-01-10T12:52:48.346734Z",
     "iopub.status.idle": "2025-01-10T12:52:52.324402Z",
     "shell.execute_reply": "2025-01-10T12:52:52.322433Z"
    },
    "papermill": {
     "duration": 4.009236,
     "end_time": "2025-01-10T12:52:52.326865",
     "exception": false,
     "start_time": "2025-01-10T12:52:48.317629",
     "status": "completed"
    },
    "tags": []
   },
   "outputs": [
    {
     "name": "stderr",
     "output_type": "stream",
     "text": [
      "\u001b[1m\u001b[22m`summarise()` has grouped output by 'usertype'. You can override using the\n",
      "`.groups` argument.\n"
     ]
    },
    {
     "data": {
      "image/png": "[encoded data removed]"
     },
     "metadata": {
      "image/png": {
       "height": 420,
       "width": 420
      }
     },
     "output_type": "display_data"
    }
   ],
   "source": [
    "#Single and day pass rides costs in dollars on classic bikes\n",
    "all_trips_v2 %>% \n",
    "  mutate(weekday = wday(start_time, label = TRUE)) %>%   \n",
    "  group_by(usertype, weekday) %>%   \n",
    "  summarise(number_of_rides = n()\t \n",
    "            ,avg_cost_of_ride = mean(ride_length)*0.18) %>% \t\t \n",
    "  arrange(usertype, weekday) %>%\n",
    "  ggplot(aes(x = weekday, y = avg_cost_of_ride, fill = usertype)) + geom_col(position = \"dodge\") +\n",
    "labs(title = \"Average cost of rides on classic bikes (in dollars)\",\n",
    "subtitle = \"(Casual riders Vs Annual members)\")"
   ]
  },
  {
   "cell_type": "markdown",
   "id": "fd943784",
   "metadata": {
    "papermill": {
     "duration": 0.027939,
     "end_time": "2025-01-10T12:52:52.383730",
     "exception": false,
     "start_time": "2025-01-10T12:52:52.355791",
     "status": "completed"
    },
    "tags": []
   },
   "source": [
    "### Calculate the costs of rides on electric bikes"
   ]
  },
  {
   "cell_type": "code",
   "execution_count": 27,
   "id": "a4193ff8",
   "metadata": {
    "execution": {
     "iopub.execute_input": "2025-01-10T12:52:52.443602Z",
     "iopub.status.busy": "2025-01-10T12:52:52.441797Z",
     "iopub.status.idle": "2025-01-10T12:52:56.687190Z",
     "shell.execute_reply": "2025-01-10T12:52:56.685234Z"
    },
    "papermill": {
     "duration": 4.278297,
     "end_time": "2025-01-10T12:52:56.689793",
     "exception": false,
     "start_time": "2025-01-10T12:52:52.411496",
     "status": "completed"
    },
    "tags": []
   },
   "outputs": [
    {
     "name": "stderr",
     "output_type": "stream",
     "text": [
      "\u001b[1m\u001b[22m`summarise()` has grouped output by 'usertype'. You can override using the\n",
      "`.groups` argument.\n"
     ]
    },
    {
     "data": {
      "image/png": "[encoded data removed]"
     },
     "metadata": {
      "image/png": {
       "height": 420,
       "width": 420
      }
     },
     "output_type": "display_data"
    }
   ],
   "source": [
    "#Single and day pass rides costs in dollars on electric bikes\n",
    "all_trips_v2 %>% \n",
    "  mutate(weekday = wday(start_time, label = TRUE)) %>%   \n",
    "  group_by(usertype, weekday) %>%   \n",
    "  summarise(number_of_rides = n()\t \n",
    "            ,avg_cost_of_ride = mean(ride_length)*0.44) %>% \t\t \n",
    "  arrange(usertype, weekday) %>%\n",
    "  ggplot(aes(x = weekday, y = avg_cost_of_ride, fill = usertype)) + geom_col(position = \"dodge\") +\n",
    "labs(title = \"Average cost of rides on electric bikes (in dollars)\",\n",
    "subtitle = \"(Casual riders Vs Annual members)\")"
   ]
  },
  {
   "cell_type": "markdown",
   "id": "a13f057a",
   "metadata": {
    "papermill": {
     "duration": 0.028953,
     "end_time": "2025-01-10T12:52:56.748868",
     "exception": false,
     "start_time": "2025-01-10T12:52:56.719915",
     "status": "completed"
    },
    "tags": []
   },
   "source": [
    "# RECOMMENDATIONS BASED ON ANALYSIS\n",
    "1. **Recommendation 1:**\n",
    "\n",
    "   Single-ride purchase is **USD 1** fee to unlock the bike plus **USD 0.18** per minute for a classic bike and **USD 0.44** for an electric bike.\n",
    "   Spending **USD 499.2** yearly is costly compared to a **USD 143.9** for an annual membership, so I would recommend casual riders to purchase an annual membership.\n",
    "   With that, you have 45 minutes free per ride and it is only after exceeding that time limit that you pay additional fee of **USD 0.18 per minute**. They would save **USD 355.3**\n",
    "\n",
    "2. **Recommendation 2:**\n",
    "\n",
    "   Day Pass purchase, a casual rider with a minimum average time spent of 61 minutes would spend at least **USD 18.1** over the week, making **USD 72.4** per month and **USD 868.8** yearly, which is still costly compared to the annual membership of **USD 143.9**. therefore, here again, annual membership is the key for casual riders with day pass purchase.\n",
    "\n",
    "3. **Recommendation 3:**\n",
    "\n",
    "   Based on the type of bike they have used, electric bikes rides cost them more money than when they rid on classic bikes, so on this basis again it has to do with money saving if they would go with classic bikes. Even if this would stil cost them money as the analysis showed above, it would be more economical than riding on electric bikes. However, the best economical saving they would afford is to go for an annual membership.\n",
    "\n",
    "## CONCLUSION\n",
    "Now that the analysis of our data tells us how differently casual riders and annual members use the bikes, a design of a marketing strategy based on the economical aspect of their usage of bikes would be key. Ensure casual riders have a clear idea of how much money they spend weekly, monthly and yearly compared to the cost of an annual membership. As they see the difference, they will likely be convinced to buy that membership."
   ]
  }
 ],
 "metadata": {
  "kaggle": {
   "accelerator": "none",
   "dataSources": [
    {
     "datasetId": 6388349,
     "sourceId": 10318568,
     "sourceType": "datasetVersion"
    },
    {
     "datasetId": 6388384,
     "sourceId": 10318615,
     "sourceType": "datasetVersion"
    },
    {
     "datasetId": 6388395,
     "sourceId": 10318627,
     "sourceType": "datasetVersion"
    },
    {
     "datasetId": 6388399,
     "sourceId": 10318632,
     "sourceType": "datasetVersion"
    }
   ],
   "dockerImageVersionId": 30749,
   "isGpuEnabled": false,
   "isInternetEnabled": false,
   "language": "r",
   "sourceType": "notebook"
  },
  "kernelspec": {
   "display_name": "R",
   "language": "R",
   "name": "ir"
  },
  "language_info": {
   "codemirror_mode": "r",
   "file_extension": ".r",
   "mimetype": "text/x-r-source",
   "name": "R",
   "pygments_lexer": "r",
   "version": "4.4.0"
  },
  "papermill": {
   "default_parameters": {},
   "duration": 276.047217,
   "end_time": "2025-01-10T12:52:57.102870",
   "environment_variables": {},
   "exception": null,
   "input_path": "__notebook__.ipynb",
   "output_path": "__notebook__.ipynb",
   "parameters": {},
   "start_time": "2025-01-10T12:48:21.055653",
   "version": "2.6.0"
  }
 },
 "nbformat": 4,
 "nbformat_minor": 5
}
